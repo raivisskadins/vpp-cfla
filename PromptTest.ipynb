{
 "cells": [
  {
   "cell_type": "code",
   "execution_count": 1,
   "id": "d20bf2d0-cf4b-43c6-833f-5d5eec3c939c",
   "metadata": {
    "jupyter": {
     "source_hidden": true
    }
   },
   "outputs": [],
   "source": [
    "import os\n",
    "\n",
    "from llama_index.llms.azure_openai import AzureOpenAI\n",
    "\n",
    "llmmodelAzure = { \"model\": \"gpt-4o\",\n",
    "                \"version\":os.environ.get('AZURE_OPENAI_VERSION',''),\n",
    "                \"azure_deployment\":\"gpt-4o\",\n",
    "                \"azure_endpoint\":os.environ.get('AZURE_ENDPOINT',''),\n",
    "                \"api_key\":os.environ.get('AZURE_OPENAI_KEY','')}\n",
    "\n",
    "llm=AzureOpenAI(azure_deployment=llmmodelAzure[\"azure_deployment\"],\n",
    "                azure_endpoint=llmmodelAzure[\"azure_endpoint\"],temperature=0.0,\n",
    "                api_version=llmmodelAzure[\"version\"], api_key=llmmodelAzure[\"api_key\"],\n",
    "                timeout=120,max_retries=3,top_p=0.0001)"
   ]
  },
  {
   "cell_type": "code",
   "execution_count": 2,
   "id": "ec846c26-78be-45aa-8c31-07c8b75bf5b4",
   "metadata": {},
   "outputs": [],
   "source": [
    "#question = \"\"\"Pasūtītājs paredz elektronisku pieteikumu un piedāvājumu iesniegšanu. \n",
    "#VAI arī ir paskaidrots kāpēc nē ar atsauci uz  MK noteikumu 231.punktu.\n",
    "#\"\"\"\n",
    "question = \"\"\"\n",
    "šis ir jautājums par nosacījumiem pretendenta dalībai konkursā, par piedāvājuma noraidīšanas iespējām. vai pasūtītājs atklātā vai slēgtā konkursā ir paredzējis piemērot PIL 41.panta vienpadsmitās daļas 1.punkta regulējumu?\n",
    "\"\"\"\n"
   ]
  },
  {
   "cell_type": "code",
   "execution_count": 3,
   "id": "9e908b5e-ab1e-4be8-8f92-593af988381a",
   "metadata": {},
   "outputs": [],
   "source": [
    "law = \"\"\"\n",
    "Publiskā iepirkuma likums. 41. pants.\n",
    "(11) Pasūtītājs noraida pretendenta piedāvājumu atklātā vai slēgtā konkursā, ja pretendenta piedāvātā līgumcena pārsniedz jebkuru no šādām vērtībām:\n",
    "\n",
    "1) iepirkuma procedūras dokumentos pasūtītāja norādīto līgumcenu, ja tā noteikta kā piedāvājuma atbilstības prasība;\n",
    "\n",
    "2) 150 procentus no iepirkuma procedūras dokumentos norādītās paredzamās līgumcenas.\n",
    "\n",
    "(12) Pasūtītājs pieņem lēmumu pārtraukt iepirkuma procedūru, ja atklātā konkursā, slēgtā konkursā vai konkursa procedūrā ar sarunām pieteikumu vai piedāvājumu ir iesniedzis tikai viens kandidāts vai pretendents, izņemot gadījumus, kad:\n",
    "\n",
    "1) pasūtītājs pirms iepirkuma procedūras izsludināšanas ir rīkojis šā likuma 18. panta 2.1 daļas prasībām atbilstošu apspriedi ar piegādātājiem;\n",
    "\n",
    "2) iepirkuma procedūras pārtraukšana apdraud sabiedrības drošības vai veselības aizsardzības intereses. Šādā gadījumā pasūtītājs iepirkuma procedūras ziņojumā ietver pamatojumu tam, kādas sabiedrības drošības un veselības aizsardzības intereses tiktu apdraudētas, rīkojot atkārtotu iepirkumu.\n",
    "\n",
    "\"\"\""
   ]
  },
  {
   "cell_type": "code",
   "execution_count": 46,
   "id": "fedd6141-a86c-4e13-af17-f3ff96045bfe",
   "metadata": {
    "jupyter": {
     "source_hidden": true
    }
   },
   "outputs": [],
   "source": [
    "context = \"\"\"\n",
    "3.\tNOSACĪJUMI PRETENDENTA DALĪBAI IEPIRKUMĀ\n",
    "3.1.\tIepirkumā var piedalīties piegādātāji Publisko iepirkumu likuma (turpmāk – PIL) 1.panta 22.punkta izpratnē, kuri ir iesnieguši Nolikumā minētos dokumentus. Piedalīšanās iepirkumā ir Pretendenta brīvas gribas izpausme. Iepirkuma noteikumi visiem Pretendentiem ir vienādi.\n",
    "3.2.\tPasūtītājs Pretendentu izslēdz no dalības iepirkuma procedūrā jebkurā no PIL 42.panta pirmajā daļā noteiktajiem gadījumiem. Komisija Pretendentu izslēgšanas gadījumus pārbauda PIL 42.panta noteiktajā kārtībā.\n",
    "3.3.\tSaskaņā ar PIL 42.panta četrpadsmito daļu, Pasūtītājs pārbaudi par PIL 42. panta pirmajā daļā noteikto pretendentu izslēgšanas gadījumiem atklātā konkursā veic attiecībā uz katru pretendentu, kuram būtu piešķiramas līguma slēgšanas tiesības.\n",
    "3.4.\tSaskaņā ar PIL 43.panta otro daļu, ja Pretendents vai personālsabiedrības biedrs, ja Pretendents ir personālsabiedrība, atbilst PIL 42.panta pirmās daļas 1., 3., 4., 5., 6. vai 7. punktā minētajam izslēgšanas gadījumam, pretendents norāda to piedāvājumā un, ja tiek atzīts par tādu, kuram būtu piešķiramas līguma slēgšanas tiesības, iesniedz skaidrojumu un pierādījumus par nodarītā kaitējuma atlīdzināšanu vai noslēgtu vienošanos par nodarītā kaitējuma atlīdzināšanu, sadarbošanos ar izmeklēšanas iestādēm un veiktajiem tehniskajiem, organizatoriskajiem vai personālvadības pasākumiem, lai pierādītu savu uzticamību un novērstu tādu pašu un līdzīgu gadījumu atkārtošanos nākotnē.\n",
    "3.5.\tPirms lēmuma pieņemšanas par līguma slēgšanas tiesību piešķiršanu, iepirkuma komisija attiecībā uz Pretendentu, kuram būtu piešķiramas līguma slēgšanas tiesības, veic pārbaudi par Starptautisko un Latvijas Republikas nacionālo sankciju likuma 11.1 panta pirmajā daļā minēto izslēgšanas gadījumu esamību Starptautisko un Latvijas Republikas nacionālo sankciju likuma 11.1 pantā noteiktajā kārtībā.\n",
    "3.6.\tPasūtītājs noraida Pretendenta piedāvājumu iepirkuma procedūrā, ja tiek konstatēts PIL 41.panta vienpadsmitās daļas 2.punktā minētie nosacījumi.\n",
    "\n",
    "\"\"\""
   ]
  },
  {
   "cell_type": "code",
   "execution_count": 52,
   "id": "061b7528-e942-48e0-8214-dd4a7d25803a",
   "metadata": {},
   "outputs": [],
   "source": [
    "prompt = \"\"\"\n",
    "Tu esi aģents, kas pārbauda iepirkuma atbilstību likumiem un iepirkuma dokumentācijai. Tev ir pieejami šādi resursi: - Fragmenti no likumiem (<law> tagos), - Fragmenti no iepirkuma dokumentācijas (<context> tagos), - Lietotāja jautājums vai apgalvojums (var būt vairāki teikumi). Tavs uzdevums: 1. Pārbaudi, vai apgalvojums ir patiess, balstoties uz pieejamajiem materiāliem. 2. Izmanto fragmentus no <law> un <context> tagiem, bet drīksti izmantot arī citu sniegto informāciju, ja tāda ir. 3. Ja kontekstā nav pietiekamas informācijas, atbilde ir \"nē\". Rezultātu atgriez **JSON formātā** ar šādiem laukiem: ```json {  \"answer\": \"jā\" | \"nē\", \"rate\": \"zema\" | \"vidēja\" | \"augsta\", \"explanation\": \"Īss, bet precīzs paskaidrojums. Norādi, uz kādiem punktiem balstās atbilde — citē attiecīgās vietas no iepirkuma dokumentācijas vai likumiem. Ja atbildes pamatā ir informācijas trūkums, to skaidri norādi.\" }\n",
    "\"\"\"\n",
    "\n",
    "_prompt = \"\"\"Tu esi aģents, kas pārbauda iepirkuma atbilstību likumiem.\n",
    "Tev ir pieejami fragmenti no likumiem (iekļauts <law> tagos), \n",
    "fragments no iepirkuma dokumentācijas (iekļauts <context> tagos). \n",
    "Pārbaudi apgalvojuma patiesumu vai atbildi uz uzdoto jautājumu.\n",
    "Spriešanai izmanto fragmentu no likumiem, ja tādi ir doti.\n",
    "Atgriez rezultātu JSON formātā.\n",
    "1) 'answer' ar iespējamām vērtībām  'jā' vai 'nē'; \n",
    "2) 'rate' - pārliecību par atbildi skalā  'zema', 'vidēja', 'augsta'; \n",
    "3) 'explanation' - paskaidro savu atbildi, paskaidrojumā iekļauj atsauci uz iepirkuma dokumenta punktiem, citē tos. Ja atbildes gatavošanai trūkst informācija, norādi kas trūkst.\n",
    "\n",
    "\"\"\""
   ]
  },
  {
   "cell_type": "code",
   "execution_count": 53,
   "id": "d53eaf4e-376c-46a2-b7b0-51347d121057",
   "metadata": {},
   "outputs": [
    {
     "name": "stdout",
     "output_type": "stream",
     "text": [
      "```json\n",
      "{\n",
      "  \"answer\": \"nē\",\n",
      "  \"rate\": \"augsta\",\n",
      "  \"explanation\": \"Iepirkuma dokumentācijā (3.6. punkts) ir skaidri norādīts, ka pasūtītājs noraida pretendenta piedāvājumu, ja tiek konstatēti PIL 41. panta vienpadsmitās daļas 2. punktā minētie nosacījumi. Nav minēts, ka tiktu piemērots PIL 41. panta vienpadsmitās daļas 1. punkta regulējums. Tādēļ nav pamata uzskatīt, ka šis regulējums tiktu piemērots.\"\n",
      "}\n",
      "```\n"
     ]
    }
   ],
   "source": [
    "final = prompt\n",
    "final = final + \"\"\"\n",
    "\n",
    "<law>\n",
    "\"\"\"\n",
    "final = final + law \n",
    "final = final + \"\"\"\n",
    "</law>\n",
    "\"\"\"\n",
    "final = final + \"\"\"\n",
    "<context>\n",
    "\"\"\"\n",
    "final = final + context\n",
    "final = final + \"\"\"\n",
    "</context>\n",
    "\"\"\"\n",
    "final = final + \"\"\"\n",
    "\n",
    "pārbaudāmais apgalvojums vai jautājums ir šāds:\n",
    "\"\"\"\n",
    "final = final + question\n",
    "\n",
    "#print(final)\n",
    "\n",
    "response = llm.complete(final)\n",
    "print(response)"
   ]
  },
  {
   "cell_type": "code",
   "execution_count": null,
   "id": "46b26a70-ff20-427d-b2a2-aabc9cd329c3",
   "metadata": {},
   "outputs": [],
   "source": []
  }
 ],
 "metadata": {
  "kernelspec": {
   "display_name": ".venv",
   "language": "python",
   "name": "python3"
  },
  "language_info": {
   "codemirror_mode": {
    "name": "ipython",
    "version": 3
   },
   "file_extension": ".py",
   "mimetype": "text/x-python",
   "name": "python",
   "nbconvert_exporter": "python",
   "pygments_lexer": "ipython3",
   "version": "3.12.0"
  }
 },
 "nbformat": 4,
 "nbformat_minor": 5
}
