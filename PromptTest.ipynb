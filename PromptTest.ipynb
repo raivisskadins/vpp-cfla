{
 "cells": [
  {
   "cell_type": "code",
   "execution_count": 1,
   "id": "d20bf2d0-cf4b-43c6-833f-5d5eec3c939c",
   "metadata": {
    "jupyter": {
     "source_hidden": true
    }
   },
   "outputs": [],
   "source": [
    "import os\n",
    "\n",
    "from llama_index.llms.azure_openai import AzureOpenAI\n",
    "\n",
    "llmmodelAzure = { \"model\": \"gpt-4o\",\n",
    "                \"version\":os.environ.get('AZURE_OPENAI_VERSION',''),\n",
    "                \"azure_deployment\":\"gpt-4o\",\n",
    "                \"azure_endpoint\":os.environ.get('AZURE_ENDPOINT',''),\n",
    "                \"api_key\":os.environ.get('AZURE_OPENAI_KEY','')}\n",
    "\n",
    "llm=AzureOpenAI(azure_deployment=llmmodelAzure[\"azure_deployment\"],\n",
    "                azure_endpoint=llmmodelAzure[\"azure_endpoint\"],temperature=0.0,\n",
    "                api_version=llmmodelAzure[\"version\"], api_key=llmmodelAzure[\"api_key\"],\n",
    "                timeout=120,max_retries=3,top_p=0.0001)"
   ]
  },
  {
   "cell_type": "code",
   "execution_count": 2,
   "id": "ec846c26-78be-45aa-8c31-07c8b75bf5b4",
   "metadata": {},
   "outputs": [],
   "source": [
    "question = \"\"\"Ir atbilstoši noteiktas prasības elektroniskai pieteikumu un piedāvājumu saņemšanai.\n",
    " Pasūtītājs paredz elektronisku pieteikumu un piedāvājumu iesniegšanu EIS E-konkursu apakšsistēmā, izņemot MK noteikumu 231.punktā noteiktos gadījumus, kad pasūtītājam nav pienākuma pieteikumu un piedāvājumu vai tā sastāvdaļu saņemšanai izmantot elektroniskās informācijas sistēmas.\"\"\""
   ]
  },
  {
   "cell_type": "code",
   "execution_count": 3,
   "id": "9e908b5e-ab1e-4be8-8f92-593af988381a",
   "metadata": {
    "jupyter": {
     "source_hidden": true
    }
   },
   "outputs": [],
   "source": [
    "law = \"\"\"PIL\n",
    "39. pants. Prasības elektroniskai pieteikumu un piedāvājumu saņemšanai\n",
    "\n",
    "(1) Pasūtītājs iepirkumos paredz elektronisku pieteikumu un piedāvājumu iesniegšanu, izņemot Ministru kabineta noteiktos gadījumus, kad pasūtītājam nav pienākuma pieteikumu un piedāvājumu vai tā sastāvdaļu saņemšanai izmantot elektroniskās informācijas sistēmas. Pieteikumu un piedāvājumu saņemšanai pasūtītājs izvēlas bez maksas izmantojamās elektroniskās informācijas sistēmas, kas paredzētas piedāvājumu un pieteikumu elektroniskai saņemšanai.\n",
    "\n",
    "(2) Izmantojot elektroniskās informācijas sistēmas, ar kurām saņem piedāvājumus un pieteikumus, kā arī plānus un projektus iepirkumos un iepirkuma procedūrās, ievēro šādus noteikumus:\n",
    "\n",
    "1) visiem ieinteresētajiem piegādātājiem ir pieejama informācija par specifikācijām, kas attiecas uz piedāvājumu un pieteikumu elektronisku iesniegšanu, kodēšanu un laika reģistrāciju;\n",
    "\n",
    "2) tiek izmantots sistēmā iestrādāts paraksta rīks, kas nodrošina elektroniskā dokumenta parakstītāja identitātes apstiprināšanu, vai elektroniskais paraksts, kas atbilst normatīvajiem aktiem par elektronisko dokumentu un elektroniskā paraksta statusu;\n",
    "\n",
    "3) var precīzi noteikt datumu un laiku, kad iesniegti piedāvājumi un pieteikumi, kā arī plāni un projekti;\n",
    "\n",
    "4) pasūtītājs nodrošina, lai neviens nevarētu piekļūt iesniegtajai informācijai pirms noteiktā termiņa beigām;\n",
    "\n",
    "5) tikai pilnvarotām personām ir iespēja noteikt vai mainīt saņemto dokumentu atvēršanas laiku;\n",
    "\n",
    "6) dažādos iepirkuma vai iepirkuma procedūras posmos piekļuve iesniegtajiem dokumentiem vai to daļai ir iespējama pēc pilnvarotu personu vienlaikus veiktām darbībām;\n",
    "\n",
    "7) iesniegtajiem dokumentiem var piekļūt tikai noteiktā datumā pēc pilnvarotu personu vienlaikus veiktām darbībām;\n",
    "\n",
    "8) piekļuve iesniegtajiem un atvērtajiem dokumentiem saglabājas tikai tām pilnvarotām personām, kurām šāda piekļuve ir atļauta;\n",
    "\n",
    "9) ir iespējams atklāt to, ka ir pārkāpts šīs daļas 4., 5., 6., 7. un 8. punktā minētais aizliegums.\n",
    "\n",
    "(3) Ministru kabinets nosaka prasības un standartus sistēmām, kas tiek izmantotas piedāvājumu un pieteikumu iesniegšanai.\n",
    "\n",
    "(4) Ja konstatēti sistēmas darbības traucējumi, kuru dēļ nav bijis iespējams iesniegt piedāvājumus vai pieteikumus kopumā vismaz divas stundas pēdējo 24 stundu laikā vai 10 minūtes pēdējo četru stundu laikā līdz piedāvājumu vai pieteikumu iesniegšanas termiņa beigām, sistēmas turētājs pēc sistēmas darbības atjaunošanas pārceļ piedāvājumu vai pieteikumu iesniegšanas termiņu par vienu darbdienu. Sistēmas darbības atjaunošanas dienā tajā ievieto paziņojumu par sistēmas darbības traucējumiem, norādot iepirkumus un iepirkuma procedūras, kuru termiņi pārcelti. Šāda termiņa pārcelšana nav uzskatāma par grozījumiem iepirkuma vai iepirkuma procedūras dokumentos vai par piedāvājumu vai pieteikumu iesniegšanas termiņa pagarināšanu šā likuma 35. panta trešās daļas izpratnē.\n",
    "\n",
    "(5) Šā panta noteikumi attiecināmi arī uz metu konkursu, ja tajā paredzēta elektroniska metu vai devīžu atšifrējumu iesniegšana.\n",
    "\"\"\""
   ]
  },
  {
   "cell_type": "code",
   "execution_count": 4,
   "id": "fedd6141-a86c-4e13-af17-f3ff96045bfe",
   "metadata": {
    "jupyter": {
     "source_hidden": true
    }
   },
   "outputs": [],
   "source": [
    "context = \"\"\"\n",
    "1. 12**.  **Piedāvājuma noformēšana\n",
    "1.12.1. Piedāvājums iesniedzams elektroniski un tam jāatbilst visām šajā Nolikumā, tā pielikumos un normatīvajos aktos ietvertajām prasībām. Piedāvājumu jāsagatavo tā, lai nekādā veidā netiktu apdraudēta Elektronisko iepirkumu sistēmas e-konkursu apakšsistēmas darbība, tostarp piedāvājums nedrīkst saturēt datorvīrusus un citas kaitīgas programmas vai to ģeneratorus kā arī, lai Komisijai pēc piedāvājumu iesniegšanas termiņa beigām nebūtu ierobežota piekļuve piedāvājumā ietvertajai informācijai.\n",
    "1.12.2. Piedāvājuma dokumenti parakstāmi ar drošu elektronisko parakstu un laika zīmogu vai EIS sistēmas parakstu. 1.13.6.1. apakšpunktā minētajā gadījumā piedāvājuma nodrošinājuma dokuments parakstāms ar drošu elektronisko parakstu un laika zīmogu. Piedāvājumā iekļautos dokumentus paraksta pretendenta pārstāvis (-ji) ar pārstāvības tiesībām vai pilnvarota (-ās) persona (-as), ja pārstāvības tiesības nav konstatējamas no Uzņēmumu reģistra datiem, piedāvājumam pievieno dokumentu, kas apliecina pretendenta pārstāvja (-u) pārstāvības (paraksta) tiesības.\n",
    "1.12.3. Piedāvājums sastāv no šādiem dokumentu kopumiem:\n",
    "1.12.3.1. pretendenta pieteikums un kvalifikācijas dokumenti;\n",
    "1.12.3.2. tehniskais piedāvājums;\n",
    "1.12.3.3. finanšu piedāvājums;\n",
    "1.12.3.4. piedāvājuma nodrošinājums.\n",
    "1.12.4. Elektronisko iepirkumu sistēmā e-konkursu apakšsistēmas adresē: <https://www.eis.gov.lv/EKEIS/>[Supplier/Procurement](https://www.eis.gov.lv/EKEIS/Supplier/Procurement/33176) Proposals[/34370](https://www.\n",
    "eis.gov.lv/EKEIS/Procurement/Edit/33257) iesniedzamajiem dokumentiem jābūt ar *Microsoft Office 2010* (vai vēlākas programmatūras versijas) rīkiem lasāmā formātā.\n",
    "* + 1. Piedāvājumā iekļautajiem dokumentiem jābūt skaidri salasāmiem, bez labojumiem, lai izvairītos no jebkādiem pārpratumiem.\n",
    "2. Piedāvājumā iekļautajiem dokumentiem un to noformējumam jāatbilst Dokumentu juridiskā spēka likumam, Elektronisko dokumentu likumam, Ministru kabineta 2005.gada 28.jūnija noteikumiem Nr.473 “Elektronisko dokumentu izstrādāšanas, noformēšanas, glabāšanas un aprites kārtība valsts un pašvaldību iestādēs un kārtība, kādā notiek elektronisko dokumentu aprite starp valsts un pašvaldību iestādēm vai starp šīm iestādēm un fiziskajām un juridiskajām personām” un Ministru kabineta 2018.gada 4.septembra noteikumiem Nr.558 „Dokumentu izstrādāšanas un noformēšanas kārtība”. Piedāvājums, kurā dokumentu noformējums būtiski neatbilst noteiktajām prasībām, kā rezultātā nav iespējama piedāvājuma izvērtēšana, tiks noraidīts.\n",
    "3. Piedāvājums jāsagatavo latviešu valodā. Svešvalodā sagatavotiem piedāvājuma dokumentiem jāpievieno apliecināts tulkojums latviešu valodā saskaņā ar 2000.gada 22.augusta Ministru kabineta noteikumiem Nr.291 „Kārtība, kādā apliecināmi dokumentu tulkojumi valsts valodā”. Par dokumentu tulkojuma atbilstību oriģinālam atbild pretendents.\n",
    "4. Dokumentu kopijas jāapliecina normatīvajos aktos noteiktajā kārtībā. Iesniedzot piedāvājumu, pretendents ir tiesīgs visu iesniegto dokumentu atvasinājumu un tulkojumu pareizību apliecināt ar vienu apliecinājumu.\n",
    "5. Ja piedāvājumu iesniedz piegādātāju apvienība vai personālsabiedrība, piedāvājumā papildus norāda personu, kura Konkursā pārstāv attiecīgo piegādātāju apvienību vai personālsabiedrību, kā arī katras personas atbildības sadalījumu. Ja līguma slēgšanas tiesības iegūst pretendents, kurš ir piegādātāju apvienība, tad tam ir pienākums pirms līguma noslēgšanas, 5 (piecu) dienu laikā pēc PIL 60.panta sestajā daļā minētā nogaidīšanas termiņa beigām iesniegt pasūtītājam nepieciešamo informāciju līguma slēgšanai, ievērojot šī nolikuma 10.4.punktā minētos nosacījumus.\n",
    "* 1. **Piedāvājuma nodrošinājums**\n",
    "1.13.1. Pretendentam ir jāpievieno piedāvājumam no savas puses neatsaucams piedāvājuma nodrošinājums. Piedāvājuma nodrošinājums iepirkuma 1.daļai ir noteikts EUR 3 000,- (*trīs tūkstoši* *euro*) apmērā, iepirkuma 2.daļai- EUR 2 000,- (*divi tūkstoši euro*) apmērā. Piedāvājuma nodrošinājumam jābūt spēkā 90 dienas no piedāvājumu iesniegšanas termiņa beigām.\n",
    "1.13.2. Piedāvājuma nodrošinājums drīkst būt:\n",
    "1.13.2.1. bankas garantija;\n",
    "1.13.2.2. apdrošināšanas polise;\n",
    "1.13.2.3. kā naudas summas iemaksa pasūtītāja norādītajā kontā.\n",
    "1.13.3. Bankas garantijai jāatbilst šādiem noteikumiem:\n",
    "1.13.3.1. garantijas devējam jāapņemas samaksāt pasūtītājam garantijas summu PIL 50.panta sestajā daļā noteiktajos gadījumos;\n",
    "1.13.3.2. garantijai jābūt spēkā iepirkuma nolikumā noteiktajā termiņā;\n",
    "1.13.3.3. garantijai jābūt no pretendenta puses neatsaucamai;\n",
    "1.13.3.4. pasūtītājam nav jāpieprasa garantijas summa no pretendenta pirms prasības iesniegšanas garantijas devējam;\n",
    "1.13.3.5. garantijai piemērojami Starptautiskās tirdzniecības kameras noteikumi „The ICC Uniform Rules for Demand Guarantees”, ICC Publication No.758, bet attiecībā uz jautājumiem, kurus neregulē minētie Starptautiskās tirdzniecības kameras noteikumi, šai garantijai piemērojami Latvijas Republikas normatīvie akti. Prasības un strīdi, kas saistīti ar šo garantiju, izskatāmi Latvijas Republikas tiesā saskaņā ar Latvijas Republikas normatīvajiem tiesību aktiem;\n",
    "1.13.3.6. pretendentam, kura piedāvājums izraudzīts saskaņā ar piedāvājuma izvēles kritērijiem, piedāvājuma nodrošinājumam jābūt spēkā līdz dienai, kad tiks iesniegts līguma saistību izpildes nodrošinājums (ja tas ir noteikts līguma projektā).\n",
    "1.13.4. Apdrošināšanas polisei jāatbilst šādiem noteikumiem:\n",
    "1.13.4.1. apdrošinātājam jāapņemas samaksāt pasūtītājam piedāvājuma nodrošinājuma summu PIL 50.panta sestajā daļā noteiktajos gadījumos;\n",
    "1.13.4.2. apdrošināšanas polisei jābūt spēkā iepirkuma nolikumā noteiktajā termiņā un izpildāmai no piedāvājuma atvēršanas brīža, t.i., apdrošināšanas prēmijai jābūt samaksātai uz piedāvājuma iesniegšanas brīdi, ko pierāda piedāvājumā iekļautais samaksu apliecinošais dokuments;\n",
    "1.13.4.3. polisei jābūt no pretendenta puses neatsaucamai;\n",
    "1.13.4.4. pasūtītājam nav jāpieprasa piedāvājuma nodrošinājuma summa no pretendenta pirms prasības iesniegšanas apdrošinātājam;\n",
    "1.13.4.5. prasības un strīdi, kas saistīti ar šo apdrošināšanas polisi, izskatāmi Latvijas Republikas tiesā saskaņā ar Latvijas Republikas normatīvajiem tiesību aktiem;\n",
    "2. EIROPAS VIENOTAIS IEPIRKUMA PROCEDŪRAS DOKUMENTS\n",
    "   1. Pretendents var iesniegt Eiropas vienoto iepirkuma procedūras dokumentu kā sākotnējo pierādījumu atbilstībai paziņojumā par līgumu vai iepirkuma procedūras dokumentos noteiktajām pretendentu atlases prasībām. Ja pretendents izvēlēsies iesniegt Eiropas vienoto iepirkuma procedūras dokumentu, lai apliecinātu, ka tas atbilst paziņojumā par līgumu vai iepirkuma procedūras dokumentos noteiktajām pretendentu atlases prasībām, tam jāiesniedz šo dokumentu arī par katru personu, uz kuras iespējām pretendents balstās, lai apliecinātu, ka tā kvalifikācija atbilst paziņojumā par līgumu vai iepirkuma procedūras dokumentos noteiktajām prasībām, un par tā norādīto apakšuzņēmēju, kura vērtība ir vismaz 10 procenti no iepirkuma līguma vērtības. Piegādātāju apvienībai jāiesniedz atsevišķu Eiropas vienoto iepirkuma procedūras dokumentu par katru tās dalībnieku.\n",
    "2. Pretendents var pasūtītājam iesniegt Eiropas vienoto iepirkuma procedūras dokumentu, kas ir bijis iesniegts citā iepirkuma procedūrā, ja tas apliecina, ka tajā iekļautā informācija ir pareiza.\n",
    "3. Eiropas vienotā iepirkuma procedūras dokumenta veidlapu paraugus nosaka Eiropas Komisijas 2016.gada 5.janvāra Īstenošanas regula 2016/7, ar ko nosaka standarta veidlapu Eiropas vienotajam iepirkuma procedūras dokumentam, un tā pieejama: **espd.eis.gov.lv**\n",
    "Iepirkuma 1. daļai – 87 (astoņdesmit septiņas) dienas, ievērojot sekojošus apstākļus: paredzamais darbu izpildes laiks no 25.05.2020.-19.08.2020., objekts darbu veikšanai tiks nodots pa daļām, viss objekts būvniekam darbu veikšanai tiks nodots 01.06.2020.\n",
    "Iepirkuma 2. daļai - 80 (astoņdesmit) dienas, ievērojot sekojošus apstākļus: paredzamais darbu izpildes laiks no 01.06.2020.-19.08.2020., viss objekts būvniekam darbu veikšanai tiks nodots 01.06.2020.\n",
    "* 1. **Līguma izpildes vieta**\n",
    "Objekti, kuros jāveic būvdarbi atrodas Krāslavā.\n",
    "* 1. **Objektu apskate**\n",
    "Objekti ir brīvi pieejami apskatei.\n",
    "Komisija rīkos ieinteresēto piegādātāju sanāksmi, ja ne vēlāk kā 10 dienas pirms piedāvājumu iesniegšanas termiņa pēdējās dienas ir saņemti vismaz divu ieinteresēto piegādātāju priekšlikumi rīkot ieinteresēto piegādātāju sanāksmi. Sanāksme tiks rīkota ne vēlāk kā 5 dienas pirms piedāvājumu iesniegšanas termiņa pēdējās dienas, un informācija par sanāksmi tiks publicēta pircēja profilā vismaz trīs dienas iepriekš. Ieinteresēto piegādātāju sanāksmes rīkošanas gadījumā, tā notiks Krāslavas novada domē, Rīgas ielā 51, Krāslavā.\n",
    "* 1. **Konkursa nolikuma saņemšana**\n",
    "     1. Komisija nodrošina brīvu un tiešu elektronisku pieeju iepirkuma procedūras dokumentiem pircēja profilā Elektronisko iepirkumu sistēmas https://www.eis.gov.lv/EIS/ e-konkursu apakšsistēmā šī nolikuma 1.5.2.punktā norādītajā adresē.\n",
    "2. Iepazīties ar konkursa nolikumu var Krāslavas novada domē 12.kab., Rīgas ielā 51, Krāslavā, pie 1.4.punktā norādītās kontaktpersonas darba laikā (pirmdien, otrdien, trešdien, ceturtdien no plkst. 800 līdz 1200 un no plkst.1300 līdz 1715, piektdien no 800 līdz 1300).\n",
    "2. **Piedāvājuma iesniegšanas un atvēršanas vieta, datums, laiks un kārtība**\n",
    "     1. Pretendents piedāvājumu iesniedz, izmantojot Valsts reģionālās attīstības aģentūras pārziņā esošu valsts informācijas sistēmas e-konkursu apakšsistēmu tīmekļvietnē [www.eis.gov.lv](http://www.eis.gov.lv), atbilstoši Ministru kabineta 28.02.2017. noteikumiem Nr. 108 “Publisko elektronisko iepirkumu noteikumi”.\n",
    "2. Ārpus Elektronisko iepirkumu sistēmas https://www.eis.gov.lv/EIS/ e-konkursu apakšsistēmas vai pēc Nolikumā noteiktā piedāvājumu iesniegšanas termiņa beigām saņemtie piedāvājumi tiks atzīti par neatbilstošiem Nolikuma prasībām un tiks noraidīti.\n",
    "3. Pretendenti piedāvājumus var iesniegt Elektronisko iepirkumu sistēmas https://www.eis.gov.lv/EIS/ e-konkursu apakšsistēmā līdz **2020.gada 20.marta plkst. 10:00**.\n",
    "4. Iesniegto piedāvājumu pretendents drīkst atsaukt vai grozīt tikai līdz piedāvājumu iesniegšanas termiņa beigām. Grozījumi vai atsaukums ir iesniedzami elektroniski, izmantojot Elektronisko iepirkumu sistēmu <https://www.eis.gov.lv/EIS/>. Atsauktos piedāvājumus un pēc piedāvājumu iesniegšanas termiņa beigām iesniegtos piedāvājumus neatver.\n",
    "5. Piedāvājuma maiņas gadījumā par piedāvājuma iesniegšanas laiku tiek uzskatīts pēdējā piedāvājuma iesniegšanas brīdis.\n",
    "6. Ja no Elektronisko iepirkumu sistēmas uzturētāja ir saņemts paziņojums par traucējumiem elektroniskās informācijas sistēmas darbībā, kuru dēļ nav iespējams iesniegt piedāvājumus, iepirkumu komisija lemj par piedāvājumu iesniegšanas termiņa pagarināšanu.\n",
    "7. Ja piedāvājumu atvēršanas sanāksmes laikā Komisijai rodas interneta darbības traucējumi, datortehnikas vai citas izmantotās biroja tehnikas bojājumi, ko nav iespējams novērst īsā laikā, piedāvājumu atvēršanas sanāksmi pārceļ uz citu laiku, par ko tiek publicēts paziņojums EIS e-konkursu apakšsistēmā.\n",
    "8. Piedāvājumi tiks atvērti Krāslavas novada domē, Rīgas ielā 51, Krāslavā, piedāvājumu atvēršana sākas tūlīt pēc piedāvājumu iesniegšanas termiņā beigām **2020.gada 20.martā plkst.10:00**, ievērojot normatīvajos aktos noteikto kārtību. Piedāvājumu atvēršanas sanāksme ir atklāta un tās procesam var sekot līdzi Elektronisko iepirkumu sistēmas e-konkursu apakšsistēmā. Ja iestājas PIL 68.panta septītajā daļa minētā situācija, Komisija rīkojas atbilstoši 28.02.2017. MK noteikumu Nr.107 “Iepirkuma procedūru un metu konkursu norises kārtība” 14.punktā minētajai kārtībai.\n",
    "9. Pēc atvēršanas sanāksmes beigām Elektronisko iepirkumu sistēmas https://www.eis.gov.lv/EIS/ e-konkursu apakšsistēmā būs pieejams pretendentu un to iesniegto piedāvājumu cenu apkopojums.\n",
    "1. 14. Cita informācija\n",
    "1.14.1. Pretendenta iesniegtais piedāvājums nozīmē pilnīgu šī Konkursa Nolikuma noteikumu pieņemšanu un atbildību par to izpildi.\n",
    "1.14.2. Pēc piedāvājumu iesniegšanas termiņa beigām pretendents nevar savu piedāvājumu grozīt.\n",
    "1.14.3. Pretendentam ir pilnībā jāsedz piedāvājuma sagatavošanas un iesniegšanas izmaksas. Pasūtītājs neuzņemas nekādas saistības par šīm izmaksām neatkarīgi no Konkursa rezultāta.\n",
    "1.14.4. Visi Nolikuma pielikumi ir tā neatņemamas sastāvdaļas.\n",
    "1.13.4.6. pretendentam, kura piedāvājums izraudzīts saskaņā ar piedāvājuma izvēles kritērijiem, piedāvājuma nodrošinājumam jābūt spēkā līdz dienai, kad tiks iesniegts līguma saistību izpildes nodrošinājums (ja tas ir noteikts līguma projektā).\n",
    "* + 1. Naudas summas iemaksai pasūtītāja norādītajā kontā jāatbilst šādiem noteikumiem:\n",
    "1.13.5.1. piedāvājuma nodrošinājuma naudas summai pilnā apmērā jābūt iemaksātai Krāslavas novada domes kontā LV58TREL9802217047000, ar norādi „Piedāvājuma nodrošinājums iepirkumam KND-2020/07”, līdz piedāvājumu iesniegšanas termiņa beigām;\n",
    "1.13.5.2. ar piedāvājuma nodrošinājuma naudas summas iemaksu Krāslavas novada domes kontā, pretendents apliecina savu piekrišanu nosacījumam, ka pasūtītājs neatmaksā piedāvājuma nodrošinājuma summu, ja iestājies kāds no apstākļiem, kas noteikts PIL 50.panta sestajā daļā un norādīts Nolikuma 1.13.8.punktā.\n",
    "1.13.6. Piedāvājuma nodrošinājuma oriģināla iesniegšana:\n",
    "1.13.6.1. ja piedāvājuma nodrošinājums ir bankas garantija vai apdrošināšanas polise, tad nodrošinājuma devējs piedāvājuma nodrošinājuma dokumentus paraksta ar drošu elektronisko parakstu un laika zīmogu un šis dokuments līdz piedāvājuma iesniegšanas termiņa beigām pievienojams Elektronisko iepirkumu sistēmas https://www.eis.gov.lv/EIS/ e-konkursu apakšsistēmā kā atsevišķs dokuments;\n",
    "1.13.6.2. ja piedāvājuma nodrošinājums ir naudas iemaksa pasūtītāja norādītajā kontā, tad nodrošinājuma devējs pievieno klāt maksājuma uzdevuma izdruku.\n",
    "1.13.7. Ja pretendents ir piegādātāju apvienība vai personālsabiedrība, tad piedāvājuma nodrošinājumam jābūt noformētam tā, ka tas attiecas uz visiem pretendenta dalībniekiem (pretendenta nosaukumam piedāvājuma nodrošinājuma dokumentā jābūt tādam pašam kā pretendenta nosaukumam piedāvājumā).\n",
    "1.13.8. Nodrošinājuma devējs izmaksā pasūtītājam piedāvājuma nodrošinājuma summu vai pasūtītājs neatmaksā pretendentam pasūtītāja kontā iemaksāto nodrošinājuma summu, ja:\n",
    "1.13.8.1. pretendents atsauc savu piedāvājumu, kamēr ir spēkā piedāvājuma nodrošinājums;\n",
    "1.13.8.2. pretendents, kuram piešķirtas iepirkuma līgumu slēgšanas tiesības, neparaksta iepirkuma līgumus pasūtītāja noteiktajā termiņā;\n",
    "1.13.8.3. pretendents, kuram piešķirtas iepirkuma līguma slēgšanas tiesības, pasūtītāja noteiktajā termiņā nav iesniedzis tam iepirkuma Nolikumā un iepirkuma līgumā paredzēto saistību izpildes nodrošinājumu.\n",
    "1.13.9. Piedāvājuma nodrošinājuma dokumentu pretendents var saņemt atpakaļ (pasūtītāja apliecinājumu garantijas sniedzējam par galvojuma spēkā esamības pārtraukšanu pirms tajā noteiktā termiņa) vai pasūtītāja kontā iemaksāto piedāvājuma nodrošinājuma summu atmaksā pretendentam sekojošā kārtībā:\n",
    "1.13.9.1. pretendentam, ar kuru pasūtītājs slēdz iepirkuma līgumu - pēc līguma noslēgšanas vai saistību izpildes nodrošinājuma iesniegšanas pasūtītājam (ja tas ir noteikts līguma projektā);\n",
    "1.13.9.2. pārējiem pretendentiem - pēc iepirkuma procedūras beigām (iepirkuma līguma noslēgšanas vai lēmuma izbeigt iepirkumu bez rezultāta).\n",
    "1.13.10. Bez atbilstoša piedāvājuma nodrošinājuma pretendenta piedāvājums netiek izskatīts.\n",
    "\"\"\""
   ]
  },
  {
   "cell_type": "code",
   "execution_count": 5,
   "id": "061b7528-e942-48e0-8214-dd4a7d25803a",
   "metadata": {},
   "outputs": [],
   "source": [
    "prompt = \"\"\"Kontekstā ir fragmenti no nolikuma. Noskaidro, vai lietotāja apgalvojums ir patiess, balstoties uz informāciju kontekstā. Spriešanai izmanto izvilkumus no likumiem, ja tādi ir doti. Vienmēr atgriez rezultātu JSON formtā, ietverot atslēgas: 1) 'answer' ar iespējamām vērtībām  'jā', 'nē', vai 'kontekstā nav informācijas'; 2) 'rate' - pārliecību par atbildi skalā  'zema', 'vidēja', 'augsta'; 3) 'explanation' - fragments no konteksta, kas pamato 'jā' vai 'nē' atbildi, vai paskaidrjums, kāda informācija ir nepieciešama, lai atbildētu.\"\"\""
   ]
  },
  {
   "cell_type": "code",
   "execution_count": 6,
   "id": "d53eaf4e-376c-46a2-b7b0-51347d121057",
   "metadata": {},
   "outputs": [
    {
     "name": "stdout",
     "output_type": "stream",
     "text": [
      "```json\n",
      "{\n",
      "  \"answer\": \"nē\",\n",
      "  \"rate\": \"augsta\",\n",
      "  \"explanation\": \"Kontekstā nav minēts MK noteikumu 231.punkts vai tā saturs, kas noteiktu izņēmumus, kad pasūtītājam nav pienākuma izmantot elektroniskās informācijas sistēmas pieteikumu un piedāvājumu saņemšanai. Tā vietā kontekstā un likumā ir norādīts, ka pasūtītājs paredz elektronisku pieteikumu un piedāvājumu iesniegšanu, izņemot Ministru kabineta noteiktos gadījumus, bet konkrēti MK noteikumu 231.punkts nav pieminēts.\"\n",
      "}\n",
      "```\n"
     ]
    }
   ],
   "source": [
    "final = prompt\n",
    "final = final + \"\"\"\n",
    "Izvilkumi no likumiem ietverti <law> tagos: \n",
    "    <law>\n",
    "    \"\"\"\n",
    "final = final + law \n",
    "final = final + \"\"\"\n",
    "</law>\n",
    "\"\"\"\n",
    "final = final + \"\"\"\n",
    "Konteksta informācija ietverta <context> tagos:\n",
    "    <context>\n",
    "    \"\"\"\n",
    "final = final + context\n",
    "final = final + \"\"\"\n",
    "</context>\n",
    "\"\"\"\n",
    "final = final + \"\"\"\n",
    "\n",
    "Lietotāja apgalvojums vai jautājums ir šāds:\n",
    "\"\"\"\n",
    "final = final + question\n",
    "#print(final)\n",
    "response = llm.complete(final)\n",
    "print(response)"
   ]
  },
  {
   "cell_type": "code",
   "execution_count": null,
   "id": "46b26a70-ff20-427d-b2a2-aabc9cd329c3",
   "metadata": {},
   "outputs": [],
   "source": []
  }
 ],
 "metadata": {
  "kernelspec": {
   "display_name": "Python 3 (ipykernel)",
   "language": "python",
   "name": "python3"
  },
  "language_info": {
   "codemirror_mode": {
    "name": "ipython",
    "version": 3
   },
   "file_extension": ".py",
   "mimetype": "text/x-python",
   "name": "python",
   "nbconvert_exporter": "python",
   "pygments_lexer": "ipython3",
   "version": "3.12.0"
  }
 },
 "nbformat": 4,
 "nbformat_minor": 5
}
