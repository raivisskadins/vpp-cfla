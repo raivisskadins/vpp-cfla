{
 "cells": [
  {
   "cell_type": "code",
   "execution_count": 17,
   "id": "4329b8b7-d7a7-449b-81b7-af351449627b",
   "metadata": {},
   "outputs": [
    {
     "name": "stdout",
     "output_type": "stream",
     "text": [
      "The autoreload extension is already loaded. To reload it, use:\n",
      "  %reload_ext autoreload\n"
     ]
    }
   ],
   "source": [
    "# Line magic functions that will allow for imports to be reloaded and not cached\n",
    "%load_ext autoreload\n",
    "%autoreload 2\n",
    "\n",
    "# Imports\n",
    "import os\n",
    "import pandas as pd\n",
    "from llama_index.embeddings.huggingface import HuggingFaceEmbedding\n",
    "from llama_index.llms.azure_openai import AzureOpenAI\n",
    "from datetime import date\n",
    "from json import dump\n",
    "from tqdm import tqdm\n",
    "\n",
    "# Local\n",
    "from scripts.extractmd import Extractor\n",
    "from scripts.vectorindex import QnAEngine\n",
    "from scripts.utilities import get_prompt_dict, get_questions, get_answers, get_procurement_content, get_config_data, get_ini_files, get_supplementary_info, get_questions_without_q0\n",
    "from scripts.gen_results import gen_results\n",
    "from scripts.gen_reports import generate_precision_report"
   ]
  },
  {
   "cell_type": "markdown",
   "id": "491f04cb-807c-48b2-b474-8b97dbb0a6d5",
   "metadata": {},
   "source": [
    "**Global config**"
   ]
  },
  {
   "cell_type": "code",
   "execution_count": 18,
   "id": "a282ce0b-1aba-417c-bf9a-15cbe840c485",
   "metadata": {},
   "outputs": [],
   "source": [
    "embedding_conf = {\n",
    "    \"embeddingmodel\": \"BAAI/bge-m3\",  # \"BAAI/bge-m3\" \"nomic-ai/nomic-embed-text-v2-moe\" # \"sentence-transformers/paraphrase-multilingual-mpnet-base-v2\"\n",
    "    \"chunk_size\": 1536,\n",
    "    \"chunk_overlap\": 0,\n",
    "    \"top_similar\": 5,\n",
    "    \"n4rerank\": 0, #How many nodes to retrieve for reranking. If 0, reranker is not used\n",
    "    \"use_similar_chunks\": True, #To use similar chunks or the whole document as the context\n",
    "    \"prevnext\": True #to include in the context also the previouse and the next chunk of the current similar chunk\n",
    "}\n",
    "embedding=HuggingFaceEmbedding(model_name=embedding_conf[\"embeddingmodel\"],trust_remote_code=True)\n",
    "\n",
    "#For nomic-embed-text-v2-moe\n",
    "#embedding=HuggingFaceEmbedding(model_name=embedding_conf[\"embeddingmodel\"],trust_remote_code=True,query_instruction=\"search_query: \",text_instruction=\"search_document: \")"
   ]
  },
  {
   "cell_type": "code",
   "execution_count": 19,
   "id": "b3e114f1-c05e-48b1-b56a-051ece6102eb",
   "metadata": {},
   "outputs": [],
   "source": [
    "# LLM Setup \n",
    "llmmodelAzure = { \"model\": \"gpt-4o\",\n",
    "                \"version\":os.environ.get('AZURE_OPENAI_VERSION',''),\n",
    "                \"azure_deployment\":\"gpt-4o\",\n",
    "                \"azure_endpoint\":os.environ.get('AZURE_ENDPOINT',''),\n",
    "                \"api_key\":os.environ.get('AZURE_OPENAI_KEY','')}\n",
    "\n",
    "llm=AzureOpenAI(azure_deployment=llmmodelAzure[\"azure_deployment\"],\n",
    "                azure_endpoint=llmmodelAzure[\"azure_endpoint\"],temperature=0.0,\n",
    "                api_version=llmmodelAzure[\"version\"], api_key=llmmodelAzure[\"api_key\"],\n",
    "                timeout=120,max_retries=3,top_p=0.0001)"
   ]
  },
  {
   "cell_type": "code",
   "execution_count": 20,
   "id": "9f7c744c",
   "metadata": {},
   "outputs": [],
   "source": [
    "extractor = Extractor() # Markdown doc extractor"
   ]
  },
  {
   "cell_type": "code",
   "execution_count": 21,
   "id": "32e67876-c437-41ad-992b-4ce540022087",
   "metadata": {},
   "outputs": [],
   "source": [
    "#Ollama model\n",
    "# llmmodelOllama = { \"model\": \"gemma3:27b\",\n",
    "#                 \"url\":os.environ.get('OLLAMA_ENDPOINT',''),\n",
    "#                 \"context_window\":\"128000\"}\n",
    "\n",
    "#from llama_index.llms.ollama import Ollama\n",
    "#llm = Ollama(base_url=llmmodelOllama[\"url\"],\n",
    "#             model=llmmodelOllama[\"model\"], \n",
    "#             context_window=int(llmmodelOllama[\"context_window\"]),\n",
    "#            request_timeout=300.0,\n",
    "#            temperature=0.0,\n",
    "#            additional_kwargs={\"seed\":1337})"
   ]
  },
  {
   "cell_type": "markdown",
   "id": "e1f0daa1-7706-4651-b713-78ac66c5533a",
   "metadata": {},
   "source": [
    "**PROCUREMENT FILE SETTINGS**"
   ]
  },
  {
   "cell_type": "code",
   "execution_count": 22,
   "id": "88446367-533a-4e00-b3ff-239802a86698",
   "metadata": {},
   "outputs": [],
   "source": [
    "# Script dir for getting relative paths for notebook file\n",
    "script_dir = globals()['_dh'][0] \n",
    "\n",
    "# Document paths\n",
    "question_file_path = script_dir / \"questions\" / \"questions.yaml\" # original.yaml\n",
    "prompt_file = script_dir / \"questions\" / \"prompts.tsv\"\n",
    "report_dir = script_dir / \"reports\"\n",
    "config_dir = script_dir / \"dev_config\" # \"dev_config\" # \"config\"\n",
    "procurement_file_dir = script_dir / \"cfla_files\" # \"cfla_files\"\n",
    "answer_file_dir = script_dir / \"answers\"\n",
    "\n",
    "# TODO perhaps prompt user to define unique report name; some types - all; one etc?\n",
    "report_identifier = \"dev-test\"\n",
    "# TODO maybe add report as a subdirectory as there are 2 files per report; might be even more with histograms etc.\n",
    "report_name = f\"{report_identifier}_{date.today():%d.%m}\"\n",
    "\n",
    "report_dir_path = report_dir / report_name\n",
    "report_path_htm = report_dir_path / \"report.htm\"\n",
    "report_path_csv = report_dir_path / \"report.csv\"\n",
    "report_path_config = report_dir_path / \"config.json\""
   ]
  },
  {
   "cell_type": "code",
   "execution_count": 23,
   "id": "0c8d8558",
   "metadata": {},
   "outputs": [
    {
     "name": "stdout",
     "output_type": "stream",
     "text": [
      "Questions loaded\n",
      "Found 10 config files in c:\\Users\\endij\\OneDrive\\Dokumenti\\Justine\\vpp-cfla\\dev_config\n",
      "Processing 10 procurement files: ['KND-2020_07', 'KND-2020_20', 'KNP202134', 'LNP_202050ERAF', 'LU_CFI_201935ERAF', 'RPNC202122', 'SNP-2021_07_AK', 'SNP202131', 'SNP_20213ERAF', 'VNIP_2020_036_ERAF']\n"
     ]
    }
   ],
   "source": [
    "# Loading static information\n",
    "overwrite = False  # If true this will delete the existing report and generate a new one;\n",
    "                  # Else - new data will be appended only if it isn't in the CSV file.\n",
    "\n",
    "question_dictionary = get_questions(question_file_path)\n",
    "prompt_dictionary = get_prompt_dict(prompt_file)\n",
    "supplementary_info = get_supplementary_info()\n",
    "\n",
    "ini_files = get_ini_files(config_dir, overwrite, report_path_csv)\n",
    "print(f\"Processing {len(ini_files)} procurement files: {sorted(ini_files)}\")"
   ]
  },
  {
   "cell_type": "markdown",
   "id": "78357252",
   "metadata": {},
   "source": [
    "**MAIN Q/A GENERATION SCRIPT**"
   ]
  },
  {
   "cell_type": "code",
   "execution_count": null,
   "id": "6f5149a2",
   "metadata": {},
   "outputs": [
    {
     "name": "stderr",
     "output_type": "stream",
     "text": [
      "Config files:   0%|          | 0/10 [00:00<?, ?file/s]"
     ]
    },
    {
     "name": "stdout",
     "output_type": "stream",
     "text": [
      "Processing config file: c:\\Users\\endij\\OneDrive\\Dokumenti\\Justine\\vpp-cfla\\dev_config\\KND-2020_07.ini\n"
     ]
    },
    {
     "name": "stderr",
     "output_type": "stream",
     "text": [
      "Generating embeddings: 100%|██████████ [ time left: 00:00 ]\n"
     ]
    },
    {
     "name": "stdout",
     "output_type": "stream",
     "text": [
      "55 segments created and vectorized.\n",
      "Index is ready.\n",
      "38 38.7 "
     ]
    },
    {
     "name": "stderr",
     "output_type": "stream",
     "text": [
      "Config files:  10%|█         | 1/10 [01:22<12:24, 82.73s/file]"
     ]
    },
    {
     "name": "stdout",
     "output_type": "stream",
     "text": [
      "PRECIZITĀTE: 100.0%\n",
      "Processing config file: c:\\Users\\endij\\OneDrive\\Dokumenti\\Justine\\vpp-cfla\\dev_config\\KND-2020_20.ini\n"
     ]
    },
    {
     "name": "stderr",
     "output_type": "stream",
     "text": [
      "Generating embeddings: 100%|██████████ [ time left: 00:00 ]\n"
     ]
    },
    {
     "name": "stdout",
     "output_type": "stream",
     "text": [
      "73 segments created and vectorized.\n",
      "Index is ready.\n",
      "38 38.7 "
     ]
    },
    {
     "name": "stderr",
     "output_type": "stream",
     "text": [
      "Config files:  20%|██        | 2/10 [03:41<15:24, 115.59s/file]"
     ]
    },
    {
     "name": "stdout",
     "output_type": "stream",
     "text": [
      "PRECIZITĀTE: 100.0%\n",
      "Processing config file: c:\\Users\\endij\\OneDrive\\Dokumenti\\Justine\\vpp-cfla\\dev_config\\KNP202134.ini\n"
     ]
    },
    {
     "name": "stderr",
     "output_type": "stream",
     "text": [
      "Generating embeddings:  16%|█▋         [ time left: 01:32 ]\n",
      "Config files:  20%|██        | 2/10 [04:03<16:15, 121.89s/file]\n"
     ]
    },
    {
     "ename": "CancelledError",
     "evalue": "",
     "output_type": "error",
     "traceback": [
      "\u001b[1;31m---------------------------------------------------------------------------\u001b[0m",
      "\u001b[1;31mCancelledError\u001b[0m                            Traceback (most recent call last)",
      "Cell \u001b[1;32mIn[24], line 42\u001b[0m\n\u001b[0;32m     40\u001b[0m \u001b[38;5;66;03m# Creating FAISS vector index for the procurement document\u001b[39;00m\n\u001b[0;32m     41\u001b[0m qnaengine \u001b[38;5;241m=\u001b[39m QnAEngine(embedding,llm)\n\u001b[1;32m---> 42\u001b[0m \u001b[38;5;28;01mawait\u001b[39;00m qnaengine\u001b[38;5;241m.\u001b[39mcreateIndex(\n\u001b[0;32m     43\u001b[0m         procurement_content,\n\u001b[0;32m     44\u001b[0m         \u001b[38;5;124m\"\u001b[39m\u001b[38;5;124mProcurement\u001b[39m\u001b[38;5;124m\"\u001b[39m,\n\u001b[0;32m     45\u001b[0m         chunk_size\u001b[38;5;241m=\u001b[39membedding_conf[\u001b[38;5;124m\"\u001b[39m\u001b[38;5;124mchunk_size\u001b[39m\u001b[38;5;124m\"\u001b[39m],\n\u001b[0;32m     46\u001b[0m         chunk_overlap\u001b[38;5;241m=\u001b[39membedding_conf[\u001b[38;5;124m\"\u001b[39m\u001b[38;5;124mchunk_overlap\u001b[39m\u001b[38;5;124m\"\u001b[39m]\n\u001b[0;32m     47\u001b[0m         )\n\u001b[0;32m     49\u001b[0m \u001b[38;5;66;03m### Generating results\u001b[39;00m\n\u001b[0;32m     50\u001b[0m results_table \u001b[38;5;241m=\u001b[39m gen_results(qnaengine, configfile, embedding_conf, question_dictionary, answer_dictionary, prompt_dictionary, supplementary_info, questions_to_process)\n",
      "File \u001b[1;32mc:\\Users\\endij\\OneDrive\\Dokumenti\\Justine\\vpp-cfla\\scripts\\vectorindex.py:228\u001b[0m, in \u001b[0;36mQnAEngine.createIndex\u001b[1;34m(self, file_content, filetype, chunk_size, chunk_overlap)\u001b[0m\n\u001b[0;32m    226\u001b[0m \u001b[38;5;28mself\u001b[39m\u001b[38;5;241m.\u001b[39malltext \u001b[38;5;241m=\u001b[39m file_content\n\u001b[0;32m    227\u001b[0m documents \u001b[38;5;241m=\u001b[39m \u001b[38;5;28mself\u001b[39m\u001b[38;5;241m.\u001b[39mload_md(file_content)\n\u001b[1;32m--> 228\u001b[0m nodes \u001b[38;5;241m=\u001b[39m \u001b[38;5;28;01mawait\u001b[39;00m \u001b[38;5;28mself\u001b[39m\u001b[38;5;241m.\u001b[39mget_nodes(documents,filetype,chunk_size,chunk_overlap)\n\u001b[0;32m    229\u001b[0m \u001b[38;5;28;01mwith\u001b[39;00m \u001b[38;5;28mopen\u001b[39m (\u001b[38;5;124m\"\u001b[39m\u001b[38;5;124mtmp2.md\u001b[39m\u001b[38;5;124m\"\u001b[39m, \u001b[38;5;124m'\u001b[39m\u001b[38;5;124mw\u001b[39m\u001b[38;5;124m'\u001b[39m,encoding\u001b[38;5;241m=\u001b[39m\u001b[38;5;124m'\u001b[39m\u001b[38;5;124mutf-8\u001b[39m\u001b[38;5;124m'\u001b[39m) \u001b[38;5;28;01mas\u001b[39;00m ofile:\n\u001b[0;32m    230\u001b[0m     \u001b[38;5;28;01mfor\u001b[39;00m node \u001b[38;5;129;01min\u001b[39;00m nodes:\n",
      "File \u001b[1;32mc:\\Users\\endij\\OneDrive\\Dokumenti\\Justine\\vpp-cfla\\scripts\\vectorindex.py:214\u001b[0m, in \u001b[0;36mQnAEngine.get_nodes\u001b[1;34m(self, documents, filetype, chunk_size, chunk_overlap)\u001b[0m\n\u001b[0;32m    212\u001b[0m pbar\u001b[38;5;241m.\u001b[39mupdate(\u001b[38;5;241m1\u001b[39m)\n\u001b[0;32m    213\u001b[0m \u001b[38;5;28;01mif\u001b[39;00m idx \u001b[38;5;241m==\u001b[39m \u001b[38;5;28mlen\u001b[39m(alltexts) \u001b[38;5;241m-\u001b[39m \u001b[38;5;241m1\u001b[39m \u001b[38;5;129;01mor\u001b[39;00m \u001b[38;5;28mlen\u001b[39m(cur_batch) \u001b[38;5;241m==\u001b[39m \u001b[38;5;241m10\u001b[39m:\n\u001b[1;32m--> 214\u001b[0m     embeddings \u001b[38;5;241m=\u001b[39m \u001b[38;5;28;01mawait\u001b[39;00m \u001b[38;5;28mself\u001b[39m\u001b[38;5;241m.\u001b[39membeddingobject\u001b[38;5;241m.\u001b[39m_aget_text_embeddings(cur_batch)\n\u001b[0;32m    215\u001b[0m     result_embeddings\u001b[38;5;241m.\u001b[39mextend(embeddings)\n\u001b[0;32m    216\u001b[0m     cur_batch\u001b[38;5;241m.\u001b[39mclear()\n",
      "File \u001b[1;32mc:\\Users\\endij\\OneDrive\\Dokumenti\\Justine\\vpp-cfla\\.venv\\lib\\site-packages\\llama_index\\core\\base\\embeddings\\base.py:236\u001b[0m, in \u001b[0;36mBaseEmbedding._aget_text_embeddings\u001b[1;34m(self, texts)\u001b[0m\n\u001b[0;32m    230\u001b[0m \u001b[38;5;28;01masync\u001b[39;00m \u001b[38;5;28;01mdef\u001b[39;00m\u001b[38;5;250m \u001b[39m\u001b[38;5;21m_aget_text_embeddings\u001b[39m(\u001b[38;5;28mself\u001b[39m, texts: List[\u001b[38;5;28mstr\u001b[39m]) \u001b[38;5;241m-\u001b[39m\u001b[38;5;241m>\u001b[39m List[Embedding]:\n\u001b[0;32m    231\u001b[0m \u001b[38;5;250m    \u001b[39m\u001b[38;5;124;03m\"\"\"\u001b[39;00m\n\u001b[0;32m    232\u001b[0m \u001b[38;5;124;03m    Embed the input sequence of text asynchronously.\u001b[39;00m\n\u001b[0;32m    233\u001b[0m \n\u001b[0;32m    234\u001b[0m \u001b[38;5;124;03m    Subclasses can implement this method if batch queries are supported.\u001b[39;00m\n\u001b[0;32m    235\u001b[0m \u001b[38;5;124;03m    \"\"\"\u001b[39;00m\n\u001b[1;32m--> 236\u001b[0m     \u001b[38;5;28;01mreturn\u001b[39;00m \u001b[38;5;28;01mawait\u001b[39;00m asyncio\u001b[38;5;241m.\u001b[39mgather(\n\u001b[0;32m    237\u001b[0m         \u001b[38;5;241m*\u001b[39m[\u001b[38;5;28mself\u001b[39m\u001b[38;5;241m.\u001b[39m_aget_text_embedding(text) \u001b[38;5;28;01mfor\u001b[39;00m text \u001b[38;5;129;01min\u001b[39;00m texts]\n\u001b[0;32m    238\u001b[0m     )\n",
      "\u001b[1;31mCancelledError\u001b[0m: "
     ]
    }
   ],
   "source": [
    "# TODO add parallel prompting\n",
    "\n",
    "if overwrite: # overwrtitting report; Delete and create new\n",
    "        if report_path_htm.exists():\n",
    "                report_path_htm.unlink()\n",
    "        if report_path_csv.exists():\n",
    "                report_path_csv.unlink()\n",
    "        if report_path_config.exists():\n",
    "                report_path_config.unlink()\n",
    "                \n",
    "if not os.path.exists(report_dir_path):\n",
    "        os.makedirs(report_dir_path)\n",
    "\n",
    "# Make config dictionary and save as json\n",
    "config_dict = embedding_conf\n",
    "config_dict[\"model\"] = llmmodelAzure[\"model\"]\n",
    "config_dict[\"temperature\"] = llm.temperature\n",
    "config_dict[\"temperature\"] = llm.timeout\n",
    "config_dict[\"max_retries\"] = llm.max_retries\n",
    "#config_dict[\"top_p\"] = 0.0001\n",
    "\n",
    "with open(report_path_config, \"w\") as file:\n",
    "        dump(config_dict, file) \n",
    "\n",
    "# To process all questions, leave this empty. Otherwise, specify the exact numbers.\n",
    "# To process a sub-question, include the parent question number as well, e.g., [\"9\", \"9.2\"].\n",
    "questions_to_process = [\"38\", \"38.7\"] \n",
    "\n",
    "for file in tqdm(ini_files, desc=\"Config files\", unit=\"file\"): # TODO fix TQDM; expected that after first file finishes it shows the aproximation of all the other files left to process\n",
    "        configfile = config_dir / f\"{file}.ini\"\n",
    "        \n",
    "        tqdm.write(f\"Processing config file: {configfile}\")\n",
    "        procurement_id, procurement_file, agreement_file, answer_file = get_config_data(configfile, procurement_file_dir, answer_file_dir)\n",
    "        # Open CSV file, maybe as pandas dataframe\n",
    "        answer_dictionary = get_answers(answer_file)\n",
    "\n",
    "        # Getting markdown text from procurement doc\n",
    "        procurement_content = get_procurement_content(extractor, procurement_file, agreement_file)\n",
    "    \n",
    "        # Creating FAISS vector index for the procurement document\n",
    "        qnaengine = QnAEngine(embedding,llm)\n",
    "        await qnaengine.createIndex(\n",
    "                procurement_content,\n",
    "                \"Procurement\",\n",
    "                chunk_size=embedding_conf[\"chunk_size\"],\n",
    "                chunk_overlap=embedding_conf[\"chunk_overlap\"]\n",
    "                )\n",
    "\n",
    "        ### Generating results\n",
    "        results_table = gen_results(qnaengine, configfile, embedding_conf, question_dictionary, answer_dictionary, prompt_dictionary, supplementary_info, questions_to_process)\n",
    "        \n",
    "        # add \"Iepirkuma ID\" as procurement_id to results table\n",
    "        # TODO move this inside gen results function once it has been refactored\n",
    "        for row in results_table:\n",
    "                row.insert(0, file)\n",
    "        \n",
    "        ### Save output\n",
    "        data = pd.DataFrame(results_table, columns=[\"Iepirkuma ID\", \"Nr\", \"Atbilde\", \"Sagaidāmā atbilde\", \"Pamatojums\", \"Prompt\"])\n",
    "        precision = (data['Atbilde'] == data['Sagaidāmā atbilde']).sum()/len(data)\n",
    "        print(f\"PRECIZITĀTE: {precision*100}%\")\n",
    "\n",
    "        with report_path_htm.open('a', encoding='utf-8') as ofile:  \n",
    "                # TODO Create a dropdown menu that lets the user select file by \"Iepirkuma ID\" - in each page only information that has that \"Iepirkuma ID\" is displayed\n",
    "                print(f\"{procurement_id} PRECIZITĀTE: {precision*100}%\" ,file=ofile)\n",
    "                print(data.to_html(index=False).replace('\\\\n','<br>'),file=ofile)\n",
    "\n",
    "        data.to_csv(report_path_csv, \n",
    "                    mode='a', \n",
    "                    index=False, \n",
    "                    header=not report_path_csv.exists(), # only adding one header\n",
    "                    encoding='utf-8')\n",
    "        \n",
    "        \n",
    "                "
   ]
  },
  {
   "cell_type": "markdown",
   "id": "56cbe6e6",
   "metadata": {},
   "source": [
    "# Question precision data report"
   ]
  },
  {
   "cell_type": "code",
   "execution_count": null,
   "id": "94072937",
   "metadata": {},
   "outputs": [],
   "source": [
    "# Load report we want to analayze\n",
    "analyzed_report_dir = report_dir / \"dev-test_07.07\"\n",
    "csv_filename = \"report.csv\"\n",
    "input_csv = analyzed_report_dir / csv_filename"
   ]
  },
  {
   "cell_type": "code",
   "execution_count": null,
   "id": "e3f08f7d",
   "metadata": {},
   "outputs": [
    {
     "name": "stdout",
     "output_type": "stream",
     "text": [
      "HTML report saved to: c:\\Users\\endij\\OneDrive\\Dokumenti\\Justine\\vpp-cfla\\reports\\dev-test_07.07\\precision_report.html\n"
     ]
    }
   ],
   "source": [
    "# Generate report\n",
    "precison_report_html = generate_precision_report(input_csv)\n",
    "\n",
    "# Save the report next to the CSV\n",
    "output_html = analyzed_report_dir / f\"precision_report.html\"\n",
    "with open(output_html, \"w\", encoding=\"utf-8\") as f:\n",
    "    f.write(precison_report_html)\n",
    "\n",
    "print(f\"HTML report saved to: {output_html}\")"
   ]
  },
  {
   "cell_type": "markdown",
   "id": "0f7060b3",
   "metadata": {},
   "source": [
    "#### Questions that can't be answered count"
   ]
  },
  {
   "cell_type": "code",
   "execution_count": null,
   "id": "299f705e",
   "metadata": {},
   "outputs": [
    {
     "name": "stdout",
     "output_type": "stream",
     "text": [
      "\n",
      "Count of rows where 'Sagaidāmā atbilde' == 'n/a' and it doesn't have q0: 165\n"
     ]
    }
   ],
   "source": [
    "# Count number of times expected_answer == \"n/a; if question does not have 0th question\n",
    "questions_wout_0q = get_questions_without_q0(question_dictionary)\n",
    "df = pd.read_csv(input_csv)\n",
    "df[\"Sagaidāmā atbilde\"] = df[\"Sagaidāmā atbilde\"].astype(str).str.strip().str.lower()\n",
    "filtered_df = df[\n",
    "    (df[\"Sagaidāmā atbilde\"] == \"nan\") &\n",
    "    (df[\"Nr\"].astype(str).isin(questions_wout_0q))\n",
    "]\n",
    "print(f\"\\nCount of rows where 'Sagaidāmā atbilde' == 'n/a' and it doesn't have q0: {len(filtered_df)}\")"
   ]
  },
  {
   "cell_type": "markdown",
   "id": "e6e30642",
   "metadata": {},
   "source": [
    "# Confusion Matrix"
   ]
  },
  {
   "cell_type": "code",
   "execution_count": null,
   "id": "593a08d6",
   "metadata": {},
   "outputs": [
    {
     "name": "stdout",
     "output_type": "stream",
     "text": [
      "\n",
      "Confusion Matrix:\n",
      "\n"
     ]
    },
    {
     "ename": "ImportError",
     "evalue": "Missing optional dependency 'tabulate'.  Use pip or conda to install tabulate.",
     "output_type": "error",
     "traceback": [
      "\u001b[1;31m---------------------------------------------------------------------------\u001b[0m",
      "\u001b[1;31mModuleNotFoundError\u001b[0m                       Traceback (most recent call last)",
      "File \u001b[1;32mc:\\Users\\endij\\OneDrive\\Dokumenti\\Justine\\vpp-cfla\\.venv\\lib\\site-packages\\pandas\\compat\\_optional.py:135\u001b[0m, in \u001b[0;36mimport_optional_dependency\u001b[1;34m(name, extra, errors, min_version)\u001b[0m\n\u001b[0;32m    134\u001b[0m \u001b[38;5;28;01mtry\u001b[39;00m:\n\u001b[1;32m--> 135\u001b[0m     module \u001b[38;5;241m=\u001b[39m \u001b[43mimportlib\u001b[49m\u001b[38;5;241;43m.\u001b[39;49m\u001b[43mimport_module\u001b[49m\u001b[43m(\u001b[49m\u001b[43mname\u001b[49m\u001b[43m)\u001b[49m\n\u001b[0;32m    136\u001b[0m \u001b[38;5;28;01mexcept\u001b[39;00m \u001b[38;5;167;01mImportError\u001b[39;00m:\n",
      "File \u001b[1;32m~\\OneDrive\\Dokumenti\\Justine\\Python310\\lib\\importlib\\__init__.py:126\u001b[0m, in \u001b[0;36mimport_module\u001b[1;34m(name, package)\u001b[0m\n\u001b[0;32m    125\u001b[0m         level \u001b[38;5;241m+\u001b[39m\u001b[38;5;241m=\u001b[39m \u001b[38;5;241m1\u001b[39m\n\u001b[1;32m--> 126\u001b[0m \u001b[38;5;28;01mreturn\u001b[39;00m \u001b[43m_bootstrap\u001b[49m\u001b[38;5;241;43m.\u001b[39;49m\u001b[43m_gcd_import\u001b[49m\u001b[43m(\u001b[49m\u001b[43mname\u001b[49m\u001b[43m[\u001b[49m\u001b[43mlevel\u001b[49m\u001b[43m:\u001b[49m\u001b[43m]\u001b[49m\u001b[43m,\u001b[49m\u001b[43m \u001b[49m\u001b[43mpackage\u001b[49m\u001b[43m,\u001b[49m\u001b[43m \u001b[49m\u001b[43mlevel\u001b[49m\u001b[43m)\u001b[49m\n",
      "File \u001b[1;32m<frozen importlib._bootstrap>:1050\u001b[0m, in \u001b[0;36m_gcd_import\u001b[1;34m(name, package, level)\u001b[0m\n",
      "File \u001b[1;32m<frozen importlib._bootstrap>:1027\u001b[0m, in \u001b[0;36m_find_and_load\u001b[1;34m(name, import_)\u001b[0m\n",
      "File \u001b[1;32m<frozen importlib._bootstrap>:1004\u001b[0m, in \u001b[0;36m_find_and_load_unlocked\u001b[1;34m(name, import_)\u001b[0m\n",
      "\u001b[1;31mModuleNotFoundError\u001b[0m: No module named 'tabulate'",
      "\nDuring handling of the above exception, another exception occurred:\n",
      "\u001b[1;31mImportError\u001b[0m                               Traceback (most recent call last)",
      "Cell \u001b[1;32mIn[72], line 30\u001b[0m\n\u001b[0;32m     27\u001b[0m conf_matrix\u001b[38;5;241m.\u001b[39mindex\u001b[38;5;241m.\u001b[39mname \u001b[38;5;241m=\u001b[39m \u001b[38;5;124m\"\u001b[39m\u001b[38;5;124mExpected ↓ / Actual →\u001b[39m\u001b[38;5;124m\"\u001b[39m\n\u001b[0;32m     29\u001b[0m \u001b[38;5;28mprint\u001b[39m(\u001b[38;5;124m\"\u001b[39m\u001b[38;5;130;01m\\n\u001b[39;00m\u001b[38;5;124mConfusion Matrix:\u001b[39m\u001b[38;5;130;01m\\n\u001b[39;00m\u001b[38;5;124m\"\u001b[39m)\n\u001b[1;32m---> 30\u001b[0m \u001b[38;5;28mprint\u001b[39m(\u001b[43mconf_matrix\u001b[49m\u001b[38;5;241;43m.\u001b[39;49m\u001b[43mto_markdown\u001b[49m\u001b[43m(\u001b[49m\u001b[43mtablefmt\u001b[49m\u001b[38;5;241;43m=\u001b[39;49m\u001b[38;5;124;43m\"\u001b[39;49m\u001b[38;5;124;43mgrid\u001b[39;49m\u001b[38;5;124;43m\"\u001b[39;49m\u001b[43m)\u001b[49m)\n",
      "File \u001b[1;32mc:\\Users\\endij\\OneDrive\\Dokumenti\\Justine\\vpp-cfla\\.venv\\lib\\site-packages\\pandas\\util\\_decorators.py:333\u001b[0m, in \u001b[0;36mdeprecate_nonkeyword_arguments.<locals>.decorate.<locals>.wrapper\u001b[1;34m(*args, **kwargs)\u001b[0m\n\u001b[0;32m    327\u001b[0m \u001b[38;5;28;01mif\u001b[39;00m \u001b[38;5;28mlen\u001b[39m(args) \u001b[38;5;241m>\u001b[39m num_allow_args:\n\u001b[0;32m    328\u001b[0m     warnings\u001b[38;5;241m.\u001b[39mwarn(\n\u001b[0;32m    329\u001b[0m         msg\u001b[38;5;241m.\u001b[39mformat(arguments\u001b[38;5;241m=\u001b[39m_format_argument_list(allow_args)),\n\u001b[0;32m    330\u001b[0m         \u001b[38;5;167;01mFutureWarning\u001b[39;00m,\n\u001b[0;32m    331\u001b[0m         stacklevel\u001b[38;5;241m=\u001b[39mfind_stack_level(),\n\u001b[0;32m    332\u001b[0m     )\n\u001b[1;32m--> 333\u001b[0m \u001b[38;5;28;01mreturn\u001b[39;00m func(\u001b[38;5;241m*\u001b[39margs, \u001b[38;5;241m*\u001b[39m\u001b[38;5;241m*\u001b[39mkwargs)\n",
      "File \u001b[1;32mc:\\Users\\endij\\OneDrive\\Dokumenti\\Justine\\vpp-cfla\\.venv\\lib\\site-packages\\pandas\\core\\frame.py:2988\u001b[0m, in \u001b[0;36mDataFrame.to_markdown\u001b[1;34m(self, buf, mode, index, storage_options, **kwargs)\u001b[0m\n\u001b[0;32m   2986\u001b[0m kwargs\u001b[38;5;241m.\u001b[39msetdefault(\u001b[38;5;124m\"\u001b[39m\u001b[38;5;124mtablefmt\u001b[39m\u001b[38;5;124m\"\u001b[39m, \u001b[38;5;124m\"\u001b[39m\u001b[38;5;124mpipe\u001b[39m\u001b[38;5;124m\"\u001b[39m)\n\u001b[0;32m   2987\u001b[0m kwargs\u001b[38;5;241m.\u001b[39msetdefault(\u001b[38;5;124m\"\u001b[39m\u001b[38;5;124mshowindex\u001b[39m\u001b[38;5;124m\"\u001b[39m, index)\n\u001b[1;32m-> 2988\u001b[0m tabulate \u001b[38;5;241m=\u001b[39m \u001b[43mimport_optional_dependency\u001b[49m\u001b[43m(\u001b[49m\u001b[38;5;124;43m\"\u001b[39;49m\u001b[38;5;124;43mtabulate\u001b[39;49m\u001b[38;5;124;43m\"\u001b[39;49m\u001b[43m)\u001b[49m\n\u001b[0;32m   2989\u001b[0m result \u001b[38;5;241m=\u001b[39m tabulate\u001b[38;5;241m.\u001b[39mtabulate(\u001b[38;5;28mself\u001b[39m, \u001b[38;5;241m*\u001b[39m\u001b[38;5;241m*\u001b[39mkwargs)\n\u001b[0;32m   2990\u001b[0m \u001b[38;5;28;01mif\u001b[39;00m buf \u001b[38;5;129;01mis\u001b[39;00m \u001b[38;5;28;01mNone\u001b[39;00m:\n",
      "File \u001b[1;32mc:\\Users\\endij\\OneDrive\\Dokumenti\\Justine\\vpp-cfla\\.venv\\lib\\site-packages\\pandas\\compat\\_optional.py:138\u001b[0m, in \u001b[0;36mimport_optional_dependency\u001b[1;34m(name, extra, errors, min_version)\u001b[0m\n\u001b[0;32m    136\u001b[0m \u001b[38;5;28;01mexcept\u001b[39;00m \u001b[38;5;167;01mImportError\u001b[39;00m:\n\u001b[0;32m    137\u001b[0m     \u001b[38;5;28;01mif\u001b[39;00m errors \u001b[38;5;241m==\u001b[39m \u001b[38;5;124m\"\u001b[39m\u001b[38;5;124mraise\u001b[39m\u001b[38;5;124m\"\u001b[39m:\n\u001b[1;32m--> 138\u001b[0m         \u001b[38;5;28;01mraise\u001b[39;00m \u001b[38;5;167;01mImportError\u001b[39;00m(msg)\n\u001b[0;32m    139\u001b[0m     \u001b[38;5;28;01mreturn\u001b[39;00m \u001b[38;5;28;01mNone\u001b[39;00m\n\u001b[0;32m    141\u001b[0m \u001b[38;5;66;03m# Handle submodules: if we have submodule, grab parent module from sys.modules\u001b[39;00m\n",
      "\u001b[1;31mImportError\u001b[0m: Missing optional dependency 'tabulate'.  Use pip or conda to install tabulate."
     ]
    }
   ],
   "source": [
    "# Load and normalize data as \"n/a\" has turned into NaN\n",
    "df = pd.read_csv(input_csv)\n",
    "df[\"Sagaidāmā atbilde\"] = df[\"Sagaidāmā atbilde\"].astype(str).str.strip().str.lower()\n",
    "df[\"Atbilde\"] = df[\"Atbilde\"].astype(str).str.strip().str.lower()\n",
    "\n",
    "# Replace missing values\n",
    "df[\"Sagaidāmā atbilde\"] = df[\"Sagaidāmā atbilde\"].replace([\"nan\", \"none\", \"\"], \"n/a\")\n",
    "df[\"Atbilde\"] = df[\"Atbilde\"].replace([\"nan\", \"none\", \"\"], \"n/a\")\n",
    "\n",
    "# Group context responses\n",
    "df[\"Atbilde\"] = df[\"Atbilde\"].replace({\n",
    "    \"x\": \"kontekstā nav informācijas\",\n",
    "    \"kontekstā nav informācijas\": \"kontekstā nav informācijas\"\n",
    "})\n",
    "\n",
    "# Define value order\n",
    "expected = [\"jā\", \"nē\", \"n/a\"]\n",
    "actual = [\"jā\", \"nē\", \"n/a\", \"kontekstā nav informācijas\"]\n",
    "\n",
    "conf_matrix = pd.crosstab(\n",
    "    df[\"Sagaidāmā atbilde\"],\n",
    "    df[\"Atbilde\"],\n",
    "    rownames=[\"Expected ↓\"],\n",
    "    colnames=[\"Actual →\"],\n",
    "    dropna=False\n",
    ").reindex(index=expected, columns=actual, fill_value=0)\n",
    "conf_matrix.index.name = \"Expected ↓ / Actual →\"\n",
    "\n",
    "print(\"\\nConfusion Matrix:\\n\")\n",
    "print(conf_matrix.to_markdown(tablefmt=\"grid\"))\n"
   ]
  },
  {
   "cell_type": "code",
   "execution_count": null,
   "id": "3b3e9773",
   "metadata": {},
   "outputs": [],
   "source": [
    "# Get correct counts for \"jā\" and \"nē\"\n",
    "correct_yes = conf_matrix.loc[\"jā\", \"jā\"]\n",
    "total_yes = conf_matrix.loc[\"jā\"].sum()\n",
    "print(f\"total 'jā' count: {total_yes}\")\n",
    "\n",
    "correct_no = conf_matrix.loc[\"nē\", \"nē\"]\n",
    "total_no = conf_matrix.loc[\"nē\"].sum()\n",
    "print(f\"total 'nē' count: {total_no}\")\n",
    "\n",
    "correct_na = conf_matrix.loc[\"n/a\", \"n/a\"]\n",
    "total_na = conf_matrix.loc[\"n/a\"].sum()\n",
    "print(f\"total 'n/a' count: {total_na}\")\n",
    "\n",
    "# Calculate percentages\n",
    "yes_accuracy = (correct_yes / total_yes) * 100 if total_yes > 0 else 0\n",
    "no_accuracy = (correct_no / total_no) * 100 if total_no > 0 else 0\n",
    "na_accuracy = (correct_na / total_na) * 100 if total_na > 0 else 0\n",
    "\n",
    "print(f\"\\nAccuracy for 'jā': {yes_accuracy:.2f}%\")\n",
    "print(f\"Accuracy for 'nē': {no_accuracy:.2f}%\")\n",
    "print(f\"Accuracy for 'n/a': {na_accuracy:.2f}%\")\n"
   ]
  },
  {
   "cell_type": "code",
   "execution_count": null,
   "id": "ccfb7759",
   "metadata": {},
   "outputs": [],
   "source": [
    "total_q = total_yes + total_no + total_na\n",
    "print(f\"Total question count: {total_q}\")\n",
    "correct_q = correct_yes + correct_no + correct_na\n",
    "\n",
    "precision = round((correct_q / total_q) * 100, 2)\n",
    "print(f\"Total precision: {precision}%\")\n",
    "\n",
    "precison_wout_unanswerable_qs = round(correct_q / (total_q - len(filtered_df))*100,2)\n",
    "print(f\"Total precision without unanswerable (n/a) questions: {precison_wout_unanswerable_qs}%\")\n",
    "\n",
    "context_missing_total = conf_matrix[\"kontekstā nav informācijas\"].sum()\n",
    "confident_answers =  total_q - len(filtered_df) - context_missing_total\n",
    "precision_wout_unanswerable_qs_nocontext = round((correct_q / confident_answers)*100,2)\n",
    "print(f\"Total precision without unanswerable (n/a) questions and when LLM is not unsure: {precision_wout_unanswerable_qs_nocontext}%\")\n",
    "print(f\"Total question count without unanswerable (n/a) questions and when LLM is not unsure: {confident_answers}\")"
   ]
  }
 ],
 "metadata": {
  "kernelspec": {
   "display_name": ".venv",
   "language": "python",
   "name": "python3"
  },
  "language_info": {
   "codemirror_mode": {
    "name": "ipython",
    "version": 3
   },
   "file_extension": ".py",
   "mimetype": "text/x-python",
   "name": "python",
   "nbconvert_exporter": "python",
   "pygments_lexer": "ipython3",
   "version": "3.10.11"
  }
 },
 "nbformat": 4,
 "nbformat_minor": 5
}
