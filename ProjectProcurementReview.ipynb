{
 "cells": [
  {
   "cell_type": "code",
   "execution_count": 1,
   "id": "4329b8b7-d7a7-449b-81b7-af351449627b",
   "metadata": {},
   "outputs": [
    {
     "name": "stdout",
     "output_type": "stream",
     "text": [
      "WARNING:tensorflow:From C:\\Users\\Daiga.Deksne\\AppData\\Roaming\\Python\\Python310\\site-packages\\tf_keras\\src\\losses.py:2976: The name tf.losses.sparse_softmax_cross_entropy is deprecated. Please use tf.compat.v1.losses.sparse_softmax_cross_entropy instead.\n",
      "\n"
     ]
    }
   ],
   "source": [
    "# Line magic functions that will allow for imports to be reloaded and not cached\n",
    "%load_ext autoreload\n",
    "%autoreload 2\n",
    "\n",
    "# Imports\n",
    "import os\n",
    "import pandas as pd\n",
    "from llama_index.embeddings.huggingface import HuggingFaceEmbedding\n",
    "from llama_index.llms.azure_openai import AzureOpenAI\n",
    "from datetime import date\n",
    "from json import dump\n",
    "from tqdm import tqdm\n",
    "\n",
    "# Local\n",
    "from scripts.extractmd import Extractor\n",
    "from scripts.vectorindex import QnAEngine\n",
    "from scripts.utilities import get_prompt_dict, get_questions, get_answers, get_procurement_content, get_config_data, get_ini_files, get_supplementary_info, get_questions_without_q0\n",
    "from scripts.gen_results import gen_results\n",
    "from scripts.gen_precision_report import generate_precision_report\n",
    "from scripts.main_report import build_main_report_html"
   ]
  },
  {
   "cell_type": "markdown",
   "id": "7684ed5a",
   "metadata": {},
   "source": [
    "**My Config:**\n",
    "[my_config.py](scripts/my_config.py)"
   ]
  },
  {
   "cell_type": "code",
   "execution_count": 2,
   "id": "b08be854",
   "metadata": {},
   "outputs": [],
   "source": [
    "#  with open(\"scripts/my_config.py\") as f:\n",
    "#      code = f.read()\n",
    "#      print(code) \n",
    "#      exec(code)  "
   ]
  },
  {
   "cell_type": "markdown",
   "id": "491f04cb-807c-48b2-b474-8b97dbb0a6d5",
   "metadata": {},
   "source": [
    "**Global config**"
   ]
  },
  {
   "cell_type": "code",
   "execution_count": 3,
   "id": "a282ce0b-1aba-417c-bf9a-15cbe840c485",
   "metadata": {},
   "outputs": [
    {
     "data": {
      "application/vnd.jupyter.widget-view+json": {
       "model_id": "778137e266c44822bc4287b77fbb61f6",
       "version_major": 2,
       "version_minor": 0
      },
      "text/plain": [
       "modules.json:   0%|          | 0.00/349 [00:00<?, ?B/s]"
      ]
     },
     "metadata": {},
     "output_type": "display_data"
    },
    {
     "name": "stderr",
     "output_type": "stream",
     "text": [
      "C:\\Users\\Daiga.Deksne\\AppData\\Roaming\\Python\\Python310\\site-packages\\huggingface_hub\\file_download.py:143: UserWarning: `huggingface_hub` cache-system uses symlinks by default to efficiently store duplicated files but your machine does not support them in C:\\Users\\Daiga.Deksne\\AppData\\Local\\llama_index\\llama_index\\Cache\\models--BAAI--bge-m3. Caching files will still work but in a degraded version that might require more space on your disk. This warning can be disabled by setting the `HF_HUB_DISABLE_SYMLINKS_WARNING` environment variable. For more details, see https://huggingface.co/docs/huggingface_hub/how-to-cache#limitations.\n",
      "To support symlinks on Windows, you either need to activate Developer Mode or to run Python as an administrator. In order to activate developer mode, see this article: https://docs.microsoft.com/en-us/windows/apps/get-started/enable-your-device-for-development\n",
      "  warnings.warn(message)\n"
     ]
    },
    {
     "data": {
      "application/vnd.jupyter.widget-view+json": {
       "model_id": "2d4791ab26e94ba9a4594f72d8be7616",
       "version_major": 2,
       "version_minor": 0
      },
      "text/plain": [
       "config_sentence_transformers.json:   0%|          | 0.00/123 [00:00<?, ?B/s]"
      ]
     },
     "metadata": {},
     "output_type": "display_data"
    },
    {
     "data": {
      "application/vnd.jupyter.widget-view+json": {
       "model_id": "178ec7fdf0ae43f8a3a1ae028d1a1aad",
       "version_major": 2,
       "version_minor": 0
      },
      "text/plain": [
       "README.md: 0.00B [00:00, ?B/s]"
      ]
     },
     "metadata": {},
     "output_type": "display_data"
    },
    {
     "data": {
      "application/vnd.jupyter.widget-view+json": {
       "model_id": "e3262bb0826a44b29e51419eb4a10ea1",
       "version_major": 2,
       "version_minor": 0
      },
      "text/plain": [
       "sentence_bert_config.json:   0%|          | 0.00/54.0 [00:00<?, ?B/s]"
      ]
     },
     "metadata": {},
     "output_type": "display_data"
    },
    {
     "data": {
      "application/vnd.jupyter.widget-view+json": {
       "model_id": "9a88f80ef08a4026b194d0d0b62f0765",
       "version_major": 2,
       "version_minor": 0
      },
      "text/plain": [
       "config.json:   0%|          | 0.00/687 [00:00<?, ?B/s]"
      ]
     },
     "metadata": {},
     "output_type": "display_data"
    },
    {
     "data": {
      "application/vnd.jupyter.widget-view+json": {
       "model_id": "cafd9cfe225141208377875aa06fd8e6",
       "version_major": 2,
       "version_minor": 0
      },
      "text/plain": [
       "pytorch_model.bin:   0%|          | 0.00/2.27G [00:00<?, ?B/s]"
      ]
     },
     "metadata": {},
     "output_type": "display_data"
    },
    {
     "data": {
      "application/vnd.jupyter.widget-view+json": {
       "model_id": "dde77ba8f1144a139649a82188870e7b",
       "version_major": 2,
       "version_minor": 0
      },
      "text/plain": [
       "model.safetensors:   0%|          | 0.00/2.27G [00:00<?, ?B/s]"
      ]
     },
     "metadata": {},
     "output_type": "display_data"
    },
    {
     "data": {
      "application/vnd.jupyter.widget-view+json": {
       "model_id": "fab8bc5df8b44e9aae4b8008fa3dc3b4",
       "version_major": 2,
       "version_minor": 0
      },
      "text/plain": [
       "tokenizer_config.json:   0%|          | 0.00/444 [00:00<?, ?B/s]"
      ]
     },
     "metadata": {},
     "output_type": "display_data"
    },
    {
     "data": {
      "application/vnd.jupyter.widget-view+json": {
       "model_id": "43b442d0912142f9a33c47689cc74c1e",
       "version_major": 2,
       "version_minor": 0
      },
      "text/plain": [
       "sentencepiece.bpe.model:   0%|          | 0.00/5.07M [00:00<?, ?B/s]"
      ]
     },
     "metadata": {},
     "output_type": "display_data"
    },
    {
     "data": {
      "application/vnd.jupyter.widget-view+json": {
       "model_id": "fd1379ca8bed4ee586b482f07a1ffb23",
       "version_major": 2,
       "version_minor": 0
      },
      "text/plain": [
       "tokenizer.json:   0%|          | 0.00/17.1M [00:00<?, ?B/s]"
      ]
     },
     "metadata": {},
     "output_type": "display_data"
    },
    {
     "data": {
      "application/vnd.jupyter.widget-view+json": {
       "model_id": "5e09948705914247acdb621c56c2b8f6",
       "version_major": 2,
       "version_minor": 0
      },
      "text/plain": [
       "special_tokens_map.json:   0%|          | 0.00/964 [00:00<?, ?B/s]"
      ]
     },
     "metadata": {},
     "output_type": "display_data"
    },
    {
     "data": {
      "application/vnd.jupyter.widget-view+json": {
       "model_id": "e561c16ac5c94e3eb8bb0da9a4ab36ae",
       "version_major": 2,
       "version_minor": 0
      },
      "text/plain": [
       "config.json:   0%|          | 0.00/191 [00:00<?, ?B/s]"
      ]
     },
     "metadata": {},
     "output_type": "display_data"
    }
   ],
   "source": [
    "embedding_conf = {\n",
    "    \"embeddingmodel\": globals().get('my_embeddingmodel', \"BAAI/bge-m3\"), # You can also just add a path to the embedding model to use a local one\n",
    "        #\"sentence-transformers/paraphrase-multilingual-mpnet-base-v2\",  # \"BAAI/bge-m3\" \"nomic-ai/nomic-embed-text-v2-moe\" # \"sentence-transformers/paraphrase-multilingual-mpnet-base-v2\"\n",
    "    \"chunk_size\": 1536,\n",
    "    \"chunk_overlap\": 0,\n",
    "    \"top_similar\": 5,\n",
    "    \"n4rerank\": 0, #How many nodes to retrieve for reranking. If 0, reranker is not used\n",
    "    \"use_similar_chunks\": True, #To use similar chunks or the whole document as the context\n",
    "    \"prevnext\": True #to include in the context also the previouse and the next chunk of the current similar chunk\n",
    "}\n",
    "embedding=HuggingFaceEmbedding(model_name=embedding_conf[\"embeddingmodel\"],trust_remote_code=True)\n",
    "\n",
    "#For nomic-embed-text-v2-moe\n",
    "#embedding=HuggingFaceEmbedding(model_name=embedding_conf[\"embeddingmodel\"],trust_remote_code=True,query_instruction=\"search_query: \",text_instruction=\"search_document: \")"
   ]
  },
  {
   "cell_type": "code",
   "execution_count": 4,
   "id": "b3e114f1-c05e-48b1-b56a-051ece6102eb",
   "metadata": {},
   "outputs": [],
   "source": [
    "# LLM Setup \n",
    "llmmodelAzure = { \"model\": \"gpt-4o\",\n",
    "                \"version\":os.environ.get('AZURE_OPENAI_VERSION',''),\n",
    "                \"azure_deployment\":\"gpt-4o\",\n",
    "                \"azure_endpoint\":os.environ.get('AZURE_ENDPOINT',''),\n",
    "                \"api_key\":os.environ.get('AZURE_OPENAI_KEY','')}\n",
    "\n",
    "llm=AzureOpenAI(azure_deployment=llmmodelAzure[\"azure_deployment\"],\n",
    "                azure_endpoint=llmmodelAzure[\"azure_endpoint\"],temperature=0.0,\n",
    "                api_version=llmmodelAzure[\"version\"], api_key=llmmodelAzure[\"api_key\"],\n",
    "                timeout=120,max_retries=3,top_p=0.0001)"
   ]
  },
  {
   "cell_type": "code",
   "execution_count": 5,
   "id": "9f7c744c",
   "metadata": {},
   "outputs": [],
   "source": [
    "extractor = Extractor() # Markdown doc extractor"
   ]
  },
  {
   "cell_type": "code",
   "execution_count": 6,
   "id": "32e67876-c437-41ad-992b-4ce540022087",
   "metadata": {},
   "outputs": [],
   "source": [
    "#Ollama model\n",
    "# llmmodelOllama = { \"model\": \"gemma3:27b\",\n",
    "#                 \"url\":os.environ.get('OLLAMA_ENDPOINT',''),\n",
    "#                 \"context_window\":\"128000\"}\n",
    "\n",
    "#from llama_index.llms.ollama import Ollama\n",
    "#llm = Ollama(base_url=llmmodelOllama[\"url\"],\n",
    "#             model=llmmodelOllama[\"model\"], \n",
    "#             context_window=int(llmmodelOllama[\"context_window\"]),\n",
    "#            request_timeout=300.0,\n",
    "#            temperature=0.0,\n",
    "#            additional_kwargs={\"seed\":1337})"
   ]
  },
  {
   "cell_type": "markdown",
   "id": "e1f0daa1-7706-4651-b713-78ac66c5533a",
   "metadata": {},
   "source": [
    "**PROCUREMENT FILE SETTINGS**"
   ]
  },
  {
   "cell_type": "code",
   "execution_count": 7,
   "id": "88446367-533a-4e00-b3ff-239802a86698",
   "metadata": {},
   "outputs": [],
   "source": [
    "# Script dir for getting relative paths for notebook file\n",
    "script_dir = globals()['_dh'][0] \n",
    "\n",
    "# Document paths\n",
    "question_file_path = script_dir / \"questions\" / \"questions.yaml\" # original.yaml\n",
    "prompt_file = script_dir / \"questions\" / \"prompts.yaml\"\n",
    "report_dir = script_dir / \"reports\"\n",
    "config_dir = script_dir / globals().get('my_config_dir', \"config\") # \"dev_config\" # \"dev_config\" # \"config\"\n",
    "procurement_file_dir = script_dir / \"cfla_files\" # \"cfla_files\"\n",
    "answer_file_dir = script_dir / \"answers\"\n",
    "\n",
    "# TODO perhaps prompt user to define unique report name; some types - all; one etc?\n",
    "report_identifier = globals().get('my_report_identifier', \"dev-test\")\n",
    "# TODO maybe add report as a subdirectory as there are 2 files per report; might be even more with histograms etc.\n",
    "report_today = f\"{date.today():%d.%m}\"\n",
    "report_name = f\"{report_identifier}_{globals().get('my_report_date', report_today)}\"\n",
    "\n",
    "report_dir_path = report_dir / report_name\n",
    "report_path_htm = report_dir_path / \"report.htm\"\n",
    "report_path_csv = report_dir_path / \"report.csv\"\n",
    "report_path_config = report_dir_path / \"config.json\""
   ]
  },
  {
   "cell_type": "code",
   "execution_count": 8,
   "id": "0c8d8558",
   "metadata": {},
   "outputs": [
    {
     "name": "stdout",
     "output_type": "stream",
     "text": [
      "Questions loaded\n",
      "Prompts loaded\n",
      "Found 20 config files in C:\\Repos\\vpp-cfla\\config\n",
      "Processing 20 procurement files: ['APP_DI_20202ERAF_AK', 'DND_20206', 'EDI_20203AK', 'IKVD_20213_ESF_SAM', 'IP2020_01_ERAF', 'IeM_IC_201913', 'KNP_202215', 'KP2020016A-KF', 'LNP_201976', 'LNP_202037ERAF', 'LU_202049_ERAF', 'MNP_202121_ERAF', 'PND_2019_15-ERAF', 'RTK_2019_12', 'SND_202015-ERAF', 'SNP_202001', 'SNP_202067', 'VND_20201', 'VNP_2023057AK', 'VeA_202012ERAF']\n"
     ]
    }
   ],
   "source": [
    "# Loading static information\n",
    "overwrite = globals().get('my_overwrite', False)  \n",
    "            # If true this will delete the existing report and generate a new one;\n",
    "            # Else - new data will be appended only if it isn't in the CSV file.\n",
    "\n",
    "question_dictionary = get_questions(question_file_path)\n",
    "prompt_dictionary = get_prompt_dict(prompt_file, question_dictionary)\n",
    "supplementary_info = get_supplementary_info()\n",
    "\n",
    "ini_files = globals().get('my_ini_files', get_ini_files(config_dir, overwrite, report_path_csv))\n",
    "print(f\"Processing {len(ini_files)} procurement files: {sorted(ini_files)}\")"
   ]
  },
  {
   "cell_type": "markdown",
   "id": "78357252",
   "metadata": {},
   "source": [
    "**MAIN Q/A GENERATION SCRIPT**"
   ]
  },
  {
   "cell_type": "code",
   "execution_count": null,
   "id": "6f5149a2",
   "metadata": {},
   "outputs": [
    {
     "name": "stdout",
     "output_type": "stream",
     "text": [
      "C:\\Repos\\vpp-cfla\\reports\\dev-test_08.09\\report.htm\n",
      "C:\\Repos\\vpp-cfla\\reports\\dev-test_08.09\\report.csv\n",
      "False\n"
     ]
    },
    {
     "name": "stderr",
     "output_type": "stream",
     "text": [
      "\n",
      "Config files:   0%|                                                                           | 0/20 [00:00<?, ?file/s]\u001b[A\n",
      "\u001b[A                                                                                                                    \n",
      "Config files:   0%|                                                                           | 0/20 [00:00<?, ?file/s]\u001b[A"
     ]
    },
    {
     "name": "stdout",
     "output_type": "stream",
     "text": [
      "Processing config file: C:\\Repos\\vpp-cfla\\config\\APP_DI_20202ERAF_AK.ini\n",
      "Processing file: C:\\Repos\\vpp-cfla\\cfla_files\\APP_DI_20202ERAF_AK\\Konsolidets_Konkursa_Nolikums_ar grozijumiem_12.03.2020. (1).docx\n",
      "Processing file: C:\\Repos\\vpp-cfla\\cfla_files\\APP_DI_20202ERAF_AK\\Konsolidets_Iepirkuma_ligums_ar grozijumiem_12.03.2020 (1).docx\n"
     ]
    },
    {
     "name": "stderr",
     "output_type": "stream",
     "text": [
      "\n",
      "\n",
      "Generating embeddings:   0%|                                                                           [ time left: ? ]\u001b[A\u001b[A\n",
      "\n",
      "Generating embeddings:  19%|█████████████                                                          [ time left: 01:18 ]\u001b[A\u001b[A\n",
      "\n",
      "Generating embeddings:  36%|████████████████████████▉                                              [ time left: 01:03 ]\u001b[A\u001b[A\n",
      "\n",
      "Generating embeddings:  53%|████████████████████████████████████▊                                  [ time left: 00:57 ]\u001b[A\u001b[A\n",
      "\n",
      "Generating embeddings:  69%|████████████████████████████████████████████████▋                      [ time left: 00:36 ]\u001b[A\u001b[A\n",
      "\n",
      "Generating embeddings: 100%|██████████████████████████████████████████████████████████████████████ [ time left: 00:00 ]\u001b[A\u001b[A\n"
     ]
    },
    {
     "name": "stdout",
     "output_type": "stream",
     "text": [
      "59 segments created and vectorized.\n",
      "Index is ready.\n",
      "2 4 6 7 9 10 15 16 17 18 19 23 24 26 27 28 29 31 32 33 \n",
      "34 35 35.1 35.2 35.3 35.5 35.6 35.7 35.8 36 37 37.2 37.4 37.5 37.6 37.7 37.9 37.10 37.11 37.13 \n",
      "38 38.1 38.2 38.3 38.4 38.5 38.6 38.7 38.8 38.9 39 39.1 39.2 39.3 39.4 39.5 39.6 39.7 39.8 39.9 \n",
      "39.10 39.11 39.12 39.13 39.14 39.15 39.16 39.17 39.18 39.19 39.20 39.21 39.22 39.23 39.24 39.25 39.26 39.27 39.28 39.29 \n",
      "39.30 39.31 39.32 39.33 39.34 39.35 39.36 39.37 39.38 39.39 40 40.1 40.2 40.3 40.4 40.5 40.6 40.7 40.8 40.9 \n",
      "40.10 40.11 40.12 41 43 44 46 47 48 50 51 51.1 51.2 51.4 52 53 54 56 57 58 \n",
      "60 61 62 63 65 "
     ]
    },
    {
     "name": "stderr",
     "output_type": "stream",
     "text": [
      "\n",
      "Config files:   5%|███▏                                                            | 1/20 [09:50<3:06:58, 590.43s/file]\u001b[A\n",
      "\u001b[A                                                                                                                    \n",
      "Config files:   5%|███▏                                                            | 1/20 [09:50<3:06:58, 590.43s/file]\u001b[A"
     ]
    },
    {
     "name": "stdout",
     "output_type": "stream",
     "text": [
      "PRECIZITĀTE: 68.67469879518072%\n",
      "Processing config file: C:\\Repos\\vpp-cfla\\config\\DND_20206.ini\n",
      "Processing file: C:\\Repos\\vpp-cfla\\cfla_files\\DND_20206\\NOLIKUMS_2020_6.docx\n"
     ]
    },
    {
     "name": "stderr",
     "output_type": "stream",
     "text": [
      "Generating embeddings: 100%|██████████████████████████████████████████████████████████████████████ [ time left: 00:00 ]\n"
     ]
    },
    {
     "name": "stdout",
     "output_type": "stream",
     "text": [
      "64 segments created and vectorized.\n",
      "Index is ready.\n",
      "2 4 6 7 9 10 15 16 17 18 19 22 23 24 26 \n",
      "27 28 29 31 32 33 34 35 35.1 35.2 35.3 35.5 35.6 35.7 35.8 36 37 37.2 37.4 37.5 \n",
      "37.6 37.7 37.9 37.10 37.11 37.13 38 38.1 38.2 38.3 38.4 38.5 38.6 38.7 38.8 38.9 39 39.1 39.2 39.3 \n",
      "39.4 39.5 39.6 39.7 39.8 39.9 39.10 39.11 39.12 39.13 39.14 39.15 39.16 39.17 39.18 39.19 39.20 39.21 39.22 39.23 \n",
      "39.24 39.25 39.26 39.27 39.28 39.29 39.30 39.31 39.32 39.33 39.34 39.35 39.36 39.37 39.38 39.39 40 40.1 40.2 40.3 \n",
      "40.4 40.5 40.6 40.7 40.8 40.9 40.10 40.11 40.12 41 43 44 46 47 48 50 51 51.1 51.2 51.4 \n",
      "52 53 54 56 57 58 60 61 62 63 65 "
     ]
    },
    {
     "name": "stderr",
     "output_type": "stream",
     "text": [
      "\n",
      "Config files:  10%|██████▍                                                         | 2/20 [20:23<3:04:39, 615.51s/file]\u001b[A\n",
      "\u001b[A                                                                                                                    \n",
      "Config files:  10%|██████▍                                                         | 2/20 [20:23<3:04:39, 615.51s/file]\u001b[A"
     ]
    },
    {
     "name": "stdout",
     "output_type": "stream",
     "text": [
      "PRECIZITĀTE: 69.04761904761905%\n",
      "Processing config file: C:\\Repos\\vpp-cfla\\config\\EDI_20203AK.ini\n",
      "Processing file: C:\\Repos\\vpp-cfla\\cfla_files\\EDI_20203AK\\Nolikums EDI_2020_3_AK_EIS.docx\n"
     ]
    },
    {
     "name": "stderr",
     "output_type": "stream",
     "text": [
      "Generating embeddings: 100%|██████████████████████████████████████████████████████████████████████ [ time left: 00:00 ]\n"
     ]
    },
    {
     "name": "stdout",
     "output_type": "stream",
     "text": [
      "79 segments created and vectorized.\n",
      "Index is ready.\n",
      "2 4 6 7 9 10 15 16 17 \n",
      "18 19 22 23 24 26 27 28 29 31 32 33 34 35 36 37 37.2 37.4 37.5 37.6 \n",
      "37.7 37.9 37.10 37.11 37.13 38 38.1 38.2 38.3 38.4 38.5 38.6 38.7 38.8 38.9 39 39.1 39.2 39.3 39.4 \n",
      "39.5 39.6 39.7 39.8 39.9 39.10 39.11 39.12 39.13 39.14 39.15 39.16 39.17 39.18 39.19 39.20 39.21 39.22 39.23 39.24 \n",
      "39.25 39.26 39.27 39.28 39.29 39.30 39.31 39.32 39.33 39.34 39.35 39.36 39.37 39.38 39.39 40 40.1 40.2 40.3 40.4 \n",
      "40.5 40.6 40.7 40.8 40.9 40.10 40.11 40.12 41 43 44 46 47 48 50 51 51.1 51.2 51.4 52 \n",
      "53 54 56 57 58 60 61 62 63 65 "
     ]
    },
    {
     "name": "stderr",
     "output_type": "stream",
     "text": [
      "\n",
      "Config files:  15%|█████████▌                                                      | 3/20 [31:04<2:57:43, 627.26s/file]\u001b[A\n",
      "\u001b[A                                                                                                                    \n",
      "Config files:  15%|█████████▌                                                      | 3/20 [31:04<2:57:43, 627.26s/file]\u001b[A"
     ]
    },
    {
     "name": "stdout",
     "output_type": "stream",
     "text": [
      "PRECIZITĀTE: 77.97619047619048%\n",
      "Processing config file: C:\\Repos\\vpp-cfla\\config\\IKVD_20213_ESF_SAM.ini\n",
      "Processing file: C:\\Repos\\vpp-cfla\\cfla_files\\IKVD_20213_ESF_SAM\\Nolikums_22.12.2021..docx\n",
      "Processing file: C:\\Repos\\vpp-cfla\\cfla_files\\IKVD_20213_ESF_SAM\\10.pielikums_liguma_projekts.docx\n"
     ]
    },
    {
     "name": "stderr",
     "output_type": "stream",
     "text": [
      "Generating embeddings: 100%|██████████████████████████████████████████████████████████████████████ [ time left: 00:00 ]\n"
     ]
    },
    {
     "name": "stdout",
     "output_type": "stream",
     "text": [
      "40 segments created and vectorized.\n",
      "Index is ready.\n",
      "2 4 6 9 10 15 16 17 19 22 \n",
      "23 24 26 27 28 29 31 32 33 34 35 36 37 37.2 37.4 37.5 37.6 37.7 37.9 37.10 \n",
      "37.11 37.13 38 38.1 38.2 38.3 38.4 38.5 38.6 38.7 38.8 38.9 39 39.1 39.2 39.3 39.4 39.5 39.6 39.7 \n",
      "39.8 39.9 39.10 39.11 39.12 39.13 39.14 39.15 39.16 39.17 39.18 39.19 39.20 39.21 39.22 39.23 39.24 39.25 39.26 39.27 \n",
      "39.28 39.29 39.30 39.31 39.32 39.33 39.34 39.35 39.36 39.37 39.38 39.39 40 40.1 40.2 40.3 40.4 40.5 40.6 40.7 \n",
      "40.8 40.9 40.10 40.11 40.12 41 43 44 46 47 48 50 51 51.1 51.2 51.4 52 53 54 56 \n",
      "57 58 60 61 62 63 65 "
     ]
    },
    {
     "name": "stderr",
     "output_type": "stream",
     "text": [
      "\n",
      "Config files:  20%|████████████▊                                                   | 4/20 [42:46<2:55:08, 656.77s/file]\u001b[A\n",
      "\u001b[A                                                                                                                    \n",
      "Config files:  20%|████████████▊                                                   | 4/20 [42:46<2:55:08, 656.77s/file]\u001b[A"
     ]
    },
    {
     "name": "stdout",
     "output_type": "stream",
     "text": [
      "PRECIZITĀTE: 67.07317073170732%\n",
      "Processing config file: C:\\Repos\\vpp-cfla\\config\\IP2020_01_ERAF.ini\n",
      "Processing file: C:\\Repos\\vpp-cfla\\cfla_files\\IP2020_01_ERAF\\Nolikums_IP_2020_01_ERAF_pielikumi.docx\n"
     ]
    },
    {
     "name": "stderr",
     "output_type": "stream",
     "text": [
      "Generating embeddings: 100%|██████████████████████████████████████████████████████████████████████ [ time left: 00:00 ]\n"
     ]
    },
    {
     "name": "stdout",
     "output_type": "stream",
     "text": [
      "49 segments created and vectorized.\n",
      "Index is ready.\n",
      "2 4 6 7 9 10 15 16 17 18 19 22 23 \n",
      "24 26 27 28 29 31 32 33 34 35 35.1 35.2 35.3 35.5 35.6 35.7 35.8 36 37 37.2 \n",
      "37.4 37.5 37.6 37.7 37.9 37.10 37.11 37.13 38 38.1 38.2 38.3 38.4 38.5 38.6 38.7 38.8 38.9 39 39.1 \n",
      "39.2 39.3 39.4 39.5 39.6 39.7 39.8 39.9 39.10 39.11 39.12 39.13 39.14 39.15 39.16 39.17 39.18 39.19 39.20 39.21 \n",
      "39.22 39.23 39.24 39.25 39.26 39.27 39.28 39.29 39.30 39.31 39.32 39.33 39.34 39.35 39.36 39.37 39.38 39.39 40 40.1 \n",
      "40.2 40.3 40.4 40.5 40.6 40.7 40.8 40.9 40.10 40.11 40.12 41 43 44 46 47 48 50 51 51.1 \n",
      "51.2 51.4 52 53 54 56 57 58 60 61 62 63 65 "
     ]
    },
    {
     "name": "stderr",
     "output_type": "stream",
     "text": [
      "\n",
      "Config files:  25%|████████████████                                                | 5/20 [53:06<2:40:52, 643.47s/file]\u001b[A\n",
      "\u001b[A                                                                                                                    \n",
      "Config files:  25%|████████████████                                                | 5/20 [53:06<2:40:52, 643.47s/file]\u001b[A"
     ]
    },
    {
     "name": "stdout",
     "output_type": "stream",
     "text": [
      "PRECIZITĀTE: 59.523809523809526%\n",
      "Processing config file: C:\\Repos\\vpp-cfla\\config\\IeM_IC_201913.ini\n",
      "Processing file: C:\\Repos\\vpp-cfla\\cfla_files\\IeM_IC_201913\\NOLIKUMS vec.docx\n"
     ]
    },
    {
     "name": "stderr",
     "output_type": "stream",
     "text": [
      "Generating embeddings: 100%|██████████████████████████████████████████████████████████████████████ [ time left: 00:00 ]\n"
     ]
    },
    {
     "name": "stdout",
     "output_type": "stream",
     "text": [
      "86 segments created and vectorized.\n",
      "Index is ready.\n",
      "2 4 6 7 9 10 15 \n",
      "16 17 18 19 22 23 24 26 27 28 29 31 32 33 34 35 36 37 37.2 37.4 \n",
      "37.5 37.6 37.7 37.9 37.10 37.11 37.13 38 38.1 38.2 38.3 38.4 38.5 38.7 38.8 38.9 39 39.1 39.2 39.3 \n",
      "39.4 39.5 39.6 39.7 39.8 39.9 39.10 39.11 39.12 39.13 39.14 39.15 39.16 39.17 39.18 39.19 39.20 39.21 39.22 39.23 \n",
      "39.24 39.25 39.26 39.27 39.28 39.29 39.30 39.31 39.32 39.33 39.34 39.35 39.36 39.37 39.38 39.39 40 40.1 40.2 40.3 \n",
      "40.4 40.5 40.6 40.7 40.8 40.9 40.10 40.11 40.12 41 44 46 47 48 50 51 51.4 52 53 54 \n",
      "56 57 58 60 61 62 63 65 "
     ]
    },
    {
     "name": "stderr",
     "output_type": "stream",
     "text": [
      "\n",
      "Config files:  30%|██████████████████▌                                           | 6/20 [1:01:51<2:20:42, 603.04s/file]\u001b[A\n",
      "\u001b[A                                                                                                                    \n",
      "Config files:  30%|██████████████████▌                                           | 6/20 [1:01:51<2:20:42, 603.04s/file]\u001b[A"
     ]
    },
    {
     "name": "stdout",
     "output_type": "stream",
     "text": [
      "PRECIZITĀTE: 68.51851851851852%\n",
      "Processing config file: C:\\Repos\\vpp-cfla\\config\\KNP_202215.ini\n",
      "Processing file: C:\\Repos\\vpp-cfla\\cfla_files\\KNP_202215\\Nolikums_2022_15_ar_grozijumiem.docx\n"
     ]
    },
    {
     "name": "stderr",
     "output_type": "stream",
     "text": [
      "Generating embeddings: 100%|██████████████████████████████████████████████████████████████████████ [ time left: 00:00 ]\n"
     ]
    },
    {
     "name": "stdout",
     "output_type": "stream",
     "text": [
      "50 segments created and vectorized.\n",
      "Index is ready.\n",
      "2 4 6 9 10 15 16 17 19 22 23 24 \n",
      "26 27 28 29 31 32 33 34 35 35.1 35.2 35.3 35.5 35.6 35.7 35.8 36 37 37.2 37.4 \n",
      "37.5 37.6 37.7 37.9 37.10 37.11 37.13 38 38.1 38.2 38.3 38.4 38.5 38.6 38.7 38.8 38.9 39 39.1 39.2 \n",
      "39.3 39.4 39.5 39.6 39.7 39.8 39.9 39.10 39.11 39.12 39.13 39.14 39.15 39.16 39.17 39.18 39.19 39.20 39.21 39.22 \n",
      "39.23 39.24 39.25 39.26 39.27 39.28 39.29 39.30 39.31 39.32 39.33 39.34 39.35 39.36 39.37 39.38 39.39 40 40.1 40.2 \n",
      "40.3 40.4 40.5 40.6 40.7 40.8 40.9 40.10 40.11 40.12 41 43 44 46 47 48 50 51 51.1 51.2 \n",
      "51.4 52 53 54 56 57 58 60 61 62 63 65 "
     ]
    },
    {
     "name": "stderr",
     "output_type": "stream",
     "text": [
      "\n",
      "Config files:  35%|█████████████████████▋                                        | 7/20 [1:10:34<2:04:59, 576.87s/file]\u001b[A\n",
      "\u001b[A                                                                                                                    \n",
      "Config files:  35%|█████████████████████▋                                        | 7/20 [1:10:34<2:04:59, 576.87s/file]\u001b[A"
     ]
    },
    {
     "name": "stdout",
     "output_type": "stream",
     "text": [
      "PRECIZITĀTE: 73.78048780487805%\n",
      "Processing config file: C:\\Repos\\vpp-cfla\\config\\KP2020016A-KF.ini\n",
      "Processing file: C:\\Repos\\vpp-cfla\\cfla_files\\KP2020016A-KF\\Konkursa_nolikums_TENT_3_posms_GROZIJUMI_16.03.2020.pdf\n",
      "Processing file: C:\\Repos\\vpp-cfla\\cfla_files\\KP2020016A-KF\\7_Liguma_projekts_GROZIJUMI_16.03.2020.pdf\n"
     ]
    },
    {
     "name": "stderr",
     "output_type": "stream",
     "text": [
      "Generating embeddings: 100%|██████████████████████████████████████████████████████████████████████ [ time left: 00:00 ]\n"
     ]
    },
    {
     "name": "stdout",
     "output_type": "stream",
     "text": [
      "64 segments created and vectorized.\n",
      "Index is ready.\n",
      "2 4 6 7 9 10 15 16 \n",
      "17 18 19 22 23 24 26 27 28 29 31 32 33 34 35 35.1 35.2 35.3 35.5 35.6 \n",
      "35.7 35.8 36 37 37.2 37.4 37.5 37.6 37.7 37.9 37.10 37.11 37.13 38 38.1 38.2 38.3 38.4 38.5 38.6 \n",
      "38.7 38.8 38.9 39 39.1 39.2 39.3 39.4 39.5 39.6 39.7 39.8 39.9 39.10 39.11 39.12 39.13 39.14 39.15 39.16 \n",
      "39.17 39.18 39.19 39.20 39.21 39.22 39.23 39.24 39.25 39.26 39.27 39.28 39.29 39.30 39.31 39.32 39.33 39.34 39.35 39.36 \n",
      "39.37 39.38 39.39 40 40.1 40.2 40.3 40.4 40.5 40.6 40.7 40.8 40.9 40.10 40.11 40.12 41 43 44 46 \n",
      "47 48 50 51 51.1 51.2 51.4 52 53 54 56 57 58 60 61 62 63 65 PRECIZITĀTE: 55.952380952380956%\n"
     ]
    },
    {
     "name": "stderr",
     "output_type": "stream",
     "text": [
      "\n",
      "Config files:  40%|████████████████████████▊                                     | 8/20 [1:30:14<2:33:47, 768.92s/file]\u001b[A\n",
      "\u001b[A                                                                                                                    \n",
      "Config files:  40%|████████████████████████▊                                     | 8/20 [1:30:14<2:33:47, 768.92s/file]\u001b[A"
     ]
    },
    {
     "name": "stdout",
     "output_type": "stream",
     "text": [
      "Processing config file: C:\\Repos\\vpp-cfla\\config\\LNP_201976.ini\n",
      "Processing file: C:\\Repos\\vpp-cfla\\cfla_files\\LNP_201976\\Apstiprinats.docx\n"
     ]
    },
    {
     "name": "stderr",
     "output_type": "stream",
     "text": [
      "Generating embeddings: 100%|██████████████████████████████████████████████████████████████████████ [ time left: 00:00 ]\n"
     ]
    },
    {
     "name": "stdout",
     "output_type": "stream",
     "text": [
      "62 segments created and vectorized.\n",
      "Index is ready.\n",
      "2 4 \n",
      "6 7 9 10 15 16 17 18 19 22 23 24 26 27 28 29 31 32 33 34 \n",
      "35 35.1 35.2 35.3 35.5 35.6 35.7 35.8 36 37 37.2 37.4 37.5 37.6 37.7 37.9 37.10 37.11 37.13 38 \n",
      "38.1 38.2 38.3 38.4 38.5 38.6 38.7 38.8 38.9 39 39.1 39.2 39.3 39.4 39.5 39.6 39.7 39.8 39.9 39.10 \n",
      "39.11 39.12 39.13 39.14 39.15 39.16 39.17 39.18 39.19 39.20 39.21 39.22 39.23 39.24 39.25 39.26 39.27 39.28 39.29 39.30 \n",
      "39.31 39.32 39.33 39.34 39.35 39.36 39.37 39.38 39.39 40 40.1 40.2 40.3 40.4 40.5 40.6 40.7 40.8 40.9 40.10 \n",
      "40.11 40.12 41 43 44 46 47 48 50 51 52 53 54 56 57 58 60 61 62 63 \n",
      "65 "
     ]
    },
    {
     "name": "stderr",
     "output_type": "stream",
     "text": [
      "\n",
      "Config files:  45%|███████████████████████████▉                                  | 9/20 [1:43:53<2:23:52, 784.73s/file]\u001b[A\n",
      "\u001b[A                                                                                                                    \n",
      "Config files:  45%|███████████████████████████▉                                  | 9/20 [1:43:53<2:23:52, 784.73s/file]\u001b[A"
     ]
    },
    {
     "name": "stdout",
     "output_type": "stream",
     "text": [
      "PRECIZITĀTE: 68.45238095238095%\n",
      "Processing config file: C:\\Repos\\vpp-cfla\\config\\LNP_202037ERAF.ini\n",
      "Processing file: C:\\Repos\\vpp-cfla\\cfla_files\\LNP_202037ERAF\\Nolikums_pilsdrupas_1.karta.docx\n"
     ]
    },
    {
     "name": "stderr",
     "output_type": "stream",
     "text": [
      "Generating embeddings: 100%|██████████████████████████████████████████████████████████████████████ [ time left: 00:00 ]\n"
     ]
    },
    {
     "name": "stdout",
     "output_type": "stream",
     "text": [
      "51 segments created and vectorized.\n",
      "Index is ready.\n",
      "2 4 6 7 9 10 15 16 17 18 19 22 23 24 26 27 28 29 31 \n",
      "32 33 34 35 35.1 35.2 35.3 35.5 35.6 35.7 35.8 36 37 37.2 37.4 37.5 37.6 37.7 37.9 37.10 \n",
      "37.11 37.13 38 38.1 38.2 38.3 38.4 38.5 38.6 38.7 38.8 38.9 39 39.1 39.2 39.3 39.4 39.5 39.6 39.7 \n",
      "39.8 39.9 39.10 39.11 39.12 39.13 39.14 39.15 39.16 39.17 39.18 39.19 39.20 39.21 39.22 39.23 39.24 39.25 39.26 39.27 \n",
      "39.28 39.29 39.30 39.31 39.32 39.33 39.34 39.35 39.36 39.37 39.38 39.39 40 40.1 40.2 40.3 40.4 40.5 40.6 40.7 \n",
      "40.8 40.9 40.10 40.11 40.12 41 43 44 46 47 48 50 51 51.1 51.2 51.4 52 53 54 56 \n",
      "57 58 60 61 62 63 65 "
     ]
    },
    {
     "name": "stderr",
     "output_type": "stream",
     "text": [
      "\n",
      "Config files:  50%|██████████████████████████████▌                              | 10/20 [1:55:03<2:04:53, 749.31s/file]\u001b[A\n",
      "\u001b[A                                                                                                                    \n",
      "Config files:  50%|██████████████████████████████▌                              | 10/20 [1:55:03<2:04:53, 749.31s/file]\u001b[A"
     ]
    },
    {
     "name": "stdout",
     "output_type": "stream",
     "text": [
      "PRECIZITĀTE: 73.80952380952381%\n",
      "Processing config file: C:\\Repos\\vpp-cfla\\config\\LU_202049_ERAF.ini\n",
      "Processing file: C:\\Repos\\vpp-cfla\\cfla_files\\LU_202049_ERAF\\Nolikums.docx\n",
      "Processing file: C:\\Repos\\vpp-cfla\\cfla_files\\LU_202049_ERAF\\10pielikums_lîgums.docx\n"
     ]
    },
    {
     "name": "stderr",
     "output_type": "stream",
     "text": [
      "Generating embeddings: 100%|██████████████████████████████████████████████████████████████████████ [ time left: 00:00 ]\n"
     ]
    },
    {
     "name": "stdout",
     "output_type": "stream",
     "text": [
      "48 segments created and vectorized.\n",
      "Index is ready.\n",
      "2 4 6 7 9 10 15 16 17 18 19 22 23 \n",
      "24 26 27 28 29 31 32 33 34 35 35.1 35.2 35.3 35.5 35.6 35.7 35.8 36 37 37.2 \n",
      "37.4 37.5 37.6 37.7 37.9 37.10 37.11 37.13 38 38.1 38.2 38.3 38.4 38.5 38.6 38.7 38.8 38.9 39 39.1 \n",
      "39.2 39.3 39.4 39.5 39.6 39.7 39.8 39.9 39.10 39.11 39.12 39.13 39.14 39.15 39.16 39.17 39.18 39.19 39.20 39.21 \n",
      "39.22 39.23 39.24 39.25 39.26 39.27 39.28 39.29 39.30 39.31 39.32 39.33 39.34 39.35 39.36 39.37 39.38 39.39 40 40.1 \n",
      "40.2 40.3 40.4 40.5 40.6 40.7 40.8 40.9 40.10 40.11 40.12 41 43 44 46 47 48 50 51 51.1 \n",
      "51.2 51.4 52 53 54 56 57 58 60 61 62 63 65 "
     ]
    },
    {
     "name": "stderr",
     "output_type": "stream",
     "text": [
      "\n",
      "Config files:  55%|█████████████████████████████████▌                           | 11/20 [2:07:33<1:52:26, 749.57s/file]\u001b[A\n",
      "\u001b[A                                                                                                                    \n",
      "Config files:  55%|█████████████████████████████████▌                           | 11/20 [2:07:33<1:52:26, 749.57s/file]\u001b[A"
     ]
    },
    {
     "name": "stdout",
     "output_type": "stream",
     "text": [
      "PRECIZITĀTE: 72.02380952380952%\n",
      "Processing config file: C:\\Repos\\vpp-cfla\\config\\MNP_202121_ERAF.ini\n",
      "Processing file: C:\\Repos\\vpp-cfla\\cfla_files\\MNP_202121_ERAF\\MNP2021_21_ERAF_nolikums_12-07-2021.doc.pdf\n"
     ]
    },
    {
     "name": "stderr",
     "output_type": "stream",
     "text": [
      "C:\\Users\\Daiga.Deksne\\AppData\\Roaming\\Python\\Python310\\site-packages\\torch\\utils\\data\\dataloader.py:666: UserWarning: 'pin_memory' argument is set as true but no accelerator is found, then device pinned memory won't be used.\n",
      "  warnings.warn(warn_msg)\n"
     ]
    },
    {
     "name": "stdout",
     "output_type": "stream",
     "text": [
      "Processing file: C:\\Repos\\vpp-cfla\\cfla_files\\MNP_202121_ERAF\\2-4-6_21_47_Ligums.pdf\n"
     ]
    },
    {
     "name": "stderr",
     "output_type": "stream",
     "text": [
      "Generating embeddings: 100%|██████████████████████████████████████████████████████████████████████ [ time left: 00:00 ]\n"
     ]
    },
    {
     "name": "stdout",
     "output_type": "stream",
     "text": [
      "119 segments created and vectorized.\n",
      "Index is ready.\n",
      "2 4 6 9 10 15 16 \n",
      "17 19 22 23 24 26 27 28 29 31 32 33 34 35 36 37 37.2 37.4 37.5 37.6 \n",
      "37.7 37.9 37.10 37.11 37.13 38 38.1 38.2 38.3 38.4 38.5 38.6 38.7 38.8 38.9 39 39.1 39.2 39.3 39.4 \n",
      "39.5 39.6 39.7 39.8 39.9 39.10 39.11 39.12 39.13 39.14 39.15 39.16 39.17 39.18 39.19 39.20 39.21 39.22 39.23 39.24 \n",
      "39.25 39.26 39.27 39.28 39.29 39.30 39.31 39.32 39.33 39.34 39.35 39.36 39.37 39.38 39.39 40 40.1 40.2 40.3 40.4 \n",
      "40.5 40.6 40.7 40.8 40.9 40.10 40.11 40.12 41 43 44 46 47 48 50 51 51.1 51.2 51.4 52 \n",
      "53 54 56 57 58 60 61 62 63 65 "
     ]
    },
    {
     "name": "stderr",
     "output_type": "stream",
     "text": [
      "\n",
      "Config files:  60%|████████████████████████████████████▌                        | 12/20 [2:19:58<1:39:43, 747.97s/file]\u001b[A\n",
      "\u001b[A                                                                                                                    \n",
      "Config files:  60%|████████████████████████████████████▌                        | 12/20 [2:19:58<1:39:43, 747.97s/file]\u001b[A"
     ]
    },
    {
     "name": "stdout",
     "output_type": "stream",
     "text": [
      "PRECIZITĀTE: 61.58536585365854%\n",
      "Processing config file: C:\\Repos\\vpp-cfla\\config\\PND_2019_15-ERAF.ini\n",
      "Processing file: C:\\Repos\\vpp-cfla\\cfla_files\\PND_2019_15-ERAF\\Nolikums_ar_grozijumiem_2.docx\n"
     ]
    },
    {
     "name": "stderr",
     "output_type": "stream",
     "text": [
      "Generating embeddings: 100%|██████████████████████████████████████████████████████████████████████ [ time left: 00:00 ]\n"
     ]
    },
    {
     "name": "stdout",
     "output_type": "stream",
     "text": [
      "58 segments created and vectorized.\n",
      "Index is ready.\n",
      "2 4 6 7 9 10 15 16 17 18 \n",
      "19 22 23 24 26 27 28 29 31 32 33 34 35 35.1 35.2 35.5 35.6 35.7 35.8 36 \n",
      "37 37.2 37.4 37.5 37.6 37.7 37.9 37.10 37.11 37.13 38 38.1 38.2 38.3 38.4 38.5 38.7 38.8 38.9 39 \n",
      "39.1 39.2 39.3 39.4 39.5 39.6 39.7 39.8 39.9 39.10 39.11 39.12 39.13 39.14 39.15 39.16 39.17 39.18 39.19 39.20 \n",
      "39.21 39.22 39.23 39.24 39.25 39.26 39.27 39.28 39.29 39.30 39.31 39.32 39.33 39.34 39.35 39.36 39.37 39.38 39.39 40 \n",
      "40.1 40.2 40.3 40.4 40.5 40.6 40.7 40.8 40.9 40.10 40.11 40.12 41 44 46 47 48 50 51 52 \n",
      "53 54 56 57 58 60 61 62 63 65 "
     ]
    },
    {
     "name": "stderr",
     "output_type": "stream",
     "text": [
      "\n",
      "Config files:  65%|███████████████████████████████████████▋                     | 13/20 [2:28:24<1:18:42, 674.68s/file]\u001b[A\n",
      "\u001b[A                                                                                                                    \n",
      "Config files:  65%|███████████████████████████████████████▋                     | 13/20 [2:28:24<1:18:42, 674.68s/file]\u001b[A"
     ]
    },
    {
     "name": "stdout",
     "output_type": "stream",
     "text": [
      "PRECIZITĀTE: 72.22222222222221%\n",
      "Processing config file: C:\\Repos\\vpp-cfla\\config\\RTK_2019_12.ini\n",
      "Processing file: C:\\Repos\\vpp-cfla\\cfla_files\\RTK_2019_12\\Nolikums.docx\n"
     ]
    },
    {
     "name": "stderr",
     "output_type": "stream",
     "text": [
      "Generating embeddings:  93%|████████████████████████████████████████████████████████████████▉      [ time left: 00:07 ]"
     ]
    }
   ],
   "source": [
    "# TODO add parallel prompting\n",
    "print(report_path_htm)\n",
    "print(report_path_csv)\n",
    "print(overwrite)\n",
    "if overwrite: # overwrtitting report; Delete and create new\n",
    "        if report_path_htm.exists():\n",
    "                report_path_htm.unlink()\n",
    "        if report_path_csv.exists():\n",
    "                report_path_csv.unlink()\n",
    "        if report_path_config.exists():\n",
    "                report_path_config.unlink()\n",
    "                \n",
    "if not os.path.exists(report_dir_path):\n",
    "        os.makedirs(report_dir_path)\n",
    "\n",
    "# Make config dictionary and save as json\n",
    "config_dict = embedding_conf\n",
    "config_dict[\"model\"] = llmmodelAzure[\"model\"]\n",
    "config_dict[\"temperature\"] = llm.temperature\n",
    "config_dict[\"timeout\"] = llm.timeout\n",
    "config_dict[\"max_retries\"] = llm.max_retries\n",
    "#config_dict[\"top_p\"] = 0.0001\n",
    "\n",
    "with open(report_path_config, \"w\") as file:\n",
    "        dump(config_dict, file) \n",
    "\n",
    "# To process all questions, leave this empty. Otherwise, specify the exact numbers.\n",
    "# To process a sub-question, include the parent question number as well, e.g., [\"9\", \"9.2\"].\n",
    "questions_to_process = globals().get('my_questions_to_process', [])\n",
    "\n",
    "for file in tqdm(ini_files, desc=\"Config files\", unit=\"file\"): # TODO fix TQDM; expected that after first file finishes it shows the aproximation of all the other files left to process\n",
    "        configfile = config_dir / f\"{file}.ini\"\n",
    "        \n",
    "        tqdm.write(f\"Processing config file: {configfile}\")\n",
    "        procurement_id, procurement_file, agreement_file, answer_file = get_config_data(configfile, procurement_file_dir, answer_file_dir)\n",
    "        # Open CSV file, maybe as pandas dataframe\n",
    "        answer_dictionary = get_answers(answer_file)\n",
    "        # Getting markdown text from procurement doc\n",
    "        procurement_content = get_procurement_content(extractor, procurement_file, agreement_file)\n",
    "    \n",
    "        # Creating FAISS vector index for the procurement document\n",
    "        qnaengine = QnAEngine(embedding,llm)\n",
    "        await qnaengine.createIndex(\n",
    "                procurement_content,\n",
    "                \"Procurement\",\n",
    "                chunk_size=embedding_conf[\"chunk_size\"],\n",
    "                chunk_overlap=embedding_conf[\"chunk_overlap\"]\n",
    "                )\n",
    "\n",
    "        ### Generating results\n",
    "        results_table = gen_results(qnaengine, configfile, embedding_conf, question_dictionary, answer_dictionary, prompt_dictionary, supplementary_info, questions_to_process)\n",
    "        \n",
    "        # add \"Iepirkuma ID\" as procurement_id to results table\n",
    "        # TODO move this inside gen results function once it has been refactored\n",
    "        for row in results_table:\n",
    "                row.insert(0, file)\n",
    "        \n",
    "        ### Save output\n",
    "        data = pd.DataFrame(results_table, columns=[\"Iepirkuma ID\", \"Nr\", \"Atbilde\", \"Sagaidāmā atbilde\", \"Pamatojums\", \"Uzvedne\"])\n",
    "        precision = (data['Atbilde'] == data['Sagaidāmā atbilde']).sum()/len(data)\n",
    "        print(f\"PRECIZITĀTE: {precision*100}%\")\n",
    "\n",
    "        with report_path_htm.open('a', encoding='utf-8') as ofile:  \n",
    "                # TODO Create a dropdown menu that lets the user select file by \"Iepirkuma ID\" - in each page only information that has that \"Iepirkuma ID\" is displayed\n",
    "                print(f\"{procurement_id} PRECIZITĀTE: {precision*100}%\" ,file=ofile)\n",
    "                print(data.to_html(index=False).replace('\\\\n','<br>'),file=ofile)\n",
    "\n",
    "        data.to_csv(report_path_csv, \n",
    "                    mode='a', \n",
    "                    index=False, \n",
    "                    header=not report_path_csv.exists(), # only adding one header\n",
    "                    encoding='utf-8')\n",
    "        \n",
    "        \n",
    "                "
   ]
  },
  {
   "cell_type": "markdown",
   "id": "2827ffa5",
   "metadata": {},
   "source": [
    "# Report generation"
   ]
  },
  {
   "cell_type": "code",
   "execution_count": null,
   "id": "94072937",
   "metadata": {},
   "outputs": [],
   "source": [
    "# Load report we want to analayze\n",
    "analyzed_report_dir = report_dir_path\n",
    "csv_filename = \"report.csv\"\n",
    "input_csv = analyzed_report_dir / csv_filename\n",
    "\n",
    "# Main report\n",
    "html_output      = build_main_report_html(input_csv, question_dictionary)\n",
    "output_html_path = analyzed_report_dir / \"main_report.html\"\n",
    "output_html_path.write_text(html_output, encoding=\"utf-8\")\n",
    "\n",
    "print(f\"Main HTML report saved to: {output_html_path}\")\n",
    "\n",
    "questions_wout_0q = get_questions_without_q0(question_dictionary)\n",
    "\n",
    "# Generate report\n",
    "precison_report_html = generate_precision_report(input_csv, questions_wout_0q)\n",
    "\n",
    "# Save the report next to the CSV\n",
    "output_html = analyzed_report_dir / f\"precision_report.html\"\n",
    "with open(output_html, \"w\", encoding=\"utf-8\") as f:\n",
    "    f.write(precison_report_html)\n",
    "\n",
    "print(f\"HTML report saved to: {output_html}\")\n"
   ]
  },
  {
   "cell_type": "markdown",
   "id": "0f7060b3",
   "metadata": {},
   "source": [
    "**Questions that can't be answered count**"
   ]
  },
  {
   "cell_type": "code",
   "execution_count": null,
   "id": "299f705e",
   "metadata": {},
   "outputs": [],
   "source": [
    "df = pd.read_csv(input_csv)\n",
    "df[\"Sagaidāmā atbilde\"] = df[\"Sagaidāmā atbilde\"].astype(str).str.strip().str.lower()\n",
    "filtered_df = df[\n",
    "    (df[\"Sagaidāmā atbilde\"] == \"nan\") &\n",
    "    (df[\"Nr\"].astype(str).isin(questions_wout_0q))\n",
    "]\n",
    "print(f\"\\nCount of rows where 'Sagaidāmā atbilde' == 'n/a' and it doesn't have q0: {len(filtered_df)}\")"
   ]
  },
  {
   "cell_type": "markdown",
   "id": "e6e30642",
   "metadata": {},
   "source": [
    "**Confusion Matrix**"
   ]
  },
  {
   "cell_type": "code",
   "execution_count": null,
   "id": "593a08d6",
   "metadata": {},
   "outputs": [],
   "source": [
    "# Load and normalize data as \"n/a\" has turned into NaN\n",
    "df = pd.read_csv(input_csv)\n",
    "df[\"Sagaidāmā atbilde\"] = df[\"Sagaidāmā atbilde\"].astype(str).str.strip().str.lower()\n",
    "df[\"Atbilde\"] = df[\"Atbilde\"].astype(str).str.strip().str.lower()\n",
    "\n",
    "# Replace missing values\n",
    "df[\"Sagaidāmā atbilde\"] = df[\"Sagaidāmā atbilde\"].replace([\"nan\", \"none\", \"\"], \"n/a\")\n",
    "df[\"Atbilde\"] = df[\"Atbilde\"].replace([\"nan\", \"none\", \"\"], \"n/a\")\n",
    "\n",
    "# Group context responses\n",
    "df[\"Atbilde\"] = df[\"Atbilde\"].replace({\n",
    "    \"x\": \"kontekstā nav informācijas\",\n",
    "    \"kontekstā nav informācijas\": \"kontekstā nav informācijas\"\n",
    "})\n",
    "\n",
    "# Define value order\n",
    "expected = [\"jā\", \"nē\", \"n/a\"]\n",
    "actual = [\"jā\", \"nē\", \"n/a\", \"kontekstā nav informācijas\"]\n",
    "\n",
    "conf_matrix = pd.crosstab(\n",
    "    df[\"Sagaidāmā atbilde\"],\n",
    "    df[\"Atbilde\"],\n",
    "    rownames=[\"Expected ↓\"],\n",
    "    colnames=[\"Actual →\"],\n",
    "    dropna=False\n",
    ").reindex(index=expected, columns=actual, fill_value=0)\n",
    "conf_matrix.index.name = \"Expected ↓ / Actual →\"\n",
    "\n",
    "print(\"\\nConfusion Matrix:\\n\")\n",
    "print(conf_matrix.to_markdown(tablefmt=\"grid\"))\n"
   ]
  },
  {
   "cell_type": "code",
   "execution_count": null,
   "id": "3b3e9773",
   "metadata": {},
   "outputs": [],
   "source": [
    "# Get correct counts for \"jā\" and \"nē\"\n",
    "correct_yes = conf_matrix.loc[\"jā\", \"jā\"]\n",
    "total_yes = conf_matrix.loc[\"jā\"].sum()\n",
    "print(f\"total 'jā' count: {total_yes}\")\n",
    "\n",
    "correct_no = conf_matrix.loc[\"nē\", \"nē\"]\n",
    "total_no = conf_matrix.loc[\"nē\"].sum()\n",
    "print(f\"total 'nē' count: {total_no}\")\n",
    "\n",
    "correct_na = conf_matrix.loc[\"n/a\", \"n/a\"]\n",
    "total_na = conf_matrix.loc[\"n/a\"].sum()\n",
    "print(f\"total 'n/a' count: {total_na}\")\n",
    "\n",
    "# Calculate percentages\n",
    "yes_accuracy = (correct_yes / total_yes) * 100 if total_yes > 0 else 0\n",
    "no_accuracy = (correct_no / total_no) * 100 if total_no > 0 else 0\n",
    "na_accuracy = (correct_na / total_na) * 100 if total_na > 0 else 0\n",
    "\n",
    "print(f\"\\nAccuracy for 'jā': {yes_accuracy:.2f}%\")\n",
    "print(f\"Accuracy for 'nē': {no_accuracy:.2f}%\")\n",
    "print(f\"Accuracy for 'n/a': {na_accuracy:.2f}%\")\n"
   ]
  },
  {
   "cell_type": "code",
   "execution_count": null,
   "id": "ccfb7759",
   "metadata": {},
   "outputs": [],
   "source": [
    "total_q = total_yes + total_no + total_na\n",
    "print(f\"Total question count: {total_q}\")\n",
    "correct_q = correct_yes + correct_no + correct_na\n",
    "\n",
    "precision = round((correct_q / total_q) * 100, 2)\n",
    "print(f\"Total precision: {precision}%\")\n",
    "\n",
    "precison_wout_unanswerable_qs = round(correct_q / (total_q - len(filtered_df))*100,2)\n",
    "print(f\"Total precision without unanswerable (n/a) questions: {precison_wout_unanswerable_qs}%\")\n",
    "\n",
    "context_missing_total = conf_matrix[\"kontekstā nav informācijas\"].sum()\n",
    "confident_answers =  total_q - len(filtered_df) - context_missing_total\n",
    "precision_wout_unanswerable_qs_nocontext = round((correct_q / confident_answers)*100,2)\n",
    "print(f\"Total precision without unanswerable (n/a) questions and when LLM is not unsure: {precision_wout_unanswerable_qs_nocontext}%\")\n",
    "print(f\"Total question count without unanswerable (n/a) questions and when LLM is not unsure: {confident_answers}\")"
   ]
  }
 ],
 "metadata": {
  "kernelspec": {
   "display_name": "Python 3 (ipykernel)",
   "language": "python",
   "name": "python3"
  },
  "language_info": {
   "codemirror_mode": {
    "name": "ipython",
    "version": 3
   },
   "file_extension": ".py",
   "mimetype": "text/x-python",
   "name": "python",
   "nbconvert_exporter": "python",
   "pygments_lexer": "ipython3",
   "version": "3.10.5"
  }
 },
 "nbformat": 4,
 "nbformat_minor": 5
}
