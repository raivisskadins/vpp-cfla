{
 "cells": [
  {
   "cell_type": "code",
   "execution_count": 1,
   "id": "4329b8b7-d7a7-449b-81b7-af351449627b",
   "metadata": {},
   "outputs": [
    {
     "name": "stdout",
     "output_type": "stream",
     "text": [
      "WARNING:tensorflow:From C:\\Users\\Daiga.Deksne\\AppData\\Roaming\\Python\\Python310\\site-packages\\tf_keras\\src\\losses.py:2976: The name tf.losses.sparse_softmax_cross_entropy is deprecated. Please use tf.compat.v1.losses.sparse_softmax_cross_entropy instead.\n",
      "\n"
     ]
    }
   ],
   "source": [
    "# Line magic functions that will allow for imports to be reloaded and not cached\n",
    "%load_ext autoreload\n",
    "%autoreload 2\n",
    "\n",
    "# Imports\n",
    "import os\n",
    "import pandas as pd\n",
    "from llama_index.embeddings.huggingface import HuggingFaceEmbedding\n",
    "from llama_index.llms.azure_openai import AzureOpenAI\n",
    "from datetime import date\n",
    "from json import dump\n",
    "from tqdm import tqdm\n",
    "\n",
    "# Local\n",
    "from scripts.extractmd import Extractor\n",
    "from scripts.vectorindex import QnAEngine\n",
    "from scripts.utilities import get_prompt_dict, get_questions, get_answers, get_procurement_content, get_config_data, get_ini_files, get_supplementary_info, get_questions_without_q0\n",
    "from scripts.gen_results import gen_results\n",
    "from scripts.gen_precision_report import generate_precision_report\n",
    "from scripts.main_report import build_main_report_html"
   ]
  },
  {
   "cell_type": "markdown",
   "id": "7684ed5a",
   "metadata": {},
   "source": [
    "**My Config:**\n",
    "[my_config_template.py](scripts/my_config_template.py)"
   ]
  },
  {
   "cell_type": "code",
   "execution_count": 2,
   "id": "b08be854",
   "metadata": {},
   "outputs": [
    {
     "name": "stdout",
     "output_type": "stream",
     "text": [
      "# -----------------------------------------------------------------------------\n",
      "# Configuration file: my_config.py (see 'my_config_template.py' if you have not created your local version)\n",
      "# -----------------------------------------------------------------------------\n",
      "# This file is used to define **user-specific configuration parameters**\n",
      "# separately from the Jupyter notebook. It allows each user to set their own\n",
      "# values without modifying the shared notebook or interfering with others.\n",
      "#\n",
      "# Usage pattern in the notebook:\n",
      "#     overwrite = globals().get('my_overwrite', False)\n",
      "#\n",
      "# This means:\n",
      "# - If `my_overwrite` is defined in this config file, its value will be used.\n",
      "# - If it is not defined, the default value (`False` in this case) will be used.\n",
      "#\n",
      "# You can define any custom variable here that the notebook expects via `globals().get(...)`.\n",
      "#\n",
      "#  In Jupyter, this script may be executed multiple times.\n",
      "# Commenting out a variable won't reset it if it was previously defined.\n",
      "# To revert to the default (e.g., via globals().get(...)), use:\n",
      "#     del my_variable\n",
      "# -----------------------------------------------------------------------------\n",
      "\n",
      "my_report_identifier = \"test_bge-m3\"\n",
      "my_config_dir = \"config\"\n",
      "# my_overwrite = True\n",
      "my_embeddingmodel = \"E:\\\\GPTQnAData\\\\bge-m3\" #\"BAAI/bge-m3\" #\"C:\\\\Repos\\\\vpp-cfla\\\\bge-m3-procurements\" #\"BAAI/bge-m3\"\n",
      "#my_ini_files = [\"SNP-2021_07_AK\"]\n",
      "#my_questions_to_process = [\"61\"]\n",
      "\n"
     ]
    }
   ],
   "source": [
    "with open(\"scripts/my_config.py\") as f:\n",
    "    code = f.read()\n",
    "    print(code) \n",
    "    exec(code)  "
   ]
  },
  {
   "cell_type": "markdown",
   "id": "491f04cb-807c-48b2-b474-8b97dbb0a6d5",
   "metadata": {},
   "source": [
    "**Global config**"
   ]
  },
  {
   "cell_type": "code",
   "execution_count": 3,
   "id": "a282ce0b-1aba-417c-bf9a-15cbe840c485",
   "metadata": {},
   "outputs": [],
   "source": [
    "embedding_conf = {\n",
    "    \"embeddingmodel\": globals().get('my_embeddingmodel', \"sentence-transformers/paraphrase-multilingual-mpnet-base-v2\"), \n",
    "        #\"sentence-transformers/paraphrase-multilingual-mpnet-base-v2\",  # \"BAAI/bge-m3\" \"nomic-ai/nomic-embed-text-v2-moe\" # \"sentence-transformers/paraphrase-multilingual-mpnet-base-v2\"\n",
    "    \"chunk_size\": 1536,\n",
    "    \"chunk_overlap\": 0,\n",
    "    \"top_similar\": 5,\n",
    "    \"n4rerank\": 0, #How many nodes to retrieve for reranking. If 0, reranker is not used\n",
    "    \"use_similar_chunks\": globals().get('my_use_similar_chunks',True), #To use similar chunks or the whole document as the context\n",
    "    \"prevnext\": True #to include in the context also the previouse and the next chunk of the current similar chunk\n",
    "}\n",
    "embedding=HuggingFaceEmbedding(model_name=embedding_conf[\"embeddingmodel\"],trust_remote_code=True)\n",
    "\n",
    "#For nomic-embed-text-v2-moe\n",
    "#embedding=HuggingFaceEmbedding(model_name=embedding_conf[\"embeddingmodel\"],trust_remote_code=True,query_instruction=\"search_query: \",text_instruction=\"search_document: \")"
   ]
  },
  {
   "cell_type": "code",
   "execution_count": 4,
   "id": "b3e114f1-c05e-48b1-b56a-051ece6102eb",
   "metadata": {},
   "outputs": [],
   "source": [
    "# LLM Setup \n",
    "llmmodelAzure = { \"model\": \"gpt-4o\",\n",
    "                \"version\":os.environ.get('AZURE_OPENAI_VERSION',''),\n",
    "                \"azure_deployment\":\"gpt-4o\",\n",
    "                \"azure_endpoint\":os.environ.get('AZURE_ENDPOINT',''),\n",
    "                \"api_key\":os.environ.get('AZURE_OPENAI_KEY','')}\n",
    "\n",
    "llm=AzureOpenAI(azure_deployment=llmmodelAzure[\"azure_deployment\"],\n",
    "                azure_endpoint=llmmodelAzure[\"azure_endpoint\"],temperature=0.0,\n",
    "                api_version=llmmodelAzure[\"version\"], api_key=llmmodelAzure[\"api_key\"],\n",
    "                timeout=120,max_retries=3,top_p=0.0001)"
   ]
  },
  {
   "cell_type": "code",
   "execution_count": 5,
   "id": "9f7c744c",
   "metadata": {},
   "outputs": [],
   "source": [
    "extractor = Extractor() # Markdown doc extractor"
   ]
  },
  {
   "cell_type": "code",
   "execution_count": 6,
   "id": "32e67876-c437-41ad-992b-4ce540022087",
   "metadata": {},
   "outputs": [],
   "source": [
    "#Ollama model\n",
    "# llmmodelOllama = { \"model\": \"gemma3:27b\",\n",
    "#                 \"url\":os.environ.get('OLLAMA_ENDPOINT',''),\n",
    "#                 \"context_window\":\"128000\"}\n",
    "\n",
    "#from llama_index.llms.ollama import Ollama\n",
    "#llm = Ollama(base_url=llmmodelOllama[\"url\"],\n",
    "#             model=llmmodelOllama[\"model\"], \n",
    "#             context_window=int(llmmodelOllama[\"context_window\"]),\n",
    "#            request_timeout=300.0,\n",
    "#            temperature=0.0,\n",
    "#            additional_kwargs={\"seed\":1337})"
   ]
  },
  {
   "cell_type": "markdown",
   "id": "e1f0daa1-7706-4651-b713-78ac66c5533a",
   "metadata": {},
   "source": [
    "**PROCUREMENT FILE SETTINGS**"
   ]
  },
  {
   "cell_type": "code",
   "execution_count": 7,
   "id": "88446367-533a-4e00-b3ff-239802a86698",
   "metadata": {},
   "outputs": [],
   "source": [
    "# Script dir for getting relative paths for notebook file\n",
    "script_dir = globals()['_dh'][0] \n",
    "\n",
    "# Document paths\n",
    "question_file_path = script_dir / \"questions\" / \"questions.yaml\" # original.yaml\n",
    "prompt_file = script_dir / \"questions\" / \"prompts.tsv\"\n",
    "report_dir = script_dir / \"reports\"\n",
    "config_dir = script_dir / globals().get('my_config_dir', \"dev_config\") # \"dev_config\" # \"dev_config\" # \"config\"\n",
    "procurement_file_dir = script_dir / \"cfla_files\" # \"cfla_files\"\n",
    "answer_file_dir = script_dir / \"answers\"\n",
    "\n",
    "# TODO perhaps prompt user to define unique report name; some types - all; one etc?\n",
    "report_identifier = globals().get('my_report_identifier', \"dev-test\")\n",
    "# TODO maybe add report as a subdirectory as there are 2 files per report; might be even more with histograms etc.\n",
    "report_today = f\"{date.today():%d.%m}\"\n",
    "report_name = f\"{report_identifier}_{globals().get('my_report_date', report_today)}\"\n",
    "\n",
    "report_dir_path = report_dir / report_name\n",
    "report_path_htm = report_dir_path / \"report.htm\"\n",
    "report_path_csv = report_dir_path / \"report.csv\"\n",
    "report_path_config = report_dir_path / \"config.json\""
   ]
  },
  {
   "cell_type": "code",
   "execution_count": 8,
   "id": "0c8d8558",
   "metadata": {},
   "outputs": [
    {
     "name": "stdout",
     "output_type": "stream",
     "text": [
      "Questions loaded\n",
      "Found 20 config files in C:\\Repos\\vpp-cfla\\config\n",
      "Processing 20 procurement files: ['APP_DI_20202ERAF_AK', 'DND_20206', 'EDI_20203AK', 'IKVD_20213_ESF_SAM', 'IP2020_01_ERAF', 'IeM_IC_201913', 'KNP_202215', 'KP2020016A-KF', 'LNP_201976', 'LNP_202037ERAF', 'LU_202049_ERAF', 'MNP_202121_ERAF', 'PND_2019_15-ERAF', 'RTK_2019_12', 'SND_202015-ERAF', 'SNP_202001', 'SNP_202067', 'VND_20201', 'VNP_2023057AK', 'VeA_202012ERAF']\n"
     ]
    }
   ],
   "source": [
    "# Loading static information\n",
    "overwrite = globals().get('my_overwrite', False)  \n",
    "            # If true this will delete the existing report and generate a new one;\n",
    "            # Else - new data will be appended only if it isn't in the CSV file.\n",
    "\n",
    "question_dictionary = get_questions(question_file_path)\n",
    "prompt_dictionary = get_prompt_dict(prompt_file)\n",
    "supplementary_info = get_supplementary_info()\n",
    "\n",
    "ini_files = globals().get('my_ini_files', get_ini_files(config_dir, overwrite, report_path_csv))\n",
    "print(f\"Processing {len(ini_files)} procurement files: {sorted(ini_files)}\")"
   ]
  },
  {
   "cell_type": "markdown",
   "id": "78357252",
   "metadata": {},
   "source": [
    "**MAIN Q/A GENERATION SCRIPT**"
   ]
  },
  {
   "cell_type": "code",
   "execution_count": 9,
   "id": "6f5149a2",
   "metadata": {},
   "outputs": [
    {
     "name": "stderr",
     "output_type": "stream",
     "text": [
      "Config files:   0%|                                                                           | 0/20 [00:00<?, ?file/s]"
     ]
    },
    {
     "name": "stdout",
     "output_type": "stream",
     "text": [
      "Processing config file: C:\\Repos\\vpp-cfla\\config\\APP_DI_20202ERAF_AK.ini\n",
      "Processing file: C:\\Repos\\vpp-cfla\\cfla_files\\APP_DI_20202ERAF_AK\\Konsolidets_Konkursa_Nolikums_ar grozijumiem_12.03.2020. (1).docx\n",
      "Processing file: C:\\Repos\\vpp-cfla\\cfla_files\\APP_DI_20202ERAF_AK\\Konsolidets_Konkursa_Nolikums_ar grozijumiem_12.03.2020. (1).docx\n"
     ]
    },
    {
     "name": "stderr",
     "output_type": "stream",
     "text": [
      "\n",
      "Generating embeddings:   0%|                                                                           [ time left: ? ]\u001b[A\n",
      "Generating embeddings:  19%|█████████████                                                          [ time left: 01:31 ]\u001b[A\n",
      "Generating embeddings:  36%|████████████████████████▉                                              [ time left: 01:11 ]\u001b[A\n",
      "Generating embeddings:  53%|████████████████████████████████████▊                                  [ time left: 01:03 ]\u001b[A\n",
      "Generating embeddings:  69%|████████████████████████████████████████████████▋                      [ time left: 00:40 ]\u001b[A\n",
      "Generating embeddings: 100%|██████████████████████████████████████████████████████████████████████ [ time left: 00:00 ]\u001b[A\n"
     ]
    },
    {
     "name": "stdout",
     "output_type": "stream",
     "text": [
      "59 segments created and vectorized.\n",
      "Index is ready.\n",
      "2 4 6 7 9 10 15 16 17 18 19 23 24 26 27 28 29 31 32 33 \n",
      "34 35 35.1 35.2 35.3 35.5 35.6 35.7 35.8 36 37 37.2 37.4 37.5 37.6 37.7 37.9 37.10 37.11 37.13 \n",
      "38 38.1 38.2 38.3 38.4 38.5 38.6 38.7 38.8 38.9 39 39.1 39.2 39.3 39.4 39.5 39.6 39.7 39.8 39.9 \n",
      "39.10 39.11 39.12 39.13 39.14 39.15 39.16 39.17 39.18 39.19 39.20 39.21 39.22 39.23 39.24 39.25 39.26 39.27 39.28 39.29 \n",
      "39.30 39.31 39.32 39.33 39.34 39.35 39.36 39.37 39.38 39.39 40 40.1 40.2 40.3 40.4 40.5 40.6 40.7 40.8 40.9 \n",
      "40.10 40.11 40.12 41 43 44 46 47 48 50 51 51.1 51.2 51.4 52 53 54 56 57 58 \n",
      "60 61 62 63 65 "
     ]
    },
    {
     "name": "stderr",
     "output_type": "stream",
     "text": [
      "Config files:   5%|███▏                                                            | 1/20 [10:20<3:16:32, 620.67s/file]"
     ]
    },
    {
     "name": "stdout",
     "output_type": "stream",
     "text": [
      "PRECIZITĀTE: 61.44578313253012%\n",
      "Processing config file: C:\\Repos\\vpp-cfla\\config\\DND_20206.ini\n",
      "Processing file: C:\\Repos\\vpp-cfla\\cfla_files\\DND_20206\\NOLIKUMS_2020_6.docx\n"
     ]
    },
    {
     "name": "stderr",
     "output_type": "stream",
     "text": [
      "\n",
      "Generating embeddings:   0%|                                                                           [ time left: ? ]\u001b[A\n",
      "Generating embeddings:  18%|████████████▍                                                          [ time left: 01:31 ]\u001b[A\n",
      "Generating embeddings:  34%|███████████████████████▋                                               [ time left: 01:13 ]\u001b[A\n",
      "Generating embeddings:  50%|███████████████████████████████████                                    [ time left: 01:07 ]\u001b[A\n",
      "Generating embeddings:  66%|██████████████████████████████████████████████▎                        [ time left: 00:49 ]\u001b[A\n",
      "Generating embeddings:  82%|█████████████████████████████████████████████████████████▌             [ time left: 00:24 ]\u001b[A\n",
      "Generating embeddings: 100%|██████████████████████████████████████████████████████████████████████ [ time left: 00:00 ]\u001b[A\n"
     ]
    },
    {
     "name": "stdout",
     "output_type": "stream",
     "text": [
      "62 segments created and vectorized.\n",
      "Index is ready.\n",
      "2 4 6 7 9 10 15 16 17 18 19 22 23 24 26 \n",
      "27 28 29 31 32 33 34 35 35.1 35.2 35.3 35.5 35.6 35.7 35.8 36 37 37.2 37.4 37.5 \n",
      "37.6 37.7 37.9 37.10 37.11 37.13 38 38.1 38.2 38.3 38.4 38.5 38.6 38.7 38.8 38.9 39 39.1 39.2 39.3 \n",
      "39.4 39.5 39.6 39.7 39.8 39.9 39.10 39.11 39.12 39.13 39.14 39.15 39.16 39.17 39.18 39.19 39.20 39.21 39.22 39.23 \n",
      "39.24 39.25 39.26 39.27 39.28 39.29 39.30 39.31 39.32 39.33 39.34 39.35 39.36 39.37 39.38 39.39 40 40.1 40.2 40.3 \n",
      "40.4 40.5 40.6 40.7 40.8 40.9 40.10 40.11 40.12 41 43 44 46 47 48 50 51 51.1 51.2 51.4 \n",
      "52 53 54 56 57 58 60 61 62 63 65 "
     ]
    },
    {
     "name": "stderr",
     "output_type": "stream",
     "text": [
      "Config files:  10%|██████▍                                                         | 2/20 [21:20<3:13:07, 643.77s/file]"
     ]
    },
    {
     "name": "stdout",
     "output_type": "stream",
     "text": [
      "PRECIZITĀTE: 62.5%\n",
      "Processing config file: C:\\Repos\\vpp-cfla\\config\\EDI_20203AK.ini\n",
      "Processing file: C:\\Repos\\vpp-cfla\\cfla_files\\EDI_20203AK\\Nolikums EDI_2020_3_AK_EIS.docx\n"
     ]
    },
    {
     "name": "stderr",
     "output_type": "stream",
     "text": [
      "\n",
      "Generating embeddings:   0%|                                                                           [ time left: ? ]\u001b[A\n",
      "Generating embeddings:  15%|██████████▋                                                            [ time left: 01:55 ]\u001b[A\n",
      "Generating embeddings:  29%|████████████████████▍                                                  [ time left: 01:33 ]\u001b[A\n",
      "Generating embeddings:  43%|██████████████████████████████▏                                        [ time left: 01:24 ]\u001b[A\n",
      "Generating embeddings:  57%|███████████████████████████████████████▊                               [ time left: 01:18 ]\u001b[A\n",
      "Generating embeddings:  71%|█████████████████████████████████████████████████▌                     [ time left: 00:47 ]\u001b[A\n",
      "Generating embeddings:  85%|███████████████████████████████████████████████████████████▎           [ time left: 00:23 ]\u001b[A\n",
      "Generating embeddings: 100%|██████████████████████████████████████████████████████████████████████ [ time left: 00:00 ]\u001b[A\n"
     ]
    },
    {
     "name": "stdout",
     "output_type": "stream",
     "text": [
      "72 segments created and vectorized.\n",
      "Index is ready.\n",
      "2 4 6 7 9 10 15 16 17 \n",
      "18 19 22 23 24 26 27 28 29 31 32 33 34 35 36 37 37.2 37.4 37.5 37.6 \n",
      "37.7 37.9 37.10 37.11 37.13 38 38.1 38.2 38.3 38.4 38.5 38.6 38.7 38.8 38.9 39 39.1 39.2 39.3 39.4 \n",
      "39.5 39.6 39.7 39.8 39.9 39.10 39.11 39.12 39.13 39.14 39.15 39.16 39.17 39.18 39.19 39.20 39.21 39.22 39.23 39.24 \n",
      "39.25 39.26 39.27 39.28 39.29 39.30 39.31 39.32 39.33 39.34 39.35 39.36 39.37 39.38 39.39 40 40.1 40.2 40.3 40.4 \n",
      "40.5 40.6 40.7 40.8 40.9 40.10 40.11 40.12 41 43 44 46 47 48 50 51 51.1 51.2 51.4 52 \n",
      "53 54 56 57 58 60 61 62 63 65 "
     ]
    },
    {
     "name": "stderr",
     "output_type": "stream",
     "text": [
      "Config files:  15%|█████████▌                                                      | 3/20 [33:37<3:14:29, 686.41s/file]"
     ]
    },
    {
     "name": "stdout",
     "output_type": "stream",
     "text": [
      "PRECIZITĀTE: 74.40476190476191%\n",
      "Processing config file: C:\\Repos\\vpp-cfla\\config\\IKVD_20213_ESF_SAM.ini\n",
      "Processing file: C:\\Repos\\vpp-cfla\\cfla_files\\IKVD_20213_ESF_SAM\\Nolikums_22.12.2021..docx\n",
      "Processing file: C:\\Repos\\vpp-cfla\\cfla_files\\IKVD_20213_ESF_SAM\\Nolikums_22.12.2021..docx\n"
     ]
    },
    {
     "name": "stderr",
     "output_type": "stream",
     "text": [
      "\n",
      "Generating embeddings:   0%|                                                                           [ time left: ? ]\u001b[A\n",
      "Generating embeddings:  27%|██████████████████▊                                                    [ time left: 00:55 ]\u001b[A\n",
      "Generating embeddings:  51%|███████████████████████████████████▊                                   [ time left: 00:38 ]\u001b[A\n",
      "Generating embeddings:  76%|████████████████████████████████████████████████████▉                  [ time left: 00:21 ]\u001b[A\n",
      "Generating embeddings: 100%|██████████████████████████████████████████████████████████████████████ [ time left: 00:00 ]\u001b[A\n"
     ]
    },
    {
     "name": "stdout",
     "output_type": "stream",
     "text": [
      "41 segments created and vectorized.\n",
      "Index is ready.\n",
      "2 4 6 9 10 15 16 17 19 22 \n",
      "23 24 26 27 28 29 31 32 33 34 35 36 37 37.2 37.4 37.5 37.6 37.7 37.9 37.10 \n",
      "37.11 37.13 38 38.1 38.2 38.3 38.4 38.5 38.6 38.7 38.8 38.9 39 39.1 39.2 39.3 39.4 39.5 39.6 39.7 \n",
      "39.8 39.9 39.10 39.11 39.12 39.13 39.14 39.15 39.16 39.17 39.18 39.19 39.20 39.21 39.22 39.23 39.24 39.25 39.26 39.27 \n",
      "39.28 39.29 39.30 39.31 39.32 39.33 39.34 39.35 39.36 39.37 39.38 39.39 40 40.1 40.2 40.3 40.4 40.5 40.6 40.7 \n",
      "40.8 40.9 40.10 40.11 40.12 41 43 44 46 47 48 50 51 51.1 51.2 51.4 52 53 54 56 \n",
      "57 58 60 61 62 63 65 "
     ]
    },
    {
     "name": "stderr",
     "output_type": "stream",
     "text": [
      "Config files:  20%|████████████▊                                                   | 4/20 [43:13<2:51:25, 642.85s/file]"
     ]
    },
    {
     "name": "stdout",
     "output_type": "stream",
     "text": [
      "PRECIZITĀTE: 60.36585365853659%\n",
      "Processing config file: C:\\Repos\\vpp-cfla\\config\\IP2020_01_ERAF.ini\n",
      "Processing file: C:\\Repos\\vpp-cfla\\cfla_files\\IP2020_01_ERAF\\Nolikums_IP_2020_01_ERAF_pielikumi.docx\n"
     ]
    },
    {
     "name": "stderr",
     "output_type": "stream",
     "text": [
      "\n",
      "Generating embeddings:   0%|                                                                           [ time left: ? ]\u001b[A\n",
      "Generating embeddings:  23%|████████████████▍                                                      [ time left: 01:14 ]\u001b[A\n",
      "Generating embeddings:  45%|███████████████████████████████▎                                       [ time left: 01:01 ]\u001b[A\n",
      "Generating embeddings:  66%|██████████████████████████████████████████████▏                        [ time left: 00:41 ]\u001b[A\n",
      "Generating embeddings: 100%|██████████████████████████████████████████████████████████████████████ [ time left: 00:00 ]\u001b[A\n"
     ]
    },
    {
     "name": "stdout",
     "output_type": "stream",
     "text": [
      "47 segments created and vectorized.\n",
      "Index is ready.\n",
      "2 4 6 7 9 10 15 16 17 18 19 22 23 \n",
      "24 26 27 28 29 31 32 33 34 35 35.1 35.2 35.3 35.5 35.6 35.7 35.8 36 37 37.2 \n",
      "37.4 37.5 37.6 37.7 37.9 37.10 37.11 37.13 38 38.1 38.2 38.3 38.4 38.5 38.6 38.7 38.8 38.9 39 39.1 \n",
      "39.2 39.3 39.4 39.5 39.6 39.7 39.8 39.9 39.10 39.11 39.12 39.13 39.14 39.15 39.16 39.17 39.18 39.19 39.20 39.21 \n",
      "39.22 39.23 39.24 39.25 39.26 39.27 39.28 39.29 39.30 39.31 39.32 39.33 39.34 39.35 39.36 39.37 39.38 39.39 40 40.1 \n",
      "40.2 40.3 40.4 40.5 40.6 40.7 40.8 40.9 40.10 40.11 40.12 41 43 44 46 47 48 50 51 51.1 \n",
      "51.2 51.4 52 53 54 56 57 58 60 61 62 63 65 "
     ]
    },
    {
     "name": "stderr",
     "output_type": "stream",
     "text": [
      "Config files:  25%|████████████████                                                | 5/20 [53:54<2:40:31, 642.13s/file]"
     ]
    },
    {
     "name": "stdout",
     "output_type": "stream",
     "text": [
      "PRECIZITĀTE: 57.14285714285714%\n",
      "Processing config file: C:\\Repos\\vpp-cfla\\config\\IeM_IC_201913.ini\n",
      "Processing file: C:\\Repos\\vpp-cfla\\cfla_files\\IeM_IC_201913\\NOLIKUMS vec.docx\n"
     ]
    },
    {
     "name": "stderr",
     "output_type": "stream",
     "text": [
      "\n",
      "Generating embeddings:   0%|                                                                           [ time left: ? ]\u001b[A\n",
      "Generating embeddings:  15%|██████████▋                                                            [ time left: 01:35 ]\u001b[A\n",
      "Generating embeddings:  29%|████████████████████▍                                                  [ time left: 01:30 ]\u001b[A\n",
      "Generating embeddings:  43%|██████████████████████████████▏                                        [ time left: 01:26 ]\u001b[A\n",
      "Generating embeddings:  57%|███████████████████████████████████████▊                               [ time left: 01:00 ]\u001b[A\n",
      "Generating embeddings:  71%|█████████████████████████████████████████████████▌                     [ time left: 00:40 ]\u001b[A\n",
      "Generating embeddings:  85%|███████████████████████████████████████████████████████████▎           [ time left: 00:26 ]\u001b[A\n",
      "Generating embeddings: 100%|██████████████████████████████████████████████████████████████████████ [ time left: 00:00 ]\u001b[A\n"
     ]
    },
    {
     "name": "stdout",
     "output_type": "stream",
     "text": [
      "72 segments created and vectorized.\n",
      "Index is ready.\n",
      "2 4 6 7 9 10 15 \n",
      "16 17 18 19 22 23 24 26 27 28 29 31 32 33 34 35 36 37 37.2 37.4 \n",
      "37.5 37.6 37.7 37.9 37.10 37.11 37.13 38 38.1 38.2 38.3 38.4 38.5 38.7 38.8 38.9 39 39.1 39.2 39.3 \n",
      "39.4 39.5 39.6 39.7 39.8 39.9 39.10 39.11 39.12 39.13 39.14 39.15 39.16 39.17 39.18 39.19 39.20 39.21 39.22 39.23 \n",
      "39.24 39.25 39.26 39.27 39.28 39.29 39.30 39.31 39.32 39.33 39.34 39.35 39.36 39.37 39.38 39.39 40 40.1 40.2 40.3 \n",
      "40.4 40.5 40.6 40.7 40.8 40.9 40.10 40.11 40.12 41 44 46 47 48 50 51 51.4 52 53 54 \n",
      "56 57 58 60 61 62 63 65 "
     ]
    },
    {
     "name": "stderr",
     "output_type": "stream",
     "text": [
      "Config files:  30%|██████████████████▌                                           | 6/20 [1:04:28<2:29:10, 639.31s/file]"
     ]
    },
    {
     "name": "stdout",
     "output_type": "stream",
     "text": [
      "PRECIZITĀTE: 59.876543209876544%\n",
      "Processing config file: C:\\Repos\\vpp-cfla\\config\\KNP_202215.ini\n",
      "Processing file: C:\\Repos\\vpp-cfla\\cfla_files\\KNP_202215\\Nolikums_2022_15_ar_grozijumiem.docx\n"
     ]
    },
    {
     "name": "stderr",
     "output_type": "stream",
     "text": [
      "\n",
      "Generating embeddings:   0%|                                                                           [ time left: ? ]\u001b[A\n",
      "Generating embeddings:  27%|██████████████████▊                                                    [ time left: 00:52 ]\u001b[A\n",
      "Generating embeddings:  51%|███████████████████████████████████▊                                   [ time left: 00:34 ]\u001b[A\n",
      "Generating embeddings:  76%|████████████████████████████████████████████████████▉                  [ time left: 00:22 ]\u001b[A\n",
      "Generating embeddings: 100%|██████████████████████████████████████████████████████████████████████ [ time left: 00:00 ]\u001b[A\n"
     ]
    },
    {
     "name": "stdout",
     "output_type": "stream",
     "text": [
      "41 segments created and vectorized.\n",
      "Index is ready.\n",
      "2 4 6 9 10 15 16 17 19 22 23 24 \n",
      "26 27 28 29 31 32 33 34 35 35.1 35.2 35.3 35.5 35.6 35.7 35.8 36 37 37.2 37.4 \n",
      "37.5 37.6 37.7 37.9 37.10 37.11 37.13 38 38.1 38.2 38.3 38.4 38.5 38.6 38.7 38.8 38.9 39 39.1 39.2 \n",
      "39.3 39.4 39.5 39.6 39.7 39.8 39.9 39.10 39.11 39.12 39.13 39.14 39.15 39.16 39.17 39.18 39.19 39.20 39.21 39.22 \n",
      "39.23 39.24 39.25 39.26 39.27 39.28 39.29 39.30 39.31 39.32 39.33 39.34 39.35 39.36 39.37 39.38 39.39 40 40.1 40.2 \n",
      "40.3 40.4 40.5 40.6 40.7 40.8 40.9 40.10 40.11 40.12 41 43 44 46 47 48 50 51 51.1 51.2 \n",
      "51.4 52 53 54 56 57 58 60 61 62 63 65 "
     ]
    },
    {
     "name": "stderr",
     "output_type": "stream",
     "text": [
      "Config files:  35%|█████████████████████▋                                        | 7/20 [1:15:30<2:20:06, 646.62s/file]"
     ]
    },
    {
     "name": "stdout",
     "output_type": "stream",
     "text": [
      "PRECIZITĀTE: 71.34146341463415%\n",
      "Processing config file: C:\\Repos\\vpp-cfla\\config\\KP2020016A-KF.ini\n",
      "Processing file: C:\\Repos\\vpp-cfla\\cfla_files\\KP2020016A-KF\\Konkursa_nolikums_TENT_3_posms_GROZIJUMI_16.03.2020.pdf\n",
      "Loaded layout model s3://layout/2025_02_18 on device cpu with dtype torch.float32\n",
      "Loaded texify model s3://texify/2025_02_18 on device cpu with dtype torch.float32\n",
      "Loaded recognition model s3://text_recognition/2025_02_18 on device cpu with dtype torch.float32\n",
      "Loaded table recognition model s3://table_recognition/2025_02_18 on device cpu with dtype torch.float32\n",
      "Loaded detection model s3://text_detection/2025_02_28 on device cpu with dtype torch.float32\n",
      "Loaded detection model s3://inline_math_detection/2025_02_24 on device cpu with dtype torch.float32\n"
     ]
    },
    {
     "name": "stderr",
     "output_type": "stream",
     "text": [
      "\n",
      "Recognizing layout:   0%|                                                                        | 0/3 [00:00<?, ?it/s]\u001b[A\n",
      "Recognizing layout:  33%|█████████████████████▎                                          | 1/3 [00:09<00:18,  9.12s/it]\u001b[A\n",
      "Recognizing layout:  67%|██████████████████████████████████████████▋                     | 2/3 [00:17<00:08,  8.55s/it]\u001b[A\n",
      "Recognizing layout: 100%|████████████████████████████████████████████████████████████████| 3/3 [00:21<00:00,  7.08s/it]\u001b[A\n",
      "\n",
      "Running OCR Error Detection:   0%|                                                               | 0/4 [00:00<?, ?it/s]\u001b[A\n",
      "Running OCR Error Detection:  25%|█████████████▊                                         | 1/4 [00:00<00:01,  1.70it/s]\u001b[A\n",
      "Running OCR Error Detection:  50%|███████████████████████████▌                           | 2/4 [00:01<00:01,  1.70it/s]\u001b[A\n",
      "Running OCR Error Detection:  75%|█████████████████████████████████████████▎             | 3/4 [00:01<00:00,  1.70it/s]\u001b[A\n",
      "Running OCR Error Detection: 100%|███████████████████████████████████████████████████████| 4/4 [00:02<00:00,  1.81it/s]\u001b[A\n",
      "\n",
      "Detecting bboxes: 0it [00:00, ?it/s]\u001b[A\n",
      "\n",
      "Detecting bboxes: 0it [00:00, ?it/s]\u001b[A\n",
      "\n",
      "Recognizing tables:   0%|                                                                        | 0/1 [00:00<?, ?it/s]\u001b[A\n",
      "Recognizing tables: 100%|████████████████████████████████████████████████████████████████| 1/1 [00:10<00:00, 10.50s/it]\u001b[A\n"
     ]
    },
    {
     "name": "stdout",
     "output_type": "stream",
     "text": [
      "Processing file: C:\\Repos\\vpp-cfla\\cfla_files\\KP2020016A-KF\\Konkursa_nolikums_TENT_3_posms_GROZIJUMI_16.03.2020.pdf\n",
      "Loaded layout model s3://layout/2025_02_18 on device cpu with dtype torch.float32\n",
      "Loaded texify model s3://texify/2025_02_18 on device cpu with dtype torch.float32\n",
      "Loaded recognition model s3://text_recognition/2025_02_18 on device cpu with dtype torch.float32\n",
      "Loaded table recognition model s3://table_recognition/2025_02_18 on device cpu with dtype torch.float32\n",
      "Loaded detection model s3://text_detection/2025_02_28 on device cpu with dtype torch.float32\n",
      "Loaded detection model s3://inline_math_detection/2025_02_24 on device cpu with dtype torch.float32\n"
     ]
    },
    {
     "name": "stderr",
     "output_type": "stream",
     "text": [
      "\n",
      "Recognizing layout:   0%|                                                                        | 0/3 [00:00<?, ?it/s]\u001b[A\n",
      "Recognizing layout:  33%|█████████████████████▎                                          | 1/3 [00:08<00:16,  8.46s/it]\u001b[A\n",
      "Recognizing layout:  67%|██████████████████████████████████████████▋                     | 2/3 [00:17<00:08,  8.65s/it]\u001b[A\n",
      "Recognizing layout: 100%|████████████████████████████████████████████████████████████████| 3/3 [00:24<00:00,  8.27s/it]\u001b[A\n",
      "\n",
      "Running OCR Error Detection:   0%|                                                               | 0/5 [00:00<?, ?it/s]\u001b[A\n",
      "Running OCR Error Detection:  20%|███████████                                            | 1/5 [00:00<00:02,  1.58it/s]\u001b[A\n",
      "Running OCR Error Detection:  40%|██████████████████████                                 | 2/5 [00:01<00:01,  1.59it/s]\u001b[A\n",
      "Running OCR Error Detection:  60%|█████████████████████████████████                      | 3/5 [00:01<00:01,  1.58it/s]\u001b[A\n",
      "Running OCR Error Detection:  80%|████████████████████████████████████████████           | 4/5 [00:02<00:00,  1.58it/s]\u001b[A\n",
      "Running OCR Error Detection: 100%|███████████████████████████████████████████████████████| 5/5 [00:02<00:00,  1.85it/s]\u001b[A\n",
      "\n",
      "Detecting bboxes: 0it [00:00, ?it/s]\u001b[A\n",
      "\n",
      "Detecting bboxes: 0it [00:00, ?it/s]\u001b[A\n",
      "\n",
      "Recognizing tables:   0%|                                                                        | 0/1 [00:00<?, ?it/s]\u001b[A\n",
      "Recognizing tables: 100%|████████████████████████████████████████████████████████████████| 1/1 [00:01<00:00,  1.60s/it]\u001b[A\n",
      "\n",
      "Generating embeddings:   0%|                                                                           [ time left: ? ]\u001b[A\n",
      "Generating embeddings:  18%|████████████▌                                                          [ time left: 01:38 ]\u001b[A\n",
      "Generating embeddings:  34%|████████████████████████                                               [ time left: 01:38 ]\u001b[A\n",
      "Generating embeddings:  51%|███████████████████████████████████▌                                   [ time left: 01:05 ]\u001b[A\n",
      "Generating embeddings:  67%|███████████████████████████████████████████████                        [ time left: 00:40 ]\u001b[A\n",
      "Generating embeddings:  84%|██████████████████████████████████████████████████████████▌            [ time left: 00:20 ]\u001b[A\n",
      "Generating embeddings: 100%|██████████████████████████████████████████████████████████████████████ [ time left: 00:00 ]\u001b[A\n"
     ]
    },
    {
     "name": "stdout",
     "output_type": "stream",
     "text": [
      "61 segments created and vectorized.\n",
      "Index is ready.\n",
      "2 4 6 7 9 10 15 16 \n",
      "17 18 19 22 23 24 26 27 28 29 31 32 33 34 35 35.1 35.2 35.3 35.5 35.6 \n",
      "35.7 35.8 36 37 37.2 37.4 37.5 37.6 37.7 37.9 37.10 37.11 37.13 38 38.1 38.2 38.3 38.4 38.5 38.6 \n",
      "38.7 38.8 38.9 39 39.1 39.2 39.3 39.4 39.5 39.6 39.7 39.8 39.9 39.10 39.11 39.12 39.13 39.14 39.15 39.16 \n",
      "39.17 39.18 39.19 39.20 39.21 39.22 39.23 39.24 39.25 39.26 39.27 39.28 39.29 39.30 39.31 39.32 39.33 39.34 39.35 39.36 \n",
      "39.37 39.38 39.39 40 40.1 40.2 40.3 40.4 40.5 40.6 40.7 40.8 40.9 40.10 40.11 40.12 41 43 44 46 \n",
      "47 48 50 51 51.1 51.2 51.4 52 53 54 56 57 58 60 61 62 63 65 "
     ]
    },
    {
     "name": "stderr",
     "output_type": "stream",
     "text": [
      "Config files:  40%|████████████████████████▊                                     | 8/20 [1:31:09<2:27:56, 739.69s/file]"
     ]
    },
    {
     "name": "stdout",
     "output_type": "stream",
     "text": [
      "PRECIZITĀTE: 51.78571428571429%\n",
      "Processing config file: C:\\Repos\\vpp-cfla\\config\\LNP_201976.ini\n",
      "Processing file: C:\\Repos\\vpp-cfla\\cfla_files\\LNP_201976\\Apstiprinats.docx\n"
     ]
    },
    {
     "name": "stderr",
     "output_type": "stream",
     "text": [
      "\n",
      "Generating embeddings:   0%|                                                                           [ time left: ? ]\u001b[A\n",
      "Generating embeddings:  20%|█████████████▊                                                         [ time left: 01:19 ]\u001b[A\n",
      "Generating embeddings:  38%|██████████████████████████▎                                            [ time left: 01:06 ]\u001b[A\n",
      "Generating embeddings:  55%|██████████████████████████████████████▊                                [ time left: 00:46 ]\u001b[A\n",
      "Generating embeddings:  73%|███████████████████████████████████████████████████▎                   [ time left: 00:27 ]\u001b[A\n",
      "Generating embeddings: 100%|██████████████████████████████████████████████████████████████████████ [ time left: 00:00 ]\u001b[A\n"
     ]
    },
    {
     "name": "stdout",
     "output_type": "stream",
     "text": [
      "56 segments created and vectorized.\n",
      "Index is ready.\n",
      "2 4 \n",
      "6 7 9 10 15 16 17 18 19 22 23 24 26 27 28 29 31 32 33 34 \n",
      "35 35.1 35.2 35.3 35.5 35.6 35.7 35.8 36 37 37.2 37.4 37.5 37.6 37.7 37.9 37.10 37.11 37.13 38 \n",
      "38.1 38.2 38.3 38.4 38.5 38.6 38.7 38.8 38.9 39 39.1 39.2 39.3 39.4 39.5 39.6 39.7 39.8 39.9 39.10 \n",
      "39.11 39.12 39.13 39.14 39.15 39.16 39.17 39.18 39.19 39.20 39.21 39.22 39.23 39.24 39.25 39.26 39.27 39.28 39.29 39.30 \n",
      "39.31 39.32 39.33 39.34 39.35 39.36 39.37 39.38 39.39 40 40.1 40.2 40.3 40.4 40.5 40.6 40.7 40.8 40.9 40.10 \n",
      "40.11 40.12 41 43 44 46 47 48 50 51 52 53 54 56 57 58 60 61 62 63 \n",
      "65 "
     ]
    },
    {
     "name": "stderr",
     "output_type": "stream",
     "text": [
      "Config files:  45%|███████████████████████████▉                                  | 9/20 [1:45:39<2:23:04, 780.40s/file]"
     ]
    },
    {
     "name": "stdout",
     "output_type": "stream",
     "text": [
      "PRECIZITĀTE: 66.07142857142857%\n",
      "Processing config file: C:\\Repos\\vpp-cfla\\config\\LNP_202037ERAF.ini\n",
      "Processing file: C:\\Repos\\vpp-cfla\\cfla_files\\LNP_202037ERAF\\Nolikums_pilsdrupas_1.karta.docx\n"
     ]
    },
    {
     "name": "stderr",
     "output_type": "stream",
     "text": [
      "\n",
      "Generating embeddings:   0%|                                                                           [ time left: ? ]\u001b[A\n",
      "Generating embeddings:  31%|█████████████████████▍                                                 [ time left: 00:53 ]\u001b[A\n",
      "Generating embeddings:  58%|████████████████████████████████████████▊                              [ time left: 00:37 ]\u001b[A\n",
      "Generating embeddings: 100%|██████████████████████████████████████████████████████████████████████ [ time left: 00:00 ]\u001b[A\n"
     ]
    },
    {
     "name": "stdout",
     "output_type": "stream",
     "text": [
      "36 segments created and vectorized.\n",
      "Index is ready.\n",
      "2 4 6 7 9 10 15 16 17 18 19 22 23 24 26 27 28 29 31 \n",
      "32 33 34 35 35.1 35.2 35.3 35.5 35.6 35.7 35.8 36 37 37.2 37.4 37.5 37.6 37.7 37.9 37.10 \n",
      "37.11 37.13 38 38.1 38.2 38.3 38.4 38.5 38.6 38.7 38.8 38.9 39 39.1 39.2 39.3 39.4 39.5 39.6 39.7 \n",
      "39.8 39.9 39.10 39.11 39.12 39.13 39.14 39.15 39.16 39.17 39.18 39.19 39.20 39.21 39.22 39.23 39.24 39.25 39.26 39.27 \n",
      "39.28 39.29 39.30 39.31 39.32 39.33 39.34 39.35 39.36 39.37 39.38 39.39 40 40.1 40.2 40.3 40.4 40.5 40.6 40.7 \n",
      "40.8 40.9 40.10 40.11 40.12 41 43 44 46 47 48 50 51 52 53 54 56 57 58 60 \n",
      "61 62 63 65 "
     ]
    },
    {
     "name": "stderr",
     "output_type": "stream",
     "text": [
      "Config files:  50%|██████████████████████████████▌                              | 10/20 [1:59:34<2:12:52, 797.29s/file]"
     ]
    },
    {
     "name": "stdout",
     "output_type": "stream",
     "text": [
      "PRECIZITĀTE: 63.095238095238095%\n",
      "Processing config file: C:\\Repos\\vpp-cfla\\config\\LU_202049_ERAF.ini\n",
      "Processing file: C:\\Repos\\vpp-cfla\\cfla_files\\LU_202049_ERAF\\Nolikums.docx\n",
      "Processing file: C:\\Repos\\vpp-cfla\\cfla_files\\LU_202049_ERAF\\Nolikums.docx\n",
      "An exception occurred: FileNotFoundError 2\n"
     ]
    },
    {
     "name": "stderr",
     "output_type": "stream",
     "text": [
      "\n",
      "Generating embeddings:   0%|                                                                           [ time left: ? ]\u001b[A\n",
      "Generating embeddings: 100%|██████████████████████████████████████████████████████████████████████ [ time left: 00:00 ]\u001b[A\n"
     ]
    },
    {
     "name": "stdout",
     "output_type": "stream",
     "text": [
      "17 segments created and vectorized.\n",
      "Index is ready.\n",
      "2 4 6 7 9 10 15 16 17 18 19 22 23 24 26 27 \n",
      "28 29 31 32 33 34 35 35.1 35.2 35.3 35.5 35.6 35.7 35.8 36 37 37.2 37.4 37.5 37.6 \n",
      "37.7 37.9 37.10 37.11 37.13 38 38.1 38.2 38.3 38.4 38.5 38.6 38.7 38.8 38.9 39 39.1 39.2 39.3 39.4 \n",
      "39.5 39.6 39.7 39.8 39.9 39.10 39.11 39.12 39.13 39.14 39.15 39.16 39.17 39.18 39.19 39.20 39.21 39.22 39.23 39.24 \n",
      "39.25 39.26 39.27 39.28 39.29 39.30 39.31 39.32 39.33 39.34 39.35 39.36 39.37 39.38 39.39 40 40.1 40.2 40.3 40.4 \n",
      "40.5 40.6 40.7 40.8 40.9 40.10 40.11 40.12 41 43 44 46 47 48 50 51 51.1 51.2 51.4 52 \n",
      "53 54 56 57 58 60 61 62 63 65 "
     ]
    },
    {
     "name": "stderr",
     "output_type": "stream",
     "text": [
      "Config files:  55%|█████████████████████████████████▌                           | 11/20 [2:10:41<1:53:36, 757.36s/file]"
     ]
    },
    {
     "name": "stdout",
     "output_type": "stream",
     "text": [
      "PRECIZITĀTE: 62.5%\n",
      "Processing config file: C:\\Repos\\vpp-cfla\\config\\MNP_202121_ERAF.ini\n",
      "Processing file: C:\\Repos\\vpp-cfla\\cfla_files\\MNP_202121_ERAF\\MNP2021_21_ERAF_nolikums_12-07-2021.doc.pdf\n",
      "Loaded layout model s3://layout/2025_02_18 on device cpu with dtype torch.float32\n",
      "Loaded texify model s3://texify/2025_02_18 on device cpu with dtype torch.float32\n",
      "Loaded recognition model s3://text_recognition/2025_02_18 on device cpu with dtype torch.float32\n",
      "Loaded table recognition model s3://table_recognition/2025_02_18 on device cpu with dtype torch.float32\n",
      "Loaded detection model s3://text_detection/2025_02_28 on device cpu with dtype torch.float32\n",
      "Loaded detection model s3://inline_math_detection/2025_02_24 on device cpu with dtype torch.float32\n"
     ]
    },
    {
     "name": "stderr",
     "output_type": "stream",
     "text": [
      "\n",
      "Recognizing layout:   0%|                                                                        | 0/9 [00:00<?, ?it/s]\u001b[A\n",
      "Recognizing layout:  11%|███████                                                         | 1/9 [00:08<01:07,  8.46s/it]\u001b[A\n",
      "Recognizing layout:  22%|██████████████▏                                                 | 2/9 [00:16<00:57,  8.24s/it]\u001b[A\n",
      "Recognizing layout:  33%|█████████████████████▎                                          | 3/9 [00:24<00:49,  8.26s/it]\u001b[A\n",
      "Recognizing layout:  44%|████████████████████████████▍                                   | 4/9 [00:33<00:42,  8.46s/it]\u001b[A\n",
      "Recognizing layout:  56%|███████████████████████████████████▌                            | 5/9 [00:42<00:34,  8.53s/it]\u001b[A\n",
      "Recognizing layout:  67%|██████████████████████████████████████████▋                     | 6/9 [00:50<00:25,  8.54s/it]\u001b[A\n",
      "Recognizing layout:  78%|█████████████████████████████████████████████████▊              | 7/9 [00:59<00:17,  8.58s/it]\u001b[A\n",
      "Recognizing layout:  89%|████████████████████████████████████████████████████████▉       | 8/9 [01:08<00:08,  8.69s/it]\u001b[A\n",
      "Recognizing layout: 100%|████████████████████████████████████████████████████████████████| 9/9 [01:15<00:00,  8.41s/it]\u001b[A\n",
      "\n",
      "Running OCR Error Detection:   0%|                                                              | 0/14 [00:00<?, ?it/s]\u001b[A\n",
      "Running OCR Error Detection:   7%|███▊                                                  | 1/14 [00:00<00:07,  1.63it/s]\u001b[A\n",
      "Running OCR Error Detection:  14%|███████▋                                              | 2/14 [00:01<00:07,  1.60it/s]\u001b[A\n",
      "Running OCR Error Detection:  21%|███████████▌                                          | 3/14 [00:01<00:06,  1.59it/s]\u001b[A\n",
      "Running OCR Error Detection:  29%|███████████████▍                                      | 4/14 [00:02<00:06,  1.58it/s]\u001b[A\n",
      "Running OCR Error Detection:  36%|███████████████████▎                                  | 5/14 [00:03<00:05,  1.58it/s]\u001b[A\n",
      "Running OCR Error Detection:  43%|███████████████████████▏                              | 6/14 [00:03<00:05,  1.58it/s]\u001b[A\n",
      "Running OCR Error Detection:  50%|███████████████████████████                           | 7/14 [00:04<00:04,  1.58it/s]\u001b[A\n",
      "Running OCR Error Detection:  57%|██████████████████████████████▊                       | 8/14 [00:05<00:03,  1.57it/s]\u001b[A\n",
      "Running OCR Error Detection:  64%|██████████████████████████████████▋                   | 9/14 [00:05<00:03,  1.57it/s]\u001b[A\n",
      "Running OCR Error Detection:  71%|█████████████████████████████████████▊               | 10/14 [00:06<00:02,  1.58it/s]\u001b[A\n",
      "Running OCR Error Detection:  79%|█████████████████████████████████████████▋           | 11/14 [00:06<00:01,  1.57it/s]\u001b[A\n",
      "Running OCR Error Detection:  86%|█████████████████████████████████████████████▍       | 12/14 [00:07<00:01,  1.57it/s]\u001b[A\n",
      "Running OCR Error Detection:  93%|█████████████████████████████████████████████████▏   | 13/14 [00:08<00:00,  1.56it/s]\u001b[A\n",
      "Running OCR Error Detection: 100%|█████████████████████████████████████████████████████| 14/14 [00:08<00:00,  1.66it/s]\u001b[A\n",
      "\n",
      "Detecting bboxes: 0it [00:00, ?it/s]\u001b[A\n",
      "\n",
      "Detecting bboxes: 0it [00:00, ?it/s]\u001b[A\n",
      "\n",
      "Recognizing tables:   0%|                                                                        | 0/3 [00:00<?, ?it/s]\u001b[A\n",
      "Recognizing tables:  33%|█████████████████████▎                                          | 1/3 [00:08<00:16,  8.34s/it]\u001b[A\n",
      "Recognizing tables:  67%|██████████████████████████████████████████▋                     | 2/3 [00:17<00:09,  9.00s/it]\u001b[A\n",
      "Recognizing tables: 100%|████████████████████████████████████████████████████████████████| 3/3 [00:24<00:00,  8.00s/it]\u001b[A\n"
     ]
    },
    {
     "name": "stdout",
     "output_type": "stream",
     "text": [
      "Processing file: C:\\Repos\\vpp-cfla\\cfla_files\\MNP_202121_ERAF\\MNP2021_21_ERAF_nolikums_12-07-2021.doc.pdf\n",
      "Loaded layout model s3://layout/2025_02_18 on device cpu with dtype torch.float32\n",
      "Loaded texify model s3://texify/2025_02_18 on device cpu with dtype torch.float32\n",
      "Loaded recognition model s3://text_recognition/2025_02_18 on device cpu with dtype torch.float32\n",
      "Loaded table recognition model s3://table_recognition/2025_02_18 on device cpu with dtype torch.float32\n",
      "Loaded detection model s3://text_detection/2025_02_28 on device cpu with dtype torch.float32\n",
      "Loaded detection model s3://inline_math_detection/2025_02_24 on device cpu with dtype torch.float32\n"
     ]
    },
    {
     "name": "stderr",
     "output_type": "stream",
     "text": [
      "\n",
      "Recognizing layout:   0%|                                                                        | 0/4 [00:00<?, ?it/s]\u001b[A\n",
      "Recognizing layout:  25%|████████████████                                                | 1/4 [00:08<00:24,  8.06s/it]\u001b[A\n",
      "Recognizing layout:  50%|████████████████████████████████                                | 2/4 [00:16<00:16,  8.37s/it]\u001b[A\n",
      "Recognizing layout:  75%|████████████████████████████████████████████████                | 3/4 [00:25<00:08,  8.43s/it]\u001b[A\n",
      "Recognizing layout: 100%|████████████████████████████████████████████████████████████████| 4/4 [00:28<00:00,  7.01s/it]\u001b[A\n",
      "\n",
      "Running OCR Error Detection:   0%|                                                               | 0/5 [00:00<?, ?it/s]\u001b[A\n",
      "Running OCR Error Detection:  20%|███████████                                            | 1/5 [00:00<00:02,  1.62it/s]\u001b[A\n",
      "Running OCR Error Detection:  40%|██████████████████████                                 | 2/5 [00:01<00:01,  1.59it/s]\u001b[A\n",
      "Running OCR Error Detection:  60%|█████████████████████████████████                      | 3/5 [00:01<00:01,  1.59it/s]\u001b[A\n",
      "Running OCR Error Detection:  80%|████████████████████████████████████████████           | 4/5 [00:02<00:00,  1.58it/s]\u001b[A\n",
      "Running OCR Error Detection: 100%|███████████████████████████████████████████████████████| 5/5 [00:03<00:00,  1.58it/s]\u001b[A\n",
      "\n",
      "Detecting bboxes: 0it [00:00, ?it/s]\u001b[A\n",
      "\n",
      "Detecting bboxes: 0it [00:00, ?it/s]\u001b[A\n",
      "\n",
      "Recognizing tables:   0%|                                                                        | 0/1 [00:00<?, ?it/s]\u001b[A\n",
      "Recognizing tables: 100%|████████████████████████████████████████████████████████████████| 1/1 [00:04<00:00,  4.14s/it]\u001b[A\n",
      "\n",
      "Generating embeddings:   0%|                                                                           [ time left: ? ]\u001b[A\n",
      "Generating embeddings:   1%|▌                                                                      [ time left: 00:11 ]\u001b[A\n",
      "Generating embeddings:   9%|██████▌                                                                [ time left: 00:56 ]\u001b[A\n",
      "Generating embeddings:  18%|████████████▍                                                          [ time left: 01:41 ]\u001b[A\n",
      "Generating embeddings:  26%|██████████████████▍                                                    [ time left: 02:01 ]\u001b[A\n",
      "Generating embeddings:  35%|████████████████████████▎                                              [ time left: 02:14 ]\u001b[A\n",
      "Generating embeddings:  43%|██████████████████████████████▎                                        [ time left: 01:57 ]\u001b[A\n",
      "Generating embeddings:  52%|████████████████████████████████████▏                                  [ time left: 01:40 ]\u001b[A\n",
      "Generating embeddings:  60%|██████████████████████████████████████████                             [ time left: 01:24 ]\u001b[A\n",
      "Generating embeddings:  69%|████████████████████████████████████████████████                       [ time left: 01:08 ]\u001b[A\n",
      "Generating embeddings:  77%|█████████████████████████████████████████████████████▉                 [ time left: 00:49 ]\u001b[A\n",
      "Generating embeddings:  86%|███████████████████████████████████████████████████████████▉           [ time left: 00:30 ]\u001b[A\n",
      "Generating embeddings: 100%|██████████████████████████████████████████████████████████████████████ [ time left: 00:00 ]\u001b[A\n"
     ]
    },
    {
     "name": "stdout",
     "output_type": "stream",
     "text": [
      "118 segments created and vectorized.\n",
      "Index is ready.\n",
      "2 4 6 9 10 15 16 17 19 22 \n",
      "23 24 26 27 28 29 31 32 33 34 35 36 37 37.2 37.4 37.5 37.6 37.7 37.9 37.10 \n",
      "37.11 37.13 38 38.1 38.2 38.3 38.4 38.5 38.6 38.7 38.8 38.9 39 39.1 39.2 39.3 39.4 39.5 39.6 39.7 \n",
      "39.8 39.9 39.10 39.11 39.12 39.13 39.14 39.15 39.16 39.17 39.18 39.19 39.20 39.21 39.22 39.23 39.24 39.25 39.26 39.27 \n",
      "39.28 39.29 39.30 39.31 39.32 39.33 39.34 39.35 39.36 39.37 39.38 39.39 40 40.1 40.2 40.3 40.4 40.5 40.6 40.7 \n",
      "40.8 40.9 40.10 40.11 40.12 41 43 44 46 47 48 50 51 51.1 51.2 51.4 52 53 54 56 \n",
      "57 58 60 61 62 63 65 "
     ]
    },
    {
     "name": "stderr",
     "output_type": "stream",
     "text": [
      "Config files:  60%|████████████████████████████████████▌                        | 12/20 [2:23:57<1:42:33, 769.13s/file]"
     ]
    },
    {
     "name": "stdout",
     "output_type": "stream",
     "text": [
      "PRECIZITĀTE: 54.87804878048781%\n",
      "Processing config file: C:\\Repos\\vpp-cfla\\config\\PND_2019_15-ERAF.ini\n",
      "Processing file: C:\\Repos\\vpp-cfla\\cfla_files\\PND_2019_15-ERAF\\Nolikums_ar_grozijumiem_2.docx\n"
     ]
    },
    {
     "name": "stderr",
     "output_type": "stream",
     "text": [
      "\n",
      "Generating embeddings:   0%|                                                                           [ time left: ? ]\u001b[A\n",
      "Generating embeddings:  22%|███████████████                                                        [ time left: 01:04 ]\u001b[A\n",
      "Generating embeddings:  41%|████████████████████████████▊                                          [ time left: 00:50 ]\u001b[A\n",
      "Generating embeddings:  61%|██████████████████████████████████████████▌                            [ time left: 00:38 ]\u001b[A\n",
      "Generating embeddings:  80%|████████████████████████████████████████████████████████▎              [ time left: 00:19 ]\u001b[A\n",
      "Generating embeddings: 100%|██████████████████████████████████████████████████████████████████████ [ time left: 00:00 ]\u001b[A\n"
     ]
    },
    {
     "name": "stdout",
     "output_type": "stream",
     "text": [
      "51 segments created and vectorized.\n",
      "Index is ready.\n",
      "2 4 6 7 9 10 15 16 17 18 19 22 23 \n",
      "24 26 27 28 29 31 32 33 34 35 35.1 35.2 35.5 35.6 35.7 35.8 36 37 37.2 37.4 \n",
      "37.5 37.6 37.7 37.9 37.10 37.11 37.13 38 38.1 38.2 38.3 38.4 38.5 38.7 38.8 38.9 39 39.1 39.2 39.3 \n",
      "39.4 39.5 39.6 39.7 39.8 39.9 39.10 39.11 39.12 39.13 39.14 39.15 39.16 39.17 39.18 39.19 39.20 39.21 39.22 39.23 \n",
      "39.24 39.25 39.26 39.27 39.28 39.29 39.30 39.31 39.32 39.33 39.34 39.35 39.36 39.37 39.38 39.39 40 40.1 40.2 40.3 \n",
      "40.4 40.5 40.6 40.7 40.8 40.9 40.10 40.11 40.12 41 44 46 47 48 50 51 51.4 52 53 54 \n",
      "56 57 58 60 61 62 63 65 "
     ]
    },
    {
     "name": "stderr",
     "output_type": "stream",
     "text": [
      "Config files:  65%|███████████████████████████████████████▋                     | 13/20 [2:33:36<1:23:01, 711.58s/file]"
     ]
    },
    {
     "name": "stdout",
     "output_type": "stream",
     "text": [
      "PRECIZITĀTE: 70.98765432098766%\n",
      "Processing config file: C:\\Repos\\vpp-cfla\\config\\RTK_2019_12.ini\n",
      "Processing file: C:\\Repos\\vpp-cfla\\cfla_files\\RTK_2019_12\\Nolikums.docx\n"
     ]
    },
    {
     "name": "stderr",
     "output_type": "stream",
     "text": [
      "\n",
      "Generating embeddings:   0%|                                                                           [ time left: ? ]\u001b[A\n",
      "Generating embeddings:   2%|█▎                                                                     [ time left: 00:05 ]\u001b[A\n",
      "Generating embeddings:  20%|██████████████▎                                                        [ time left: 01:06 ]\u001b[A\n",
      "Generating embeddings:  39%|███████████████████████████▏                                           [ time left: 00:56 ]\u001b[A\n",
      "Generating embeddings:  57%|████████████████████████████████████████▏                              [ time left: 01:02 ]\u001b[A\n",
      "Generating embeddings:  76%|█████████████████████████████████████████████████████▏                 [ time left: 00:35 ]\u001b[A\n",
      "Generating embeddings: 100%|██████████████████████████████████████████████████████████████████████ [ time left: 00:00 ]\u001b[A\n"
     ]
    },
    {
     "name": "stdout",
     "output_type": "stream",
     "text": [
      "54 segments created and vectorized.\n",
      "Index is ready.\n",
      "2 4 6 7 9 10 15 16 17 18 19 22 \n",
      "23 24 26 27 28 29 31 32 33 34 35 35.1 35.2 35.5 35.6 35.7 35.8 36 37 37.2 \n",
      "37.4 37.5 37.6 37.7 37.9 37.10 37.11 37.13 38 38.1 38.2 38.3 38.4 38.5 38.7 38.8 38.9 39 39.1 39.2 \n",
      "39.3 39.4 39.5 39.6 39.7 39.8 39.9 39.10 39.11 39.12 39.13 39.14 39.15 39.16 39.17 39.18 39.19 39.20 39.21 39.22 \n",
      "39.23 39.24 39.25 39.26 39.27 39.28 39.29 39.30 39.31 39.32 39.33 39.34 39.35 39.36 39.37 39.38 39.39 40 40.1 40.2 \n",
      "40.3 40.4 40.5 40.6 40.7 40.8 40.9 40.10 40.11 40.12 41 44 46 47 48 50 51 51.4 52 53 \n",
      "54 56 57 58 60 61 62 63 65 "
     ]
    },
    {
     "name": "stderr",
     "output_type": "stream",
     "text": [
      "Config files:  70%|██████████████████████████████████████████▋                  | 14/20 [2:42:51<1:06:26, 664.42s/file]"
     ]
    },
    {
     "name": "stdout",
     "output_type": "stream",
     "text": [
      "PRECIZITĀTE: 59.25925925925925%\n",
      "Processing config file: C:\\Repos\\vpp-cfla\\config\\SND_202015-ERAF.ini\n",
      "Processing file: C:\\Repos\\vpp-cfla\\cfla_files\\SND_202015-ERAF\\SND_2020_ERAF_DI_projektesana_buvnieciba_groz_06082020.pdf\n",
      "Loaded layout model s3://layout/2025_02_18 on device cpu with dtype torch.float32\n",
      "Loaded texify model s3://texify/2025_02_18 on device cpu with dtype torch.float32\n",
      "Loaded recognition model s3://text_recognition/2025_02_18 on device cpu with dtype torch.float32\n",
      "Loaded table recognition model s3://table_recognition/2025_02_18 on device cpu with dtype torch.float32\n",
      "Loaded detection model s3://text_detection/2025_02_28 on device cpu with dtype torch.float32\n",
      "Loaded detection model s3://inline_math_detection/2025_02_24 on device cpu with dtype torch.float32\n"
     ]
    },
    {
     "name": "stderr",
     "output_type": "stream",
     "text": [
      "\n",
      "Recognizing layout:   0%|                                                                        | 0/4 [00:00<?, ?it/s]\u001b[A\n",
      "Recognizing layout:  25%|████████████████                                                | 1/4 [00:08<00:26,  8.79s/it]\u001b[A\n",
      "Recognizing layout:  50%|████████████████████████████████                                | 2/4 [00:16<00:16,  8.20s/it]\u001b[A\n",
      "Recognizing layout:  75%|████████████████████████████████████████████████                | 3/4 [00:24<00:08,  8.10s/it]\u001b[A\n",
      "Recognizing layout: 100%|████████████████████████████████████████████████████████████████| 4/4 [00:26<00:00,  6.57s/it]\u001b[A\n",
      "\n",
      "Running OCR Error Detection:   0%|                                                               | 0/5 [00:00<?, ?it/s]\u001b[A\n",
      "Running OCR Error Detection:  20%|███████████                                            | 1/5 [00:00<00:02,  1.60it/s]\u001b[A\n",
      "Running OCR Error Detection:  40%|██████████████████████                                 | 2/5 [00:01<00:01,  1.60it/s]\u001b[A\n",
      "Running OCR Error Detection:  60%|█████████████████████████████████                      | 3/5 [00:01<00:01,  1.61it/s]\u001b[A\n",
      "Running OCR Error Detection:  80%|████████████████████████████████████████████           | 4/5 [00:02<00:00,  1.61it/s]\u001b[A\n",
      "Running OCR Error Detection: 100%|███████████████████████████████████████████████████████| 5/5 [00:02<00:00,  1.68it/s]\u001b[A\n",
      "\n",
      "Detecting bboxes: 0it [00:00, ?it/s]\u001b[A\n",
      "\n",
      "Detecting bboxes: 0it [00:00, ?it/s]\u001b[A\n",
      "\n",
      "Recognizing tables:   0%|                                                                        | 0/2 [00:00<?, ?it/s]\u001b[A\n",
      "Recognizing tables:  50%|████████████████████████████████                                | 1/2 [00:11<00:11, 11.53s/it]\u001b[A\n",
      "Recognizing tables: 100%|████████████████████████████████████████████████████████████████| 2/2 [00:14<00:00,  7.04s/it]\u001b[A\n"
     ]
    },
    {
     "name": "stdout",
     "output_type": "stream",
     "text": [
      "Processing file: C:\\Repos\\vpp-cfla\\cfla_files\\SND_202015-ERAF\\SND_2020_ERAF_DI_projektesana_buvnieciba_groz_06082020.pdf\n"
     ]
    },
    {
     "name": "stderr",
     "output_type": "stream",
     "text": [
      "\n",
      "Generating embeddings:   0%|                                                                           [ time left: ? ]\u001b[A\n",
      "Generating embeddings:   1%|▊                                                                      [ time left: 00:10 ]\u001b[A\n",
      "Generating embeddings:  12%|████████▎                                                              [ time left: 02:14 ]\u001b[A\n",
      "Generating embeddings:  23%|███████████████▊                                                       [ time left: 01:56 ]\u001b[A\n",
      "Generating embeddings:  33%|███████████████████████▎                                               [ time left: 02:18 ]\u001b[A\n",
      "Generating embeddings:  44%|██████████████████████████████▊                                        [ time left: 01:55 ]\u001b[A\n",
      "Generating embeddings:  55%|██████████████████████████████████████▍                                [ time left: 01:27 ]\u001b[A\n",
      "Generating embeddings:  66%|█████████████████████████████████████████████▉                         [ time left: 01:11 ]\u001b[A\n",
      "Generating embeddings:  76%|█████████████████████████████████████████████████████▍                 [ time left: 00:45 ]\u001b[A\n",
      "Generating embeddings:  87%|████████████████████████████████████████████████████████████▉          [ time left: 00:24 ]\u001b[A\n",
      "Generating embeddings: 100%|██████████████████████████████████████████████████████████████████████ [ time left: 00:00 ]\u001b[A\n"
     ]
    },
    {
     "name": "stdout",
     "output_type": "stream",
     "text": [
      "93 segments created and vectorized.\n",
      "Index is ready.\n",
      "2 4 6 7 9 10 15 16 17 18 19 \n",
      "22 23 24 26 27 28 29 31 32 33 34 35 35.1 35.2 35.3 35.5 35.6 35.7 35.8 36 \n",
      "37 37.2 37.4 37.5 37.6 37.7 37.9 37.10 37.11 37.13 38 38.1 38.2 38.3 38.4 38.5 38.6 38.7 38.8 38.9 \n",
      "39 39.1 39.2 39.3 39.4 39.5 39.6 39.7 39.8 39.9 39.10 39.11 39.12 39.13 39.14 39.15 39.16 39.17 39.18 39.19 \n",
      "39.20 39.21 39.22 39.23 39.24 39.25 39.26 39.27 39.28 39.29 39.30 39.31 39.32 39.33 39.34 39.35 39.36 39.37 39.38 39.39 \n",
      "40 40.1 40.2 40.3 40.4 40.5 40.6 40.7 40.8 40.9 40.10 40.11 40.12 41 43 44 46 47 48 50 \n",
      "51 51.1 51.2 51.4 52 53 54 56 57 58 60 61 62 63 65 PRECIZITĀTE: 51.19047619047619%\n"
     ]
    },
    {
     "name": "stderr",
     "output_type": "stream",
     "text": [
      "Config files:  75%|█████████████████████████████████████████████▊               | 15/20 [3:00:39<1:05:29, 785.95s/file]"
     ]
    },
    {
     "name": "stdout",
     "output_type": "stream",
     "text": [
      "Processing config file: C:\\Repos\\vpp-cfla\\config\\SNP_202001.ini\n",
      "Processing file: C:\\Repos\\vpp-cfla\\cfla_files\\SNP_202001\\Nolikums_pielikumi_SNP_2020_1.docx\n"
     ]
    },
    {
     "name": "stderr",
     "output_type": "stream",
     "text": [
      "\n",
      "Generating embeddings:   0%|                                                                           [ time left: ? ]\u001b[A\n",
      "Generating embeddings:   1%|▋                                                                      [ time left: 00:12 ]\u001b[A\n",
      "Generating embeddings:  10%|███████▎                                                               [ time left: 03:27 ]\u001b[A\n",
      "Generating embeddings:  20%|██████████████                                                         [ time left: 02:55 ]\u001b[A\n",
      "Generating embeddings:  30%|████████████████████▋                                                  [ time left: 02:42 ]\u001b[A\n",
      "Generating embeddings:  39%|███████████████████████████▎                                           [ time left: 02:18 ]\u001b[A\n",
      "Generating embeddings:  49%|██████████████████████████████████                                     [ time left: 02:00 ]\u001b[A\n",
      "Generating embeddings:  58%|████████████████████████████████████████▋                              [ time left: 01:33 ]\u001b[A\n",
      "Generating embeddings:  68%|███████████████████████████████████████████████▎                       [ time left: 01:19 ]\u001b[A\n",
      "Generating embeddings:  77%|██████████████████████████████████████████████████████                 [ time left: 00:56 ]\u001b[A\n",
      "Generating embeddings:  87%|████████████████████████████████████████████████████████████▋          [ time left: 00:34 ]\u001b[A\n",
      "Generating embeddings: 100%|██████████████████████████████████████████████████████████████████████ [ time left: 00:00 ]\u001b[A\n"
     ]
    },
    {
     "name": "stdout",
     "output_type": "stream",
     "text": [
      "105 segments created and vectorized.\n",
      "Index is ready.\n",
      "2 4 6 7 9 \n",
      "10 15 16 17 18 19 22 23 24 26 27 28 29 31 32 33 34 35 35.1 35.2 \n",
      "35.3 35.5 35.6 35.7 35.8 36 37 37.2 37.4 37.5 37.6 37.7 37.9 37.10 37.11 37.13 38 38.1 38.2 38.3 \n",
      "38.4 38.5 38.6 38.7 38.8 38.9 39 39.1 39.2 39.3 39.4 39.5 39.6 39.7 39.8 39.9 39.10 39.11 39.12 39.13 \n",
      "39.14 39.15 39.16 39.17 39.18 39.19 39.20 39.21 39.22 39.23 39.24 39.25 39.26 39.27 39.28 39.29 39.30 39.31 39.32 39.33 \n",
      "39.34 39.35 39.36 39.37 39.38 39.39 40 40.1 40.2 40.3 40.4 40.5 40.6 40.7 40.8 40.9 40.10 40.11 40.12 41 \n",
      "43 44 46 47 48 50 51 51.1 51.2 51.4 52 53 54 56 57 58 60 61 62 63 \n",
      "65 "
     ]
    },
    {
     "name": "stderr",
     "output_type": "stream",
     "text": [
      "Config files:  80%|██████████████████████████████████████████████████▍            | 16/20 [3:16:11<55:19, 829.95s/file]"
     ]
    },
    {
     "name": "stdout",
     "output_type": "stream",
     "text": [
      "PRECIZITĀTE: 59.523809523809526%\n",
      "Processing config file: C:\\Repos\\vpp-cfla\\config\\SNP_202067.ini\n",
      "Processing file: C:\\Repos\\vpp-cfla\\cfla_files\\SNP_202067\\Nolikums_pielikumi.docx\n"
     ]
    },
    {
     "name": "stderr",
     "output_type": "stream",
     "text": [
      "\n",
      "Generating embeddings:   0%|                                                                           [ time left: ? ]\u001b[A\n",
      "Generating embeddings:   1%|▋                                                                      [ time left: 00:13 ]\u001b[A\n",
      "Generating embeddings:  11%|███████▊                                                               [ time left: 03:11 ]\u001b[A\n",
      "Generating embeddings:  21%|██████████████▊                                                        [ time left: 02:42 ]\u001b[A\n",
      "Generating embeddings:  31%|█████████████████████▉                                                 [ time left: 02:20 ]\u001b[A\n",
      "Generating embeddings:  42%|█████████████████████████████▋                                         [ time left: 01:56 ]\u001b[A\n",
      "Generating embeddings:  62%|███████████████████████████████████████████▏                           [ time left: 01:01 ]\u001b[A\n",
      "Generating embeddings:  72%|██████████████████████████████████████████████████▏                    [ time left: 00:54 ]\u001b[A\n",
      "Generating embeddings:  82%|█████████████████████████████████████████████████████████▎             [ time left: 00:38 ]\u001b[A\n",
      "Generating embeddings: 100%|██████████████████████████████████████████████████████████████████████ [ time left: 00:00 ]\u001b[A\n"
     ]
    },
    {
     "name": "stdout",
     "output_type": "stream",
     "text": [
      "99 segments created and vectorized.\n",
      "Index is ready.\n",
      "2 4 6 7 9 10 15 16 17 18 19 22 23 24 26 27 28 29 31 \n",
      "32 33 34 35 35.1 35.2 35.3 35.5 35.6 35.7 35.8 36 37 37.2 37.4 37.5 37.6 37.7 37.9 37.10 \n",
      "37.11 37.13 38 38.1 38.2 38.3 38.4 38.5 38.6 38.7 38.8 38.9 39 39.1 39.2 39.3 39.4 39.5 39.6 39.7 \n",
      "39.8 39.9 39.10 39.11 39.12 39.13 39.14 39.15 39.16 39.17 39.18 39.19 39.20 39.21 39.22 39.23 39.24 39.25 39.26 39.27 \n",
      "39.28 39.29 39.30 39.31 39.32 39.33 39.34 39.35 39.36 39.37 39.38 39.39 40 40.1 40.2 40.3 40.4 40.5 40.6 40.7 \n",
      "40.8 40.9 40.10 40.11 40.12 41 43 44 46 47 48 50 51 51.1 51.2 51.4 52 53 54 56 \n",
      "57 58 60 61 62 63 65 "
     ]
    },
    {
     "name": "stderr",
     "output_type": "stream",
     "text": [
      "Config files:  85%|█████████████████████████████████████████████████████▌         | 17/20 [3:31:39<42:58, 859.55s/file]"
     ]
    },
    {
     "name": "stdout",
     "output_type": "stream",
     "text": [
      "PRECIZITĀTE: 59.523809523809526%\n",
      "Processing config file: C:\\Repos\\vpp-cfla\\config\\VND_20201.ini\n",
      "Processing file: C:\\Repos\\vpp-cfla\\cfla_files\\VND_20201\\Nolikums-Buvnieciba (1).docx\n"
     ]
    },
    {
     "name": "stderr",
     "output_type": "stream",
     "text": [
      "\n",
      "Generating embeddings:   0%|                                                                           [ time left: ? ]\u001b[A\n",
      "Generating embeddings:   2%|█▎                                                                     [ time left: 00:07 ]\u001b[A\n",
      "Generating embeddings:  21%|██████████████▌                                                        [ time left: 01:17 ]\u001b[A\n",
      "Generating embeddings:  40%|███████████████████████████▋                                           [ time left: 01:08 ]\u001b[A\n",
      "Generating embeddings:  58%|████████████████████████████████████████▉                              [ time left: 00:45 ]\u001b[A\n",
      "Generating embeddings:  77%|██████████████████████████████████████████████████████▏                [ time left: 00:23 ]\u001b[A\n",
      "Generating embeddings: 100%|██████████████████████████████████████████████████████████████████████ [ time left: 00:00 ]\u001b[A\n"
     ]
    },
    {
     "name": "stdout",
     "output_type": "stream",
     "text": [
      "53 segments created and vectorized.\n",
      "Index is ready.\n",
      "2 4 6 7 9 10 15 16 17 18 19 22 23 \n",
      "24 26 27 28 29 31 32 33 34 35 35.1 35.2 35.3 35.5 35.6 35.7 35.8 36 37 37.2 \n",
      "37.4 37.5 37.6 37.7 37.9 37.10 37.11 37.13 38 38.1 38.2 38.3 38.4 38.5 38.6 38.7 38.8 38.9 39 39.1 \n",
      "39.2 39.3 39.4 39.5 39.6 39.7 39.8 39.9 39.10 39.11 39.12 39.13 39.14 39.15 39.16 39.17 39.18 39.19 39.20 39.21 \n",
      "39.22 39.23 39.24 39.25 39.26 39.27 39.28 39.29 39.30 39.31 39.32 39.33 39.34 39.35 39.36 39.37 39.38 39.39 40 40.1 \n",
      "40.2 40.3 40.4 40.5 40.6 40.7 40.8 40.9 40.10 40.11 40.12 41 43 44 46 47 48 50 51 51.1 \n",
      "51.2 51.4 52 53 54 56 57 58 60 61 62 63 65 "
     ]
    },
    {
     "name": "stderr",
     "output_type": "stream",
     "text": [
      "Config files:  90%|████████████████████████████████████████████████████████▋      | 18/20 [3:45:54<28:35, 857.99s/file]"
     ]
    },
    {
     "name": "stdout",
     "output_type": "stream",
     "text": [
      "PRECIZITĀTE: 52.38095238095239%\n",
      "Processing config file: C:\\Repos\\vpp-cfla\\config\\VNP_2023057AK.ini\n",
      "Processing file: C:\\Repos\\vpp-cfla\\cfla_files\\VNP_2023057AK\\057AK_ Nolikums_Zilakalna skatu torna parbuve un teritorijas labiekartosana (1).docx\n"
     ]
    },
    {
     "name": "stderr",
     "output_type": "stream",
     "text": [
      "\n",
      "Generating embeddings:   0%|                                                                           [ time left: ? ]\u001b[A\n",
      "Generating embeddings:   2%|█▎                                                                     [ time left: 00:08 ]\u001b[A\n",
      "Generating embeddings:  20%|█████████████▊                                                         [ time left: 01:18 ]\u001b[A\n",
      "Generating embeddings:  38%|██████████████████████████▎                                            [ time left: 00:58 ]\u001b[A\n",
      "Generating embeddings:  55%|██████████████████████████████████████▊                                [ time left: 00:45 ]\u001b[A\n",
      "Generating embeddings:  73%|███████████████████████████████████████████████████▎                   [ time left: 00:26 ]\u001b[A\n",
      "Generating embeddings: 100%|██████████████████████████████████████████████████████████████████████ [ time left: 00:00 ]\u001b[A\n"
     ]
    },
    {
     "name": "stdout",
     "output_type": "stream",
     "text": [
      "56 segments created and vectorized.\n",
      "Index is ready.\n",
      "2 4 6 9 10 16 19 \n",
      "22 23 24 26 27 28 29 31 33 34 35 35.1 35.2 35.3 35.5 35.6 35.7 35.8 36 37 \n",
      "37.2 37.4 37.5 37.6 37.7 37.9 37.10 37.11 37.13 38 38.1 38.2 38.3 38.5 38.6 38.7 38.8 38.9 39 39.1 \n",
      "39.2 39.3 39.4 39.5 39.6 39.7 39.8 39.9 39.10 39.11 39.12 39.13 39.14 39.15 39.16 39.17 39.18 39.19 39.20 39.21 \n",
      "39.22 39.23 39.24 39.25 39.26 39.27 39.28 39.29 39.30 39.31 39.32 39.33 39.34 39.35 39.36 39.37 39.38 39.39 40 40.1 \n",
      "40.2 40.3 40.4 40.5 40.6 40.7 40.8 40.9 40.10 40.11 40.12 41 43 44 46 47 48 50 51 51.1 \n",
      "51.2 51.4 52 53 54 56 57 58 60 61 62 63 65 "
     ]
    },
    {
     "name": "stderr",
     "output_type": "stream",
     "text": [
      "Config files:  95%|███████████████████████████████████████████████████████████▊   | 19/20 [3:55:39<12:56, 776.01s/file]"
     ]
    },
    {
     "name": "stdout",
     "output_type": "stream",
     "text": [
      "PRECIZITĀTE: 59.49367088607595%\n",
      "Processing config file: C:\\Repos\\vpp-cfla\\config\\VeA_202012ERAF.ini\n",
      "Processing file: C:\\Repos\\vpp-cfla\\cfla_files\\VeA_202012ERAF\\VeA_2020_12_ERAF_Nolikums.pdf\n",
      "Loaded layout model s3://layout/2025_02_18 on device cpu with dtype torch.float32\n",
      "Loaded texify model s3://texify/2025_02_18 on device cpu with dtype torch.float32\n",
      "Loaded recognition model s3://text_recognition/2025_02_18 on device cpu with dtype torch.float32\n",
      "Loaded table recognition model s3://table_recognition/2025_02_18 on device cpu with dtype torch.float32\n",
      "Loaded detection model s3://text_detection/2025_02_28 on device cpu with dtype torch.float32\n",
      "Loaded detection model s3://inline_math_detection/2025_02_24 on device cpu with dtype torch.float32\n"
     ]
    },
    {
     "name": "stderr",
     "output_type": "stream",
     "text": [
      "\n",
      "Recognizing layout:   0%|                                                                       | 0/19 [00:00<?, ?it/s]\u001b[A\n",
      "Recognizing layout:   5%|███▎                                                           | 1/19 [00:09<02:45,  9.22s/it]\u001b[A\n",
      "Recognizing layout:  11%|██████▋                                                        | 2/19 [00:17<02:29,  8.78s/it]\u001b[A\n",
      "Recognizing layout:  16%|█████████▉                                                     | 3/19 [00:26<02:19,  8.74s/it]\u001b[A\n",
      "Recognizing layout:  21%|█████████████▎                                                 | 4/19 [00:34<02:06,  8.46s/it]\u001b[A\n",
      "Recognizing layout:  26%|████████████████▌                                              | 5/19 [00:42<01:55,  8.28s/it]\u001b[A\n",
      "Recognizing layout:  32%|███████████████████▉                                           | 6/19 [00:50<01:46,  8.20s/it]\u001b[A\n",
      "Recognizing layout:  37%|███████████████████████▏                                       | 7/19 [00:58<01:37,  8.14s/it]\u001b[A\n",
      "Recognizing layout:  42%|██████████████████████████▌                                    | 8/19 [01:06<01:30,  8.22s/it]\u001b[A\n",
      "Recognizing layout:  47%|█████████████████████████████▊                                 | 9/19 [01:15<01:22,  8.25s/it]\u001b[A\n",
      "Recognizing layout:  53%|████████████████████████████████▋                             | 10/19 [01:23<01:13,  8.15s/it]\u001b[A\n",
      "Recognizing layout:  58%|███████████████████████████████████▉                          | 11/19 [01:31<01:05,  8.13s/it]\u001b[A\n",
      "Recognizing layout:  63%|███████████████████████████████████████▏                      | 12/19 [01:39<00:56,  8.11s/it]\u001b[A\n",
      "Recognizing layout:  68%|██████████████████████████████████████████▍                   | 13/19 [01:47<00:48,  8.07s/it]\u001b[A\n",
      "Recognizing layout:  74%|█████████████████████████████████████████████▋                | 14/19 [01:55<00:40,  8.02s/it]\u001b[A\n",
      "Recognizing layout:  79%|████████████████████████████████████████████████▉             | 15/19 [02:03<00:31,  8.00s/it]\u001b[A\n",
      "Recognizing layout:  84%|████████████████████████████████████████████████████▏         | 16/19 [02:11<00:24,  8.11s/it]\u001b[A\n",
      "Recognizing layout:  89%|███████████████████████████████████████████████████████▍      | 17/19 [02:20<00:16,  8.32s/it]\u001b[A\n",
      "Recognizing layout:  95%|██████████████████████████████████████████████████████████▋   | 18/19 [02:28<00:08,  8.45s/it]\u001b[A\n",
      "Recognizing layout: 100%|██████████████████████████████████████████████████████████████| 19/19 [02:31<00:00,  8.00s/it]\u001b[A\n",
      "\n",
      "Running OCR Error Detection:   0%|                                                              | 0/28 [00:00<?, ?it/s]\u001b[A\n",
      "Running OCR Error Detection:   4%|█▉                                                    | 1/28 [00:00<00:16,  1.63it/s]\u001b[A\n",
      "Running OCR Error Detection:   7%|███▊                                                  | 2/28 [00:01<00:16,  1.58it/s]\u001b[A\n",
      "Running OCR Error Detection:  11%|█████▊                                                | 3/28 [00:01<00:15,  1.56it/s]\u001b[A\n",
      "Running OCR Error Detection:  14%|███████▋                                              | 4/28 [00:02<00:15,  1.54it/s]\u001b[A\n",
      "Running OCR Error Detection:  18%|█████████▋                                            | 5/28 [00:03<00:14,  1.54it/s]\u001b[A\n",
      "Running OCR Error Detection:  21%|███████████▌                                          | 6/28 [00:03<00:14,  1.54it/s]\u001b[A\n",
      "Running OCR Error Detection:  25%|█████████████▌                                        | 7/28 [00:04<00:13,  1.53it/s]\u001b[A\n",
      "Running OCR Error Detection:  29%|███████████████▍                                      | 8/28 [00:05<00:13,  1.53it/s]\u001b[A\n",
      "Running OCR Error Detection:  32%|█████████████████▎                                    | 9/28 [00:05<00:12,  1.54it/s]\u001b[A\n",
      "Running OCR Error Detection:  36%|██████████████████▉                                  | 10/28 [00:06<00:11,  1.56it/s]\u001b[A\n",
      "Running OCR Error Detection:  39%|████████████████████▊                                | 11/28 [00:07<00:10,  1.57it/s]\u001b[A\n",
      "Running OCR Error Detection:  43%|██████████████████████▋                              | 12/28 [00:07<00:10,  1.57it/s]\u001b[A\n",
      "Running OCR Error Detection:  46%|████████████████████████▌                            | 13/28 [00:08<00:09,  1.58it/s]\u001b[A\n",
      "Running OCR Error Detection:  50%|██████████████████████████▌                          | 14/28 [00:08<00:08,  1.57it/s]\u001b[A\n",
      "Running OCR Error Detection:  54%|████████████████████████████▍                        | 15/28 [00:09<00:08,  1.57it/s]\u001b[A\n",
      "Running OCR Error Detection:  57%|██████████████████████████████▎                      | 16/28 [00:10<00:07,  1.57it/s]\u001b[A\n",
      "Running OCR Error Detection:  61%|████████████████████████████████▏                    | 17/28 [00:10<00:06,  1.57it/s]\u001b[A\n",
      "Running OCR Error Detection:  64%|██████████████████████████████████                   | 18/28 [00:11<00:06,  1.58it/s]\u001b[A\n",
      "Running OCR Error Detection:  68%|███████████████████████████████████▉                 | 19/28 [00:12<00:05,  1.58it/s]\u001b[A\n",
      "Running OCR Error Detection:  71%|█████████████████████████████████████▊               | 20/28 [00:12<00:05,  1.58it/s]\u001b[A\n",
      "Running OCR Error Detection:  75%|███████████████████████████████████████▊             | 21/28 [00:13<00:04,  1.58it/s]\u001b[A\n",
      "Running OCR Error Detection:  79%|█████████████████████████████████████████▋           | 22/28 [00:14<00:03,  1.57it/s]\u001b[A\n",
      "Running OCR Error Detection:  82%|███████████████████████████████████████████▌         | 23/28 [00:14<00:03,  1.57it/s]\u001b[A\n",
      "Running OCR Error Detection:  86%|█████████████████████████████████████████████▍       | 24/28 [00:15<00:02,  1.57it/s]\u001b[A\n",
      "Running OCR Error Detection:  89%|███████████████████████████████████████████████▎     | 25/28 [00:15<00:01,  1.57it/s]\u001b[A\n",
      "Running OCR Error Detection:  93%|█████████████████████████████████████████████████▏   | 26/28 [00:16<00:01,  1.58it/s]\u001b[A\n",
      "Running OCR Error Detection:  96%|███████████████████████████████████████████████████  | 27/28 [00:17<00:00,  1.59it/s]\u001b[A\n",
      "Running OCR Error Detection: 100%|█████████████████████████████████████████████████████| 28/28 [00:17<00:00,  1.60it/s]\u001b[A\n",
      "\n",
      "Detecting bboxes: 0it [00:00, ?it/s]\u001b[A\n",
      "\n",
      "Detecting bboxes:   0%|                                                                          | 0/1 [00:00<?, ?it/s]\u001b[A\n",
      "Detecting bboxes: 100%|██████████████████████████████████████████████████████████████████| 1/1 [00:01<00:00,  1.97s/it]\u001b[A\n",
      "\n",
      "Recognizing Text:   0%|                                                                          | 0/1 [00:00<?, ?it/s]\u001b[A\n",
      "Recognizing Text: 100%|██████████████████████████████████████████████████████████████████| 1/1 [00:19<00:00, 19.73s/it]\u001b[A\n",
      "\n",
      "Recognizing tables:   0%|                                                                       | 0/14 [00:00<?, ?it/s]\u001b[A\n",
      "Recognizing tables:   7%|████▌                                                          | 1/14 [00:09<01:59,  9.19s/it]\u001b[A\n",
      "Recognizing tables:  14%|█████████                                                      | 2/14 [00:21<02:10, 10.84s/it]\u001b[A\n",
      "Recognizing tables:  21%|█████████████▌                                                 | 3/14 [00:30<01:50, 10.03s/it]\u001b[A\n",
      "Recognizing tables:  29%|██████████████████                                             | 4/14 [00:41<01:45, 10.53s/it]\u001b[A\n",
      "Recognizing tables:  36%|██████████████████████▌                                        | 5/14 [00:53<01:38, 10.97s/it]\u001b[A\n",
      "Recognizing tables:  43%|███████████████████████████                                    | 6/14 [01:04<01:28, 11.11s/it]\u001b[A\n",
      "Recognizing tables:  50%|███████████████████████████████▌                               | 7/14 [01:16<01:18, 11.27s/it]\u001b[A\n",
      "Recognizing tables:  57%|████████████████████████████████████                           | 8/14 [01:28<01:08, 11.45s/it]\u001b[A\n",
      "Recognizing tables:  64%|████████████████████████████████████████▌                      | 9/14 [01:40<00:59, 11.89s/it]\u001b[A\n",
      "Recognizing tables:  71%|████████████████████████████████████████████▎                 | 10/14 [01:52<00:46, 11.74s/it]\u001b[A\n",
      "Recognizing tables:  79%|████████████████████████████████████████████████▋             | 11/14 [02:03<00:34, 11.54s/it]\u001b[A\n",
      "Recognizing tables:  86%|█████████████████████████████████████████████████████▏        | 12/14 [02:12<00:21, 10.72s/it]\u001b[A\n",
      "Recognizing tables:  93%|█████████████████████████████████████████████████████████▌    | 13/14 [02:22<00:10, 10.45s/it]\u001b[A\n",
      "Recognizing tables: 100%|██████████████████████████████████████████████████████████████| 14/14 [02:23<00:00, 10.25s/it]\u001b[A\n"
     ]
    },
    {
     "name": "stdout",
     "output_type": "stream",
     "text": [
      "Processing file: C:\\Repos\\vpp-cfla\\cfla_files\\VeA_202012ERAF\\VeA_2020_12_ERAF_Nolikums.pdf\n",
      "Loaded layout model s3://layout/2025_02_18 on device cpu with dtype torch.float32\n",
      "Loaded texify model s3://texify/2025_02_18 on device cpu with dtype torch.float32\n",
      "Loaded recognition model s3://text_recognition/2025_02_18 on device cpu with dtype torch.float32\n",
      "Loaded table recognition model s3://table_recognition/2025_02_18 on device cpu with dtype torch.float32\n",
      "Loaded detection model s3://text_detection/2025_02_28 on device cpu with dtype torch.float32\n",
      "Loaded detection model s3://inline_math_detection/2025_02_24 on device cpu with dtype torch.float32\n"
     ]
    },
    {
     "name": "stderr",
     "output_type": "stream",
     "text": [
      "\n",
      "Recognizing layout:   0%|                                                                        | 0/2 [00:00<?, ?it/s]\u001b[A\n",
      "Recognizing layout:  50%|████████████████████████████████                                | 1/2 [00:08<00:08,  8.23s/it]\u001b[A\n",
      "Recognizing layout: 100%|████████████████████████████████████████████████████████████████| 2/2 [00:12<00:00,  6.19s/it]\u001b[A\n",
      "\n",
      "Running OCR Error Detection:   0%|                                                               | 0/3 [00:00<?, ?it/s]\u001b[A\n",
      "Running OCR Error Detection:  33%|██████████████████▎                                    | 1/3 [00:00<00:01,  1.58it/s]\u001b[A\n",
      "Running OCR Error Detection:  67%|████████████████████████████████████▋                  | 2/3 [00:01<00:00,  1.58it/s]\u001b[A\n",
      "Running OCR Error Detection: 100%|███████████████████████████████████████████████████████| 3/3 [00:01<00:00,  2.10it/s]\u001b[A\n",
      "\n",
      "Detecting bboxes: 0it [00:00, ?it/s]\u001b[A\n",
      "\n",
      "Detecting bboxes: 0it [00:00, ?it/s]\u001b[A\n",
      "\n",
      "Recognizing tables:   0%|                                                                        | 0/1 [00:00<?, ?it/s]\u001b[A\n",
      "Recognizing tables: 100%|████████████████████████████████████████████████████████████████| 1/1 [00:02<00:00,  2.76s/it]\u001b[A\n",
      "\n",
      "Generating embeddings:   0%|                                                                           [ time left: ? ]\u001b[A\n",
      "Generating embeddings:   1%|▍                                                                      [ time left: 00:23 ]\u001b[A\n",
      "Generating embeddings:   8%|█████▎                                                                 [ time left: 02:10 ]\u001b[A\n",
      "Generating embeddings:  14%|██████████▏                                                            [ time left: 01:42 ]\u001b[A\n",
      "Generating embeddings:  21%|██████████████▉                                                        [ time left: 02:25 ]\u001b[A\n",
      "Generating embeddings:  28%|███████████████████▊                                                   [ time left: 03:03 ]\u001b[A\n",
      "Generating embeddings:  35%|████████████████████████▌                                              [ time left: 03:08 ]\u001b[A\n",
      "Generating embeddings:  42%|█████████████████████████████▍                                         [ time left: 03:07 ]\u001b[A\n",
      "Generating embeddings:  49%|██████████████████████████████████▎                                    [ time left: 02:56 ]\u001b[A\n",
      "Generating embeddings:  56%|███████████████████████████████████████                                [ time left: 02:37 ]\u001b[A\n",
      "Generating embeddings:  63%|███████████████████████████████████████████▉                           [ time left: 02:17 ]\u001b[A\n",
      "Generating embeddings:  70%|████████████████████████████████████████████████▊                      [ time left: 01:38 ]\u001b[A\n",
      "Generating embeddings:  77%|█████████████████████████████████████████████████████▌                 [ time left: 01:27 ]\u001b[A\n",
      "Generating embeddings:  83%|██████████████████████████████████████████████████████████▍            [ time left: 00:56 ]\u001b[A\n",
      "Generating embeddings: 100%|██████████████████████████████████████████████████████████████████████ [ time left: 00:00 ]\u001b[A\n"
     ]
    },
    {
     "name": "stdout",
     "output_type": "stream",
     "text": [
      "145 segments created and vectorized.\n",
      "Index is ready.\n",
      "2 4 6 7 9 10 15 \n",
      "16 17 18 19 22 23 24 26 27 28 29 31 32 33 34 35 36 37 37.2 37.4 \n",
      "37.5 37.6 37.7 37.9 37.10 37.11 37.13 38 38.1 38.2 38.3 38.4 38.5 38.6 38.7 38.8 38.9 39 39.1 39.2 \n",
      "39.3 39.4 39.5 39.6 39.7 39.8 39.9 39.10 39.11 39.12 39.13 39.14 39.15 39.16 39.17 39.18 39.19 39.20 39.21 39.22 \n",
      "39.23 39.24 39.25 39.26 39.27 39.28 39.29 39.30 39.31 39.32 39.33 39.34 39.35 39.36 39.37 39.38 39.39 40 40.1 40.2 \n",
      "40.3 40.4 40.5 40.6 40.7 40.8 40.9 40.10 40.11 40.12 41 43 44 46 47 48 50 51 51.1 51.2 \n",
      "51.4 52 53 54 56 57 58 60 61 62 63 65 "
     ]
    },
    {
     "name": "stderr",
     "output_type": "stream",
     "text": [
      "Config files: 100%|███████████████████████████████████████████████████████████████| 20/20 [4:12:28<00:00, 757.40s/file]"
     ]
    },
    {
     "name": "stdout",
     "output_type": "stream",
     "text": [
      "PRECIZITĀTE: 61.30952380952381%\n"
     ]
    },
    {
     "name": "stderr",
     "output_type": "stream",
     "text": [
      "\n"
     ]
    }
   ],
   "source": [
    "# TODO add parallel prompting\n",
    "\n",
    "if overwrite: # overwrtitting report; Delete and create new\n",
    "        if report_path_htm.exists():\n",
    "                report_path_htm.unlink()\n",
    "        if report_path_csv.exists():\n",
    "                report_path_csv.unlink()\n",
    "        if report_path_config.exists():\n",
    "                report_path_config.unlink()\n",
    "                \n",
    "if not os.path.exists(report_dir_path):\n",
    "        os.makedirs(report_dir_path)\n",
    "\n",
    "# Make config dictionary and save as json\n",
    "config_dict = embedding_conf\n",
    "config_dict[\"model\"] = llmmodelAzure[\"model\"]\n",
    "config_dict[\"temperature\"] = llm.temperature\n",
    "config_dict[\"timeout\"] = llm.timeout\n",
    "config_dict[\"max_retries\"] = llm.max_retries\n",
    "#config_dict[\"top_p\"] = 0.0001\n",
    "\n",
    "with open(report_path_config, \"w\") as file:\n",
    "        dump(config_dict, file) \n",
    "\n",
    "# To process all questions, leave this empty. Otherwise, specify the exact numbers.\n",
    "# To process a sub-question, include the parent question number as well, e.g., [\"9\", \"9.2\"].\n",
    "questions_to_process = globals().get('my_questions_to_process', [])\n",
    "\n",
    "for file in tqdm(ini_files, desc=\"Config files\", unit=\"file\"): # TODO fix TQDM; expected that after first file finishes it shows the aproximation of all the other files left to process\n",
    "        configfile = config_dir / f\"{file}.ini\"\n",
    "        \n",
    "        tqdm.write(f\"Processing config file: {configfile}\")\n",
    "        procurement_id, procurement_file, agreement_file, answer_file = get_config_data(configfile, procurement_file_dir, answer_file_dir)\n",
    "        # Open CSV file, maybe as pandas dataframe\n",
    "        answer_dictionary = get_answers(answer_file)\n",
    "\n",
    "        # Getting markdown text from procurement doc\n",
    "        procurement_content = get_procurement_content(extractor, procurement_file, agreement_file)\n",
    "    \n",
    "        # Creating FAISS vector index for the procurement document\n",
    "        qnaengine = QnAEngine(embedding,llm)\n",
    "        if embedding_conf[\"use_similar_chunks\"] == True:\n",
    "                await qnaengine.createIndex(\n",
    "                        procurement_content,\n",
    "                        \"Procurement\",\n",
    "                        chunk_size=embedding_conf[\"chunk_size\"],\n",
    "                        chunk_overlap=embedding_conf[\"chunk_overlap\"]\n",
    "                )\n",
    "        else:\n",
    "             await qnaengine.load_text(procurement_content)   \n",
    "\n",
    "        ### Generating results\n",
    "        results_table = gen_results(qnaengine, configfile, embedding_conf, question_dictionary, answer_dictionary, prompt_dictionary, supplementary_info, questions_to_process)\n",
    "        \n",
    "        # add \"Iepirkuma ID\" as procurement_id to results table\n",
    "        # TODO move this inside gen results function once it has been refactored\n",
    "        for row in results_table:\n",
    "                row.insert(0, file)\n",
    "        \n",
    "        ### Save output\n",
    "        data = pd.DataFrame(results_table, columns=[\"Iepirkuma ID\", \"Nr\", \"Atbilde\", \"Sagaidāmā atbilde\", \"Pamatojums\", \"Uzvedne\"])\n",
    "        precision = (data['Atbilde'] == data['Sagaidāmā atbilde']).sum()/len(data)\n",
    "        print(f\"PRECIZITĀTE: {precision*100}%\")\n",
    "\n",
    "        with report_path_htm.open('a', encoding='utf-8') as ofile:  \n",
    "                # TODO Create a dropdown menu that lets the user select file by \"Iepirkuma ID\" - in each page only information that has that \"Iepirkuma ID\" is displayed\n",
    "                print(f\"{procurement_id} PRECIZITĀTE: {precision*100}%\" ,file=ofile)\n",
    "                print(data.to_html(index=False).replace('\\\\n','<br>'),file=ofile)\n",
    "\n",
    "        data.to_csv(report_path_csv, \n",
    "                    mode='a', \n",
    "                    index=False, \n",
    "                    header=not report_path_csv.exists(), # only adding one header\n",
    "                    encoding='utf-8')\n",
    "        \n",
    "        \n",
    "                "
   ]
  },
  {
   "cell_type": "markdown",
   "id": "2827ffa5",
   "metadata": {},
   "source": [
    "# Report generation"
   ]
  },
  {
   "cell_type": "code",
   "execution_count": 10,
   "id": "94072937",
   "metadata": {},
   "outputs": [],
   "source": [
    "# Load report we want to analayze\n",
    "analyzed_report_dir = report_dir_path\n",
    "csv_filename = \"report.csv\"\n",
    "input_csv = analyzed_report_dir / csv_filename"
   ]
  },
  {
   "cell_type": "markdown",
   "id": "10bff30a",
   "metadata": {},
   "source": [
    "## Main report"
   ]
  },
  {
   "cell_type": "code",
   "execution_count": 11,
   "id": "a0d6ccc6",
   "metadata": {},
   "outputs": [
    {
     "name": "stdout",
     "output_type": "stream",
     "text": [
      "Main HTML report saved to: C:\\Repos\\vpp-cfla\\reports\\test_bge-m3_31.07\\main_report.html\n"
     ]
    }
   ],
   "source": [
    "html_output      = build_main_report_html(input_csv, question_dictionary)\n",
    "output_html_path = analyzed_report_dir / \"main_report.html\"\n",
    "output_html_path.write_text(html_output, encoding=\"utf-8\")\n",
    "\n",
    "print(f\"Main HTML report saved to: {output_html_path}\")"
   ]
  },
  {
   "cell_type": "markdown",
   "id": "6149da78",
   "metadata": {},
   "source": [
    "## Precision report"
   ]
  },
  {
   "cell_type": "code",
   "execution_count": 12,
   "id": "e3f08f7d",
   "metadata": {},
   "outputs": [
    {
     "name": "stdout",
     "output_type": "stream",
     "text": [
      "HTML report saved to: C:\\Repos\\vpp-cfla\\reports\\test_bge-m3_31.07\\precision_report.html\n"
     ]
    }
   ],
   "source": [
    "# Generate report\n",
    "questions_wout_0q = get_questions_without_q0(question_dictionary)\n",
    "precison_report_html = generate_precision_report(input_csv, questions_wout_0q)\n",
    "\n",
    "# Save the report next to the CSV\n",
    "output_html = analyzed_report_dir / f\"precision_report.html\"\n",
    "with open(output_html, \"w\", encoding=\"utf-8\") as f:\n",
    "    f.write(precison_report_html)\n",
    "\n",
    "print(f\"HTML report saved to: {output_html}\")"
   ]
  }
 ],
 "metadata": {
  "kernelspec": {
   "display_name": "Python 3 (ipykernel)",
   "language": "python",
   "name": "python3"
  },
  "language_info": {
   "codemirror_mode": {
    "name": "ipython",
    "version": 3
   },
   "file_extension": ".py",
   "mimetype": "text/x-python",
   "name": "python",
   "nbconvert_exporter": "python",
   "pygments_lexer": "ipython3",
   "version": "3.10.5"
  }
 },
 "nbformat": 4,
 "nbformat_minor": 5
}
