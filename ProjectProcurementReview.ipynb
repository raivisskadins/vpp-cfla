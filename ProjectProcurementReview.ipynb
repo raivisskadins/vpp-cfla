{
 "cells": [
  {
   "cell_type": "code",
   "execution_count": 1,
   "id": "4329b8b7-d7a7-449b-81b7-af351449627b",
   "metadata": {},
<<<<<<< HEAD
   "outputs": [
    {
     "name": "stderr",
     "output_type": "stream",
     "text": [
      "/home/rud/CFLA/vpp-cfla/.venv/lib/python3.12/site-packages/tqdm/auto.py:21: TqdmWarning: IProgress not found. Please update jupyter and ipywidgets. See https://ipywidgets.readthedocs.io/en/stable/user_install.html\n",
      "  from .autonotebook import tqdm as notebook_tqdm\n"
     ]
    }
   ],
=======
   "outputs": [],
>>>>>>> eb59724f7c3e0e3c02a801c367b10fc2ae1ab5d2
   "source": [
    "# Line magic functions that will allow for imports to be reloaded and not cached\n",
    "%load_ext autoreload\n",
    "%autoreload 2\n",
    "\n",
    "# Imports\n",
    "import os\n",
    "import pandas as pd\n",
    "from llama_index.embeddings.huggingface import HuggingFaceEmbedding\n",
    "from llama_index.llms.azure_openai import AzureOpenAI\n",
    "from datetime import date\n",
    "from pathlib import Path\n",
    "try:\n",
    "    from tqdm.notebook import tqdm\n",
    "except ImportError:\n",
    "    from tqdm import tqdm\n",
    "\n",
    "# Local\n",
    "from scripts.extractmd import Extractor\n",
    "from scripts.vectorindex import QnAEngine\n",
    "from scripts.utilities import get_prompt_dict, get_questions, get_answers, get_procurement_content, get_config_data, get_ini_files\n",
    "from scripts.gen_results import gen_results"
   ]
  },
  {
   "cell_type": "markdown",
   "id": "491f04cb-807c-48b2-b474-8b97dbb0a6d5",
   "metadata": {},
   "source": [
    "**Global config**"
   ]
  },
  {
   "cell_type": "code",
   "execution_count": 2,
   "id": "a282ce0b-1aba-417c-bf9a-15cbe840c485",
   "metadata": {},
   "outputs": [],
   "source": [
    "embedding_conf = {\n",
    "    \"embeddingmodel\": \"BAAI/bge-m3\",  # \"BAAI/bge-m3\" \"nomic-ai/nomic-embed-text-v2-moe\" # \"sentence-transformers/paraphrase-multilingual-mpnet-base-v2\"\n",
    "    \"chunk_size\": 1536,\n",
    "    \"chunk_overlap\": 0,\n",
    "    \"top_similar\": 5,\n",
    "    \"n4rerank\": 0, #How many nodes to retrieve for reranking. If 0, reranker is not used\n",
    "    \"use_similar_chunks\": True, #To use similar chunks or the whole document as the context\n",
    "    \"prevnext\": True #to include in the context also the previouse and the next chunk of the current similar chunk\n",
    "}\n",
    "embedding=HuggingFaceEmbedding(model_name=embedding_conf[\"embeddingmodel\"],trust_remote_code=True)\n",
    "\n",
    "#For nomic-embed-text-v2-moe\n",
    "#embedding=HuggingFaceEmbedding(model_name=embedding_conf[\"embeddingmodel\"],trust_remote_code=True,query_instruction=\"search_query: \",text_instruction=\"search_document: \")"
   ]
  },
  {
   "cell_type": "code",
   "execution_count": 10,
   "id": "b3e114f1-c05e-48b1-b56a-051ece6102eb",
   "metadata": {},
   "outputs": [
    {
     "name": "stdout",
     "output_type": "stream",
     "text": [
      "{'model': 'gpt-4o', 'version': '', 'azure_deployment': 'gpt-4o', 'azure_endpoint': '', 'api_key': ''}\n"
     ]
    }
   ],
   "source": [
    "# LLM Setup \n",
    "llmmodelAzure = { \"model\": \"gpt-4o\",\n",
    "                \"version\":os.environ.get('AZURE_OPENAI_VERSION',''),\n",
    "                \"azure_deployment\":\"gpt-4o\",\n",
    "                \"azure_endpoint\":os.environ.get('AZURE_ENDPOINT',''),\n",
    "                \"api_key\":os.environ.get('AZURE_OPENAI_KEY','')}\n",
    "\n",
    "llm=AzureOpenAI(azure_deployment=llmmodelAzure[\"azure_deployment\"],\n",
    "                azure_endpoint=llmmodelAzure[\"azure_endpoint\"],temperature=0.0,\n",
    "                api_version=llmmodelAzure[\"version\"], api_key=llmmodelAzure[\"api_key\"],\n",
    "                timeout=120,max_retries=3,top_p=0.0001)\n",
    "print(llmmodelAzure)"
   ]
  },
  {
   "cell_type": "code",
   "execution_count": 4,
   "id": "9f7c744c",
   "metadata": {},
   "outputs": [],
   "source": [
    "extractor = Extractor() # Markdown doc extractor"
   ]
  },
  {
   "cell_type": "code",
   "execution_count": 5,
   "id": "32e67876-c437-41ad-992b-4ce540022087",
   "metadata": {},
   "outputs": [],
   "source": [
    "#Ollama model\n",
    "# llmmodelOllama = { \"model\": \"gemma3:27b\",\n",
    "#                 \"url\":os.environ.get('OLLAMA_ENDPOINT',''),\n",
    "#                 \"context_window\":\"128000\"}\n",
    "\n",
    "#from llama_index.llms.ollama import Ollama\n",
    "#llm = Ollama(base_url=llmmodelOllama[\"url\"],\n",
    "#             model=llmmodelOllama[\"model\"], \n",
    "#             context_window=int(llmmodelOllama[\"context_window\"]),\n",
    "#            request_timeout=300.0,\n",
    "#            temperature=0.0,\n",
    "#            additional_kwargs={\"seed\":1337})"
   ]
  },
  {
   "cell_type": "markdown",
   "id": "e1f0daa1-7706-4651-b713-78ac66c5533a",
   "metadata": {},
   "source": [
    "**PROCUREMENT FILE SETTINGS**"
   ]
  },
  {
   "cell_type": "code",
   "execution_count": null,
   "id": "88446367-533a-4e00-b3ff-239802a86698",
   "metadata": {},
   "outputs": [
    {
     "name": "stdout",
     "output_type": "stream",
     "text": [
      "Questions loaded\n",
      "Found 26 config files in /home/andris/src/vpp-cfla/config\n",
      "Skipping 1 already-processed files: ['EDI_20203AK']\n",
      "Processing 25 procurement files: ['APP_DI_20202ERAF_AK', 'DND_20206', 'IKVD_20213_ESF_SAM', 'IP2020_01_ERAF', 'IeM_IC_201913', 'KNP202134', 'KNP_202215', 'KP2020016A-KF', 'LNP_201976', 'LNP_202037ERAF', 'LNP_202050ERAF', 'LU_202049_ERAF', 'LU_CFI_201935ERAF', 'MNP_202121_ERAF', 'PND_2019_15-ERAF', 'RPNC202122', 'RTK_2019_12', 'SND_202015-ERAF', 'SNP202131', 'SNP_202001', 'SNP_202067', 'VND_20201', 'VNIP_2020_036_ERAF', 'VNP_2023057AK', 'VeA_202012ERAF']\n"
     ]
    }
   ],
   "source": [
    "overwrite = False  # If true this will delete the existing report and generate a new one;\n",
    "                  # Else - new data will be appended only if it isn't in the CSV file.\n",
    "\n",
    "# Script dir for getting relative paths for notebook file\n",
    "script_dir = globals()['_dh'][0] \n",
    "\n",
    "# Document paths\n",
    "question_file_path = script_dir / \"questions\" / \"questions.yaml\"\n",
    "prompt_file = script_dir / \"questions\" / \"prompts.tsv\"\n",
    "report_dir = script_dir / \"reports\"\n",
    "config_dir = script_dir / \"config\" # \"dev_config\" # \"config\"\n",
    "procurement_file_dir = script_dir / \"cfla_files\" # \"cfla_files\"\n",
    "answer_file_dir = script_dir / \"answers\"\n",
    "\n",
    "# TODO perhaps prompt user to define unique report name; some types - all; one etc?\n",
    "report_identifier = \"all\"\n",
    "# TODO maybe add report as a subdirectory as there are 2 files per report; might be even more with histograms etc.\n",
    "report_name = f\"{report_identifier}_{date.today():%d.%m}\"\n",
    "report_path_htm = report_dir / f\"{report_name}.htm\"\n",
    "report_path_csv = report_dir / f\"{report_name}.csv\"\n",
    "\n",
    "# Loading static information\n",
    "question_dictionary = get_questions(question_file_path)\n",
    "prompt_dictionary = get_prompt_dict(prompt_file)\n",
    "\n",
    "ini_files = get_ini_files(config_dir, overwrite, report_path_csv)\n",
    "ini_files = {\"EDI_20203AK\"} # for debugging\n",
    "print(f\"Processing {len(ini_files)} procurement files: {sorted(ini_files)}\")"
   ]
  },
  {
   "cell_type": "markdown",
   "id": "78357252",
   "metadata": {},
   "source": [
    "**MAIN Q/A GENERATION SCRIPT**"
   ]
  },
  {
   "cell_type": "code",
   "execution_count": 7,
   "id": "6f5149a2",
   "metadata": {},
   "outputs": [
    {
     "data": {
      "application/vnd.jupyter.widget-view+json": {
       "model_id": "855fd88cfcf747e2bb2b48e15b143f40",
       "version_major": 2,
       "version_minor": 0
      },
      "text/plain": [
       "Config files:   0%|          | 0/1 [00:00<?, ?file/s]"
      ]
     },
     "metadata": {},
     "output_type": "display_data"
    },
    {
     "name": "stdout",
     "output_type": "stream",
     "text": [
<<<<<<< HEAD
      "Found 1 config files in /home/rud/CFLA/vpp-cfla/demo_config\n",
      "Processing config file: /home/rud/CFLA/vpp-cfla/demo_config/GNP202565.ini\n"
=======
      "EDI_20203AK\n",
      "Processing config file: /home/andris/src/vpp-cfla/config/EDI_20203AK.ini\n"
>>>>>>> eb59724f7c3e0e3c02a801c367b10fc2ae1ab5d2
     ]
    },
    {
     "name": "stderr",
     "output_type": "stream",
     "text": [
<<<<<<< HEAD
      "<string>:38: SyntaxWarning: invalid escape sequence '\\{'\n",
      "<>:38: SyntaxWarning: invalid escape sequence '\\{'\n",
      "/tmp/ipykernel_16524/3942380688.py:38: SyntaxWarning: invalid escape sequence '\\{'\n",
      "  with open(f\"{report_dir}\\{date.today():%d.%m}_{procurement_id.replace('/','_')}.htm\", 'w', encoding='utf-8') as ofile:\n",
=======
>>>>>>> eb59724f7c3e0e3c02a801c367b10fc2ae1ab5d2
      "Generating embeddings: 100%|██████████ [ time left: 00:00 ]\n"
     ]
    },
    {
     "name": "stdout",
     "output_type": "stream",
     "text": [
<<<<<<< HEAD
      "19 segments created and vectorized.\n",
      "Index is ready.\n",
      "2 An exception in askQuestion: ValueError You must set an `api_key` parameter. Alternatively, you can set the AZURE_OPENAI_API_KEY env var OR set `use_azure_ad=True`.\n",
      "An exception in askQuestion: ValueError You must set an `api_key` parameter. Alternatively, you can set the AZURE_OPENAI_API_KEY env var OR set `use_azure_ad=True`.\n",
      "4 An exception in askQuestion: ValueError You must set an `api_key` parameter. Alternatively, you can set the AZURE_OPENAI_API_KEY env var OR set `use_azure_ad=True`.\n",
      "An exception in askQuestion: ValueError You must set an `api_key` parameter. Alternatively, you can set the AZURE_OPENAI_API_KEY env var OR set `use_azure_ad=True`.\n",
      "6 An exception in askQuestion: ValueError You must set an `api_key` parameter. Alternatively, you can set the AZURE_OPENAI_API_KEY env var OR set `use_azure_ad=True`.\n",
      "An exception in askQuestion: ValueError You must set an `api_key` parameter. Alternatively, you can set the AZURE_OPENAI_API_KEY env var OR set `use_azure_ad=True`.\n",
      "7 An exception in askQuestion: ValueError You must set an `api_key` parameter. Alternatively, you can set the AZURE_OPENAI_API_KEY env var OR set `use_azure_ad=True`.\n",
      "An exception in askQuestion: ValueError You must set an `api_key` parameter. Alternatively, you can set the AZURE_OPENAI_API_KEY env var OR set `use_azure_ad=True`.\n",
      "9 An exception in askQuestion: ValueError You must set an `api_key` parameter. Alternatively, you can set the AZURE_OPENAI_API_KEY env var OR set `use_azure_ad=True`.\n",
      "9.1 An exception in askQuestion: ValueError You must set an `api_key` parameter. Alternatively, you can set the AZURE_OPENAI_API_KEY env var OR set `use_azure_ad=True`.\n",
      "9.2 An exception in askQuestion: ValueError You must set an `api_key` parameter. Alternatively, you can set the AZURE_OPENAI_API_KEY env var OR set `use_azure_ad=True`.\n",
      "9.3 An exception in askQuestion: ValueError You must set an `api_key` parameter. Alternatively, you can set the AZURE_OPENAI_API_KEY env var OR set `use_azure_ad=True`.\n",
      "10 An exception in askQuestion: ValueError You must set an `api_key` parameter. Alternatively, you can set the AZURE_OPENAI_API_KEY env var OR set `use_azure_ad=True`.\n",
      "15 An exception in askQuestion: ValueError You must set an `api_key` parameter. Alternatively, you can set the AZURE_OPENAI_API_KEY env var OR set `use_azure_ad=True`.\n",
      "16 An exception in askQuestion: ValueError You must set an `api_key` parameter. Alternatively, you can set the AZURE_OPENAI_API_KEY env var OR set `use_azure_ad=True`.\n",
      "17 An exception in askQuestion: ValueError You must set an `api_key` parameter. Alternatively, you can set the AZURE_OPENAI_API_KEY env var OR set `use_azure_ad=True`.\n",
      "An exception in askQuestion: ValueError You must set an `api_key` parameter. Alternatively, you can set the AZURE_OPENAI_API_KEY env var OR set `use_azure_ad=True`.\n",
      "18 An exception in askQuestion: ValueError You must set an `api_key` parameter. Alternatively, you can set the AZURE_OPENAI_API_KEY env var OR set `use_azure_ad=True`.\n",
      "An exception in askQuestion: ValueError You must set an `api_key` parameter. Alternatively, you can set the AZURE_OPENAI_API_KEY env var OR set `use_azure_ad=True`.\n",
      "19 An exception in askQuestion: ValueError You must set an `api_key` parameter. Alternatively, you can set the AZURE_OPENAI_API_KEY env var OR set `use_azure_ad=True`.\n",
      "An exception in askQuestion: ValueError You must set an `api_key` parameter. Alternatively, you can set the AZURE_OPENAI_API_KEY env var OR set `use_azure_ad=True`.\n",
      "22 An exception in askQuestion: ValueError You must set an `api_key` parameter. Alternatively, you can set the AZURE_OPENAI_API_KEY env var OR set `use_azure_ad=True`.\n",
      "An exception in askQuestion: ValueError You must set an `api_key` parameter. Alternatively, you can set the AZURE_OPENAI_API_KEY env var OR set `use_azure_ad=True`.\n",
      "23 An exception in askQuestion: ValueError You must set an `api_key` parameter. Alternatively, you can set the AZURE_OPENAI_API_KEY env var OR set `use_azure_ad=True`.\n",
      "An exception in askQuestion: ValueError You must set an `api_key` parameter. Alternatively, you can set the AZURE_OPENAI_API_KEY env var OR set `use_azure_ad=True`.\n",
      "24 An exception in askQuestion: ValueError You must set an `api_key` parameter. Alternatively, you can set the AZURE_OPENAI_API_KEY env var OR set `use_azure_ad=True`.\n",
      "An exception in askQuestion: ValueError You must set an `api_key` parameter. Alternatively, you can set the AZURE_OPENAI_API_KEY env var OR set `use_azure_ad=True`.\n",
      "26 An exception in askQuestion: ValueError You must set an `api_key` parameter. Alternatively, you can set the AZURE_OPENAI_API_KEY env var OR set `use_azure_ad=True`.\n",
      "27 An exception in askQuestion: ValueError You must set an `api_key` parameter. Alternatively, you can set the AZURE_OPENAI_API_KEY env var OR set `use_azure_ad=True`.\n",
      "28 An exception in askQuestion: ValueError You must set an `api_key` parameter. Alternatively, you can set the AZURE_OPENAI_API_KEY env var OR set `use_azure_ad=True`.\n",
      "29 An exception in askQuestion: ValueError You must set an `api_key` parameter. Alternatively, you can set the AZURE_OPENAI_API_KEY env var OR set `use_azure_ad=True`.\n",
      "31 An exception in askQuestion: ValueError You must set an `api_key` parameter. Alternatively, you can set the AZURE_OPENAI_API_KEY env var OR set `use_azure_ad=True`.\n",
      "An exception in askQuestion: ValueError You must set an `api_key` parameter. Alternatively, you can set the AZURE_OPENAI_API_KEY env var OR set `use_azure_ad=True`.\n",
      "32 An exception in askQuestion: ValueError You must set an `api_key` parameter. Alternatively, you can set the AZURE_OPENAI_API_KEY env var OR set `use_azure_ad=True`.\n",
      "An exception in askQuestion: ValueError You must set an `api_key` parameter. Alternatively, you can set the AZURE_OPENAI_API_KEY env var OR set `use_azure_ad=True`.\n",
      "33 An exception in askQuestion: ValueError You must set an `api_key` parameter. Alternatively, you can set the AZURE_OPENAI_API_KEY env var OR set `use_azure_ad=True`.\n",
      "An exception in askQuestion: ValueError You must set an `api_key` parameter. Alternatively, you can set the AZURE_OPENAI_API_KEY env var OR set `use_azure_ad=True`.\n",
      "34 An exception in askQuestion: ValueError You must set an `api_key` parameter. Alternatively, you can set the AZURE_OPENAI_API_KEY env var OR set `use_azure_ad=True`.\n",
      "An exception in askQuestion: ValueError You must set an `api_key` parameter. Alternatively, you can set the AZURE_OPENAI_API_KEY env var OR set `use_azure_ad=True`.\n",
      "35 An exception in askQuestion: ValueError You must set an `api_key` parameter. Alternatively, you can set the AZURE_OPENAI_API_KEY env var OR set `use_azure_ad=True`.\n",
      "35.1 An exception in askQuestion: ValueError You must set an `api_key` parameter. Alternatively, you can set the AZURE_OPENAI_API_KEY env var OR set `use_azure_ad=True`.\n",
      "35.2 An exception in askQuestion: ValueError You must set an `api_key` parameter. Alternatively, you can set the AZURE_OPENAI_API_KEY env var OR set `use_azure_ad=True`.\n",
      "An exception in askQuestion: ValueError You must set an `api_key` parameter. Alternatively, you can set the AZURE_OPENAI_API_KEY env var OR set `use_azure_ad=True`.\n",
      "35.3 An exception in askQuestion: ValueError You must set an `api_key` parameter. Alternatively, you can set the AZURE_OPENAI_API_KEY env var OR set `use_azure_ad=True`.\n",
      "35.4 An exception in askQuestion: ValueError You must set an `api_key` parameter. Alternatively, you can set the AZURE_OPENAI_API_KEY env var OR set `use_azure_ad=True`.\n",
      "35.5 An exception in askQuestion: ValueError You must set an `api_key` parameter. Alternatively, you can set the AZURE_OPENAI_API_KEY env var OR set `use_azure_ad=True`.\n",
      "35.6 An exception in askQuestion: ValueError You must set an `api_key` parameter. Alternatively, you can set the AZURE_OPENAI_API_KEY env var OR set `use_azure_ad=True`.\n",
      "An exception in askQuestion: ValueError You must set an `api_key` parameter. Alternatively, you can set the AZURE_OPENAI_API_KEY env var OR set `use_azure_ad=True`.\n",
      "35.7 An exception in askQuestion: ValueError You must set an `api_key` parameter. Alternatively, you can set the AZURE_OPENAI_API_KEY env var OR set `use_azure_ad=True`.\n",
      "35.8 An exception in askQuestion: ValueError You must set an `api_key` parameter. Alternatively, you can set the AZURE_OPENAI_API_KEY env var OR set `use_azure_ad=True`.\n",
      "An exception in askQuestion: ValueError You must set an `api_key` parameter. Alternatively, you can set the AZURE_OPENAI_API_KEY env var OR set `use_azure_ad=True`.\n",
      "36 An exception in askQuestion: ValueError You must set an `api_key` parameter. Alternatively, you can set the AZURE_OPENAI_API_KEY env var OR set `use_azure_ad=True`.\n",
      "37 37.1 An exception in askQuestion: ValueError You must set an `api_key` parameter. Alternatively, you can set the AZURE_OPENAI_API_KEY env var OR set `use_azure_ad=True`.\n",
      "37.2 An exception in askQuestion: ValueError You must set an `api_key` parameter. Alternatively, you can set the AZURE_OPENAI_API_KEY env var OR set `use_azure_ad=True`.\n",
      "An exception in askQuestion: ValueError You must set an `api_key` parameter. Alternatively, you can set the AZURE_OPENAI_API_KEY env var OR set `use_azure_ad=True`.\n",
      "37.3 An exception in askQuestion: ValueError You must set an `api_key` parameter. Alternatively, you can set the AZURE_OPENAI_API_KEY env var OR set `use_azure_ad=True`.\n",
      "37.4 An exception in askQuestion: ValueError You must set an `api_key` parameter. Alternatively, you can set the AZURE_OPENAI_API_KEY env var OR set `use_azure_ad=True`.\n",
      "An exception in askQuestion: ValueError You must set an `api_key` parameter. Alternatively, you can set the AZURE_OPENAI_API_KEY env var OR set `use_azure_ad=True`.\n",
      "37.5 An exception in askQuestion: ValueError You must set an `api_key` parameter. Alternatively, you can set the AZURE_OPENAI_API_KEY env var OR set `use_azure_ad=True`.\n",
      "An exception in askQuestion: ValueError You must set an `api_key` parameter. Alternatively, you can set the AZURE_OPENAI_API_KEY env var OR set `use_azure_ad=True`.\n",
      "37.6 An exception in askQuestion: ValueError You must set an `api_key` parameter. Alternatively, you can set the AZURE_OPENAI_API_KEY env var OR set `use_azure_ad=True`.\n",
      "37.7 An exception in askQuestion: ValueError You must set an `api_key` parameter. Alternatively, you can set the AZURE_OPENAI_API_KEY env var OR set `use_azure_ad=True`.\n",
      "37.8 An exception in askQuestion: ValueError You must set an `api_key` parameter. Alternatively, you can set the AZURE_OPENAI_API_KEY env var OR set `use_azure_ad=True`.\n",
      "37.9 An exception in askQuestion: ValueError You must set an `api_key` parameter. Alternatively, you can set the AZURE_OPENAI_API_KEY env var OR set `use_azure_ad=True`.\n",
      "An exception in askQuestion: ValueError You must set an `api_key` parameter. Alternatively, you can set the AZURE_OPENAI_API_KEY env var OR set `use_azure_ad=True`.\n",
      "37.10 An exception in askQuestion: ValueError You must set an `api_key` parameter. Alternatively, you can set the AZURE_OPENAI_API_KEY env var OR set `use_azure_ad=True`.\n",
      "An exception in askQuestion: ValueError You must set an `api_key` parameter. Alternatively, you can set the AZURE_OPENAI_API_KEY env var OR set `use_azure_ad=True`.\n",
      "37.11 An exception in askQuestion: ValueError You must set an `api_key` parameter. Alternatively, you can set the AZURE_OPENAI_API_KEY env var OR set `use_azure_ad=True`.\n",
      "37.12 An exception in askQuestion: ValueError You must set an `api_key` parameter. Alternatively, you can set the AZURE_OPENAI_API_KEY env var OR set `use_azure_ad=True`.\n",
      "37.13 An exception in askQuestion: ValueError You must set an `api_key` parameter. Alternatively, you can set the AZURE_OPENAI_API_KEY env var OR set `use_azure_ad=True`.\n",
      "38 38.1 An exception in askQuestion: ValueError You must set an `api_key` parameter. Alternatively, you can set the AZURE_OPENAI_API_KEY env var OR set `use_azure_ad=True`.\n",
      "38.2 An exception in askQuestion: ValueError You must set an `api_key` parameter. Alternatively, you can set the AZURE_OPENAI_API_KEY env var OR set `use_azure_ad=True`.\n",
      "An exception in askQuestion: ValueError You must set an `api_key` parameter. Alternatively, you can set the AZURE_OPENAI_API_KEY env var OR set `use_azure_ad=True`.\n",
      "38.3 An exception in askQuestion: ValueError You must set an `api_key` parameter. Alternatively, you can set the AZURE_OPENAI_API_KEY env var OR set `use_azure_ad=True`.\n",
      "38.4 An exception in askQuestion: ValueError You must set an `api_key` parameter. Alternatively, you can set the AZURE_OPENAI_API_KEY env var OR set `use_azure_ad=True`.\n",
      "38.5 An exception in askQuestion: ValueError You must set an `api_key` parameter. Alternatively, you can set the AZURE_OPENAI_API_KEY env var OR set `use_azure_ad=True`.\n",
      "An exception in askQuestion: ValueError You must set an `api_key` parameter. Alternatively, you can set the AZURE_OPENAI_API_KEY env var OR set `use_azure_ad=True`.\n",
      "38.6 An exception in askQuestion: ValueError You must set an `api_key` parameter. Alternatively, you can set the AZURE_OPENAI_API_KEY env var OR set `use_azure_ad=True`.\n",
      "38.7 An exception in askQuestion: ValueError You must set an `api_key` parameter. Alternatively, you can set the AZURE_OPENAI_API_KEY env var OR set `use_azure_ad=True`.\n",
      "38.8 An exception in askQuestion: ValueError You must set an `api_key` parameter. Alternatively, you can set the AZURE_OPENAI_API_KEY env var OR set `use_azure_ad=True`.\n",
      "An exception in askQuestion: ValueError You must set an `api_key` parameter. Alternatively, you can set the AZURE_OPENAI_API_KEY env var OR set `use_azure_ad=True`.\n",
      "38.9 An exception in askQuestion: ValueError You must set an `api_key` parameter. Alternatively, you can set the AZURE_OPENAI_API_KEY env var OR set `use_azure_ad=True`.\n",
      "An exception in askQuestion: ValueError You must set an `api_key` parameter. Alternatively, you can set the AZURE_OPENAI_API_KEY env var OR set `use_azure_ad=True`.\n",
      "39 39.1 An exception in askQuestion: ValueError You must set an `api_key` parameter. Alternatively, you can set the AZURE_OPENAI_API_KEY env var OR set `use_azure_ad=True`.\n",
      "39.2 An exception in askQuestion: ValueError You must set an `api_key` parameter. Alternatively, you can set the AZURE_OPENAI_API_KEY env var OR set `use_azure_ad=True`.\n",
      "39.3 An exception in askQuestion: ValueError You must set an `api_key` parameter. Alternatively, you can set the AZURE_OPENAI_API_KEY env var OR set `use_azure_ad=True`.\n",
      "39.4 An exception in askQuestion: ValueError You must set an `api_key` parameter. Alternatively, you can set the AZURE_OPENAI_API_KEY env var OR set `use_azure_ad=True`.\n",
      "39.5 An exception in askQuestion: ValueError You must set an `api_key` parameter. Alternatively, you can set the AZURE_OPENAI_API_KEY env var OR set `use_azure_ad=True`.\n",
      "39.6 An exception in askQuestion: ValueError You must set an `api_key` parameter. Alternatively, you can set the AZURE_OPENAI_API_KEY env var OR set `use_azure_ad=True`.\n",
      "39.7 An exception in askQuestion: ValueError You must set an `api_key` parameter. Alternatively, you can set the AZURE_OPENAI_API_KEY env var OR set `use_azure_ad=True`.\n",
      "39.8 An exception in askQuestion: ValueError You must set an `api_key` parameter. Alternatively, you can set the AZURE_OPENAI_API_KEY env var OR set `use_azure_ad=True`.\n",
      "39.9 An exception in askQuestion: ValueError You must set an `api_key` parameter. Alternatively, you can set the AZURE_OPENAI_API_KEY env var OR set `use_azure_ad=True`.\n",
      "An exception in askQuestion: ValueError You must set an `api_key` parameter. Alternatively, you can set the AZURE_OPENAI_API_KEY env var OR set `use_azure_ad=True`.\n",
      "39.10 An exception in askQuestion: ValueError You must set an `api_key` parameter. Alternatively, you can set the AZURE_OPENAI_API_KEY env var OR set `use_azure_ad=True`.\n",
      "39.11 An exception in askQuestion: ValueError You must set an `api_key` parameter. Alternatively, you can set the AZURE_OPENAI_API_KEY env var OR set `use_azure_ad=True`.\n",
      "39.12 An exception in askQuestion: ValueError You must set an `api_key` parameter. Alternatively, you can set the AZURE_OPENAI_API_KEY env var OR set `use_azure_ad=True`.\n",
      "39.13 An exception in askQuestion: ValueError You must set an `api_key` parameter. Alternatively, you can set the AZURE_OPENAI_API_KEY env var OR set `use_azure_ad=True`.\n",
      "39.14 An exception in askQuestion: ValueError You must set an `api_key` parameter. Alternatively, you can set the AZURE_OPENAI_API_KEY env var OR set `use_azure_ad=True`.\n",
      "39.15 An exception in askQuestion: ValueError You must set an `api_key` parameter. Alternatively, you can set the AZURE_OPENAI_API_KEY env var OR set `use_azure_ad=True`.\n",
      "39.16 An exception in askQuestion: ValueError You must set an `api_key` parameter. Alternatively, you can set the AZURE_OPENAI_API_KEY env var OR set `use_azure_ad=True`.\n",
      "39.17 An exception in askQuestion: ValueError You must set an `api_key` parameter. Alternatively, you can set the AZURE_OPENAI_API_KEY env var OR set `use_azure_ad=True`.\n",
      "39.18 An exception in askQuestion: ValueError You must set an `api_key` parameter. Alternatively, you can set the AZURE_OPENAI_API_KEY env var OR set `use_azure_ad=True`.\n",
      "An exception in askQuestion: ValueError You must set an `api_key` parameter. Alternatively, you can set the AZURE_OPENAI_API_KEY env var OR set `use_azure_ad=True`.\n",
      "39.19 An exception in askQuestion: ValueError You must set an `api_key` parameter. Alternatively, you can set the AZURE_OPENAI_API_KEY env var OR set `use_azure_ad=True`.\n",
      "39.20 An exception in askQuestion: ValueError You must set an `api_key` parameter. Alternatively, you can set the AZURE_OPENAI_API_KEY env var OR set `use_azure_ad=True`.\n",
      "An exception in askQuestion: ValueError You must set an `api_key` parameter. Alternatively, you can set the AZURE_OPENAI_API_KEY env var OR set `use_azure_ad=True`.\n",
      "39.21 An exception in askQuestion: ValueError You must set an `api_key` parameter. Alternatively, you can set the AZURE_OPENAI_API_KEY env var OR set `use_azure_ad=True`.\n",
      "39.22 An exception in askQuestion: ValueError You must set an `api_key` parameter. Alternatively, you can set the AZURE_OPENAI_API_KEY env var OR set `use_azure_ad=True`.\n",
      "39.23 An exception in askQuestion: ValueError You must set an `api_key` parameter. Alternatively, you can set the AZURE_OPENAI_API_KEY env var OR set `use_azure_ad=True`.\n",
      "39.24 An exception in askQuestion: ValueError You must set an `api_key` parameter. Alternatively, you can set the AZURE_OPENAI_API_KEY env var OR set `use_azure_ad=True`.\n",
      "39.25 An exception in askQuestion: ValueError You must set an `api_key` parameter. Alternatively, you can set the AZURE_OPENAI_API_KEY env var OR set `use_azure_ad=True`.\n",
      "An exception in askQuestion: ValueError You must set an `api_key` parameter. Alternatively, you can set the AZURE_OPENAI_API_KEY env var OR set `use_azure_ad=True`.\n",
      "39.26 An exception in askQuestion: ValueError You must set an `api_key` parameter. Alternatively, you can set the AZURE_OPENAI_API_KEY env var OR set `use_azure_ad=True`.\n",
      "39.27 An exception in askQuestion: ValueError You must set an `api_key` parameter. Alternatively, you can set the AZURE_OPENAI_API_KEY env var OR set `use_azure_ad=True`.\n",
      "39.28 An exception in askQuestion: ValueError You must set an `api_key` parameter. Alternatively, you can set the AZURE_OPENAI_API_KEY env var OR set `use_azure_ad=True`.\n",
      "39.29 An exception in askQuestion: ValueError You must set an `api_key` parameter. Alternatively, you can set the AZURE_OPENAI_API_KEY env var OR set `use_azure_ad=True`.\n",
      "39.30 An exception in askQuestion: ValueError You must set an `api_key` parameter. Alternatively, you can set the AZURE_OPENAI_API_KEY env var OR set `use_azure_ad=True`.\n",
      "39.31 An exception in askQuestion: ValueError You must set an `api_key` parameter. Alternatively, you can set the AZURE_OPENAI_API_KEY env var OR set `use_azure_ad=True`.\n",
      "39.32 An exception in askQuestion: ValueError You must set an `api_key` parameter. Alternatively, you can set the AZURE_OPENAI_API_KEY env var OR set `use_azure_ad=True`.\n",
      "39.33 An exception in askQuestion: ValueError You must set an `api_key` parameter. Alternatively, you can set the AZURE_OPENAI_API_KEY env var OR set `use_azure_ad=True`.\n",
      "39.34 An exception in askQuestion: ValueError You must set an `api_key` parameter. Alternatively, you can set the AZURE_OPENAI_API_KEY env var OR set `use_azure_ad=True`.\n",
      "39.35 An exception in askQuestion: ValueError You must set an `api_key` parameter. Alternatively, you can set the AZURE_OPENAI_API_KEY env var OR set `use_azure_ad=True`.\n",
      "39.36 An exception in askQuestion: ValueError You must set an `api_key` parameter. Alternatively, you can set the AZURE_OPENAI_API_KEY env var OR set `use_azure_ad=True`.\n",
      "39.37 An exception in askQuestion: ValueError You must set an `api_key` parameter. Alternatively, you can set the AZURE_OPENAI_API_KEY env var OR set `use_azure_ad=True`.\n",
      "39.38 An exception in askQuestion: ValueError You must set an `api_key` parameter. Alternatively, you can set the AZURE_OPENAI_API_KEY env var OR set `use_azure_ad=True`.\n",
      "39.39 An exception in askQuestion: ValueError You must set an `api_key` parameter. Alternatively, you can set the AZURE_OPENAI_API_KEY env var OR set `use_azure_ad=True`.\n",
      "39.40 An exception in askQuestion: ValueError You must set an `api_key` parameter. Alternatively, you can set the AZURE_OPENAI_API_KEY env var OR set `use_azure_ad=True`.\n",
      "40 An exception in askQuestion: ValueError You must set an `api_key` parameter. Alternatively, you can set the AZURE_OPENAI_API_KEY env var OR set `use_azure_ad=True`.\n",
      "40.1 An exception in askQuestion: ValueError You must set an `api_key` parameter. Alternatively, you can set the AZURE_OPENAI_API_KEY env var OR set `use_azure_ad=True`.\n",
      "An exception in askQuestion: ValueError You must set an `api_key` parameter. Alternatively, you can set the AZURE_OPENAI_API_KEY env var OR set `use_azure_ad=True`.\n",
      "40.2 An exception in askQuestion: ValueError You must set an `api_key` parameter. Alternatively, you can set the AZURE_OPENAI_API_KEY env var OR set `use_azure_ad=True`.\n",
      "40.3 An exception in askQuestion: ValueError You must set an `api_key` parameter. Alternatively, you can set the AZURE_OPENAI_API_KEY env var OR set `use_azure_ad=True`.\n",
      "40.4 An exception in askQuestion: ValueError You must set an `api_key` parameter. Alternatively, you can set the AZURE_OPENAI_API_KEY env var OR set `use_azure_ad=True`.\n",
      "An exception in askQuestion: ValueError You must set an `api_key` parameter. Alternatively, you can set the AZURE_OPENAI_API_KEY env var OR set `use_azure_ad=True`.\n",
      "40.5 An exception in askQuestion: ValueError You must set an `api_key` parameter. Alternatively, you can set the AZURE_OPENAI_API_KEY env var OR set `use_azure_ad=True`.\n",
      "40.6 An exception in askQuestion: ValueError You must set an `api_key` parameter. Alternatively, you can set the AZURE_OPENAI_API_KEY env var OR set `use_azure_ad=True`.\n",
      "40.7 An exception in askQuestion: ValueError You must set an `api_key` parameter. Alternatively, you can set the AZURE_OPENAI_API_KEY env var OR set `use_azure_ad=True`.\n",
      "40.8 An exception in askQuestion: ValueError You must set an `api_key` parameter. Alternatively, you can set the AZURE_OPENAI_API_KEY env var OR set `use_azure_ad=True`.\n",
      "40.9 An exception in askQuestion: ValueError You must set an `api_key` parameter. Alternatively, you can set the AZURE_OPENAI_API_KEY env var OR set `use_azure_ad=True`.\n",
      "An exception in askQuestion: ValueError You must set an `api_key` parameter. Alternatively, you can set the AZURE_OPENAI_API_KEY env var OR set `use_azure_ad=True`.\n",
      "40.10 An exception in askQuestion: ValueError You must set an `api_key` parameter. Alternatively, you can set the AZURE_OPENAI_API_KEY env var OR set `use_azure_ad=True`.\n",
      "40.11 An exception in askQuestion: ValueError You must set an `api_key` parameter. Alternatively, you can set the AZURE_OPENAI_API_KEY env var OR set `use_azure_ad=True`.\n",
      "40.12 An exception in askQuestion: ValueError You must set an `api_key` parameter. Alternatively, you can set the AZURE_OPENAI_API_KEY env var OR set `use_azure_ad=True`.\n",
      "41 An exception in askQuestion: ValueError You must set an `api_key` parameter. Alternatively, you can set the AZURE_OPENAI_API_KEY env var OR set `use_azure_ad=True`.\n",
      "43 An exception in askQuestion: ValueError You must set an `api_key` parameter. Alternatively, you can set the AZURE_OPENAI_API_KEY env var OR set `use_azure_ad=True`.\n",
      "An exception in askQuestion: ValueError You must set an `api_key` parameter. Alternatively, you can set the AZURE_OPENAI_API_KEY env var OR set `use_azure_ad=True`.\n",
      "44 An exception in askQuestion: ValueError You must set an `api_key` parameter. Alternatively, you can set the AZURE_OPENAI_API_KEY env var OR set `use_azure_ad=True`.\n",
      "An exception in askQuestion: ValueError You must set an `api_key` parameter. Alternatively, you can set the AZURE_OPENAI_API_KEY env var OR set `use_azure_ad=True`.\n",
      "46 An exception in askQuestion: ValueError You must set an `api_key` parameter. Alternatively, you can set the AZURE_OPENAI_API_KEY env var OR set `use_azure_ad=True`.\n",
      "47 An exception in askQuestion: ValueError You must set an `api_key` parameter. Alternatively, you can set the AZURE_OPENAI_API_KEY env var OR set `use_azure_ad=True`.\n",
      "48 An exception in askQuestion: ValueError You must set an `api_key` parameter. Alternatively, you can set the AZURE_OPENAI_API_KEY env var OR set `use_azure_ad=True`.\n",
      "50 An exception in askQuestion: ValueError You must set an `api_key` parameter. Alternatively, you can set the AZURE_OPENAI_API_KEY env var OR set `use_azure_ad=True`.\n",
      "An exception in askQuestion: ValueError You must set an `api_key` parameter. Alternatively, you can set the AZURE_OPENAI_API_KEY env var OR set `use_azure_ad=True`.\n",
      "51 An exception in askQuestion: ValueError You must set an `api_key` parameter. Alternatively, you can set the AZURE_OPENAI_API_KEY env var OR set `use_azure_ad=True`.\n",
      "51.1 An exception in askQuestion: ValueError You must set an `api_key` parameter. Alternatively, you can set the AZURE_OPENAI_API_KEY env var OR set `use_azure_ad=True`.\n",
      "51.2 An exception in askQuestion: ValueError You must set an `api_key` parameter. Alternatively, you can set the AZURE_OPENAI_API_KEY env var OR set `use_azure_ad=True`.\n",
      "51.3 An exception in askQuestion: ValueError You must set an `api_key` parameter. Alternatively, you can set the AZURE_OPENAI_API_KEY env var OR set `use_azure_ad=True`.\n",
      "An exception in askQuestion: ValueError You must set an `api_key` parameter. Alternatively, you can set the AZURE_OPENAI_API_KEY env var OR set `use_azure_ad=True`.\n",
      "51.4 An exception in askQuestion: ValueError You must set an `api_key` parameter. Alternatively, you can set the AZURE_OPENAI_API_KEY env var OR set `use_azure_ad=True`.\n",
      "52 An exception in askQuestion: ValueError You must set an `api_key` parameter. Alternatively, you can set the AZURE_OPENAI_API_KEY env var OR set `use_azure_ad=True`.\n",
      "53 An exception in askQuestion: ValueError You must set an `api_key` parameter. Alternatively, you can set the AZURE_OPENAI_API_KEY env var OR set `use_azure_ad=True`.\n",
      "54 An exception in askQuestion: ValueError You must set an `api_key` parameter. Alternatively, you can set the AZURE_OPENAI_API_KEY env var OR set `use_azure_ad=True`.\n",
      "An exception in askQuestion: ValueError You must set an `api_key` parameter. Alternatively, you can set the AZURE_OPENAI_API_KEY env var OR set `use_azure_ad=True`.\n",
      "56 An exception in askQuestion: ValueError You must set an `api_key` parameter. Alternatively, you can set the AZURE_OPENAI_API_KEY env var OR set `use_azure_ad=True`.\n",
      "57 An exception in askQuestion: ValueError You must set an `api_key` parameter. Alternatively, you can set the AZURE_OPENAI_API_KEY env var OR set `use_azure_ad=True`.\n",
      "58 An exception in askQuestion: ValueError You must set an `api_key` parameter. Alternatively, you can set the AZURE_OPENAI_API_KEY env var OR set `use_azure_ad=True`.\n",
      "An exception in askQuestion: ValueError You must set an `api_key` parameter. Alternatively, you can set the AZURE_OPENAI_API_KEY env var OR set `use_azure_ad=True`.\n",
      "60 An exception in askQuestion: ValueError You must set an `api_key` parameter. Alternatively, you can set the AZURE_OPENAI_API_KEY env var OR set `use_azure_ad=True`.\n",
      "An exception in askQuestion: ValueError You must set an `api_key` parameter. Alternatively, you can set the AZURE_OPENAI_API_KEY env var OR set `use_azure_ad=True`.\n",
      "61 An exception in askQuestion: ValueError You must set an `api_key` parameter. Alternatively, you can set the AZURE_OPENAI_API_KEY env var OR set `use_azure_ad=True`.\n",
      "An exception in askQuestion: ValueError You must set an `api_key` parameter. Alternatively, you can set the AZURE_OPENAI_API_KEY env var OR set `use_azure_ad=True`.\n",
      "62 An exception in askQuestion: ValueError You must set an `api_key` parameter. Alternatively, you can set the AZURE_OPENAI_API_KEY env var OR set `use_azure_ad=True`.\n",
      "An exception in askQuestion: ValueError You must set an `api_key` parameter. Alternatively, you can set the AZURE_OPENAI_API_KEY env var OR set `use_azure_ad=True`.\n",
      "63 An exception in askQuestion: ValueError You must set an `api_key` parameter. Alternatively, you can set the AZURE_OPENAI_API_KEY env var OR set `use_azure_ad=True`.\n",
      "An exception in askQuestion: ValueError You must set an `api_key` parameter. Alternatively, you can set the AZURE_OPENAI_API_KEY env var OR set `use_azure_ad=True`.\n",
      "65 An exception in askQuestion: ValueError You must set an `api_key` parameter. Alternatively, you can set the AZURE_OPENAI_API_KEY env var OR set `use_azure_ad=True`.\n",
      "An exception in askQuestion: ValueError You must set an `api_key` parameter. Alternatively, you can set the AZURE_OPENAI_API_KEY env var OR set `use_azure_ad=True`.\n",
      "PRECIZITĀTE: 100.0%\n"
=======
      "86 segments created and vectorized.\n",
      "Index is ready.\n"
     ]
    },
    {
     "name": "stderr",
     "output_type": "stream",
     "text": []
    },
    {
     "name": "stdout",
     "output_type": "stream",
     "text": [
      "2 "
     ]
    },
    {
     "name": "stderr",
     "output_type": "stream",
     "text": []
    },
    {
     "name": "stdout",
     "output_type": "stream",
     "text": [
      "4 "
     ]
    },
    {
     "name": "stderr",
     "output_type": "stream",
     "text": []
    },
    {
     "name": "stdout",
     "output_type": "stream",
     "text": [
      "6 "
     ]
    },
    {
     "name": "stderr",
     "output_type": "stream",
     "text": []
    },
    {
     "name": "stdout",
     "output_type": "stream",
     "text": [
      "7 "
     ]
    },
    {
     "name": "stderr",
     "output_type": "stream",
     "text": []
    },
    {
     "name": "stdout",
     "output_type": "stream",
     "text": [
      "9 "
     ]
    },
    {
     "name": "stderr",
     "output_type": "stream",
     "text": []
    },
    {
     "name": "stdout",
     "output_type": "stream",
     "text": [
      "10 "
     ]
    },
    {
     "name": "stderr",
     "output_type": "stream",
     "text": []
    },
    {
     "name": "stdout",
     "output_type": "stream",
     "text": [
      "15 "
     ]
    },
    {
     "name": "stderr",
     "output_type": "stream",
     "text": []
    },
    {
     "name": "stdout",
     "output_type": "stream",
     "text": [
      "16 "
     ]
    },
    {
     "name": "stderr",
     "output_type": "stream",
     "text": []
    },
    {
     "name": "stdout",
     "output_type": "stream",
     "text": [
      "17 "
     ]
    },
    {
     "name": "stderr",
     "output_type": "stream",
     "text": []
    },
    {
     "name": "stdout",
     "output_type": "stream",
     "text": [
      "18 "
     ]
    },
    {
     "name": "stderr",
     "output_type": "stream",
     "text": []
    },
    {
     "name": "stdout",
     "output_type": "stream",
     "text": [
      "19 "
     ]
    },
    {
     "name": "stderr",
     "output_type": "stream",
     "text": []
    },
    {
     "name": "stdout",
     "output_type": "stream",
     "text": [
      "22 "
     ]
    },
    {
     "name": "stderr",
     "output_type": "stream",
     "text": []
    },
    {
     "name": "stdout",
     "output_type": "stream",
     "text": [
      "23 "
     ]
    },
    {
     "name": "stderr",
     "output_type": "stream",
     "text": []
    },
    {
     "name": "stdout",
     "output_type": "stream",
     "text": [
      "24 "
     ]
    },
    {
     "name": "stderr",
     "output_type": "stream",
     "text": []
    },
    {
     "name": "stdout",
     "output_type": "stream",
     "text": [
      "26 "
     ]
    },
    {
     "name": "stderr",
     "output_type": "stream",
     "text": []
    },
    {
     "name": "stdout",
     "output_type": "stream",
     "text": [
      "27 "
     ]
    },
    {
     "name": "stderr",
     "output_type": "stream",
     "text": []
    },
    {
     "name": "stdout",
     "output_type": "stream",
     "text": [
      "28 "
     ]
    },
    {
     "name": "stderr",
     "output_type": "stream",
     "text": []
    },
    {
     "name": "stdout",
     "output_type": "stream",
     "text": [
      "29 "
     ]
    },
    {
     "name": "stderr",
     "output_type": "stream",
     "text": []
    },
    {
     "name": "stdout",
     "output_type": "stream",
     "text": [
      "31 "
     ]
    },
    {
     "name": "stderr",
     "output_type": "stream",
     "text": []
    },
    {
     "name": "stdout",
     "output_type": "stream",
     "text": [
      "32 "
     ]
    },
    {
     "name": "stderr",
     "output_type": "stream",
     "text": []
    },
    {
     "name": "stdout",
     "output_type": "stream",
     "text": [
      "33 "
     ]
    },
    {
     "name": "stderr",
     "output_type": "stream",
     "text": []
    },
    {
     "name": "stdout",
     "output_type": "stream",
     "text": [
      "34 "
     ]
    },
    {
     "name": "stderr",
     "output_type": "stream",
     "text": []
    },
    {
     "name": "stdout",
     "output_type": "stream",
     "text": [
      "35 "
     ]
    },
    {
     "name": "stderr",
     "output_type": "stream",
     "text": []
    },
    {
     "name": "stdout",
     "output_type": "stream",
     "text": [
      "36 "
     ]
    },
    {
     "name": "stderr",
     "output_type": "stream",
     "text": []
    },
    {
     "name": "stdout",
     "output_type": "stream",
     "text": [
      "37 37.1 37.2 37.3 37.4 37.5 37.6 37.7 37.8 37.9 37.10 37.11 37.12 37.13 "
     ]
    },
    {
     "name": "stderr",
     "output_type": "stream",
     "text": []
    },
    {
     "name": "stdout",
     "output_type": "stream",
     "text": [
      "38 38.1 38.2 38.3 38.4 38.5 38.6 38.7 38.8 38.9 "
     ]
    },
    {
     "name": "stderr",
     "output_type": "stream",
     "text": []
    },
    {
     "name": "stdout",
     "output_type": "stream",
     "text": [
      "39 39.1 39.2 39.3 39.4 39.5 39.6 39.7 39.8 39.9 39.10 39.11 39.12 39.13 39.14 39.15 39.16 39.17 39.18 39.19 39.20 39.21 39.22 39.23 39.24 39.25 39.26 39.27 39.28 39.29 39.30 39.31 39.32 39.33 39.34 39.35 39.36 39.37 39.38 39.39 39.40 "
     ]
    },
    {
     "name": "stderr",
     "output_type": "stream",
     "text": []
    },
    {
     "name": "stdout",
     "output_type": "stream",
     "text": [
      "40 40.1 40.2 40.3 40.4 40.5 40.6 40.7 40.8 40.9 40.10 40.11 40.12 "
     ]
    },
    {
     "name": "stderr",
     "output_type": "stream",
     "text": []
    },
    {
     "name": "stdout",
     "output_type": "stream",
     "text": [
      "41 "
     ]
    },
    {
     "name": "stderr",
     "output_type": "stream",
     "text": []
    },
    {
     "name": "stdout",
     "output_type": "stream",
     "text": [
      "43 "
     ]
    },
    {
     "name": "stderr",
     "output_type": "stream",
     "text": []
    },
    {
     "name": "stdout",
     "output_type": "stream",
     "text": [
      "44 "
     ]
    },
    {
     "name": "stderr",
     "output_type": "stream",
     "text": []
    },
    {
     "name": "stdout",
     "output_type": "stream",
     "text": [
      "46 "
     ]
    },
    {
     "name": "stderr",
     "output_type": "stream",
     "text": []
    },
    {
     "name": "stdout",
     "output_type": "stream",
     "text": [
      "47 "
     ]
    },
    {
     "name": "stderr",
     "output_type": "stream",
     "text": []
    },
    {
     "name": "stdout",
     "output_type": "stream",
     "text": [
      "48 "
     ]
    },
    {
     "name": "stderr",
     "output_type": "stream",
     "text": []
    },
    {
     "name": "stdout",
     "output_type": "stream",
     "text": [
      "50 "
     ]
    },
    {
     "name": "stderr",
     "output_type": "stream",
     "text": []
    },
    {
     "name": "stdout",
     "output_type": "stream",
     "text": [
      "51 51.1 51.2 51.3 51.4 "
     ]
    },
    {
     "name": "stderr",
     "output_type": "stream",
     "text": []
    },
    {
     "name": "stdout",
     "output_type": "stream",
     "text": [
      "52 "
     ]
    },
    {
     "name": "stderr",
     "output_type": "stream",
     "text": []
    },
    {
     "name": "stdout",
     "output_type": "stream",
     "text": [
      "53 "
     ]
    },
    {
     "name": "stderr",
     "output_type": "stream",
     "text": []
    },
    {
     "name": "stdout",
     "output_type": "stream",
     "text": [
      "54 "
     ]
    },
    {
     "name": "stderr",
     "output_type": "stream",
     "text": []
    },
    {
     "name": "stdout",
     "output_type": "stream",
     "text": [
      "56 "
     ]
    },
    {
     "name": "stderr",
     "output_type": "stream",
     "text": []
    },
    {
     "name": "stdout",
     "output_type": "stream",
     "text": [
      "57 "
     ]
    },
    {
     "name": "stderr",
     "output_type": "stream",
     "text": []
    },
    {
     "name": "stdout",
     "output_type": "stream",
     "text": [
      "58 "
     ]
    },
    {
     "name": "stderr",
     "output_type": "stream",
     "text": []
    },
    {
     "name": "stdout",
     "output_type": "stream",
     "text": [
      "60 "
     ]
    },
    {
     "name": "stderr",
     "output_type": "stream",
     "text": []
    },
    {
     "name": "stdout",
     "output_type": "stream",
     "text": [
      "61 "
     ]
    },
    {
     "name": "stderr",
     "output_type": "stream",
     "text": []
    },
    {
     "name": "stdout",
     "output_type": "stream",
     "text": [
      "62 63 "
     ]
    },
    {
     "name": "stderr",
     "output_type": "stream",
     "text": []
    },
    {
     "name": "stdout",
     "output_type": "stream",
     "text": [
      "65 "
     ]
    },
    {
     "name": "stderr",
     "output_type": "stream",
     "text": [
      "Questions in /home/andris/src/vpp-cfla/config/EDI_20203AK.ini: 100%|██████████| 68/68 [10:20<00:00,  9.13s/q]"
     ]
    },
    {
     "name": "stdout",
     "output_type": "stream",
     "text": [
      "PRECIZITĀTE: 68.39080459770115%\n"
     ]
    },
    {
     "name": "stderr",
     "output_type": "stream",
     "text": [
      "\n"
>>>>>>> eb59724f7c3e0e3c02a801c367b10fc2ae1ab5d2
     ]
    }
   ],
   "source": [
    "# TODO add parallel prompting\n",
    "\n",
    "if overwrite: # overwrtitting report; Delete and create new\n",
    "    if report_path_htm.exists():\n",
    "        report_path_htm.unlink()\n",
    "    if report_path_csv.exists():\n",
    "        report_path_csv.unlink()\n",
    "\n",
    "for file in tqdm(ini_files, desc=\"Config files\", unit=\"file\"): # TODO fix TQDM; expected that after first file finishes it shows the aproximation of all the other files left to process\n",
    "        configfile = config_dir / f\"{file}.ini\"\n",
    "        \n",
    "        procurement_id, procurement_file, agreement_file, answer_file = get_config_data(configfile, procurement_file_dir, answer_file_dir)\n",
    "        # Open CSV file, maybe as pandas dataframe\n",
    "        answer_dictionary = get_answers(answer_file)\n",
    "        print(f\"Processing config file: {configfile}\")\n",
    "\n",
    "        # Getting markdown text from procurement doc\n",
    "        procurement_content = get_procurement_content(extractor, procurement_file, agreement_file)\n",
    "    \n",
    "        # Creating FAISS vector index for the procurement document\n",
    "        qnaengine = QnAEngine(embedding,llm)\n",
    "        await qnaengine.createIndex(\n",
    "                procurement_content,\n",
    "                \"Procurement\",\n",
    "                chunk_size=embedding_conf[\"chunk_size\"],\n",
    "                chunk_overlap=embedding_conf[\"chunk_overlap\"]\n",
    "                )\n",
    "\n",
    "        ### Generating results\n",
    "        results_table = gen_results(qnaengine, configfile, embedding_conf, question_dictionary, answer_dictionary, prompt_dictionary)\n",
    "        \n",
    "        # add \"Iepirkuma ID\" as procurement_id to results table\n",
    "        # TODO move this inside gen results function once it has been refactored\n",
    "        for row in results_table:\n",
    "                row.insert(0, file)\n",
    "        \n",
    "        ### Save output\n",
    "        data = pd.DataFrame(results_table, columns=[\"Iepirkuma ID\", \"Nr\", \"Atbilde\", \"Sagaidāmā atbilde\", \"Pamatojums\"])\n",
    "        precision = (data['Atbilde'] == data['Sagaidāmā atbilde']).sum()/len(data)\n",
    "        print(f\"PRECIZITĀTE: {precision*100}%\")\n",
    "\n",
    "        with report_path_htm.open('a', encoding='utf-8') as ofile:\n",
    "                # TODO Create a dropdown menu that lets the user select file by \"Iepirkuma ID\" - in each page only information that has that \"Iepirkuma ID\" is displayed\n",
    "                print(procurement_id,file=ofile)\n",
    "                print(data.to_html(index=False).replace('\\\\n','<br>'),file=ofile)\n",
    "                print(f\"PRECIZITĀTE: {precision*100}%\",file=ofile)\n",
    "\n",
    "        data.to_csv(report_path_csv, \n",
    "                    mode='a', \n",
    "                    index=False, \n",
    "                    header=not report_path_csv.exists(), # only adding one header\n",
    "                    encoding='utf-8')\n",
    "        \n",
    "                "
   ]
  },
  {
   "cell_type": "markdown",
   "id": "56cbe6e6",
   "metadata": {},
   "source": [
    "Table for Questions"
   ]
  },
  {
   "cell_type": "code",
   "execution_count": 8,
<<<<<<< HEAD
=======
   "id": "5d21fb3c",
   "metadata": {},
   "outputs": [],
   "source": [
    "# TODO remake using CSV; no need for loops just use pandas dataframe to get all the data\n",
    "# Get a dataframe that contains the following:\n",
    "# procurement_id\n",
    "# Question_nr, \n",
    "# Answers_total(this will contain the count of the answers where there were no missing - \"?\" answers),\n",
    "# TODO pielabot tabulas vērtības\n",
    "# Expected_answer,\n",
    "# Yes_count,\n",
    "# No_count,\n",
    "# n_a_count, (Having all of this data could be useful for seeing maybe the llm likes to frequently say there is not enough context for example - problem is with RAG)\n",
    "\n",
    "# TODO Generate final report:\n",
    "# Using above data get the amount of correct answers, better would be a fraction like 7/10 instead of % for readability\n",
    "# Get accuray for each file (%)\n",
    "# Get total accuracy on all questions on all files as %; \n",
    "\n",
    "# Later TODO use the CSVs and dataframes to generate a html file as a nice clean readable report - we still need to discuss this\n"
   ]
  },
  {
   "cell_type": "code",
   "execution_count": 9,
>>>>>>> eb59724f7c3e0e3c02a801c367b10fc2ae1ab5d2
   "id": "e3f08f7d",
   "metadata": {},
   "outputs": [
    {
     "name": "stdout",
     "output_type": "stream",
     "text": [
      "Question correctness (1=all sub-rows(q0 and q) correct, 0=any wrong):\n",
      "             GNP202565.ini\n",
      "Question Nr               \n",
      "10                       1\n",
      "15                       1\n",
      "16                       1\n",
      "17                       1\n",
      "17-0                     1\n",
      "...                    ...\n",
      "7-0                      1\n",
      "9-0                      1\n",
      "9.1                      1\n",
      "9.2                      1\n",
      "9.3                      1\n",
      "\n",
      "[177 rows x 1 columns]\n"
     ]
    }
   ],
   "source": [
    "\n",
    "\n",
    "\n",
    "# # ── Containers ──\n",
    "# all_correctness = {}   # filename → { Nr_str: 0|1, … }\n",
    "# master_qids = []       # list of all Nr’s in the order first seen\n",
    "\n",
    "# # ── Reloop, but capture correctness per Nr ──\n",
    "# for file in ini_files:\n",
    "    \n",
    "#     per_file = {}\n",
    "#     for nr, grp in data.groupby(\"nr\"):\n",
    "#         nr_str = str(nr)                # e.g. \"4\", \"9.1\", \"9.2\"\n",
    "#         if nr_str not in master_qids:\n",
    "#             master_qids.append(nr_str)\n",
    "\n",
<<<<<<< HEAD
    "    per_file = {}\n",
    "    for nr, grp in data.groupby(\"Nr\"):\n",
    "        nr_str = str(nr)                # e.g. \"4\", \"9.1\", \"9.2\"\n",
    "        if nr_str not in master_qids:\n",
    "            master_qids.append(nr_str)\n",
=======
    "#         # 1 only if every row in grp matches\n",
    "#         is_correct = (grp[\"Atbilde\"] == grp[\"Sagaidāmā atbilde\"]).all()\n",
    "#         per_file[nr_str] = int(is_correct)\n",
>>>>>>> eb59724f7c3e0e3c02a801c367b10fc2ae1ab5d2
    "\n",
    "#     all_correctness[file] = per_file\n",
    "\n",
    "# # ── Build the matrix ──\n",
    "# df = pd.DataFrame.from_dict(all_correctness, orient=\"index\")  # rows=files, cols=Nr\n",
    "# df = df.T                                                 \n",
    "# df = df.reindex(master_qids)                               \n",
    "# df.index.name = \"Question Nr\"\n",
    "\n",
    "\n",
    "# print(\"Question correctness (1=all sub-rows(q0 and q) correct, 0=any wrong):\")\n",
    "# print(df)\n",
    "\n"
   ]
  },
  {
   "cell_type": "markdown",
   "id": "9290c059",
   "metadata": {},
   "source": [
    "Correctness % and plot"
   ]
  },
  {
   "cell_type": "code",
<<<<<<< HEAD
   "execution_count": 9,
=======
   "execution_count": 10,
>>>>>>> eb59724f7c3e0e3c02a801c367b10fc2ae1ab5d2
   "id": "4d5f67d0",
   "metadata": {},
   "outputs": [
    {
     "ename": "ModuleNotFoundError",
     "evalue": "No module named 'matplotlib'",
     "output_type": "error",
     "traceback": [
      "\u001b[31m---------------------------------------------------------------------------\u001b[39m",
      "\u001b[31mModuleNotFoundError\u001b[39m                       Traceback (most recent call last)",
      "\u001b[36mCell\u001b[39m\u001b[36m \u001b[39m\u001b[32mIn[9]\u001b[39m\u001b[32m, line 1\u001b[39m\n\u001b[32m----> \u001b[39m\u001b[32m1\u001b[39m \u001b[38;5;28;01mimport\u001b[39;00m\u001b[38;5;250m \u001b[39m\u001b[34;01mmatplotlib\u001b[39;00m\u001b[34;01m.\u001b[39;00m\u001b[34;01mpyplot\u001b[39;00m\u001b[38;5;250m \u001b[39m\u001b[38;5;28;01mas\u001b[39;00m\u001b[38;5;250m \u001b[39m\u001b[34;01mplt\u001b[39;00m\n\u001b[32m      3\u001b[39m \u001b[38;5;66;03m# ── 1) Performance metrics ──\u001b[39;00m\n\u001b[32m      4\u001b[39m \u001b[38;5;66;03m# df: rows=Question Nr, cols=filenames, values=0/1\u001b[39;00m\n\u001b[32m      5\u001b[39m correct_counts = df.sum(axis=\u001b[32m1\u001b[39m)                   \u001b[38;5;66;03m# how many files got each question right\u001b[39;00m\n",
      "\u001b[31mModuleNotFoundError\u001b[39m: No module named 'matplotlib'"
     ]
    }
   ],
   "source": [
    "\n",
    "# import matplotlib.pyplot as plt\n",
    "\n",
    "# # ── 1) Performance metrics ──\n",
    "# # df: rows=Question Nr, cols=filenames, values=0/1\n",
    "# correct_counts = df.sum(axis=1)                   # how many files got each question right\n",
    "# num_files     = df.shape[1]                       # total number of files\n",
    "# percentages   = (correct_counts / num_files) * 100\n",
    "\n",
    "# perf_df = pd.DataFrame({\n",
    "#     \"CorrectCount\": correct_counts,\n",
    "#     \"Percentage\":  percentages.round(1)\n",
    "# })\n",
    "\n",
    "# # ── 2) Display stats ──\n",
    "# print(\"Per‐question performance:\")\n",
    "# print(perf_df)\n",
    "\n",
    "# # ── 3) Bar chart ──\n",
    "# plt.figure()\n",
    "# plt.bar(perf_df.index.astype(str), perf_df[\"CorrectCount\"])\n",
    "# plt.xlabel(\"Question Nr\")\n",
    "# plt.ylabel(\"Number of Correct Answers\")\n",
    "# plt.ylim(0, num_files)\n",
    "# plt.xticks(rotation=90)\n",
    "# plt.title(\"Quesiton correctnes\")\n",
    "# plt.tight_layout()\n",
    "# plt.show()\n"
   ]
  }
 ],
 "metadata": {
  "kernelspec": {
   "display_name": ".venv",
   "language": "python",
   "name": "python3"
  },
  "language_info": {
   "codemirror_mode": {
    "name": "ipython",
    "version": 3
   },
   "file_extension": ".py",
   "mimetype": "text/x-python",
   "name": "python",
   "nbconvert_exporter": "python",
   "pygments_lexer": "ipython3",
   "version": "3.12.3"
  }
 },
 "nbformat": 4,
 "nbformat_minor": 5
}
