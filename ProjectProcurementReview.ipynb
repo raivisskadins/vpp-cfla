{
 "cells": [
  {
   "cell_type": "code",
   "execution_count": 1,
   "id": "4329b8b7-d7a7-449b-81b7-af351449627b",
   "metadata": {},
   "outputs": [
    {
     "name": "stdout",
     "output_type": "stream",
     "text": [
      "WARNING:tensorflow:From C:\\Users\\Daiga.Deksne\\AppData\\Roaming\\Python\\Python310\\site-packages\\keras\\src\\losses.py:2976: The name tf.losses.sparse_softmax_cross_entropy is deprecated. Please use tf.compat.v1.losses.sparse_softmax_cross_entropy instead.\n",
      "\n"
     ]
    }
   ],
   "source": [
    "# Line magic functions that will allow for imports to be reloaded and not cached\n",
    "%load_ext autoreload\n",
    "%autoreload 2\n",
    "\n",
    "# Imports\n",
    "import os\n",
    "import pandas as pd\n",
    "from llama_index.embeddings.huggingface import HuggingFaceEmbedding\n",
    "from llama_index.llms.azure_openai import AzureOpenAI\n",
    "from datetime import date\n",
    "from json import dump\n",
    "from tqdm import tqdm\n",
    "\n",
    "# Local\n",
    "from scripts.extractmd import Extractor\n",
    "from scripts.vectorindex import QnAEngine\n",
    "from scripts.utilities import get_prompt_dict, get_questions, get_answers, get_procurement_content, get_config_data, get_ini_files, get_supplementary_info, get_questions_without_q0\n",
    "from scripts.gen_results import gen_results\n",
    "from scripts.gen_reports import generate_precision_report"
   ]
  },
  {
   "cell_type": "markdown",
   "id": "7684ed5a",
   "metadata": {},
   "source": [
    "**My Config:**\n",
    "[my_config.py](scripts/my_config.py)"
   ]
  },
  {
   "cell_type": "code",
   "execution_count": 2,
   "id": "b08be854",
   "metadata": {},
   "outputs": [
    {
     "name": "stdout",
     "output_type": "stream",
     "text": [
      "# -----------------------------------------------------------------------------\n",
      "# Configuration file: my_config.py\n",
      "# -----------------------------------------------------------------------------\n",
      "# This file is used to define **user-specific configuration parameters**\n",
      "# separately from the Jupyter notebook. It allows each user to set their own\n",
      "# values without modifying the shared notebook or interfering with others.\n",
      "#\n",
      "# Usage pattern in the notebook:\n",
      "#     overwrite = globals().get('my_overwrite', False)\n",
      "#\n",
      "# This means:\n",
      "# - If `my_overwrite` is defined in this config file, its value will be used.\n",
      "# - If it is not defined, the default value (`False` in this case) will be used.\n",
      "#\n",
      "# You can define any custom variable here that the notebook expects via `globals().get(...)`.\n",
      "#\n",
      "#  In Jupyter, this script may be executed multiple times.\n",
      "# Commenting out a variable won't reset it if it was previously defined.\n",
      "# To revert to the default (e.g., via globals().get(...)), use:\n",
      "#     del my_variable \n",
      "# -----------------------------------------------------------------------------\n",
      "\n",
      "my_report_identifier = \"dev-bge-m3\"\n",
      "my_config_dir = \"dev_config\"\n",
      "my_overwrite = True\n",
      "my_embeddingmodel = \"BAAI/bge-m3\"\n",
      "# my_ini_files = [\"KND-2020_07\"]\n",
      "# my_questions_to_process = [\"38.8\"]\n"
     ]
    }
   ],
   "source": [
    "with open(\"scripts/my_config.py\") as f:\n",
    "    code = f.read()\n",
    "    print(code) \n",
    "    exec(code)  "
   ]
  },
  {
   "cell_type": "markdown",
   "id": "491f04cb-807c-48b2-b474-8b97dbb0a6d5",
   "metadata": {},
   "source": [
    "**Global config**"
   ]
  },
  {
   "cell_type": "code",
   "execution_count": 3,
   "id": "a282ce0b-1aba-417c-bf9a-15cbe840c485",
   "metadata": {},
   "outputs": [],
   "source": [
    "embedding_conf = {\n",
    "    \"embeddingmodel\": globals().get('my_embeddingmodel', \"sentence-transformers/paraphrase-multilingual-mpnet-base-v2\"), \n",
    "        #\"sentence-transformers/paraphrase-multilingual-mpnet-base-v2\",  # \"BAAI/bge-m3\" \"nomic-ai/nomic-embed-text-v2-moe\" # \"sentence-transformers/paraphrase-multilingual-mpnet-base-v2\"\n",
    "    \"chunk_size\": 1536,\n",
    "    \"chunk_overlap\": 0,\n",
    "    \"top_similar\": 5,\n",
    "    \"n4rerank\": 0, #How many nodes to retrieve for reranking. If 0, reranker is not used\n",
    "    \"use_similar_chunks\": True, #To use similar chunks or the whole document as the context\n",
    "    \"prevnext\": True #to include in the context also the previouse and the next chunk of the current similar chunk\n",
    "}\n",
    "embedding=HuggingFaceEmbedding(model_name=embedding_conf[\"embeddingmodel\"],trust_remote_code=True)\n",
    "\n",
    "#For nomic-embed-text-v2-moe\n",
    "#embedding=HuggingFaceEmbedding(model_name=embedding_conf[\"embeddingmodel\"],trust_remote_code=True,query_instruction=\"search_query: \",text_instruction=\"search_document: \")"
   ]
  },
  {
   "cell_type": "code",
   "execution_count": 4,
   "id": "b3e114f1-c05e-48b1-b56a-051ece6102eb",
   "metadata": {},
   "outputs": [],
   "source": [
    "# LLM Setup \n",
    "llmmodelAzure = { \"model\": \"gpt-4o\",\n",
    "                \"version\":os.environ.get('AZURE_OPENAI_VERSION',''),\n",
    "                \"azure_deployment\":\"gpt-4o\",\n",
    "                \"azure_endpoint\":os.environ.get('AZURE_ENDPOINT',''),\n",
    "                \"api_key\":os.environ.get('AZURE_OPENAI_KEY','')}\n",
    "\n",
    "llm=AzureOpenAI(azure_deployment=llmmodelAzure[\"azure_deployment\"],\n",
    "                azure_endpoint=llmmodelAzure[\"azure_endpoint\"],temperature=0.0,\n",
    "                api_version=llmmodelAzure[\"version\"], api_key=llmmodelAzure[\"api_key\"],\n",
    "                timeout=120,max_retries=3,top_p=0.0001)"
   ]
  },
  {
   "cell_type": "code",
   "execution_count": 5,
   "id": "9f7c744c",
   "metadata": {},
   "outputs": [],
   "source": [
    "extractor = Extractor() # Markdown doc extractor"
   ]
  },
  {
   "cell_type": "code",
   "execution_count": 6,
   "id": "32e67876-c437-41ad-992b-4ce540022087",
   "metadata": {},
   "outputs": [],
   "source": [
    "#Ollama model\n",
    "# llmmodelOllama = { \"model\": \"gemma3:27b\",\n",
    "#                 \"url\":os.environ.get('OLLAMA_ENDPOINT',''),\n",
    "#                 \"context_window\":\"128000\"}\n",
    "\n",
    "#from llama_index.llms.ollama import Ollama\n",
    "#llm = Ollama(base_url=llmmodelOllama[\"url\"],\n",
    "#             model=llmmodelOllama[\"model\"], \n",
    "#             context_window=int(llmmodelOllama[\"context_window\"]),\n",
    "#            request_timeout=300.0,\n",
    "#            temperature=0.0,\n",
    "#            additional_kwargs={\"seed\":1337})"
   ]
  },
  {
   "cell_type": "markdown",
   "id": "e1f0daa1-7706-4651-b713-78ac66c5533a",
   "metadata": {},
   "source": [
    "**PROCUREMENT FILE SETTINGS**"
   ]
  },
  {
   "cell_type": "code",
   "execution_count": 7,
   "id": "88446367-533a-4e00-b3ff-239802a86698",
   "metadata": {},
   "outputs": [],
   "source": [
    "# Script dir for getting relative paths for notebook file\n",
    "script_dir = globals()['_dh'][0] \n",
    "\n",
    "# Document paths\n",
    "question_file_path = script_dir / \"questions\" / \"questions.yaml\" # original.yaml\n",
    "prompt_file = script_dir / \"questions\" / \"prompts.tsv\"\n",
    "report_dir = script_dir / \"reports\"\n",
    "config_dir = script_dir / globals().get('my_config_dir', \"dev_config\") # \"dev_config\" # \"dev_config\" # \"config\"\n",
    "procurement_file_dir = script_dir / \"cfla_files\" # \"cfla_files\"\n",
    "answer_file_dir = script_dir / \"answers\"\n",
    "\n",
    "# TODO perhaps prompt user to define unique report name; some types - all; one etc?\n",
    "report_identifier = globals().get('my_report_identifier', \"dev-test\")\n",
    "# TODO maybe add report as a subdirectory as there are 2 files per report; might be even more with histograms etc.\n",
    "report_name = f\"{report_identifier}_{date.today():%d.%m}\"\n",
    "\n",
    "report_dir_path = report_dir / report_name\n",
    "report_path_htm = report_dir_path / \"report.htm\"\n",
    "report_path_csv = report_dir_path / \"report.csv\"\n",
    "report_path_config = report_dir_path / \"config.json\""
   ]
  },
  {
   "cell_type": "code",
   "execution_count": 8,
   "id": "0c8d8558",
   "metadata": {},
   "outputs": [
    {
     "name": "stdout",
     "output_type": "stream",
     "text": [
      "Questions loaded\n",
      "Found 10 config files in C:\\Repos\\vpp-cfla\\dev_config\n",
      "Processing 10 procurement files: ['KND-2020_07', 'KND-2020_20', 'KNP202134', 'LNP_202050ERAF', 'LU_CFI_201935ERAF', 'RPNC202122', 'SNP-2021_07_AK', 'SNP202131', 'SNP_20213ERAF', 'VNIP_2020_036_ERAF']\n"
     ]
    }
   ],
   "source": [
    "# Loading static information\n",
    "overwrite = globals().get('my_overwrite', False)  \n",
    "            # If true this will delete the existing report and generate a new one;\n",
    "            # Else - new data will be appended only if it isn't in the CSV file.\n",
    "\n",
    "question_dictionary = get_questions(question_file_path)\n",
    "prompt_dictionary = get_prompt_dict(prompt_file)\n",
    "supplementary_info = get_supplementary_info()\n",
    "\n",
    "ini_files = get_ini_files(config_dir, overwrite, report_path_csv)\n",
    "print(f\"Processing {len(ini_files)} procurement files: {sorted(ini_files)}\")"
   ]
  },
  {
   "cell_type": "markdown",
   "id": "78357252",
   "metadata": {},
   "source": [
    "**MAIN Q/A GENERATION SCRIPT**"
   ]
  },
  {
   "cell_type": "code",
   "execution_count": 9,
   "id": "6f5149a2",
   "metadata": {},
   "outputs": [
    {
     "name": "stderr",
     "output_type": "stream",
     "text": [
      "Config files:   0%|                                                                           | 0/10 [00:00<?, ?file/s]"
     ]
    },
    {
     "name": "stdout",
     "output_type": "stream",
     "text": [
      "Processing config file: C:\\Repos\\vpp-cfla\\dev_config\\KND-2020_07.ini\n"
     ]
    },
    {
     "name": "stderr",
     "output_type": "stream",
     "text": [
      "\n",
      "Generating embeddings:   0%|                                                                           [ time left: ? ]\u001b[A\n",
      "Generating embeddings:  20%|██████████████                                                         [ time left: 01:20 ]\u001b[A\n",
      "Generating embeddings:  38%|██████████████████████████▋                                            [ time left: 00:59 ]\u001b[A\n",
      "Generating embeddings:  56%|███████████████████████████████████████▍                               [ time left: 00:54 ]\u001b[A\n",
      "Generating embeddings:  75%|████████████████████████████████████████████████████▏                  [ time left: 00:28 ]\u001b[A\n",
      "Generating embeddings: 100%|██████████████████████████████████████████████████████████████████████ [ time left: 00:00 ]\u001b[A\n"
     ]
    },
    {
     "name": "stdout",
     "output_type": "stream",
     "text": [
      "55 segments created and vectorized.\n",
      "Index is ready.\n",
      "2 4 6 7 9 10 15 16 17 18 19 22 23 24 26 27 28 29 31 32 33 34 35 35.1 35.2 35.3 35.5 35.6 35.7 35.8 36 37 37.2 37.4 37.5 37.6 37.7 37.9 37.10 37.11 37.13 38 38.1 38.2 38.3 38.4 38.5 38.6 38.7 38.8 38.9 39 39.1 39.2 39.3 39.4 39.5 39.6 39.7 39.8 39.9 39.10 39.11 39.12 39.13 39.14 39.15 39.16 39.17 39.18 39.19 39.20 39.21 39.22 39.23 39.24 39.25 39.26 39.27 39.28 39.29 39.30 39.31 39.32 39.33 39.34 39.35 39.36 39.37 39.38 39.39 40 40.1 40.2 40.3 40.4 40.5 40.6 40.7 40.8 40.9 40.10 40.11 40.12 41 43 44 46 47 48 50 51 51.1 51.2 51.4 52 53 54 56 57 58 60 61 62 63 65 "
     ]
    },
    {
     "name": "stderr",
     "output_type": "stream",
     "text": [
      "Config files:  10%|██████▍                                                         | 1/10 [10:32<1:34:49, 632.19s/file]"
     ]
    },
    {
     "name": "stdout",
     "output_type": "stream",
     "text": [
      "PRECIZITĀTE: 60.11904761904761%\n",
      "Processing config file: C:\\Repos\\vpp-cfla\\dev_config\\KND-2020_20.ini\n"
     ]
    },
    {
     "name": "stderr",
     "output_type": "stream",
     "text": [
      "\n",
      "Generating embeddings:   0%|                                                                           [ time left: ? ]\u001b[A\n",
      "Generating embeddings:  15%|██████████▌                                                            [ time left: 01:48 ]\u001b[A\n",
      "Generating embeddings:  29%|████████████████████▏                                                  [ time left: 01:33 ]\u001b[A\n",
      "Generating embeddings:  42%|█████████████████████████████▋                                         [ time left: 01:39 ]\u001b[A\n",
      "Generating embeddings:  56%|███████████████████████████████████████▎                               [ time left: 01:15 ]\u001b[A\n",
      "Generating embeddings:  70%|████████████████████████████████████████████████▉                      [ time left: 00:48 ]\u001b[A\n",
      "Generating embeddings:  84%|██████████████████████████████████████████████████████████▍            [ time left: 00:24 ]\u001b[A\n",
      "Generating embeddings: 100%|██████████████████████████████████████████████████████████████████████ [ time left: 00:00 ]\u001b[A\n"
     ]
    },
    {
     "name": "stdout",
     "output_type": "stream",
     "text": [
      "73 segments created and vectorized.\n",
      "Index is ready.\n",
      "2 4 6 7 9 10 15 16 17 18 19 22 23 24 26 27 28 29 31 32 33 34 35 35.1 35.2 35.3 35.5 35.6 35.7 35.8 36 37 37.2 37.4 37.5 37.6 37.7 37.9 37.10 37.11 37.13 38 38.1 38.2 38.3 38.4 38.5 38.6 38.7 38.8 38.9 39 39.1 39.2 39.3 39.4 39.5 39.6 39.7 39.8 39.9 39.10 39.11 39.12 39.13 39.14 39.15 39.16 39.17 39.18 39.19 39.20 39.21 39.22 39.23 39.24 39.25 39.26 39.27 39.28 39.29 39.30 39.31 39.32 39.33 39.34 39.35 39.36 39.37 39.38 39.39 40 40.1 40.2 40.3 40.4 40.5 40.6 40.7 40.8 40.9 40.10 40.11 40.12 41 43 44 46 47 48 50 51 51.1 51.2 51.4 52 53 54 56 57 58 60 61 62 63 65 "
     ]
    },
    {
     "name": "stderr",
     "output_type": "stream",
     "text": [
      "Config files:  20%|████████████▊                                                   | 2/10 [22:14<1:29:46, 673.37s/file]"
     ]
    },
    {
     "name": "stdout",
     "output_type": "stream",
     "text": [
      "PRECIZITĀTE: 60.11904761904761%\n",
      "Processing config file: C:\\Repos\\vpp-cfla\\dev_config\\KNP202134.ini\n"
     ]
    },
    {
     "name": "stderr",
     "output_type": "stream",
     "text": [
      "\n",
      "Generating embeddings:   0%|                                                                           [ time left: ? ]\u001b[A\n",
      "Generating embeddings:  18%|████████████▌                                                          [ time left: 01:24 ]\u001b[A\n",
      "Generating embeddings:  34%|████████████████████████                                               [ time left: 01:11 ]\u001b[A\n",
      "Generating embeddings:  51%|███████████████████████████████████▌                                   [ time left: 01:07 ]\u001b[A\n",
      "Generating embeddings:  67%|███████████████████████████████████████████████                        [ time left: 00:42 ]\u001b[A\n",
      "Generating embeddings:  84%|██████████████████████████████████████████████████████████▌            [ time left: 00:20 ]\u001b[A\n",
      "Generating embeddings: 100%|██████████████████████████████████████████████████████████████████████ [ time left: 00:00 ]\u001b[A\n"
     ]
    },
    {
     "name": "stdout",
     "output_type": "stream",
     "text": [
      "61 segments created and vectorized.\n",
      "Index is ready.\n",
      "2 4 6 9 10 15 16 17 19 22 23 24 26 27 28 29 31 32 33 34 35 35.1 35.2 35.3 35.5 35.6 35.7 35.8 36 37 37.2 37.4 37.5 37.6 37.7 37.9 37.10 37.11 37.13 38 38.1 38.2 38.3 38.4 38.5 38.6 38.7 38.8 38.9 39 39.1 39.2 39.3 39.4 39.5 39.6 39.7 39.8 39.9 39.10 39.11 39.12 39.13 39.14 39.15 39.16 39.17 39.18 39.19 39.20 39.21 39.22 39.23 39.24 39.25 39.26 39.27 39.28 39.29 39.30 39.31 39.32 39.33 39.34 39.35 39.36 39.37 39.38 39.39 40 40.1 40.2 40.3 40.4 40.5 40.6 40.7 40.8 40.9 40.10 40.11 40.12 41 43 44 46 47 48 50 51 51.1 51.2 51.4 52 53 54 56 57 58 60 61 62 63 65 "
     ]
    },
    {
     "name": "stderr",
     "output_type": "stream",
     "text": [
      "Config files:  30%|███████████████████▏                                            | 3/10 [35:12<1:24:09, 721.34s/file]"
     ]
    },
    {
     "name": "stdout",
     "output_type": "stream",
     "text": [
      "PRECIZITĀTE: 65.2439024390244%\n",
      "Processing config file: C:\\Repos\\vpp-cfla\\dev_config\\LNP_202050ERAF.ini\n"
     ]
    },
    {
     "name": "stderr",
     "output_type": "stream",
     "text": [
      "\n",
      "Generating embeddings:   0%|                                                                           [ time left: ? ]\u001b[A\n",
      "Generating embeddings:  29%|████████████████████▎                                                  [ time left: 01:03 ]\u001b[A\n",
      "Generating embeddings:  55%|██████████████████████████████████████▋                                [ time left: 00:43 ]\u001b[A\n",
      "Generating embeddings: 100%|██████████████████████████████████████████████████████████████████████ [ time left: 00:00 ]\u001b[A\n"
     ]
    },
    {
     "name": "stdout",
     "output_type": "stream",
     "text": [
      "38 segments created and vectorized.\n",
      "Index is ready.\n",
      "2 4 6 7 9 10 15 16 17 18 19 22 23 24 26 27 28 29 31 32 33 34 35 35.1 35.2 35.3 35.5 35.6 35.7 35.8 36 37 37.2 37.4 37.5 37.6 37.7 37.9 37.10 37.11 37.13 38 38.1 38.2 38.3 38.4 38.5 38.6 38.7 38.8 38.9 39 39.1 39.2 39.3 39.4 39.5 39.6 39.7 39.8 39.9 39.10 39.11 39.12 39.13 39.14 39.15 39.16 39.17 39.18 39.19 39.20 39.21 39.22 39.23 39.24 39.25 39.26 39.27 39.28 39.29 39.30 39.31 39.32 39.33 39.34 39.35 39.36 39.37 39.38 39.39 40 40.1 40.2 40.3 40.4 40.5 40.6 40.7 40.8 40.9 40.10 40.11 40.12 41 43 44 46 47 48 50 51 51.1 51.2 51.4 52 53 54 56 57 58 60 61 62 63 65 "
     ]
    },
    {
     "name": "stderr",
     "output_type": "stream",
     "text": [
      "Config files:  40%|█████████████████████████▌                                      | 4/10 [50:51<1:20:43, 807.21s/file]"
     ]
    },
    {
     "name": "stdout",
     "output_type": "stream",
     "text": [
      "PRECIZITĀTE: 63.69047619047619%\n",
      "Processing config file: C:\\Repos\\vpp-cfla\\dev_config\\LU_CFI_201935ERAF.ini\n"
     ]
    },
    {
     "name": "stderr",
     "output_type": "stream",
     "text": [
      "\n",
      "Generating embeddings:   0%|                                                                           [ time left: ? ]\u001b[A\n",
      "Generating embeddings:  26%|██████████████████▎                                                    [ time left: 00:48 ]\u001b[A\n",
      "Generating embeddings:  50%|███████████████████████████████████                                    [ time left: 00:37 ]\u001b[A\n",
      "Generating embeddings:  74%|███████████████████████████████████████████████████▋                   [ time left: 00:20 ]\u001b[A\n",
      "Generating embeddings: 100%|██████████████████████████████████████████████████████████████████████ [ time left: 00:00 ]\u001b[A\n"
     ]
    },
    {
     "name": "stdout",
     "output_type": "stream",
     "text": [
      "42 segments created and vectorized.\n",
      "Index is ready.\n",
      "2 4 6 7 9 10 15 16 17 18 19 22 23 24 26 27 28 29 31 32 35 36 37 37.2 37.4 37.5 37.6 37.7 37.9 37.10 37.11 37.13 38 38.1 38.2 38.3 38.4 38.5 38.6 38.7 38.9 39 39.1 39.2 39.3 39.4 39.5 39.6 39.7 39.8 39.9 39.11 39.12 39.13 39.14 39.15 39.16 39.17 39.18 39.19 39.20 39.21 39.22 39.23 39.24 39.25 39.26 39.27 39.28 39.29 39.30 39.31 39.34 39.35 39.36 39.37 39.39 40 40.1 40.2 40.3 40.4 40.5 40.6 40.7 40.8 40.9 40.10 40.11 40.12 41 43 44 46 47 48 50 51 51.1 51.4 52 53 54 56 57 58 60 61 62 63 65 "
     ]
    },
    {
     "name": "stderr",
     "output_type": "stream",
     "text": [
      "Config files:  50%|███████████████████████████████                               | 5/10 [1:01:48<1:02:45, 753.07s/file]"
     ]
    },
    {
     "name": "stdout",
     "output_type": "stream",
     "text": [
      "PRECIZITĀTE: 62.17948717948718%\n",
      "Processing config file: C:\\Repos\\vpp-cfla\\dev_config\\RPNC202122.ini\n"
     ]
    },
    {
     "name": "stderr",
     "output_type": "stream",
     "text": [
      "\n",
      "Generating embeddings:   0%|                                                                           [ time left: ? ]\u001b[A\n",
      "Generating embeddings:  17%|███████████▋                                                           [ time left: 01:27 ]\u001b[A\n",
      "Generating embeddings:  32%|██████████████████████▎                                                [ time left: 01:16 ]\u001b[A\n",
      "Generating embeddings:  47%|████████████████████████████████▉                                      [ time left: 01:12 ]\u001b[A\n",
      "Generating embeddings:  62%|███████████████████████████████████████████▍                           [ time left: 00:55 ]\u001b[A\n",
      "Generating embeddings:  77%|██████████████████████████████████████████████████████                 [ time left: 00:31 ]\u001b[A\n",
      "Generating embeddings: 100%|██████████████████████████████████████████████████████████████████████ [ time left: 00:00 ]\u001b[A\n"
     ]
    },
    {
     "name": "stdout",
     "output_type": "stream",
     "text": [
      "66 segments created and vectorized.\n",
      "Index is ready.\n",
      "2 4 6 7 9 10 15 16 17 18 19 22 23 24 26 27 28 29 31 32 33 34 35 36 37 37.2 37.4 37.5 37.6 37.7 37.9 37.10 37.11 37.13 38 38.1 38.2 38.3 38.4 38.5 38.6 38.7 38.8 38.9 39 39.1 39.2 39.3 39.4 39.5 39.6 39.7 39.8 39.9 39.10 39.11 39.12 39.13 39.14 39.15 39.16 39.17 39.18 39.19 39.20 39.21 39.22 39.23 39.24 39.25 39.26 39.27 39.28 39.29 39.30 39.31 39.32 39.33 39.34 39.35 39.36 39.37 39.38 39.39 40 40.1 40.2 40.3 40.4 40.5 40.6 40.7 40.8 40.9 40.10 40.11 40.12 41 43 44 46 47 48 50 51 51.1 51.2 51.4 52 53 54 56 57 58 60 61 62 63 65 "
     ]
    },
    {
     "name": "stderr",
     "output_type": "stream",
     "text": [
      "Config files:  60%|██████████████████████████████████████▍                         | 6/10 [1:12:10<47:13, 708.27s/file]"
     ]
    },
    {
     "name": "stdout",
     "output_type": "stream",
     "text": [
      "PRECIZITĀTE: 66.66666666666666%\n",
      "Processing config file: C:\\Repos\\vpp-cfla\\dev_config\\SNP-2021_07_AK.ini\n",
      "Loaded layout model s3://layout/2025_02_18 on device cpu with dtype torch.float32\n",
      "Loaded texify model s3://texify/2025_02_18 on device cpu with dtype torch.float32\n",
      "Loaded recognition model s3://text_recognition/2025_02_18 on device cpu with dtype torch.float32\n",
      "Loaded table recognition model s3://table_recognition/2025_02_18 on device cpu with dtype torch.float32\n",
      "Loaded detection model s3://text_detection/2025_02_28 on device cpu with dtype torch.float32\n",
      "Loaded detection model s3://inline_math_detection/2025_02_24 on device cpu with dtype torch.float32\n"
     ]
    },
    {
     "name": "stderr",
     "output_type": "stream",
     "text": [
      "\n",
      "Recognizing layout:   0%|                                                                        | 0/2 [00:00<?, ?it/s]\u001b[A\n",
      "Recognizing layout:  50%|████████████████████████████████                                | 1/2 [00:08<00:08,  8.96s/it]\u001b[A\n",
      "Recognizing layout: 100%|████████████████████████████████████████████████████████████████| 2/2 [00:16<00:00,  8.00s/it]\u001b[A\n",
      "\n",
      "Running OCR Error Detection:   0%|                                                               | 0/3 [00:00<?, ?it/s]\u001b[A\n",
      "Running OCR Error Detection:  33%|██████████████████▎                                    | 1/3 [00:00<00:01,  1.68it/s]\u001b[A\n",
      "Running OCR Error Detection:  67%|████████████████████████████████████▋                  | 2/3 [00:01<00:00,  1.69it/s]\u001b[A\n",
      "Running OCR Error Detection: 100%|███████████████████████████████████████████████████████| 3/3 [00:01<00:00,  1.83it/s]\u001b[A\n",
      "\n",
      "Detecting bboxes: 0it [00:00, ?it/s]\u001b[A\n",
      "\n",
      "Detecting bboxes: 0it [00:00, ?it/s]\u001b[A\n",
      "\n",
      "Recognizing tables:   0%|                                                                        | 0/1 [00:00<?, ?it/s]\u001b[A\n",
      "Recognizing tables: 100%|████████████████████████████████████████████████████████████████| 1/1 [00:02<00:00,  2.82s/it]\u001b[A\n"
     ]
    },
    {
     "name": "stdout",
     "output_type": "stream",
     "text": [
      "An exception occurred: AttributeError can't set attribute 'text'\n"
     ]
    },
    {
     "name": "stderr",
     "output_type": "stream",
     "text": [
      "\n",
      "Generating embeddings:   0%|                                                                           [ time left: ? ]\u001b[A\n",
      "Generating embeddings:  17%|████████████                                                           [ time left: 01:21 ]\u001b[A\n",
      "Generating embeddings:  33%|██████████████████████▉                                                [ time left: 01:14 ]\u001b[A\n",
      "Generating embeddings:  48%|█████████████████████████████████▉                                     [ time left: 00:52 ]\u001b[A\n",
      "Generating embeddings:  64%|████████████████████████████████████████████▊                          [ time left: 00:37 ]\u001b[A\n",
      "Generating embeddings:  80%|███████████████████████████████████████████████████████▊               [ time left: 00:22 ]\u001b[A\n",
      "Generating embeddings: 100%|██████████████████████████████████████████████████████████████████████ [ time left: 00:00 ]\u001b[A\n"
     ]
    },
    {
     "name": "stdout",
     "output_type": "stream",
     "text": [
      "64 segments created and vectorized.\n",
      "Index is ready.\n",
      "2 4 6 7 9 10 15 16 17 18 19 22 23 24 26 27 28 29 31 32 33 34 35 35.1 35.2 35.3 35.5 35.6 35.7 35.8 36 37 37.2 37.4 37.5 37.6 37.7 37.9 37.10 37.11 37.13 38 38.1 38.2 38.3 38.4 38.5 38.6 38.7 38.8 38.9 39 39.1 39.2 39.3 39.4 39.5 39.6 39.7 39.8 39.9 39.10 39.11 39.12 39.13 39.14 39.15 39.16 39.17 39.18 39.19 39.20 39.21 39.22 39.23 39.24 39.25 39.26 39.27 39.28 39.29 39.30 39.31 39.32 39.33 39.34 39.35 39.36 39.37 39.38 39.39 40 40.1 40.2 40.3 40.4 40.5 40.6 40.7 40.8 40.9 40.10 40.11 40.12 41 43 44 46 47 48 50 51 51.1 51.2 51.4 52 53 54 56 57 58 60 61 62 63 65 "
     ]
    },
    {
     "name": "stderr",
     "output_type": "stream",
     "text": [
      "Config files:  70%|████████████████████████████████████████████▊                   | 7/10 [1:22:01<33:29, 669.93s/file]"
     ]
    },
    {
     "name": "stdout",
     "output_type": "stream",
     "text": [
      "PRECIZITĀTE: 60.11904761904761%\n",
      "Processing config file: C:\\Repos\\vpp-cfla\\dev_config\\SNP202131.ini\n"
     ]
    },
    {
     "name": "stderr",
     "output_type": "stream",
     "text": [
      "\n",
      "Generating embeddings:   0%|                                                                           [ time left: ? ]\u001b[A\n",
      "Generating embeddings:  11%|███████▊                                                               [ time left: 03:18 ]\u001b[A\n",
      "Generating embeddings:  21%|██████████████▊                                                        [ time left: 02:47 ]\u001b[A\n",
      "Generating embeddings:  31%|█████████████████████▉                                                 [ time left: 02:25 ]\u001b[A\n",
      "Generating embeddings:  41%|████████████████████████████▉                                          [ time left: 02:02 ]\u001b[A\n",
      "Generating embeddings:  52%|████████████████████████████████████                                   [ time left: 01:44 ]\u001b[A\n",
      "Generating embeddings:  62%|███████████████████████████████████████████▏                           [ time left: 01:20 ]\u001b[A\n",
      "Generating embeddings:  72%|██████████████████████████████████████████████████▏                    [ time left: 01:03 ]\u001b[A\n",
      "Generating embeddings:  82%|█████████████████████████████████████████████████████████▎             [ time left: 00:42 ]\u001b[A\n",
      "Generating embeddings: 100%|██████████████████████████████████████████████████████████████████████ [ time left: 00:00 ]\u001b[A\n"
     ]
    },
    {
     "name": "stdout",
     "output_type": "stream",
     "text": [
      "99 segments created and vectorized.\n",
      "Index is ready.\n",
      "2 4 6 9 10 15 16 17 19 22 23 24 26 27 28 29 31 32 33 34 35 35.1 35.2 35.3 35.5 35.6 35.7 35.8 36 37 37.2 37.4 37.5 37.6 37.7 37.9 37.10 37.11 37.13 38 38.1 38.2 38.3 38.4 38.5 38.6 38.7 38.8 38.9 39 39.1 39.2 39.3 39.4 39.5 39.6 39.7 39.8 39.9 39.10 39.11 39.12 39.13 39.14 39.15 39.16 39.17 39.18 39.19 39.20 39.21 39.22 39.23 39.24 39.25 39.26 39.27 39.28 39.29 39.30 39.31 39.32 39.33 39.34 39.35 39.36 39.37 39.38 39.39 40 40.1 40.2 40.3 40.4 40.5 40.6 40.7 40.8 40.9 40.10 40.11 40.12 41 43 44 46 47 48 50 51 51.1 51.2 51.4 52 53 54 56 57 58 60 61 62 63 65 "
     ]
    },
    {
     "name": "stderr",
     "output_type": "stream",
     "text": [
      "Config files:  80%|███████████████████████████████████████████████████▏            | 8/10 [1:37:51<25:18, 759.31s/file]"
     ]
    },
    {
     "name": "stdout",
     "output_type": "stream",
     "text": [
      "PRECIZITĀTE: 64.02439024390245%\n",
      "Processing config file: C:\\Repos\\vpp-cfla\\dev_config\\SNP_20213ERAF.ini\n"
     ]
    },
    {
     "name": "stderr",
     "output_type": "stream",
     "text": [
      "\n",
      "Generating embeddings:   0%|                                                                           [ time left: ? ]\u001b[A\n",
      "Generating embeddings:  20%|██████████████                                                         [ time left: 01:01 ]\u001b[A\n",
      "Generating embeddings:  38%|██████████████████████████▋                                            [ time left: 00:56 ]\u001b[A\n",
      "Generating embeddings:  56%|███████████████████████████████████████▍                               [ time left: 00:47 ]\u001b[A\n",
      "Generating embeddings:  75%|████████████████████████████████████████████████████▏                  [ time left: 00:26 ]\u001b[A\n",
      "Generating embeddings: 100%|██████████████████████████████████████████████████████████████████████ [ time left: 00:00 ]\u001b[A\n"
     ]
    },
    {
     "name": "stdout",
     "output_type": "stream",
     "text": [
      "55 segments created and vectorized.\n",
      "Index is ready.\n",
      "2 4 6 7 9 10 15 16 17 18 19 22 23 24 26 27 28 29 31 32 33 34 35 36 37 37.2 37.4 37.5 37.6 37.7 37.9 37.10 37.11 37.13 38 38.1 38.2 38.3 38.4 38.5 38.6 38.7 38.8 38.9 39 39.1 39.2 39.3 39.4 39.5 39.6 39.7 39.8 39.9 39.10 39.11 39.12 39.13 39.14 39.15 39.16 39.17 39.18 39.19 39.20 39.21 39.22 39.23 39.24 39.25 39.26 39.27 39.28 39.29 39.30 39.31 39.32 39.33 39.34 39.35 39.36 39.37 39.38 39.39 40 40.1 40.2 40.3 40.4 40.5 40.6 40.7 40.8 40.9 40.10 40.11 40.12 41 43 44 46 47 48 50 51 51.1 51.2 51.4 52 53 54 56 57 58 60 61 62 63 65 "
     ]
    },
    {
     "name": "stderr",
     "output_type": "stream",
     "text": [
      "Config files:  90%|█████████████████████████████████████████████████████████▌      | 9/10 [1:48:21<11:58, 718.94s/file]"
     ]
    },
    {
     "name": "stdout",
     "output_type": "stream",
     "text": [
      "PRECIZITĀTE: 66.07142857142857%\n",
      "Processing config file: C:\\Repos\\vpp-cfla\\dev_config\\VNIP_2020_036_ERAF.ini\n"
     ]
    },
    {
     "name": "stderr",
     "output_type": "stream",
     "text": [
      "\n",
      "Generating embeddings:   0%|                                                                           [ time left: ? ]\u001b[A\n",
      "Generating embeddings:  22%|███████████████▋                                                       [ time left: 01:00 ]\u001b[A\n",
      "Generating embeddings:  43%|██████████████████████████████                                         [ time left: 00:47 ]\u001b[A\n",
      "Generating embeddings:  63%|████████████████████████████████████████████▎                          [ time left: 00:38 ]\u001b[A\n",
      "Generating embeddings: 100%|██████████████████████████████████████████████████████████████████████ [ time left: 00:00 ]\u001b[A\n"
     ]
    },
    {
     "name": "stdout",
     "output_type": "stream",
     "text": [
      "49 segments created and vectorized.\n",
      "Index is ready.\n",
      "2 4 6 7 9 10 15 16 17 18 19 22 23 24 26 27 28 29 31 32 33 34 35 35.1 35.2 35.3 35.5 35.6 35.7 35.8 36 37 37.2 37.4 37.5 37.6 37.7 37.9 37.10 37.11 37.13 38 38.1 38.2 38.3 38.4 38.5 38.6 38.7 38.8 38.9 39 39.1 39.2 39.3 39.4 39.5 39.6 39.7 39.8 39.9 39.10 39.11 39.12 39.13 39.14 39.15 39.16 39.17 39.18 39.19 39.20 39.21 39.22 39.23 39.24 39.25 39.26 39.27 39.28 39.29 39.30 39.31 39.32 39.33 39.34 39.35 39.36 39.37 39.38 39.39 40 40.1 40.2 40.3 40.4 40.5 40.6 40.7 40.8 40.9 40.10 40.11 40.12 41 43 44 46 47 48 50 51 51.1 51.2 51.4 52 53 54 56 57 58 60 61 62 63 65 "
     ]
    },
    {
     "name": "stderr",
     "output_type": "stream",
     "text": [
      "Config files: 100%|███████████████████████████████████████████████████████████████| 10/10 [1:59:47<00:00, 718.74s/file]"
     ]
    },
    {
     "name": "stdout",
     "output_type": "stream",
     "text": [
      "PRECIZITĀTE: 54.166666666666664%\n"
     ]
    },
    {
     "name": "stderr",
     "output_type": "stream",
     "text": [
      "\n"
     ]
    }
   ],
   "source": [
    "# TODO add parallel prompting\n",
    "\n",
    "if overwrite: # overwrtitting report; Delete and create new\n",
    "        if report_path_htm.exists():\n",
    "                report_path_htm.unlink()\n",
    "        if report_path_csv.exists():\n",
    "                report_path_csv.unlink()\n",
    "        if report_path_config.exists():\n",
    "                report_path_config.unlink()\n",
    "                \n",
    "if not os.path.exists(report_dir_path):\n",
    "        os.makedirs(report_dir_path)\n",
    "\n",
    "# Make config dictionary and save as json\n",
    "config_dict = embedding_conf\n",
    "config_dict[\"model\"] = llmmodelAzure[\"model\"]\n",
    "config_dict[\"temperature\"] = llm.temperature\n",
    "config_dict[\"timeout\"] = llm.timeout\n",
    "config_dict[\"max_retries\"] = llm.max_retries\n",
    "#config_dict[\"top_p\"] = 0.0001\n",
    "\n",
    "with open(report_path_config, \"w\") as file:\n",
    "        dump(config_dict, file) \n",
    "\n",
    "# To process all questions, leave this empty. Otherwise, specify the exact numbers.\n",
    "# To process a sub-question, include the parent question number as well, e.g., [\"9\", \"9.2\"].\n",
    "questions_to_process = globals().get('my_questions_to_process', [])\n",
    "\n",
    "for file in tqdm(ini_files, desc=\"Config files\", unit=\"file\"): # TODO fix TQDM; expected that after first file finishes it shows the aproximation of all the other files left to process\n",
    "        configfile = config_dir / f\"{file}.ini\"\n",
    "        \n",
    "        tqdm.write(f\"Processing config file: {configfile}\")\n",
    "        procurement_id, procurement_file, agreement_file, answer_file = get_config_data(configfile, procurement_file_dir, answer_file_dir)\n",
    "        # Open CSV file, maybe as pandas dataframe\n",
    "        answer_dictionary = get_answers(answer_file)\n",
    "\n",
    "        # Getting markdown text from procurement doc\n",
    "        procurement_content = get_procurement_content(extractor, procurement_file, agreement_file)\n",
    "    \n",
    "        # Creating FAISS vector index for the procurement document\n",
    "        qnaengine = QnAEngine(embedding,llm)\n",
    "        await qnaengine.createIndex(\n",
    "                procurement_content,\n",
    "                \"Procurement\",\n",
    "                chunk_size=embedding_conf[\"chunk_size\"],\n",
    "                chunk_overlap=embedding_conf[\"chunk_overlap\"]\n",
    "                )\n",
    "\n",
    "        ### Generating results\n",
    "        results_table = gen_results(qnaengine, configfile, embedding_conf, question_dictionary, answer_dictionary, prompt_dictionary, supplementary_info, questions_to_process)\n",
    "        \n",
    "        # add \"Iepirkuma ID\" as procurement_id to results table\n",
    "        # TODO move this inside gen results function once it has been refactored\n",
    "        for row in results_table:\n",
    "                row.insert(0, file)\n",
    "        \n",
    "        ### Save output\n",
    "        data = pd.DataFrame(results_table, columns=[\"Iepirkuma ID\", \"Nr\", \"Atbilde\", \"Sagaidāmā atbilde\", \"Pamatojums\", \"Prompt\"])\n",
    "        precision = (data['Atbilde'] == data['Sagaidāmā atbilde']).sum()/len(data)\n",
    "        print(f\"PRECIZITĀTE: {precision*100}%\")\n",
    "\n",
    "        with report_path_htm.open('a', encoding='utf-8') as ofile:  \n",
    "                # TODO Create a dropdown menu that lets the user select file by \"Iepirkuma ID\" - in each page only information that has that \"Iepirkuma ID\" is displayed\n",
    "                print(f\"{procurement_id} PRECIZITĀTE: {precision*100}%\" ,file=ofile)\n",
    "                print(data.to_html(index=False).replace('\\\\n','<br>'),file=ofile)\n",
    "\n",
    "        data.to_csv(report_path_csv, \n",
    "                    mode='a', \n",
    "                    index=False, \n",
    "                    header=not report_path_csv.exists(), # only adding one header\n",
    "                    encoding='utf-8')\n",
    "        \n",
    "        \n",
    "                "
   ]
  },
  {
   "cell_type": "markdown",
   "id": "56cbe6e6",
   "metadata": {},
   "source": [
    "**Question precision data report**"
   ]
  },
  {
   "cell_type": "code",
   "execution_count": 10,
   "id": "94072937",
   "metadata": {},
   "outputs": [],
   "source": [
    "# Load report we want to analayze\n",
    "analyzed_report_dir = report_dir_path\n",
    "csv_filename = \"report.csv\"\n",
    "input_csv = analyzed_report_dir / csv_filename"
   ]
  },
  {
   "cell_type": "code",
   "execution_count": 11,
   "id": "e3f08f7d",
   "metadata": {},
   "outputs": [
    {
     "name": "stdout",
     "output_type": "stream",
     "text": [
      "HTML report saved to: C:\\Repos\\vpp-cfla\\reports\\dev-bge-m3_17.07\\precision_report.html\n"
     ]
    }
   ],
   "source": [
    "# Generate report\n",
    "precison_report_html = generate_precision_report(input_csv)\n",
    "\n",
    "# Save the report next to the CSV\n",
    "output_html = analyzed_report_dir / f\"precision_report.html\"\n",
    "with open(output_html, \"w\", encoding=\"utf-8\") as f:\n",
    "    f.write(precison_report_html)\n",
    "\n",
    "print(f\"HTML report saved to: {output_html}\")"
   ]
  },
  {
   "cell_type": "markdown",
   "id": "0f7060b3",
   "metadata": {},
   "source": [
    "**Questions that can't be answered count**"
   ]
  },
  {
   "cell_type": "code",
   "execution_count": 12,
   "id": "299f705e",
   "metadata": {},
   "outputs": [
    {
     "name": "stdout",
     "output_type": "stream",
     "text": [
      "\n",
      "Count of rows where 'Sagaidāmā atbilde' == 'n/a' and it doesn't have q0: 165\n"
     ]
    }
   ],
   "source": [
    "# Count number of times expected_answer == \"n/a; if question does not have 0th question\n",
    "questions_wout_0q = get_questions_without_q0(question_dictionary)\n",
    "df = pd.read_csv(input_csv)\n",
    "df[\"Sagaidāmā atbilde\"] = df[\"Sagaidāmā atbilde\"].astype(str).str.strip().str.lower()\n",
    "filtered_df = df[\n",
    "    (df[\"Sagaidāmā atbilde\"] == \"nan\") &\n",
    "    (df[\"Nr\"].astype(str).isin(questions_wout_0q))\n",
    "]\n",
    "print(f\"\\nCount of rows where 'Sagaidāmā atbilde' == 'n/a' and it doesn't have q0: {len(filtered_df)}\")"
   ]
  },
  {
   "cell_type": "markdown",
   "id": "e6e30642",
   "metadata": {},
   "source": [
    "**Confusion Matrix**"
   ]
  },
  {
   "cell_type": "code",
   "execution_count": 13,
   "id": "593a08d6",
   "metadata": {},
   "outputs": [
    {
     "name": "stdout",
     "output_type": "stream",
     "text": [
      "\n",
      "Confusion Matrix:\n",
      "\n",
      "+-------------------------+------+------+-------+------------------------------+\n",
      "| Expected ↓ / Actual →   |   jā |   nē |   n/a |   kontekstā nav informācijas |\n",
      "+=========================+======+======+=======+==============================+\n",
      "| jā                      |  686 |  119 |     8 |                           69 |\n",
      "+-------------------------+------+------+-------+------------------------------+\n",
      "| nē                      |   74 |  169 |     1 |                           78 |\n",
      "+-------------------------+------+------+-------+------------------------------+\n",
      "| n/a                     |  111 |   48 |   178 |                          119 |\n",
      "+-------------------------+------+------+-------+------------------------------+\n"
     ]
    }
   ],
   "source": [
    "# Load and normalize data as \"n/a\" has turned into NaN\n",
    "df = pd.read_csv(input_csv)\n",
    "df[\"Sagaidāmā atbilde\"] = df[\"Sagaidāmā atbilde\"].astype(str).str.strip().str.lower()\n",
    "df[\"Atbilde\"] = df[\"Atbilde\"].astype(str).str.strip().str.lower()\n",
    "\n",
    "# Replace missing values\n",
    "df[\"Sagaidāmā atbilde\"] = df[\"Sagaidāmā atbilde\"].replace([\"nan\", \"none\", \"\"], \"n/a\")\n",
    "df[\"Atbilde\"] = df[\"Atbilde\"].replace([\"nan\", \"none\", \"\"], \"n/a\")\n",
    "\n",
    "# Group context responses\n",
    "df[\"Atbilde\"] = df[\"Atbilde\"].replace({\n",
    "    \"x\": \"kontekstā nav informācijas\",\n",
    "    \"kontekstā nav informācijas\": \"kontekstā nav informācijas\"\n",
    "})\n",
    "\n",
    "# Define value order\n",
    "expected = [\"jā\", \"nē\", \"n/a\"]\n",
    "actual = [\"jā\", \"nē\", \"n/a\", \"kontekstā nav informācijas\"]\n",
    "\n",
    "conf_matrix = pd.crosstab(\n",
    "    df[\"Sagaidāmā atbilde\"],\n",
    "    df[\"Atbilde\"],\n",
    "    rownames=[\"Expected ↓\"],\n",
    "    colnames=[\"Actual →\"],\n",
    "    dropna=False\n",
    ").reindex(index=expected, columns=actual, fill_value=0)\n",
    "conf_matrix.index.name = \"Expected ↓ / Actual →\"\n",
    "\n",
    "print(\"\\nConfusion Matrix:\\n\")\n",
    "print(conf_matrix.to_markdown(tablefmt=\"grid\"))\n"
   ]
  },
  {
   "cell_type": "code",
   "execution_count": 14,
   "id": "3b3e9773",
   "metadata": {},
   "outputs": [
    {
     "name": "stdout",
     "output_type": "stream",
     "text": [
      "total 'jā' count: 882\n",
      "total 'nē' count: 322\n",
      "total 'n/a' count: 456\n",
      "\n",
      "Accuracy for 'jā': 77.78%\n",
      "Accuracy for 'nē': 52.48%\n",
      "Accuracy for 'n/a': 39.04%\n"
     ]
    }
   ],
   "source": [
    "# Get correct counts for \"jā\" and \"nē\"\n",
    "correct_yes = conf_matrix.loc[\"jā\", \"jā\"]\n",
    "total_yes = conf_matrix.loc[\"jā\"].sum()\n",
    "print(f\"total 'jā' count: {total_yes}\")\n",
    "\n",
    "correct_no = conf_matrix.loc[\"nē\", \"nē\"]\n",
    "total_no = conf_matrix.loc[\"nē\"].sum()\n",
    "print(f\"total 'nē' count: {total_no}\")\n",
    "\n",
    "correct_na = conf_matrix.loc[\"n/a\", \"n/a\"]\n",
    "total_na = conf_matrix.loc[\"n/a\"].sum()\n",
    "print(f\"total 'n/a' count: {total_na}\")\n",
    "\n",
    "# Calculate percentages\n",
    "yes_accuracy = (correct_yes / total_yes) * 100 if total_yes > 0 else 0\n",
    "no_accuracy = (correct_no / total_no) * 100 if total_no > 0 else 0\n",
    "na_accuracy = (correct_na / total_na) * 100 if total_na > 0 else 0\n",
    "\n",
    "print(f\"\\nAccuracy for 'jā': {yes_accuracy:.2f}%\")\n",
    "print(f\"Accuracy for 'nē': {no_accuracy:.2f}%\")\n",
    "print(f\"Accuracy for 'n/a': {na_accuracy:.2f}%\")\n"
   ]
  },
  {
   "cell_type": "code",
   "execution_count": 15,
   "id": "ccfb7759",
   "metadata": {},
   "outputs": [
    {
     "name": "stdout",
     "output_type": "stream",
     "text": [
      "Total question count: 1660\n",
      "Total precision: 62.23%\n",
      "Total precision without unanswerable (n/a) questions: 69.1%\n",
      "Total precision without unanswerable (n/a) questions and when LLM is not unsure: 84.05%\n",
      "Total question count without unanswerable (n/a) questions and when LLM is not unsure: 1229\n"
     ]
    }
   ],
   "source": [
    "total_q = total_yes + total_no + total_na\n",
    "print(f\"Total question count: {total_q}\")\n",
    "correct_q = correct_yes + correct_no + correct_na\n",
    "\n",
    "precision = round((correct_q / total_q) * 100, 2)\n",
    "print(f\"Total precision: {precision}%\")\n",
    "\n",
    "precison_wout_unanswerable_qs = round(correct_q / (total_q - len(filtered_df))*100,2)\n",
    "print(f\"Total precision without unanswerable (n/a) questions: {precison_wout_unanswerable_qs}%\")\n",
    "\n",
    "context_missing_total = conf_matrix[\"kontekstā nav informācijas\"].sum()\n",
    "confident_answers =  total_q - len(filtered_df) - context_missing_total\n",
    "precision_wout_unanswerable_qs_nocontext = round((correct_q / confident_answers)*100,2)\n",
    "print(f\"Total precision without unanswerable (n/a) questions and when LLM is not unsure: {precision_wout_unanswerable_qs_nocontext}%\")\n",
    "print(f\"Total question count without unanswerable (n/a) questions and when LLM is not unsure: {confident_answers}\")"
   ]
  }
 ],
 "metadata": {
  "kernelspec": {
   "display_name": "Python 3 (ipykernel)",
   "language": "python",
   "name": "python3"
  },
  "language_info": {
   "codemirror_mode": {
    "name": "ipython",
    "version": 3
   },
   "file_extension": ".py",
   "mimetype": "text/x-python",
   "name": "python",
   "nbconvert_exporter": "python",
   "pygments_lexer": "ipython3",
   "version": "3.10.5"
  }
 },
 "nbformat": 4,
 "nbformat_minor": 5
}
