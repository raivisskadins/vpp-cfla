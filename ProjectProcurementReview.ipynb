{
 "cells": [
  {
   "cell_type": "code",
   "execution_count": 1,
   "id": "4329b8b7-d7a7-449b-81b7-af351449627b",
   "metadata": {},
   "outputs": [],
   "source": [
    "import os\n",
    "import sys"
   ]
  },
  {
   "cell_type": "markdown",
   "id": "491f04cb-807c-48b2-b474-8b97dbb0a6d5",
   "metadata": {},
   "source": [
    "**CURRENT SETTINGS: Embedding and language models, Chunk size, etc.**"
   ]
  },
  {
   "cell_type": "code",
   "execution_count": 2,
   "id": "a282ce0b-1aba-417c-bf9a-15cbe840c485",
   "metadata": {},
   "outputs": [],
   "source": [
    "#embeddingmodel = \"BAAI/bge-m3\"\n",
    "embeddingmodel = \"sentence-transformers/paraphrase-multilingual-mpnet-base-v2\""
   ]
  },
  {
   "cell_type": "code",
   "execution_count": 3,
   "id": "b3e114f1-c05e-48b1-b56a-051ece6102eb",
   "metadata": {},
   "outputs": [],
   "source": [
    "llmmodel = { \"model\": \"gpt-4o\",\n",
    "                \"version\":os.environ.get('AZURE_OPENAI_VERSION','2024-08-01-preview'),\n",
    "                \"azure_deployment\":\"gpt-4o\",\n",
    "                \"azure_endpoint\":os.environ.get('AZURE_ENDPOINT',''),\n",
    "                \"api_key\":os.environ.get('AZURE_OPENAI_KEY','')}"
   ]
  },
  {
   "cell_type": "code",
   "execution_count": 4,
   "id": "04bb3749-308d-466a-badf-952e8d2c6794",
   "metadata": {},
   "outputs": [],
   "source": [
    "procurement_file_dir = 'C:\\\\Repos\\\\CFLA\\\\KND_2020_07_dokumentacijas_pirsmparbaude'\n",
    "procurement_file = 'Nolikums (90).pdf'\n",
    "question_file_path = \"C:\\\\Repos\\\\vpp-cfla\\\\questions\\\\questions.yaml\"\n",
    "EIS_URL = \"https://www.eis.gov.lv/EKEIS/Supplier/Procurement/34370\""
   ]
  },
  {
   "cell_type": "code",
   "execution_count": 5,
   "id": "2f75d98e-b331-4673-8223-2911b626c5a1",
   "metadata": {},
   "outputs": [],
   "source": [
    "chunk_size = 1024\n",
    "chunk_overlap = 0"
   ]
  },
  {
   "cell_type": "markdown",
   "id": "7886b186-5505-4211-8345-731d210f55e8",
   "metadata": {},
   "source": [
    "**STEP 1: Getting markdown text from the _Project Procurement document_**"
   ]
  },
  {
   "cell_type": "code",
   "execution_count": 6,
   "id": "329be7b5-191b-4573-bcb6-3560d0897086",
   "metadata": {},
   "outputs": [],
   "source": [
    "from scripts.extractmd import Extractor"
   ]
  },
  {
   "cell_type": "code",
   "execution_count": 7,
   "id": "c5d30e80-c648-4214-95b8-a989eb5c31ea",
   "metadata": {},
   "outputs": [],
   "source": [
    "ex = Extractor()"
   ]
  },
  {
   "cell_type": "code",
   "execution_count": 8,
   "id": "582d1e81-c3e4-4288-a6de-d5607cc782a5",
   "metadata": {},
   "outputs": [
    {
     "name": "stdout",
     "output_type": "stream",
     "text": [
      "Processing C:\\Repos\\CFLA\\KND_2020_07_dokumentacijas_pirsmparbaude\\Nolikums (90).pdf...\n",
      "[========================================]\n"
     ]
    }
   ],
   "source": [
    "procurement_content = ex.convert2markdown(f\"{procurement_file_dir}\\\\{procurement_file}\")"
   ]
  },
  {
   "cell_type": "code",
   "execution_count": 9,
   "id": "418a03dd-b661-42c3-b740-7641da033369",
   "metadata": {},
   "outputs": [],
   "source": [
    "with open (\"tmp2.md\", 'w',encoding='utf-8') as ofile:\n",
    "    print(procurement_content, file = ofile)"
   ]
  },
  {
   "cell_type": "markdown",
   "id": "14f2893b-e2d3-456e-84ce-a36f337088e9",
   "metadata": {},
   "source": [
    "**STEP 2: Initializing embedding and llm object**"
   ]
  },
  {
   "cell_type": "code",
   "execution_count": 10,
   "id": "f2e3431f-33af-42c6-8fc4-dcadaf6c5951",
   "metadata": {},
   "outputs": [
    {
     "name": "stdout",
     "output_type": "stream",
     "text": [
      "WARNING:tensorflow:From C:\\Users\\Daiga.Deksne\\AppData\\Roaming\\Python\\Python310\\site-packages\\keras\\src\\losses.py:2976: The name tf.losses.sparse_softmax_cross_entropy is deprecated. Please use tf.compat.v1.losses.sparse_softmax_cross_entropy instead.\n",
      "\n"
     ]
    }
   ],
   "source": [
    "from llama_index.embeddings.huggingface import HuggingFaceEmbedding"
   ]
  },
  {
   "cell_type": "code",
   "execution_count": 11,
   "id": "ab7d3a84-33a6-4d39-8552-10f28abdc308",
   "metadata": {},
   "outputs": [],
   "source": [
    "embedding=HuggingFaceEmbedding(model_name=embeddingmodel,trust_remote_code=True)"
   ]
  },
  {
   "cell_type": "code",
   "execution_count": 12,
   "id": "96cf2024-f901-4f19-b21c-23f42d75d4bc",
   "metadata": {},
   "outputs": [
    {
     "name": "stdout",
     "output_type": "stream",
     "text": [
      "768\n"
     ]
    }
   ],
   "source": [
    "print(len(embedding._get_text_embedding(\"Test string\")))"
   ]
  },
  {
   "cell_type": "code",
   "execution_count": 13,
   "id": "26be590e-9e1b-4414-9743-f99dc2587ad1",
   "metadata": {},
   "outputs": [],
   "source": [
    "from llama_index.llms.azure_openai import AzureOpenAI"
   ]
  },
  {
   "cell_type": "code",
   "execution_count": 14,
   "id": "3b5b1c8d-eb6f-48c1-8ce3-cc883946043f",
   "metadata": {},
   "outputs": [],
   "source": [
    "llm=AzureOpenAI(azure_deployment=llmmodel[\"azure_deployment\"],\n",
    "                azure_endpoint=llmmodel[\"azure_endpoint\"],temperature=0.0,\n",
    "                api_version=llmmodel[\"version\"], api_key=llmmodel[\"api_key\"],\n",
    "                timeout=120,max_retries=3,top_p=0.0001)"
   ]
  },
  {
   "cell_type": "code",
   "execution_count": 15,
   "id": "5be0a06e-6884-4bb1-b5fc-6d18855b8098",
   "metadata": {},
   "outputs": [],
   "source": [
    "#LLM test\n",
    "#response = llm.complete(\"What day is today?\")"
   ]
  },
  {
   "cell_type": "code",
   "execution_count": 16,
   "id": "35f97bdd-882e-48c7-adea-82b3a342aa11",
   "metadata": {},
   "outputs": [],
   "source": [
    "#response"
   ]
  },
  {
   "cell_type": "markdown",
   "id": "ce8dd10c-2ab5-4eca-baa9-e3091bf62ee4",
   "metadata": {},
   "source": [
    "**STEP 3: Creating FAISS vector index for the procurement document**"
   ]
  },
  {
   "cell_type": "code",
   "execution_count": 17,
   "id": "df767f7e-4b06-4d54-92e0-48eb45e1ec26",
   "metadata": {},
   "outputs": [],
   "source": [
    "from scripts.vectorindex import QnAEngine"
   ]
  },
  {
   "cell_type": "code",
   "execution_count": 18,
   "id": "d3316131-4b65-4b4c-8d64-643c3c1553d0",
   "metadata": {},
   "outputs": [],
   "source": [
    "qnaengine = QnAEngine(embedding,llm)"
   ]
  },
  {
   "cell_type": "code",
   "execution_count": 19,
   "id": "168da01c-6f5d-42a0-898f-4ca7cfd05e4a",
   "metadata": {
    "scrolled": true
   },
   "outputs": [
    {
     "name": "stderr",
     "output_type": "stream",
     "text": [
      "Generating embeddings: 100%|█████████████████████████████████████████████████████████████████████████████████████████████████████████████████████████████████████████ [ time left: 00:00 ]"
     ]
    },
    {
     "name": "stdout",
     "output_type": "stream",
     "text": [
      "91 segments created and vectorized.\n"
     ]
    },
    {
     "name": "stderr",
     "output_type": "stream",
     "text": [
      "\n"
     ]
    }
   ],
   "source": [
    "ret = await qnaengine.createIndex(procurement_content,\"Procurement\",chunk_size=chunk_size,chunk_overlap=chunk_overlap)"
   ]
  },
  {
   "cell_type": "code",
   "execution_count": 20,
   "id": "b501f2b7-428f-4553-be6b-0c7268a2b788",
   "metadata": {},
   "outputs": [
    {
     "name": "stdout",
     "output_type": "stream",
     "text": [
      "Index is ready.\n"
     ]
    }
   ],
   "source": [
    "if ret == False:\n",
    "    print(\"**Failed to create index!**\")\n",
    "    exit\n",
    "else:\n",
    "    print(\"Index is ready.\")"
   ]
  },
  {
   "cell_type": "code",
   "execution_count": 21,
   "id": "3b115a12-b748-4262-84ed-6967502f55ca",
   "metadata": {},
   "outputs": [],
   "source": [
    "#Retrieval test\n",
    "#similarsegments = qnaengine.getSimilarNodes(\"Vai iepirkums ir sadalīts daļās?\")\n",
    "#print(similarsegments)"
   ]
  },
  {
   "cell_type": "code",
   "execution_count": 22,
   "id": "498b44df-d770-4078-961b-44eec6935051",
   "metadata": {},
   "outputs": [],
   "source": [
    "#Generation test\n",
    "#result = qnaengine.askQuestion(\"Noskaidro, vai lietotāja apgalvojums ir patiess? Domā soli pa soli, katram solim neveltot vairāk par pieciem vārdiem. Pamato savu atbildi, citējot fragmentu no konteksta. Atbildei jābūt 'jā', 'nē' vai 'kontekstā nav informācijas'. Atbildi ietver kvadrātiekavās '[]'. Ja kontekstā nav informācijas, paskaidro, kāda informācija ir nepieciešama, lai novērtētu apgalvojumu.\",\n",
    "#                              \"Pasūtītājs ir nodrošinājis iespēju piegādātājiem iepazīties uz vietas ar iepirkuma papildu dokumentiem, kam tehnisku iemeslu dēļ vai tajos iekļautās informācijas vai komerciālu interešu aizsardzības dēļ nav nodrošināma brīva un tieša elektroniska piekļuve, sākot ar attiecīgā iepirkuma izsludināšanas brīdi\",\n",
    "#                              usecontext=True)\n",
    "#result"
   ]
  },
  {
   "cell_type": "markdown",
   "id": "af21118d-8a9e-4c3d-9da7-0a4ff7888fbd",
   "metadata": {},
   "source": [
    "#### **STEP 4: Acquiring supplementary information**"
   ]
  },
  {
   "cell_type": "code",
   "execution_count": 23,
   "id": "8d3e9ffa-c441-4296-8d92-8f189f460284",
   "metadata": {},
   "outputs": [],
   "source": [
    "from scripts.utilities import *"
   ]
  },
  {
   "cell_type": "code",
   "execution_count": 24,
   "id": "954d1600-2019-42c2-9c6d-93353a033621",
   "metadata": {},
   "outputs": [],
   "source": [
    "with open('PIL.txt','r',encoding='utf-8') as file:\n",
    "    piltxt = file.read().strip()"
   ]
  },
  {
   "cell_type": "code",
   "execution_count": 25,
   "id": "105c0075-cb63-4c3b-99c4-71e2d278bfc9",
   "metadata": {
    "scrolled": true
   },
   "outputs": [],
   "source": [
    "pattern = r'^(?P<key>(\\d+\\.\\s+(pants|pielikums))|Pārejas noteikumi)'\n",
    "pilchapters = extract_chapters(piltxt, pattern)"
   ]
  },
  {
   "cell_type": "code",
   "execution_count": 26,
   "id": "a235a0b5-29dd-4b85-8574-b95c81dee4f5",
   "metadata": {},
   "outputs": [],
   "source": [
    "#eiscontent = await text_from_url(EIS_URL)\n",
    "#print(eiscontent)"
   ]
  },
  {
   "cell_type": "markdown",
   "id": "9a44a255-dbc6-476f-bc13-c6c78518cb62",
   "metadata": {},
   "source": [
    "##### **STEP 5: Processing questions**"
   ]
  },
  {
   "cell_type": "code",
   "execution_count": 27,
   "id": "8a995cf6-c30d-4f9a-b403-aa766927ed25",
   "metadata": {},
   "outputs": [],
   "source": [
    "import yaml\n",
    "import re"
   ]
  },
  {
   "cell_type": "code",
   "execution_count": 28,
   "id": "6085b510-1fdb-4bd9-bd5c-aad73f771fb4",
   "metadata": {},
   "outputs": [],
   "source": [
    "try:\n",
    "    with open(question_file_path, 'r', encoding='utf-8') as file:\n",
    "        question_dictonary = yaml.safe_load(file)\n",
    "\n",
    "except FileNotFoundError:\n",
    "    print(f\"Error: File '{question_file_path}' not found.\")\n",
    "    exit\n",
    "except yaml.YAMLError as e:\n",
    "    print(f\"Error parsing YAML file: {e}\")\n",
    "    exit\n",
    "    "
   ]
  },
  {
   "cell_type": "code",
   "execution_count": 29,
   "id": "78e76343-d55d-4383-a217-447856b58df3",
   "metadata": {},
   "outputs": [],
   "source": [
    "table = []"
   ]
  },
  {
   "cell_type": "code",
   "execution_count": 30,
   "id": "db61605c-c57f-4017-b8ad-50527ed4b802",
   "metadata": {},
   "outputs": [],
   "source": [
    "def askQuestionSaveAnswer(prompt, question, nr):\n",
    "\n",
    "    result = qnaengine.askQuestion(prompt, question, usecontext=True)\n",
    "        \n",
    "    result = re.sub(r'\\n\\n+',r'\\n',result)\n",
    "    answer = re.search(r'\\[([^\\[\\]]+)\\]',result)\n",
    "    result = result.strip()\n",
    "    \n",
    "    if answer:\n",
    "        llmanswer=answer.group(1)\n",
    "        result = result.replace(f\"[{llmanswer}]\",\"\").replace(f\"Atbilde:\",\"\")\n",
    "        record = [nr, llmanswer, result]\n",
    "    else:\n",
    "        answer = re.search(r'\\b(jā|nē|kontekstā nav informācijas)\\b', result, re.IGNORECASE)\n",
    "        if answer:\n",
    "            record = [nr, answer.group(1).lower(), result]\n",
    "        else:\n",
    "            record = [nr, '', result]\n",
    "        \n",
    "    return record"
   ]
  },
  {
   "cell_type": "code",
   "execution_count": 31,
   "id": "d9636585-0d75-425f-b83b-43f5cfc1ee55",
   "metadata": {},
   "outputs": [],
   "source": [
    "cod_prompt = \"Domā soli pa soli, katram solim neveltot vairāk par pieciem vārdiem. Atbildei jābūt 'jā', 'nē' vai 'kontekstā nav informācijas'.\""
   ]
  },
  {
   "cell_type": "code",
   "execution_count": 36,
   "id": "a9764b18-7d2e-4165-8b8b-6d1642cbaea0",
   "metadata": {},
   "outputs": [],
   "source": [
    "for singleq in question_dictonary:\n",
    "    \n",
    "    bcontinue = True\n",
    "    extrainfo = get_extra_info(singleq, pilchapters)    \n",
    "    \n",
    "    if 'question0' in singleq:\n",
    "        result0 = askQuestionSaveAnswer(cod_prompt + extrainfo, singleq['question0'], f\"{singleq['nr']}-0\")\n",
    "        table.append(result0)\n",
    "\n",
    "        if result0[1] == 'nē':\n",
    "            bcontinue = False\n",
    "            \n",
    "    if bcontinue == False:\n",
    "        if 'question' in singleq:\n",
    "            table.append([singleq['nr'],'N/A',''])\n",
    "        elif 'questions' in singleq:\n",
    "            for idx,single in enumerate(singleq['questions']):\n",
    "                table.append([f\"{singleq['nr']}.{idx+1}\",'N/A',''])\n",
    "        continue\n",
    "\n",
    "    if 'question' in singleq:\n",
    "        table.append(askQuestionSaveAnswer(singleq['prompt'] + extrainfo, singleq['question'], singleq['nr']))\n",
    "    elif 'questions' in singleq:\n",
    "        for idx,single in enumerate(singleq['questions']):\n",
    "            extrainfo = get_extra_info(single, pilchapters) \n",
    "            table.append(askQuestionSaveAnswer(single['prompt'] + extrainfo, single['question'], f\"{singleq['nr']}.{idx+1}\"))       "
   ]
  },
  {
   "cell_type": "code",
   "execution_count": 37,
   "id": "944bb3f4-447a-4ff3-8537-35831dc3c735",
   "metadata": {},
   "outputs": [],
   "source": [
    "import pandas as pd\n",
    "data = pd.DataFrame(table, columns=[\"Nr\", \"Atbilde\", \"Pamatojums\"])"
   ]
  },
  {
   "cell_type": "code",
   "execution_count": 38,
   "id": "ed2679bb-0916-402c-a739-a64c7f76af7e",
   "metadata": {},
   "outputs": [],
   "source": [
    "from tabulate import tabulate"
   ]
  },
  {
   "cell_type": "code",
   "execution_count": 39,
   "id": "e9423524-0a87-4d76-8948-48ab7a40d672",
   "metadata": {},
   "outputs": [
    {
     "name": "stdout",
     "output_type": "stream",
     "text": [
      "+------+----------------------------+------------------------------------------------------------------------------------------------------------------------------------------------------------------------------------------------------------------------------------------------------------------------------------------------------------------------------------------------------------------------------------------------------------------------------------------------------------+\n",
      "| Nr   | Atbilde                    | Pamatojums                                                                                                                                                                                                                                                                                                                                                                                                                                                 |\n",
      "+======+============================+============================================================================================================================================================================================================================================================================================================================================================================================================================================================+\n",
      "| 1    | Kontekstā nav informācijas | Nepieciešama informācija par apstiprināto iepirkuma plānu un konkrētām izmaiņām, lai novērtētu apgalvojumu.                                                                                                                                                                                                                                                                                                                                                |\n",
      "+------+----------------------------+------------------------------------------------------------------------------------------------------------------------------------------------------------------------------------------------------------------------------------------------------------------------------------------------------------------------------------------------------------------------------------------------------------------------------------------------------------+\n",
      "| 2-0  | kontekstā nav informācijas | Kontekstā nav informācijas.                                                                                                                                                                                                                                                                                                                                                                                                                                |\n",
      "+------+----------------------------+------------------------------------------------------------------------------------------------------------------------------------------------------------------------------------------------------------------------------------------------------------------------------------------------------------------------------------------------------------------------------------------------------------------------------------------------------------+\n",
      "| 2    |                            | Lai novērtētu apgalvojumu, nepieciešama informācija par konkrētiem apstākļiem, kas atbilst PIL 6. un 7. punktiem.                                                                                                                                                                                                                                                                                                                                          |\n",
      "+------+----------------------------+------------------------------------------------------------------------------------------------------------------------------------------------------------------------------------------------------------------------------------------------------------------------------------------------------------------------------------------------------------------------------------------------------------------------------------------------------------+\n",
      "| 3    |                            | Nav konstatējama iepirkuma priekšmeta nepamatota apvienošana.                                                                                                                                                                                                                                                                                                                                                                                              |\n",
      "+------+----------------------------+------------------------------------------------------------------------------------------------------------------------------------------------------------------------------------------------------------------------------------------------------------------------------------------------------------------------------------------------------------------------------------------------------------------------------------------------------------+\n",
      "| 4-0  | nē                         | Nē.                                                                                                                                                                                                                                                                                                                                                                                                                                                        |\n",
      "+------+----------------------------+------------------------------------------------------------------------------------------------------------------------------------------------------------------------------------------------------------------------------------------------------------------------------------------------------------------------------------------------------------------------------------------------------------------------------------------------------------+\n",
      "| 4    | N/A                        |                                                                                                                                                                                                                                                                                                                                                                                                                                                            |\n",
      "+------+----------------------------+------------------------------------------------------------------------------------------------------------------------------------------------------------------------------------------------------------------------------------------------------------------------------------------------------------------------------------------------------------------------------------------------------------------------------------------------------------+\n",
      "| 5    |                            | Nepieciešama informācija par CPV kodu piešķiršanu un norādīšanu iepirkuma dokumentācijā.                                                                                                                                                                                                                                                                                                                                                                   |\n",
      "+------+----------------------------+------------------------------------------------------------------------------------------------------------------------------------------------------------------------------------------------------------------------------------------------------------------------------------------------------------------------------------------------------------------------------------------------------------------------------------------------------------+\n",
      "| 6-0  | jā                         | Jā.                                                                                                                                                                                                                                                                                                                                                                                                                                                        |\n",
      "+------+----------------------------+------------------------------------------------------------------------------------------------------------------------------------------------------------------------------------------------------------------------------------------------------------------------------------------------------------------------------------------------------------------------------------------------------------------------------------------------------------+\n",
      "| 6    | Kontekstā nav informācijas | Nepieciešama informācija par līguma priekšmeta klasifikāciju un tā salīdzinājumu ar iepirkuma līguma galveno priekšmetu.                                                                                                                                                                                                                                                                                                                                   |\n",
      "+------+----------------------------+------------------------------------------------------------------------------------------------------------------------------------------------------------------------------------------------------------------------------------------------------------------------------------------------------------------------------------------------------------------------------------------------------------------------------------------------------------+\n",
      "| 7-0  | kontekstā nav informācijas | Kontekstā nav informācijas.                                                                                                                                                                                                                                                                                                                                                                                                                                |\n",
      "+------+----------------------------+------------------------------------------------------------------------------------------------------------------------------------------------------------------------------------------------------------------------------------------------------------------------------------------------------------------------------------------------------------------------------------------------------------------------------------------------------------+\n",
      "| 7    |                            | Nepieciešama informācija par galvenā priekšmeta un iepirkuma procedūras noteikšanas kritērijiem, kas saistīti ar līgumcenu.                                                                                                                                                                                                                                                                                                                                |\n",
      "+------+----------------------------+------------------------------------------------------------------------------------------------------------------------------------------------------------------------------------------------------------------------------------------------------------------------------------------------------------------------------------------------------------------------------------------------------------------------------------------------------------+\n",
      "| 8    | jā                         | Jā.                                                                                                                                                                                                                                                                                                                                                                                                                                                        |\n",
      "+------+----------------------------+------------------------------------------------------------------------------------------------------------------------------------------------------------------------------------------------------------------------------------------------------------------------------------------------------------------------------------------------------------------------------------------------------------------------------------------------------------+\n",
      "| 9-0  | kontekstā nav informācijas | Kontekstā nav informācijas.                                                                                                                                                                                                                                                                                                                                                                                                                                |\n",
      "+------+----------------------------+------------------------------------------------------------------------------------------------------------------------------------------------------------------------------------------------------------------------------------------------------------------------------------------------------------------------------------------------------------------------------------------------------------------------------------------------------------+\n",
      "| 9.1  |                            | Nepieciešama informācija par PIL 16. panta minētajiem pakalpojumiem un to kārtību.                                                                                                                                                                                                                                                                                                                                                                         |\n",
      "+------+----------------------------+------------------------------------------------------------------------------------------------------------------------------------------------------------------------------------------------------------------------------------------------------------------------------------------------------------------------------------------------------------------------------------------------------------------------------------------------------------+\n",
      "| 9.2  | Kontekstā nav informācijas | Nepieciešama informācija par konkrēto paziņojumu par sociālajiem un citiem īpašiem pakalpojumiem, lai novērtētu apgalvojumu.                                                                                                                                                                                                                                                                                                                               |\n",
      "+------+----------------------------+------------------------------------------------------------------------------------------------------------------------------------------------------------------------------------------------------------------------------------------------------------------------------------------------------------------------------------------------------------------------------------------------------------------------------------------------------------+\n",
      "| 9.3  | Kontekstā nav informācijas |                                                                                                                                                                                                                                                                                                                                                                                                                                                            |\n",
      "+------+----------------------------+------------------------------------------------------------------------------------------------------------------------------------------------------------------------------------------------------------------------------------------------------------------------------------------------------------------------------------------------------------------------------------------------------------------------------------------------------------+\n",
      "| 10   | nē                         | Nē.                                                                                                                                                                                                                                                                                                                                                                                                                                                        |\n",
      "|      |                            | Pamatojums: \"Komisija nodrošina brīvu un tiešu elektronisku pieeju iepirkuma procedūras dokumentiem pircēja profilā Elektronisko iepirkumu sistēmas https://www.eis.gov.lv/EIS/ e-konkursu apakšsistēmā šī nolikuma 1.5.2.punktā norādītajā adresē.\"                                                                                                                                                                                                       |\n",
      "+------+----------------------------+------------------------------------------------------------------------------------------------------------------------------------------------------------------------------------------------------------------------------------------------------------------------------------------------------------------------------------------------------------------------------------------------------------------------------------------------------------+\n",
      "| 15   | Kontekstā nav informācijas | Nepieciešama informācija par to, vai pasūtītājs ir noteicis informācijas apmaiņas veidu, kas ir vispārpieejams un neapgrūtina piegādātāja piekļuvi iepirkumam.                                                                                                                                                                                                                                                                                             |\n",
      "+------+----------------------------+------------------------------------------------------------------------------------------------------------------------------------------------------------------------------------------------------------------------------------------------------------------------------------------------------------------------------------------------------------------------------------------------------------------------------------------------------------+\n",
      "| 16   |                            | Pasūtītājs paredz elektronisku pieteikumu un piedāvājumu iesniegšanu EIS E-konkursu apakšsistēmā, izņemot MK noteikumu 231.punktā noteiktos gadījumus, kad pasūtītājam nav pienākuma pieteikumu un piedāvājumu vai tā sastāvdaļu saņemšanai izmantot elektroniskās informācijas sistēmas.                                                                                                                                                                  |\n",
      "+------+----------------------------+------------------------------------------------------------------------------------------------------------------------------------------------------------------------------------------------------------------------------------------------------------------------------------------------------------------------------------------------------------------------------------------------------------------------------------------------------------+\n",
      "| 17-0 | jā                         | Jā.                                                                                                                                                                                                                                                                                                                                                                                                                                                        |\n",
      "+------+----------------------------+------------------------------------------------------------------------------------------------------------------------------------------------------------------------------------------------------------------------------------------------------------------------------------------------------------------------------------------------------------------------------------------------------------------------------------------------------------+\n",
      "| 17   | jā                         | Jā.                                                                                                                                                                                                                                                                                                                                                                                                                                                        |\n",
      "+------+----------------------------+------------------------------------------------------------------------------------------------------------------------------------------------------------------------------------------------------------------------------------------------------------------------------------------------------------------------------------------------------------------------------------------------------------------------------------------------------------+\n",
      "| 1    | kontekstā nav informācijas | Solis pa solim:                                                                                                                                                                                                                                                                                                                                                                                                                                            |\n",
      "|      |                            | 1. Pārbaudi kontekstu.                                                                                                                                                                                                                                                                                                                                                                                                                                     |\n",
      "|      |                            | 2. Meklē informāciju par iepirkuma datiem.                                                                                                                                                                                                                                                                                                                                                                                                                 |\n",
      "|      |                            | 3. Meklē informāciju par izmaiņām.                                                                                                                                                                                                                                                                                                                                                                                                                         |\n",
      "|      |                            | 4. Pārbaudi, vai izmaiņas ir būtiskas.                                                                                                                                                                                                                                                                                                                                                                                                                     |\n",
      "|      |                            | Pamatojums:                                                                                                                                                                                                                                                                                                                                                                                                                                                |\n",
      "|      |                            | 10.1.1. \"nebūtiski;\"                                                                                                                                                                                                                                                                                                                                                                                                                                       |\n",
      "|      |                            | 10.2.1. \"atšķirīgu piedāvājumu iesniegšanu;\"                                                                                                                                                                                                                                                                                                                                                                                                               |\n",
      "|      |                            | 10.2.2. \"ekonomiskais līdzsvars;\"                                                                                                                                                                                                                                                                                                                                                                                                                          |\n",
      "|      |                            | 10.2.3. \"neparedz sākotnēji noslēgtais iepirkuma līgums;\"                                                                                                                                                                                                                                                                                                                                                                                                  |\n",
      "|      |                            | 10.2.4. \"aizstāj ar citu piegādātāju.\"                                                                                                                                                                                                                                                                                                                                                                                                                     |\n",
      "|      |                            |                                                                                                                                                                                                                                                                                                                                                                                                                                                            |\n",
      "|      |                            | Nepieciešama informācija par apstiprināto iepirkuma plānu un konkrētām izmaiņām.                                                                                                                                                                                                                                                                                                                                                                           |\n",
      "+------+----------------------------+------------------------------------------------------------------------------------------------------------------------------------------------------------------------------------------------------------------------------------------------------------------------------------------------------------------------------------------------------------------------------------------------------------------------------------------------------------+\n",
      "| 2-0  | kontekstā nav informācijas | Kontekstā nav informācijas.                                                                                                                                                                                                                                                                                                                                                                                                                                |\n",
      "+------+----------------------------+------------------------------------------------------------------------------------------------------------------------------------------------------------------------------------------------------------------------------------------------------------------------------------------------------------------------------------------------------------------------------------------------------------------------------------------------------------+\n",
      "| 2    |                            | Lai novērtētu apgalvojumu, nepieciešama informācija par konkrētiem apstākļiem, kas atbilst PIL 6. vai 7. punktiem.                                                                                                                                                                                                                                                                                                                                         |\n",
      "+------+----------------------------+------------------------------------------------------------------------------------------------------------------------------------------------------------------------------------------------------------------------------------------------------------------------------------------------------------------------------------------------------------------------------------------------------------------------------------------------------------+\n",
      "| 3    |                            | Nepieciešama informācija par iepirkuma priekšmetu un tā apvienošanu.                                                                                                                                                                                                                                                                                                                                                                                       |\n",
      "+------+----------------------------+------------------------------------------------------------------------------------------------------------------------------------------------------------------------------------------------------------------------------------------------------------------------------------------------------------------------------------------------------------------------------------------------------------------------------------------------------------+\n",
      "| 4-0  | nē                         | Nē                                                                                                                                                                                                                                                                                                                                                                                                                                                         |\n",
      "+------+----------------------------+------------------------------------------------------------------------------------------------------------------------------------------------------------------------------------------------------------------------------------------------------------------------------------------------------------------------------------------------------------------------------------------------------------------------------------------------------------+\n",
      "| 4    | N/A                        |                                                                                                                                                                                                                                                                                                                                                                                                                                                            |\n",
      "+------+----------------------------+------------------------------------------------------------------------------------------------------------------------------------------------------------------------------------------------------------------------------------------------------------------------------------------------------------------------------------------------------------------------------------------------------------------------------------------------------------+\n",
      "| 5    |                            | Iepirkumam atbilstoši būvdarbu, preču grupu un pakalpojumu kategorijām ir piešķirts CPV kods un tas pēc būtības atbilst iepirkuma priekšmetam un tas ir norādīts Elektronisko iepirkumu sistēmā (EIS) E-konkursu apakšsistēmā, paziņojumā par plānoto līgumu un pārējā iepirkuma dokumentācijā pēc būtības atbilst iepirkuma priekšmeta saturam.                                                                                                           |\n",
      "+------+----------------------------+------------------------------------------------------------------------------------------------------------------------------------------------------------------------------------------------------------------------------------------------------------------------------------------------------------------------------------------------------------------------------------------------------------------------------------------------------------+\n",
      "| 6-0  | jā                         | Jā.                                                                                                                                                                                                                                                                                                                                                                                                                                                        |\n",
      "+------+----------------------------+------------------------------------------------------------------------------------------------------------------------------------------------------------------------------------------------------------------------------------------------------------------------------------------------------------------------------------------------------------------------------------------------------------------------------------------------------------+\n",
      "| 6    | kontekstā nav informācijas | Nepieciešama informācija par līguma priekšmeta klasifikāciju un tā atbilstību iepirkuma līguma galvenajam priekšmetam.                                                                                                                                                                                                                                                                                                                                     |\n",
      "+------+----------------------------+------------------------------------------------------------------------------------------------------------------------------------------------------------------------------------------------------------------------------------------------------------------------------------------------------------------------------------------------------------------------------------------------------------------------------------------------------------+\n",
      "| 7-0  | kontekstā nav informācijas | Kontekstā nav informācijas.                                                                                                                                                                                                                                                                                                                                                                                                                                |\n",
      "+------+----------------------------+------------------------------------------------------------------------------------------------------------------------------------------------------------------------------------------------------------------------------------------------------------------------------------------------------------------------------------------------------------------------------------------------------------------------------------------------------------+\n",
      "| 7    |                            | Nepieciešama informācija par galveno priekšmetu un iepirkuma procedūru.                                                                                                                                                                                                                                                                                                                                                                                    |\n",
      "+------+----------------------------+------------------------------------------------------------------------------------------------------------------------------------------------------------------------------------------------------------------------------------------------------------------------------------------------------------------------------------------------------------------------------------------------------------------------------------------------------------+\n",
      "| 8    | jā                         | Solis 1: Pārbaudi, vai ir informācija par iepirkuma procedūras dokumentācijas pieejamību EIS E-konkursu apakšsistēmā.                                                                                                                                                                                                                                                                                                                                      |\n",
      "|      |                            | Solis 2: Pārbaudi, vai ir informācija par paziņojuma publicēšanu IUB tīmekļvietnē.                                                                                                                                                                                                                                                                                                                                                                         |\n",
      "|      |                            | Solis 3: Meklē informāciju par piekļuvi dokumentiem pircēja profilā EIS E-konkursu apakšsistēmā.                                                                                                                                                                                                                                                                                                                                                           |\n",
      "|      |                            | Pamatojums: \"Komisija nodrošina brīvu un tiešu elektronisku pieeju iepirkuma procedūras dokumentiem pircēja profilā Elektronisko iepirkumu sistēmas https://www.eis.gov.lv/EIS/ e-konkursu apakšsistēmā.\"                                                                                                                                                                                                                                                  |\n",
      "+------+----------------------------+------------------------------------------------------------------------------------------------------------------------------------------------------------------------------------------------------------------------------------------------------------------------------------------------------------------------------------------------------------------------------------------------------------------------------------------------------------+\n",
      "| 9-0  | kontekstā nav informācijas | Kontekstā nav informācijas.                                                                                                                                                                                                                                                                                                                                                                                                                                |\n",
      "+------+----------------------------+------------------------------------------------------------------------------------------------------------------------------------------------------------------------------------------------------------------------------------------------------------------------------------------------------------------------------------------------------------------------------------------------------------------------------------------------------------+\n",
      "| 9.1  |                            | Pasūtītājs ir rezervējis iespēju piedalīties iepirkumā PIL 10. panta kārtībā tikai tiem kandidātiem vai pretendentiem, kuriem ir piešķirts sociālā uzņēmuma statuss un kuri sniedz minēto jomu pakalpojumus, un kuriem pēdējo triju gadu laikā no dienas, kad būtu pieņemams lēmums par iepirkuma līguma tiesību piešķiršanu, pasūtītājs nav piešķīris iepirkuma līguma slēgšanas tiesības par PIL 16.pantā minētajiem pakalpojumiem PIL 16.panta kārtībā. |\n",
      "+------+----------------------------+------------------------------------------------------------------------------------------------------------------------------------------------------------------------------------------------------------------------------------------------------------------------------------------------------------------------------------------------------------------------------------------------------------------------------------------------------------+\n",
      "| 9.2  | Kontekstā nav informācijas | Lai novērtētu apgalvojumu, nepieciešams paziņojums par sociālajiem un citiem īpašiem pakalpojumiem, kurā būtu norādīts atsauce uz Publisko iepirkumu likuma (PIL) 16. pantu.                                                                                                                                                                                                                                                                               |\n",
      "+------+----------------------------+------------------------------------------------------------------------------------------------------------------------------------------------------------------------------------------------------------------------------------------------------------------------------------------------------------------------------------------------------------------------------------------------------------------------------------------------------------+\n",
      "| 9.3  |                            | Lai novērtētu apgalvojumu, nepieciešama informācija par konkrētā iepirkuma līguma termiņu.                                                                                                                                                                                                                                                                                                                                                                 |\n",
      "+------+----------------------------+------------------------------------------------------------------------------------------------------------------------------------------------------------------------------------------------------------------------------------------------------------------------------------------------------------------------------------------------------------------------------------------------------------------------------------------------------------+\n",
      "| 10   | kontekstā nav informācijas | Kontekstā nav informācijas. Nepieciešama informācija par papildu dokumentiem, kas nav pieejami elektroniski.                                                                                                                                                                                                                                                                                                                                               |\n",
      "+------+----------------------------+------------------------------------------------------------------------------------------------------------------------------------------------------------------------------------------------------------------------------------------------------------------------------------------------------------------------------------------------------------------------------------------------------------------------------------------------------------+\n",
      "| 15   | Kontekstā nav informācijas | Nepieciešama informācija par to, vai pasūtītājs ir noteicis informācijas apmaiņas veidu, kas ir vispārpieejams un neapgrūtina piegādātāja piekļuvi iepirkumam.                                                                                                                                                                                                                                                                                             |\n",
      "+------+----------------------------+------------------------------------------------------------------------------------------------------------------------------------------------------------------------------------------------------------------------------------------------------------------------------------------------------------------------------------------------------------------------------------------------------------------------------------------------------------+\n",
      "| 16   |                            | Pasūtītājs paredz elektronisku pieteikumu un piedāvājumu iesniegšanu EIS E-konkursu apakšsistēmā, izņemot MK noteikumu 231.punktā noteiktos gadījumus, kad pasūtītājam nav pienākuma pieteikumu un piedāvājumu vai tā sastāvdaļu saņemšanai izmantot elektroniskās informācijas sistēmas.                                                                                                                                                                  |\n",
      "+------+----------------------------+------------------------------------------------------------------------------------------------------------------------------------------------------------------------------------------------------------------------------------------------------------------------------------------------------------------------------------------------------------------------------------------------------------------------------------------------------------+\n",
      "| 17-0 | jā                         | Jā.                                                                                                                                                                                                                                                                                                                                                                                                                                                        |\n",
      "+------+----------------------------+------------------------------------------------------------------------------------------------------------------------------------------------------------------------------------------------------------------------------------------------------------------------------------------------------------------------------------------------------------------------------------------------------------------------------------------------------------+\n",
      "| 17   | kontekstā nav informācijas |                                                                                                                                                                                                                                                                                                                                                                                                                                                            |\n",
      "+------+----------------------------+------------------------------------------------------------------------------------------------------------------------------------------------------------------------------------------------------------------------------------------------------------------------------------------------------------------------------------------------------------------------------------------------------------------------------------------------------------+\n"
     ]
    }
   ],
   "source": [
    "with open(\"report.htm\", 'w', encoding='utf-8') as ofile:\n",
    "    print(data.to_html(index=False),file=ofile)\n",
    "print(tabulate(data, headers='keys', tablefmt='grid', showindex=False))"
   ]
  },
  {
   "cell_type": "code",
   "execution_count": null,
   "id": "e1877061-5f75-4faf-9e1a-e6cd6a07b5a8",
   "metadata": {},
   "outputs": [],
   "source": []
  },
  {
   "cell_type": "code",
   "execution_count": null,
   "id": "5bb9c79a-7160-456e-8cc8-f80058e31abc",
   "metadata": {},
   "outputs": [],
   "source": []
  }
 ],
 "metadata": {
  "kernelspec": {
   "display_name": "Python 3 (ipykernel)",
   "language": "python",
   "name": "python3"
  },
  "language_info": {
   "codemirror_mode": {
    "name": "ipython",
    "version": 3
   },
   "file_extension": ".py",
   "mimetype": "text/x-python",
   "name": "python",
   "nbconvert_exporter": "python",
   "pygments_lexer": "ipython3",
   "version": "3.10.5"
  }
 },
 "nbformat": 4,
 "nbformat_minor": 5
}
