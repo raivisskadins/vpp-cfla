{
 "cells": [
  {
   "cell_type": "code",
   "execution_count": 1,
   "id": "4329b8b7-d7a7-449b-81b7-af351449627b",
   "metadata": {},
   "outputs": [],
   "source": [
    "import os\n",
    "import sys"
   ]
  },
  {
   "cell_type": "markdown",
   "id": "491f04cb-807c-48b2-b474-8b97dbb0a6d5",
   "metadata": {},
   "source": [
    "**CURRENT SETTINGS: Embedding and language models, Chunk size, etc.**"
   ]
  },
  {
   "cell_type": "code",
   "execution_count": 2,
   "id": "a282ce0b-1aba-417c-bf9a-15cbe840c485",
   "metadata": {},
   "outputs": [],
   "source": [
    "#embeddingmodel = \"BAAI/bge-m3\"\n",
    "embeddingmodel = \"sentence-transformers/paraphrase-multilingual-mpnet-base-v2\""
   ]
  },
  {
   "cell_type": "code",
   "execution_count": 3,
   "id": "b3e114f1-c05e-48b1-b56a-051ece6102eb",
   "metadata": {},
   "outputs": [],
   "source": [
    "llmmodel = { \"model\": \"gpt-4o\",\n",
    "                \"version\":os.environ.get('AZURE_OPENAI_VERSION','2024-08-01-preview'),\n",
    "                \"azure_deployment\":\"gpt-4o\",\n",
    "                \"azure_endpoint\":os.environ.get('AZURE_ENDPOINT',''),\n",
    "                \"api_key\":os.environ.get('AZURE_OPENAI_KEY','')}"
   ]
  },
  {
   "cell_type": "code",
   "execution_count": 4,
   "id": "04bb3749-308d-466a-badf-952e8d2c6794",
   "metadata": {},
   "outputs": [],
   "source": [
    "procurement_file_dir = 'C:\\\\Repos\\\\CFLA\\\\KND_2020_07_dokumentacijas_pirsmparbaude'\n",
    "procurement_file = 'Nolikums (90).pdf'\n",
    "question_file_path = \"C:\\\\Repos\\\\vpp-cfla\\\\questions\\\\questions.yaml\""
   ]
  },
  {
   "cell_type": "code",
   "execution_count": 5,
   "id": "2f75d98e-b331-4673-8223-2911b626c5a1",
   "metadata": {},
   "outputs": [],
   "source": [
    "chunk_size = 1024\n",
    "chunk_overlap = 0"
   ]
  },
  {
   "cell_type": "markdown",
   "id": "7886b186-5505-4211-8345-731d210f55e8",
   "metadata": {},
   "source": [
    "**STEP 1: Getting markdown text from the _Project Procurement document_**"
   ]
  },
  {
   "cell_type": "code",
   "execution_count": 6,
   "id": "329be7b5-191b-4573-bcb6-3560d0897086",
   "metadata": {},
   "outputs": [],
   "source": [
    "from scripts.extractmd import Extractor"
   ]
  },
  {
   "cell_type": "code",
   "execution_count": 7,
   "id": "c5d30e80-c648-4214-95b8-a989eb5c31ea",
   "metadata": {},
   "outputs": [],
   "source": [
    "ex = Extractor()"
   ]
  },
  {
   "cell_type": "code",
   "execution_count": 8,
   "id": "582d1e81-c3e4-4288-a6de-d5607cc782a5",
   "metadata": {},
   "outputs": [
    {
     "name": "stdout",
     "output_type": "stream",
     "text": [
      "Processing C:\\Repos\\CFLA\\KND_2020_07_dokumentacijas_pirsmparbaude\\Nolikums (90).pdf...\n",
      "[========================================]\n"
     ]
    }
   ],
   "source": [
    "procurement_content = ex.convert2markdown(f\"{procurement_file_dir}\\\\{procurement_file}\")"
   ]
  },
  {
   "cell_type": "code",
   "execution_count": 9,
   "id": "418a03dd-b661-42c3-b740-7641da033369",
   "metadata": {},
   "outputs": [],
   "source": [
    "with open (\"tmp2.md\", 'w',encoding='utf-8') as ofile:\n",
    "    print(procurement_content, file = ofile)"
   ]
  },
  {
   "cell_type": "markdown",
   "id": "14f2893b-e2d3-456e-84ce-a36f337088e9",
   "metadata": {},
   "source": [
    "**STEP 2: Initializing embedding and llm object**"
   ]
  },
  {
   "cell_type": "code",
   "execution_count": 10,
   "id": "f2e3431f-33af-42c6-8fc4-dcadaf6c5951",
   "metadata": {},
   "outputs": [
    {
     "name": "stdout",
     "output_type": "stream",
     "text": [
      "WARNING:tensorflow:From C:\\Users\\Daiga.Deksne\\AppData\\Roaming\\Python\\Python310\\site-packages\\keras\\src\\losses.py:2976: The name tf.losses.sparse_softmax_cross_entropy is deprecated. Please use tf.compat.v1.losses.sparse_softmax_cross_entropy instead.\n",
      "\n"
     ]
    }
   ],
   "source": [
    "from llama_index.embeddings.huggingface import HuggingFaceEmbedding"
   ]
  },
  {
   "cell_type": "code",
   "execution_count": 11,
   "id": "ab7d3a84-33a6-4d39-8552-10f28abdc308",
   "metadata": {},
   "outputs": [],
   "source": [
    "embedding=HuggingFaceEmbedding(model_name=embeddingmodel,trust_remote_code=True)"
   ]
  },
  {
   "cell_type": "code",
   "execution_count": 12,
   "id": "96cf2024-f901-4f19-b21c-23f42d75d4bc",
   "metadata": {},
   "outputs": [
    {
     "name": "stdout",
     "output_type": "stream",
     "text": [
      "768\n"
     ]
    }
   ],
   "source": [
    "print(len(embedding._get_text_embedding(\"Test string\")))"
   ]
  },
  {
   "cell_type": "code",
   "execution_count": 13,
   "id": "26be590e-9e1b-4414-9743-f99dc2587ad1",
   "metadata": {},
   "outputs": [],
   "source": [
    "from llama_index.llms.azure_openai import AzureOpenAI"
   ]
  },
  {
   "cell_type": "code",
   "execution_count": 14,
   "id": "3b5b1c8d-eb6f-48c1-8ce3-cc883946043f",
   "metadata": {},
   "outputs": [],
   "source": [
    "llm=AzureOpenAI(azure_deployment=llmmodel[\"azure_deployment\"],\n",
    "                azure_endpoint=llmmodel[\"azure_endpoint\"],temperature=0.0,\n",
    "                api_version=llmmodel[\"version\"], api_key=llmmodel[\"api_key\"],\n",
    "                timeout=120,max_retries=3,top_p=0.0001)"
   ]
  },
  {
   "cell_type": "code",
   "execution_count": 15,
   "id": "5be0a06e-6884-4bb1-b5fc-6d18855b8098",
   "metadata": {},
   "outputs": [],
   "source": [
    "#LLM test\n",
    "#response = llm.complete(\"What day is today?\")"
   ]
  },
  {
   "cell_type": "code",
   "execution_count": 16,
   "id": "35f97bdd-882e-48c7-adea-82b3a342aa11",
   "metadata": {},
   "outputs": [],
   "source": [
    "#response"
   ]
  },
  {
   "cell_type": "markdown",
   "id": "ce8dd10c-2ab5-4eca-baa9-e3091bf62ee4",
   "metadata": {},
   "source": [
    "**STEP 3: Creating FAISS vector index for the procurement document**"
   ]
  },
  {
   "cell_type": "code",
   "execution_count": 17,
   "id": "df767f7e-4b06-4d54-92e0-48eb45e1ec26",
   "metadata": {},
   "outputs": [],
   "source": [
    "from scripts.vectorindex import QnAEngine"
   ]
  },
  {
   "cell_type": "code",
   "execution_count": 18,
   "id": "d3316131-4b65-4b4c-8d64-643c3c1553d0",
   "metadata": {},
   "outputs": [],
   "source": [
    "qnaengine = QnAEngine(embedding,llm)"
   ]
  },
  {
   "cell_type": "code",
   "execution_count": 19,
   "id": "168da01c-6f5d-42a0-898f-4ca7cfd05e4a",
   "metadata": {},
   "outputs": [
    {
     "name": "stderr",
     "output_type": "stream",
     "text": [
      "Generating embeddings: 100%|█████████████████████████████████████████████████████████████████████████████████████████████████████████████████████████████████████████ [ time left: 00:00 ]"
     ]
    },
    {
     "name": "stdout",
     "output_type": "stream",
     "text": [
      "100 segments created and vectorized.\n"
     ]
    },
    {
     "name": "stderr",
     "output_type": "stream",
     "text": [
      "\n"
     ]
    }
   ],
   "source": [
    "ret = await qnaengine.createIndex(procurement_content,\"Procurement\",chunk_size=chunk_size,chunk_overlap=chunk_overlap)"
   ]
  },
  {
   "cell_type": "code",
   "execution_count": 20,
   "id": "b501f2b7-428f-4553-be6b-0c7268a2b788",
   "metadata": {},
   "outputs": [
    {
     "name": "stdout",
     "output_type": "stream",
     "text": [
      "Index is ready.\n"
     ]
    }
   ],
   "source": [
    "if ret == False:\n",
    "    print(\"**Failed to create index!**\")\n",
    "    exit\n",
    "else:\n",
    "    print(\"Index is ready.\")"
   ]
  },
  {
   "cell_type": "code",
   "execution_count": 21,
   "id": "3b115a12-b748-4262-84ed-6967502f55ca",
   "metadata": {},
   "outputs": [
    {
     "name": "stdout",
     "output_type": "stream",
     "text": [
      "[{'text': '12.3.  Līgumam ir pievienots 1.pielikums (Tāme) un tā neatņemama sastāvdaļa ir Uzņēmēja piedāvājums\\nKonkursam.\\n12.4. Līgums sastādīts divos eksemplāros. viens Līguma eksemplārs atrodas pie\\nPasūtītāja, otrs - pie Uzņēmēja. Visiem eksemplāriem ir vienāds juridisks spēks.', 'score': '1.0211231708526611', 'metadata': {'H1': '34', 'FileType': 'Procurement', 'ChunkNr': '92'}}, {'text': '**1.6.** **Informācija par iepirkuma priekšmetu**\\n1.6.1. Iepirkuma priekšmets ir remontdarbi Krāslavas pilsētas skolu ēkās saskaņā ar Tehniskajām\\nspecifikācijām un līgumu projektiem.\\n1.6.2. Iepirkuma priekšmets ir sadalīts divās daļās, pretendents var iesniegt piedāvājumu par vienu\\nvai vairākām daļām. Pretendents nedrīkst iesniegt piedāvājuma variantus.\\n1.6.2.1. Iepirkuma 1.daļa: “Remontdarbi skolas ēkā Pils ielā 5, Krāslavā”, CPV kods: 45453000-7.\\n1.6.2.2. Iepirkuma 2.daļa: “Remontdarbi skolas ēkā N.Rancāna ielā 4, Krāslavā”, CPV kods: 454530007.\\n1.6.3. Līgumu izpildes līdzfinansēšana paredzēta ar Eiropas Reģionālās attīstības fonda (ERAF)\\n**SAM 8.1.2 projekta Nr.8.1.2.0/17/I/035 “Krāslavas novada izglītības iestāžu infrastruktūras**\\n**sakārtošana un mācību vides uzlabošana” atbalstu.**', 'score': '1.0326976776123047', 'metadata': {'H1': '3', 'FileType': 'Procurement', 'ChunkNr': '5'}}, {'text': '28\\n-----\\ndokumentos, pieļautu atšķirīgu piedāvājumu iesniegšanu vai citu pretendentu dalību vai izvēli iepirkuma\\nprocedūrā;\\n10.2.2. ekonomiskais līdzsvars, ko paredz iepirkuma līgums, tiek mainīts iepirkuma procedūrā\\nizraudzītā pretendenta interesēs;\\n10.2.3. iepirkuma līguma priekšmetā ietver piegādes, pakalpojumus vai būvdarbus, ko neparedz sākotnēji\\nnoslēgtais iepirkuma līgums;\\n10.2.4. iepirkuma procedūrā izraudzīto pretendentu (līgumslēdzēju pusi) aizstāj ar citu piegādātāju.\\n10.3. Iepirkuma līguma grozījumi tiek veikti, ievērojot PIL 61.pantā ietvertos nosacījumus.\\n**11.** **Nepārvarama vara**\\n11.1.  Puses neatbild par šajā līgumā noteikto saistību neizpildi vai nepienācīgu izpildi, ja tā radusies\\nnepārvaramas varas iedarbības dēļ. Nepārvarama vara ir tādi ārkārtēji apstākļi, kurus puses nav varējušas\\nparedzēt vai novērst, to skaitā dabas katastrofas, ugunsgrēki, karadarbība, masu nekārtības, streiki u.c.\\napstākļi, kas nav pakļauti pušu saprātīgai kontrolei.\\n11.2.  Par šādu apstākļu iestāšanos pusei, kura ir cietusi no nepārvaramas varas radītiem apstākļiem, ir\\npienākums nekavējoties rakstveidā informēt otru pusi. Ja līguma turpmāka izpilde nepārvaramas varas\\niedarbības dēļ nav iespējama, Uzņēmējs, cik ātri vien iespējams, sakārto būves vietu atbilstoši Pasūtītāja\\nnorādījumiem, kas pamatoti ar nepieciešamību saglabāt konstrukcijas drošību līdz būvdarbu turpināšanai,\\npar ko puses paraksta Darba un būves nodošanas – pieņemšanas aktu. Uzņēmējs saņem samaksu par\\nvisiem līdz līguma izbeigšanai kvalitatīvi paveiktajiem darbiem. Uzņēmējs ir atbildīgs par Objektā esošo\\ntelpu uzturēšanu līdz brīdim, kamēr būvlaukums ar nodošanas – pieņemšanas aktu nav nodots Pasūtītājam.\\n**12.   Papildnoteikumi**\\n12.1. Visi Līguma grozījumi, labojumi, papildinājumi noformējami rakstveidā, pusēm\\nsavstarpēji vienojoties. Tie pievienojami Līgumam kā pielikumi un kļūst par Līguma\\nneatņemamu sastāvdaļu.\\n12.2. Nekādas mutiskas vienošanās, diskusijas vai argumenti, kas izteikti šī Līguma\\nsastādīšanas laikā un nav iekļauti šī līguma noteikumos vai Tāmē, netiek uzskatīti par', 'score': '1.035815715789795', 'metadata': {'H1': '28', 'FileType': 'Procurement', 'ChunkNr': '74'}}, {'text': 'līguma noteikumiem.\\n12.3. Līgumam ir pievienots 1.pielikums (Tāme) un tā neatņemama sastāvdaļa ir Uzņēmēja\\npiedāvājums Konkursam.\\n12.4. Līgums sastādīts divos eksemplāros. Viens Līguma eksemplārs atrodas pie\\nPasūtītāja, otrs - pie Uzņēmēja. Visiem eksemplāriem ir vienāds juridisks spēks.', 'score': '1.0398929119110107', 'metadata': {'H1': '28', 'FileType': 'Procurement', 'ChunkNr': '75'}}, {'text': '34\\n-----\\nprocedūrā;\\n10.2.2. ekonomiskais līdzsvars, ko paredz iepirkuma līgums, tiek mainīts iepirkuma procedūrā\\nizraudzītā pretendenta interesēs;\\n10.2.3. iepirkuma līguma priekšmetā ietver piegādes, pakalpojumus vai būvdarbus, ko neparedz sākotnēji\\nnoslēgtais iepirkuma līgums;\\n10.2.4. iepirkuma procedūrā izraudzīto pretendentu (līgumslēdzēju pusi) aizstāj ar citu piegādātāju.\\n10.3. Iepirkuma līguma grozījumi tiek veikti, ievērojot PIL 61.pantā ietvertos nosacījumus.\\n**11.** **Nepārvarama vara**\\n11.1.  Puses neatbild par šajā līgumā noteikto saistību neizpildi vai nepienācīgu izpildi, ja tā radusies\\nnepārvaramas varas iedarbības dēļ. Nepārvarama vara ir tādi ārkārtēji apstākļi, kurus puses nav varējušas\\nparedzēt vai novērst, to skaitā dabas katastrofas, ugunsgrēki, karadarbība, masu nekārtības, streiki u.c.\\napstākļi, kas nav pakļauti pušu saprātīgai kontrolei.\\n11.2.  Par šādu apstākļu iestāšanos pusei, kura ir cietusi no nepārvaramas varas radītiem apstākļiem, ir\\npienākums nekavējoties rakstveidā informēt otru pusi. Ja līguma turpmāka izpilde nepārvaramas varas\\niedarbības dēļ nav iespējama, Uzņēmējs, cik ātri vien iespējams, sakārto būves vietu atbilstoši Pasūtītāja\\nnorādījumiem, kas pamatoti ar nepieciešamību saglabāt konstrukcijas drošību līdz būvdarbu turpināšanai,\\npar ko puses paraksta Darba un būves nodošanas – pieņemšanas aktu. Uzņēmējs saņem samaksu par\\nvisiem līdz līguma izbeigšanai kvalitatīvi paveiktajiem darbiem. Uzņēmējs ir atbildīgs par Objektā esošo\\ntelpu uzturēšanu līdz brīdim, kamēr būvlaukums ar nodošanas – pieņemšanas aktu nav nodots Pasūtītājam.\\n**12.   Papildnoteikumi**\\n12.1. Visi Līguma grozījumi, labojumi, papildinājumi noformējami rakstveidā, pusēm\\nsavstarpēji vienojoties. Tie pievienojami Līgumam kā pielikumi un kļūst par Līguma\\nneatņemamu sastāvdaļu.\\n12.2. Nekādas mutiskas vienošanās, diskusijas vai argumenti, kas izteikti šī Līguma\\nsastādīšanas laikā un nav iekļauti šī līguma noteikumos vai Tāmē, netiek uzskatīti par\\nlīguma noteikumiem.', 'score': '1.0407774448394775', 'metadata': {'H1': '34', 'FileType': 'Procurement', 'ChunkNr': '91'}}]\n"
     ]
    }
   ],
   "source": [
    "#Retrieval test\n",
    "similarsegments = qnaengine.getSimilarNodes(\"Vai iepirkuma priekšmets nav sadalīts daļās?\")\n",
    "print(similarsegments)"
   ]
  },
  {
   "cell_type": "code",
   "execution_count": 22,
   "id": "498b44df-d770-4078-961b-44eec6935051",
   "metadata": {},
   "outputs": [],
   "source": [
    "#Generation test\n",
    "#result = qnaengine.askQuestion(\"Noskaidro, vai lietotāja apgalvojums ir patiess? Domā soli pa soli, katram solim neveltot vairāk par pieciem vārdiem. Pamato savu atbildi, citējot fragmentu no konteksta. Atbildei jābūt 'jā', 'nē' vai 'kontekstā nav informācijas'. Atbildi ietver kvadrātiekavās '[]'. Ja kontekstā nav informācijas, paskaidro, kāda informācija ir nepieciešama, lai novērtētu apgalvojumu.\",\n",
    "#                              \"Pasūtītājs ir nodrošinājis iespēju piegādātājiem iepazīties uz vietas ar iepirkuma papildu dokumentiem, kam tehnisku iemeslu dēļ vai tajos iekļautās informācijas vai komerciālu interešu aizsardzības dēļ nav nodrošināma brīva un tieša elektroniska piekļuve, sākot ar attiecīgā iepirkuma izsludināšanas brīdi\",\n",
    "#                              usecontext=True)\n",
    "#result"
   ]
  },
  {
   "cell_type": "markdown",
   "id": "9a44a255-dbc6-476f-bc13-c6c78518cb62",
   "metadata": {},
   "source": [
    "**STEP 4: Processing questions**"
   ]
  },
  {
   "cell_type": "code",
   "execution_count": 23,
   "id": "8a995cf6-c30d-4f9a-b403-aa766927ed25",
   "metadata": {},
   "outputs": [],
   "source": [
    "import yaml\n",
    "import re"
   ]
  },
  {
   "cell_type": "code",
   "execution_count": 24,
   "id": "6085b510-1fdb-4bd9-bd5c-aad73f771fb4",
   "metadata": {},
   "outputs": [],
   "source": [
    "try:\n",
    "    with open(question_file_path, 'r', encoding='utf-8') as file:\n",
    "        question_dictonary = yaml.safe_load(file)\n",
    "\n",
    "except FileNotFoundError:\n",
    "    print(f\"Error: File '{question_file_path}' not found.\")\n",
    "    exit\n",
    "except yaml.YAMLError as e:\n",
    "    print(f\"Error parsing YAML file: {e}\")\n",
    "    exit\n",
    "    "
   ]
  },
  {
   "cell_type": "code",
   "execution_count": 25,
   "id": "78e76343-d55d-4383-a217-447856b58df3",
   "metadata": {},
   "outputs": [],
   "source": [
    "table = []"
   ]
  },
  {
   "cell_type": "code",
   "execution_count": 26,
   "id": "d9636585-0d75-425f-b83b-43f5cfc1ee55",
   "metadata": {},
   "outputs": [],
   "source": [
    "cod_prompt = \"Domā soli pa soli, katram solim neveltot vairāk par pieciem vārdiem. Atbildei jābūt 'jā', 'nē' vai 'kontekstā nav informācijas'.\""
   ]
  },
  {
   "cell_type": "code",
   "execution_count": 27,
   "id": "a9764b18-7d2e-4165-8b8b-6d1642cbaea0",
   "metadata": {},
   "outputs": [],
   "source": [
    "for singleq in question_dictonary:\n",
    "    if 'question0' in singleq:\n",
    "        result0 = qnaengine.askQuestion(cod_prompt,singleq['question'],usecontext=True)\n",
    "        table.append([singleq['nr'],'',result0.strip()])\n",
    "        \n",
    "    result = qnaengine.askQuestion(singleq['prompt'],singleq['question'],usecontext=True)\n",
    "    \n",
    "    result = re.sub(r'\\n\\n+',r'\\n',result)\n",
    "    answer = re.search(r'\\[([^\\[\\]]+)\\]',result)\n",
    "\n",
    "    if answer:\n",
    "        llmanswer=answer.group(1)\n",
    "        result = result.replace(f\"[{llmanswer}]\",\"\").replace(f\"Atbilde:\",\"\")\n",
    "        table.append([singleq['nr'],llmanswer,result.strip()])\n",
    "    else:\n",
    "        table.append([singleq['nr'],'',result.strip()])        "
   ]
  },
  {
   "cell_type": "code",
   "execution_count": 28,
   "id": "944bb3f4-447a-4ff3-8537-35831dc3c735",
   "metadata": {},
   "outputs": [],
   "source": [
    "import pandas as pd\n",
    "data = pd.DataFrame(table, columns=[\"Nr\", \"Atbilde\", \"Pamatojums\"])"
   ]
  },
  {
   "cell_type": "code",
   "execution_count": 29,
   "id": "ed2679bb-0916-402c-a739-a64c7f76af7e",
   "metadata": {},
   "outputs": [],
   "source": [
    "from tabulate import tabulate"
   ]
  },
  {
   "cell_type": "code",
   "execution_count": 30,
   "id": "e9423524-0a87-4d76-8948-48ab7a40d672",
   "metadata": {},
   "outputs": [
    {
     "name": "stdout",
     "output_type": "stream",
     "text": [
      "+------+----------------------------+---------------------------------------------------------------------------------------------------------------------------------------------------------------------------------------------------+\n",
      "|   Nr | Atbilde                    | Pamatojums                                                                                                                                                                                        |\n",
      "+======+============================+===================================================================================================================================================================================================+\n",
      "|    1 |                            | Nepieciešama informācija par iepirkuma plānu un konkrētām izmaiņām, lai novērtētu apgalvojumu.                                                                                                    |\n",
      "+------+----------------------------+---------------------------------------------------------------------------------------------------------------------------------------------------------------------------------------------------+\n",
      "|    2 |                            | Jā                                                                                                                                                                                                |\n",
      "+------+----------------------------+---------------------------------------------------------------------------------------------------------------------------------------------------------------------------------------------------+\n",
      "|    2 | Kontekstā nav informācijas | Nepieciešama informācija par konkursa procedūru veidiem un to regulējumu PIL.                                                                                                                     |\n",
      "+------+----------------------------+---------------------------------------------------------------------------------------------------------------------------------------------------------------------------------------------------+\n",
      "|    3 |                            | Nē                                                                                                                                                                                                |\n",
      "+------+----------------------------+---------------------------------------------------------------------------------------------------------------------------------------------------------------------------------------------------+\n",
      "|    4 |                            | Kontekstā nav informācijas.                                                                                                                                                                       |\n",
      "+------+----------------------------+---------------------------------------------------------------------------------------------------------------------------------------------------------------------------------------------------+\n",
      "|    4 |                            | Nepieciešama informācija par iepirkuma priekšmeta sadalīšanu vai nesadalīšanu daļās un skaidrojumu par iemesliem.                                                                                 |\n",
      "+------+----------------------------+---------------------------------------------------------------------------------------------------------------------------------------------------------------------------------------------------+\n",
      "|    5 | kontekstā nav informācijas | Nepieciešama informācija par CPV kodu piešķiršanu un norādīšanu EIS e-konkursu apakšsistēmā, paziņojumā par plānoto līgumu un iepirkuma dokumentācijā.                                            |\n",
      "+------+----------------------------+---------------------------------------------------------------------------------------------------------------------------------------------------------------------------------------------------+\n",
      "|    6 |                            | Kontekstā nav informācijas                                                                                                                                                                        |\n",
      "+------+----------------------------+---------------------------------------------------------------------------------------------------------------------------------------------------------------------------------------------------+\n",
      "|    6 | Kontekstā nav informācijas | Lai novērtētu apgalvojumu, nepieciešama informācija par līguma klasifikācijas kritērijiem un galvenā priekšmeta noteikšanu.                                                                       |\n",
      "+------+----------------------------+---------------------------------------------------------------------------------------------------------------------------------------------------------------------------------------------------+\n",
      "|    7 |                            | Kontekstā nav informācijas.                                                                                                                                                                       |\n",
      "+------+----------------------------+---------------------------------------------------------------------------------------------------------------------------------------------------------------------------------------------------+\n",
      "|    7 |                            | Lai novērtētu apgalvojumu, nepieciešama informācija par PIL 2.pielikuma pakalpojumiem un noteikumiem par galvenā priekšmeta un piemērojamās iepirkuma procedūras noteikšanu.                      |\n",
      "+------+----------------------------+---------------------------------------------------------------------------------------------------------------------------------------------------------------------------------------------------+\n",
      "|    8 | nē                         | Pamatojums: Kontekstā nav informācijas par procedūras izsludināšanas dienu un piekļuves nodrošināšanu iepirkuma dokumentācijai.                                                                   |\n",
      "+------+----------------------------+---------------------------------------------------------------------------------------------------------------------------------------------------------------------------------------------------+\n",
      "|   10 | Kontekstā nav informācijas | Nepieciešama informācija par pasūtītāja nodrošināto piekļuvi iepirkuma papildu dokumentiem.                                                                                                       |\n",
      "+------+----------------------------+---------------------------------------------------------------------------------------------------------------------------------------------------------------------------------------------------+\n",
      "|   15 | jā                         | Solis pa solim:                                                                                                                                                                                   |\n",
      "|      |                            | 1. Meklē informāciju par apmaiņas veidu.                                                                                                                                                          |\n",
      "|      |                            | 2. Pārbaudi, vai tas ir vispārpieejams.                                                                                                                                                           |\n",
      "|      |                            | 3. Pārbaudi, vai tas neapgrūtina piekļuvi.                                                                                                                                                        |\n",
      "|      |                            | Pamatojums:                                                                                                                                                                                       |\n",
      "|      |                            | \"Ieinteresēto piegādātāju pienākums ir patstāvīgi sekot pircēja profilā Elektronisko iepirkumu sistēmas e-konkursu apakšsistēmas 1.5.2. apakšpunktā norādītajā adresē publicētajai informācijai.\" |\n",
      "+------+----------------------------+---------------------------------------------------------------------------------------------------------------------------------------------------------------------------------------------------+\n",
      "|   16 | Kontekstā nav informācijas | Nepieciešama informācija par MK noteikumu 231.punktu.                                                                                                                                             |\n",
      "+------+----------------------------+---------------------------------------------------------------------------------------------------------------------------------------------------------------------------------------------------+\n",
      "|   17 |                            | Jā                                                                                                                                                                                                |\n",
      "+------+----------------------------+---------------------------------------------------------------------------------------------------------------------------------------------------------------------------------------------------+\n",
      "|   17 | nē                         | Pamatojums: \"1.12.1. Piedāvājums iesniedzams elektroniski...\"                                                                                                                                     |\n",
      "+------+----------------------------+---------------------------------------------------------------------------------------------------------------------------------------------------------------------------------------------------+\n"
     ]
    }
   ],
   "source": [
    "with open(\"report.htm\", 'w', encoding='utf-8') as ofile:\n",
    "    print(data.to_html(index=False),file=ofile)\n",
    "print(tabulate(data, headers='keys', tablefmt='grid', showindex=False))"
   ]
  },
  {
   "cell_type": "code",
   "execution_count": null,
   "id": "e1877061-5f75-4faf-9e1a-e6cd6a07b5a8",
   "metadata": {},
   "outputs": [],
   "source": []
  }
 ],
 "metadata": {
  "kernelspec": {
   "display_name": "Python 3 (ipykernel)",
   "language": "python",
   "name": "python3"
  },
  "language_info": {
   "codemirror_mode": {
    "name": "ipython",
    "version": 3
   },
   "file_extension": ".py",
   "mimetype": "text/x-python",
   "name": "python",
   "nbconvert_exporter": "python",
   "pygments_lexer": "ipython3",
   "version": "3.10.5"
  }
 },
 "nbformat": 4,
 "nbformat_minor": 5
}
