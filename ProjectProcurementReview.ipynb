{
 "cells": [
  {
   "cell_type": "code",
   "execution_count": null,
   "id": "4329b8b7-d7a7-449b-81b7-af351449627b",
   "metadata": {},
   "outputs": [],
   "source": [
    "# Line magic functions that will allow for imports to be reloaded and not cached\n",
    "%load_ext autoreload\n",
    "%autoreload 2\n",
    "\n",
    "# Imports\n",
    "import os\n",
    "import pandas as pd\n",
    "from llama_index.embeddings.huggingface import HuggingFaceEmbedding\n",
    "from llama_index.llms.azure_openai import AzureOpenAI\n",
    "from datetime import date\n",
    "from json import dump\n",
    "from tqdm import tqdm\n",
    "\n",
    "# Local\n",
    "from scripts.extractmd import Extractor\n",
    "from scripts.vectorindex import QnAEngine\n",
    "from scripts.utilities import get_prompt_dict, get_questions, get_answers, get_procurement_content, get_config_data, get_ini_files, get_supplementary_info, get_questions_without_q0\n",
    "from scripts.gen_results import gen_results\n",
    "from scripts.gen_reports import generate_precision_report"
   ]
  },
  {
   "cell_type": "markdown",
   "id": "491f04cb-807c-48b2-b474-8b97dbb0a6d5",
   "metadata": {},
   "source": [
    "**Global config**"
   ]
  },
  {
   "cell_type": "code",
   "execution_count": null,
   "id": "a282ce0b-1aba-417c-bf9a-15cbe840c485",
   "metadata": {},
   "outputs": [],
   "source": [
    "embedding_conf = {\n",
    "    \"embeddingmodel\": \"sentence-transformers/paraphrase-multilingual-mpnet-base-v2\",  # \"BAAI/bge-m3\" \"nomic-ai/nomic-embed-text-v2-moe\" # \"sentence-transformers/paraphrase-multilingual-mpnet-base-v2\"\n",
    "    \"chunk_size\": 1536,\n",
    "    \"chunk_overlap\": 0,\n",
    "    \"top_similar\": 5,\n",
    "    \"n4rerank\": 0, #How many nodes to retrieve for reranking. If 0, reranker is not used\n",
    "    \"use_similar_chunks\": True, #To use similar chunks or the whole document as the context\n",
    "    \"prevnext\": True #to include in the context also the previouse and the next chunk of the current similar chunk\n",
    "}\n",
    "embedding=HuggingFaceEmbedding(model_name=embedding_conf[\"embeddingmodel\"],trust_remote_code=True)\n",
    "\n",
    "#For nomic-embed-text-v2-moe\n",
    "#embedding=HuggingFaceEmbedding(model_name=embedding_conf[\"embeddingmodel\"],trust_remote_code=True,query_instruction=\"search_query: \",text_instruction=\"search_document: \")"
   ]
  },
  {
   "cell_type": "code",
   "execution_count": null,
   "id": "b3e114f1-c05e-48b1-b56a-051ece6102eb",
   "metadata": {},
   "outputs": [],
   "source": [
    "# LLM Setup \n",
    "llmmodelAzure = { \"model\": \"gpt-4o\",\n",
    "                \"version\":os.environ.get('AZURE_OPENAI_VERSION',''),\n",
    "                \"azure_deployment\":\"gpt-4o\",\n",
    "                \"azure_endpoint\":os.environ.get('AZURE_ENDPOINT',''),\n",
    "                \"api_key\":os.environ.get('AZURE_OPENAI_KEY','')}\n",
    "\n",
    "llm=AzureOpenAI(azure_deployment=llmmodelAzure[\"azure_deployment\"],\n",
    "                azure_endpoint=llmmodelAzure[\"azure_endpoint\"],temperature=0.0,\n",
    "                api_version=llmmodelAzure[\"version\"], api_key=llmmodelAzure[\"api_key\"],\n",
    "                timeout=120,max_retries=3,top_p=0.0001)"
   ]
  },
  {
   "cell_type": "code",
   "execution_count": null,
   "id": "9f7c744c",
   "metadata": {},
   "outputs": [],
   "source": [
    "extractor = Extractor() # Markdown doc extractor"
   ]
  },
  {
   "cell_type": "code",
   "execution_count": null,
   "id": "32e67876-c437-41ad-992b-4ce540022087",
   "metadata": {},
   "outputs": [],
   "source": [
    "#Ollama model\n",
    "# llmmodelOllama = { \"model\": \"gemma3:27b\",\n",
    "#                 \"url\":os.environ.get('OLLAMA_ENDPOINT',''),\n",
    "#                 \"context_window\":\"128000\"}\n",
    "\n",
    "#from llama_index.llms.ollama import Ollama\n",
    "#llm = Ollama(base_url=llmmodelOllama[\"url\"],\n",
    "#             model=llmmodelOllama[\"model\"], \n",
    "#             context_window=int(llmmodelOllama[\"context_window\"]),\n",
    "#            request_timeout=300.0,\n",
    "#            temperature=0.0,\n",
    "#            additional_kwargs={\"seed\":1337})"
   ]
  },
  {
   "cell_type": "markdown",
   "id": "e1f0daa1-7706-4651-b713-78ac66c5533a",
   "metadata": {},
   "source": [
    "**PROCUREMENT FILE SETTINGS**"
   ]
  },
  {
   "cell_type": "code",
   "execution_count": null,
   "id": "88446367-533a-4e00-b3ff-239802a86698",
   "metadata": {},
   "outputs": [],
   "source": [
    "# Script dir for getting relative paths for notebook file\n",
    "script_dir = globals()['_dh'][0] \n",
    "\n",
    "# Document paths\n",
    "question_file_path = script_dir / \"questions\" / \"questions.yaml\" # original.yaml\n",
    "prompt_file = script_dir / \"questions\" / \"prompts.tsv\"\n",
    "report_dir = script_dir / \"reports\"\n",
    "config_dir = script_dir / \"dev_config\" # \"dev_config\" # \"config\"\n",
    "procurement_file_dir = script_dir / \"cfla_files\" # \"cfla_files\"\n",
    "answer_file_dir = script_dir / \"answers\"\n",
    "\n",
    "# TODO perhaps prompt user to define unique report name; some types - all; one etc?\n",
    "report_identifier = \"dev-test\"\n",
    "# TODO maybe add report as a subdirectory as there are 2 files per report; might be even more with histograms etc.\n",
    "report_name = f\"{report_identifier}_{date.today():%d.%m}\"\n",
    "\n",
    "report_dir_path = report_dir / report_name\n",
    "report_path_htm = report_dir_path / \"report.htm\"\n",
    "report_path_csv = report_dir_path / \"report.csv\"\n",
    "report_path_config = report_dir_path / \"config.json\""
   ]
  },
  {
   "cell_type": "code",
   "execution_count": null,
   "id": "0c8d8558",
   "metadata": {},
   "outputs": [],
   "source": [
    "# Loading static information\n",
    "overwrite = False  # If true this will delete the existing report and generate a new one;\n",
    "                  # Else - new data will be appended only if it isn't in the CSV file.\n",
    "\n",
    "question_dictionary = get_questions(question_file_path)\n",
    "prompt_dictionary = get_prompt_dict(prompt_file)\n",
    "supplementary_info = get_supplementary_info()\n",
    "\n",
    "ini_files = get_ini_files(config_dir, overwrite, report_path_csv)\n",
    "print(f\"Processing {len(ini_files)} procurement files: {sorted(ini_files)}\")"
   ]
  },
  {
   "cell_type": "markdown",
   "id": "78357252",
   "metadata": {},
   "source": [
    "**MAIN Q/A GENERATION SCRIPT**"
   ]
  },
  {
   "cell_type": "code",
   "execution_count": null,
   "id": "6f5149a2",
   "metadata": {},
   "outputs": [],
   "source": [
    "# TODO add parallel prompting\n",
    "\n",
    "if overwrite: # overwrtitting report; Delete and create new\n",
    "        if report_path_htm.exists():\n",
    "                report_path_htm.unlink()\n",
    "        if report_path_csv.exists():\n",
    "                report_path_csv.unlink()\n",
    "        if report_path_config.exists():\n",
    "                report_path_config.unlink()\n",
    "                \n",
    "if not os.path.exists(report_dir_path):\n",
    "        os.makedirs(report_dir_path)\n",
    "\n",
    "# Make config dictionary and save as json\n",
    "config_dict = embedding_conf\n",
    "config_dict[\"model\"] = llmmodelAzure[\"model\"]\n",
    "config_dict[\"temperature\"] = llm.temperature\n",
    "config_dict[\"temperature\"] = llm.timeout\n",
    "config_dict[\"max_retries\"] = llm.max_retries\n",
    "#config_dict[\"top_p\"] = 0.0001\n",
    "\n",
    "with open(report_path_config, \"w\") as file:\n",
    "        dump(config_dict, file) \n",
    "\n",
    "# To process all questions, leave this empty. Otherwise, specify the exact numbers.\n",
    "# To process a sub-question, include the parent question number as well, e.g., [\"9\", \"9.2\"].\n",
    "questions_to_process = [\"16\"] \n",
    "\n",
    "for file in tqdm(ini_files, desc=\"Config files\", unit=\"file\"): # TODO fix TQDM; expected that after first file finishes it shows the aproximation of all the other files left to process\n",
    "        configfile = config_dir / f\"{file}.ini\"\n",
    "        \n",
    "        tqdm.write(f\"Processing config file: {configfile}\")\n",
    "        procurement_id, procurement_file, agreement_file, answer_file = get_config_data(configfile, procurement_file_dir, answer_file_dir)\n",
    "        # Open CSV file, maybe as pandas dataframe\n",
    "        answer_dictionary = get_answers(answer_file)\n",
    "\n",
    "        # Getting markdown text from procurement doc\n",
    "        procurement_content = get_procurement_content(extractor, procurement_file, agreement_file)\n",
    "    \n",
    "        # Creating FAISS vector index for the procurement document\n",
    "        qnaengine = QnAEngine(embedding,llm)\n",
    "        await qnaengine.createIndex(\n",
    "                procurement_content,\n",
    "                \"Procurement\",\n",
    "                chunk_size=embedding_conf[\"chunk_size\"],\n",
    "                chunk_overlap=embedding_conf[\"chunk_overlap\"]\n",
    "                )\n",
    "\n",
    "        ### Generating results\n",
    "        results_table = gen_results(qnaengine, configfile, embedding_conf, question_dictionary, answer_dictionary, prompt_dictionary, supplementary_info, questions_to_process)\n",
    "        \n",
    "        # add \"Iepirkuma ID\" as procurement_id to results table\n",
    "        # TODO move this inside gen results function once it has been refactored\n",
    "        for row in results_table:\n",
    "                row.insert(0, file)\n",
    "        \n",
    "        ### Save output\n",
    "        data = pd.DataFrame(results_table, columns=[\"Iepirkuma ID\", \"Nr\", \"Atbilde\", \"Sagaidāmā atbilde\", \"Pamatojums\", \"Chunk\", \"Prompt\"])\n",
    "        precision = (data['Atbilde'] == data['Sagaidāmā atbilde']).sum()/len(data)\n",
    "        print(f\"PRECIZITĀTE: {precision*100}%\")\n",
    "\n",
    "        with report_path_htm.open('a', encoding='utf-8') as ofile:  \n",
    "                # TODO Create a dropdown menu that lets the user select file by \"Iepirkuma ID\" - in each page only information that has that \"Iepirkuma ID\" is displayed\n",
    "                print(f\"{procurement_id} PRECIZITĀTE: {precision*100}%\" ,file=ofile)\n",
    "                print(data.to_html(index=False).replace('\\\\n','<br>'),file=ofile)\n",
    "\n",
    "        data.to_csv(report_path_csv, \n",
    "                    mode='a', \n",
    "                    index=False, \n",
    "                    header=not report_path_csv.exists(), # only adding one header\n",
    "                    encoding='utf-8')\n",
    "        \n",
    "        \n",
    "                "
   ]
  },
  {
   "cell_type": "markdown",
   "id": "56cbe6e6",
   "metadata": {},
   "source": [
    "# Question precision data report"
   ]
  },
  {
   "cell_type": "code",
   "execution_count": null,
   "id": "94072937",
   "metadata": {},
   "outputs": [],
   "source": [
    "# Load report we want to analayze\n",
    "analyzed_report_dir = report_dir_path\n",
    "csv_filename = \"report.csv\"\n",
    "input_csv = analyzed_report_dir / csv_filename"
   ]
  },
  {
   "cell_type": "code",
   "execution_count": null,
   "id": "e3f08f7d",
   "metadata": {},
   "outputs": [],
   "source": [
    "# Generate report\n",
    "precison_report_html = generate_precision_report(input_csv)\n",
    "\n",
    "# Save the report next to the CSV\n",
    "output_html = analyzed_report_dir / f\"precision_report.html\"\n",
    "with open(output_html, \"w\", encoding=\"utf-8\") as f:\n",
    "    f.write(precison_report_html)\n",
    "\n",
    "print(f\"HTML report saved to: {output_html}\")"
   ]
  },
  {
   "cell_type": "markdown",
   "id": "0f7060b3",
   "metadata": {},
   "source": [
    "#### Questions that can't be answered count"
   ]
  },
  {
   "cell_type": "code",
   "execution_count": null,
   "id": "299f705e",
   "metadata": {},
   "outputs": [],
   "source": [
    "# Count number of times expected_answer == \"n/a; if question does not have 0th question\n",
    "questions_wout_0q = get_questions_without_q0(question_dictionary)\n",
    "df = pd.read_csv(input_csv)\n",
    "df[\"Sagaidāmā atbilde\"] = df[\"Sagaidāmā atbilde\"].astype(str).str.strip().str.lower()\n",
    "filtered_df = df[\n",
    "    (df[\"Sagaidāmā atbilde\"] == \"nan\") &\n",
    "    (df[\"Nr\"].astype(str).isin(questions_wout_0q))\n",
    "]\n",
    "print(f\"\\nCount of rows where 'Sagaidāmā atbilde' == 'n/a' and it doesn't have q0: {len(filtered_df)}\")"
   ]
  },
  {
   "cell_type": "markdown",
   "id": "e6e30642",
   "metadata": {},
   "source": [
    "# Confusion Matrix"
   ]
  },
  {
   "cell_type": "code",
   "execution_count": null,
   "id": "593a08d6",
   "metadata": {},
   "outputs": [],
   "source": [
    "# Load and normalize data as \"n/a\" has turned into NaN\n",
    "df = pd.read_csv(input_csv)\n",
    "df[\"Sagaidāmā atbilde\"] = df[\"Sagaidāmā atbilde\"].astype(str).str.strip().str.lower()\n",
    "df[\"Atbilde\"] = df[\"Atbilde\"].astype(str).str.strip().str.lower()\n",
    "\n",
    "# Replace missing values\n",
    "df[\"Sagaidāmā atbilde\"] = df[\"Sagaidāmā atbilde\"].replace([\"nan\", \"none\", \"\"], \"n/a\")\n",
    "df[\"Atbilde\"] = df[\"Atbilde\"].replace([\"nan\", \"none\", \"\"], \"n/a\")\n",
    "\n",
    "# Group context responses\n",
    "df[\"Atbilde\"] = df[\"Atbilde\"].replace({\n",
    "    \"x\": \"kontekstā nav informācijas\",\n",
    "    \"kontekstā nav informācijas\": \"kontekstā nav informācijas\"\n",
    "})\n",
    "\n",
    "# Define value order\n",
    "expected = [\"jā\", \"nē\", \"n/a\"]\n",
    "actual = [\"jā\", \"nē\", \"n/a\", \"kontekstā nav informācijas\"]\n",
    "\n",
    "conf_matrix = pd.crosstab(\n",
    "    df[\"Sagaidāmā atbilde\"],\n",
    "    df[\"Atbilde\"],\n",
    "    rownames=[\"Expected ↓\"],\n",
    "    colnames=[\"Actual →\"],\n",
    "    dropna=False\n",
    ").reindex(index=expected, columns=actual, fill_value=0)\n",
    "conf_matrix.index.name = \"Expected ↓ / Actual →\"\n",
    "\n",
    "print(\"\\nConfusion Matrix:\\n\")\n",
    "print(conf_matrix.to_markdown(tablefmt=\"grid\"))\n"
   ]
  },
  {
   "cell_type": "code",
   "execution_count": null,
   "id": "3b3e9773",
   "metadata": {},
   "outputs": [],
   "source": [
    "# Get correct counts for \"jā\" and \"nē\"\n",
    "correct_yes = conf_matrix.loc[\"jā\", \"jā\"]\n",
    "total_yes = conf_matrix.loc[\"jā\"].sum()\n",
    "print(f\"total 'jā' count: {total_yes}\")\n",
    "\n",
    "correct_no = conf_matrix.loc[\"nē\", \"nē\"]\n",
    "total_no = conf_matrix.loc[\"nē\"].sum()\n",
    "print(f\"total 'nē' count: {total_no}\")\n",
    "\n",
    "correct_na = conf_matrix.loc[\"n/a\", \"n/a\"]\n",
    "total_na = conf_matrix.loc[\"n/a\"].sum()\n",
    "print(f\"total 'n/a' count: {total_na}\")\n",
    "\n",
    "# Calculate percentages\n",
    "yes_accuracy = (correct_yes / total_yes) * 100 if total_yes > 0 else 0\n",
    "no_accuracy = (correct_no / total_no) * 100 if total_no > 0 else 0\n",
    "na_accuracy = (correct_na / total_na) * 100 if total_na > 0 else 0\n",
    "\n",
    "print(f\"\\nAccuracy for 'jā': {yes_accuracy:.2f}%\")\n",
    "print(f\"Accuracy for 'nē': {no_accuracy:.2f}%\")\n",
    "print(f\"Accuracy for 'n/a': {na_accuracy:.2f}%\")\n"
   ]
  },
  {
   "cell_type": "code",
   "execution_count": null,
   "id": "ccfb7759",
   "metadata": {},
   "outputs": [],
   "source": [
    "total_q = total_yes + total_no + total_na\n",
    "print(f\"Total question count: {total_q}\")\n",
    "correct_q = correct_yes + correct_no + correct_na\n",
    "\n",
    "precision = round((correct_q / total_q) * 100, 2)\n",
    "print(f\"Total precision: {precision}%\")\n",
    "\n",
    "precison_wout_unanswerable_qs = round(correct_q / (total_q - len(filtered_df))*100,2)\n",
    "print(f\"Total precision without unanswerable (n/a) questions: {precison_wout_unanswerable_qs}%\")\n",
    "\n",
    "context_missing_total = conf_matrix[\"kontekstā nav informācijas\"].sum()\n",
    "confident_answers =  total_q - len(filtered_df) - context_missing_total\n",
    "precision_wout_unanswerable_qs_nocontext = round((correct_q / confident_answers)*100,2)\n",
    "print(f\"Total precision without unanswerable (n/a) questions and when LLM is not unsure: {precision_wout_unanswerable_qs_nocontext}%\")\n",
    "print(f\"Total question count without unanswerable (n/a) questions and when LLM is not unsure: {confident_answers}\")"
   ]
  }
 ],
 "metadata": {
  "kernelspec": {
   "display_name": "Python 3 (ipykernel)",
   "language": "python",
   "name": "python3"
  },
  "language_info": {
   "codemirror_mode": {
    "name": "ipython",
    "version": 3
   },
   "file_extension": ".py",
   "mimetype": "text/x-python",
   "name": "python",
   "nbconvert_exporter": "python",
   "pygments_lexer": "ipython3",
   "version": "3.12.0"
  }
 },
 "nbformat": 4,
 "nbformat_minor": 5
}
