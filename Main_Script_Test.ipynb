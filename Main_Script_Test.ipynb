{
 "cells": [
  {
   "cell_type": "code",
   "execution_count": null,
   "id": "4329b8b7-d7a7-449b-81b7-af351449627b",
   "metadata": {},
   "outputs": [],
   "source": [
    "# Line magic functions that will allow for imports to be reloaded and not cached\n",
    "%load_ext autoreload\n",
    "%autoreload 2\n",
    "\n",
    "from tqdm import tqdm\n",
    "\n",
    "from scripts.main_script import main_script\n",
    "from scripts.utilities import get_config_data, get_ini_files\n",
    "from scripts.constants import *"
   ]
  },
  {
   "cell_type": "markdown",
   "id": "7684ed5a",
   "metadata": {},
   "source": [
    "**My Config:**\n",
    "[my_config_template.py](scripts/my_config_template.py)"
   ]
  },
  {
   "cell_type": "code",
   "execution_count": null,
   "id": "e4f5550d",
   "metadata": {},
   "outputs": [],
   "source": [
    "# Config that does not apply to production\n",
    "\n",
    "config_dir = script_dir / globals().get('my_config_dir', \"dev_config\") # \"dev_config\" # \"dev_config\" # \"config\"\n",
    "\n",
    "ini_files = globals().get('my_ini_files', get_ini_files(config_dir, overwrite, report_path_csv))\n",
    "\n",
    "procurement_file_dir = script_dir / \"cfla_files\" # \"cfla_files\""
   ]
  },
  {
   "cell_type": "markdown",
   "id": "78357252",
   "metadata": {},
   "source": [
    "**MAIN Q/A GENERATION SCRIPT**"
   ]
  },
  {
   "cell_type": "code",
   "execution_count": null,
   "id": "6f5149a2",
   "metadata": {},
   "outputs": [],
   "source": [
    "# TODO add parallel prompting\n",
    "\n",
    "for file in tqdm(ini_files, desc=\"Config files\", unit=\"file\"): # TODO fix TQDM; expected that after first file finishes it shows the aproximation of all the other files left to process\n",
    "    configfile = config_dir / f\"{file}.ini\"\n",
    "    tqdm.write(f\"Processing config file: {configfile}\")\n",
    "    procurement_id, procurement_file, agreement_file, answer_file = get_config_data(configfile, procurement_file_dir, answer_file_dir)\n",
    "\n",
    "    await main_script(procurement_file, agreement_file)\n",
    "\n",
    "    break # Stops at 1 file, since overwrite will delete previous csv anyway. May need to be fixed - report_identifier changes for each file?"
   ]
  },
  {
   "cell_type": "markdown",
   "id": "2827ffa5",
   "metadata": {},
   "source": [
    "# Report generation"
   ]
  },
  {
   "cell_type": "code",
   "execution_count": null,
   "id": "94072937",
   "metadata": {},
   "outputs": [],
   "source": [
    "# Load report we want to analayze\n",
    "# analyzed_report_dir = report_dir_path\n",
    "# csv_filename = \"report.csv\"\n",
    "# input_csv = analyzed_report_dir / csv_filename"
   ]
  },
  {
   "cell_type": "markdown",
   "id": "10bff30a",
   "metadata": {},
   "source": [
    "## Main report"
   ]
  },
  {
   "cell_type": "code",
   "execution_count": null,
   "id": "a0d6ccc6",
   "metadata": {},
   "outputs": [],
   "source": [
    "# html_output      = build_main_report_html(input_csv, question_dictionary)\n",
    "# output_html_path = analyzed_report_dir / \"main_report.html\"\n",
    "# output_html_path.write_text(html_output, encoding=\"utf-8\")\n",
    "\n",
    "# print(f\"Main HTML report saved to: {output_html_path}\")"
   ]
  }
 ],
 "metadata": {
  "kernelspec": {
   "display_name": ".venv",
   "language": "python",
   "name": "python3"
  },
  "language_info": {
   "codemirror_mode": {
    "name": "ipython",
    "version": 3
   },
   "file_extension": ".py",
   "mimetype": "text/x-python",
   "name": "python",
   "nbconvert_exporter": "python",
   "pygments_lexer": "ipython3",
   "version": "3.12.10"
  }
 },
 "nbformat": 4,
 "nbformat_minor": 5
}
